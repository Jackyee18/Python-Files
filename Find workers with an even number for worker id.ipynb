{
 "cells": [
  {
   "cell_type": "code",
   "execution_count": 36,
   "id": "91e201cc",
   "metadata": {},
   "outputs": [],
   "source": [
    "import pandas as pd\n",
    "import numpy as np"
   ]
  },
  {
   "cell_type": "code",
   "execution_count": 42,
   "id": "20a0c5dd",
   "metadata": {},
   "outputs": [
    {
     "data": {
      "text/plain": [
       "array([['1', 'Monika', 'Arora', '100000', '2014-02-20 090000', 'HR'],\n",
       "       ['2', 'Niharika', 'Verma', '80000', '2014-06-11 090000', 'Admin'],\n",
       "       ['3', 'Vishal', 'Singhal', '300000', '2014-02-20 090000', 'HR'],\n",
       "       ['4', 'Amitah', 'Singh', '500000', '2014-02-20 090000', 'Admin'],\n",
       "       ['5', 'Vivek', 'Bhati', '500000', '2014-06-11 090000', 'Admin'],\n",
       "       ['6', 'Vipul', 'Diwan', '200000', '2014-06-11 090000', 'Account'],\n",
       "       ['7', 'Satish', 'Kumar', '75000', '2014-01-20 090000', 'Account'],\n",
       "       ['8', 'Geetika', 'Chauhan', '90000', '2014-04-11 090000', 'Admin']],\n",
       "      dtype='<U17')"
      ]
     },
     "execution_count": 42,
     "metadata": {},
     "output_type": "execute_result"
    }
   ],
   "source": [
    "# load text file and seperate them with '\\t'\n",
    "np.loadtxt('worker.txt',dtype='str',delimiter='\\t')"
   ]
  },
  {
   "cell_type": "code",
   "execution_count": 43,
   "id": "55fe11fd",
   "metadata": {},
   "outputs": [
    {
     "data": {
      "text/html": [
       "<div>\n",
       "<style scoped>\n",
       "    .dataframe tbody tr th:only-of-type {\n",
       "        vertical-align: middle;\n",
       "    }\n",
       "\n",
       "    .dataframe tbody tr th {\n",
       "        vertical-align: top;\n",
       "    }\n",
       "\n",
       "    .dataframe thead th {\n",
       "        text-align: right;\n",
       "    }\n",
       "</style>\n",
       "<table border=\"1\" class=\"dataframe\">\n",
       "  <thead>\n",
       "    <tr style=\"text-align: right;\">\n",
       "      <th></th>\n",
       "      <th>worker_id</th>\n",
       "      <th>first_name</th>\n",
       "      <th>last_name</th>\n",
       "      <th>salary</th>\n",
       "      <th>joining_date</th>\n",
       "      <th>department</th>\n",
       "    </tr>\n",
       "  </thead>\n",
       "  <tbody>\n",
       "    <tr>\n",
       "      <th>0</th>\n",
       "      <td>1</td>\n",
       "      <td>Monika</td>\n",
       "      <td>Arora</td>\n",
       "      <td>100000</td>\n",
       "      <td>2014-02-20 090000</td>\n",
       "      <td>HR</td>\n",
       "    </tr>\n",
       "    <tr>\n",
       "      <th>1</th>\n",
       "      <td>2</td>\n",
       "      <td>Niharika</td>\n",
       "      <td>Verma</td>\n",
       "      <td>80000</td>\n",
       "      <td>2014-06-11 090000</td>\n",
       "      <td>Admin</td>\n",
       "    </tr>\n",
       "    <tr>\n",
       "      <th>2</th>\n",
       "      <td>3</td>\n",
       "      <td>Vishal</td>\n",
       "      <td>Singhal</td>\n",
       "      <td>300000</td>\n",
       "      <td>2014-02-20 090000</td>\n",
       "      <td>HR</td>\n",
       "    </tr>\n",
       "    <tr>\n",
       "      <th>3</th>\n",
       "      <td>4</td>\n",
       "      <td>Amitah</td>\n",
       "      <td>Singh</td>\n",
       "      <td>500000</td>\n",
       "      <td>2014-02-20 090000</td>\n",
       "      <td>Admin</td>\n",
       "    </tr>\n",
       "    <tr>\n",
       "      <th>4</th>\n",
       "      <td>5</td>\n",
       "      <td>Vivek</td>\n",
       "      <td>Bhati</td>\n",
       "      <td>500000</td>\n",
       "      <td>2014-06-11 090000</td>\n",
       "      <td>Admin</td>\n",
       "    </tr>\n",
       "    <tr>\n",
       "      <th>5</th>\n",
       "      <td>6</td>\n",
       "      <td>Vipul</td>\n",
       "      <td>Diwan</td>\n",
       "      <td>200000</td>\n",
       "      <td>2014-06-11 090000</td>\n",
       "      <td>Account</td>\n",
       "    </tr>\n",
       "    <tr>\n",
       "      <th>6</th>\n",
       "      <td>7</td>\n",
       "      <td>Satish</td>\n",
       "      <td>Kumar</td>\n",
       "      <td>75000</td>\n",
       "      <td>2014-01-20 090000</td>\n",
       "      <td>Account</td>\n",
       "    </tr>\n",
       "    <tr>\n",
       "      <th>7</th>\n",
       "      <td>8</td>\n",
       "      <td>Geetika</td>\n",
       "      <td>Chauhan</td>\n",
       "      <td>90000</td>\n",
       "      <td>2014-04-11 090000</td>\n",
       "      <td>Admin</td>\n",
       "    </tr>\n",
       "  </tbody>\n",
       "</table>\n",
       "</div>"
      ],
      "text/plain": [
       "  worker_id first_name last_name  salary       joining_date department\n",
       "0         1     Monika     Arora  100000  2014-02-20 090000         HR\n",
       "1         2   Niharika     Verma   80000  2014-06-11 090000      Admin\n",
       "2         3     Vishal   Singhal  300000  2014-02-20 090000         HR\n",
       "3         4     Amitah     Singh  500000  2014-02-20 090000      Admin\n",
       "4         5      Vivek     Bhati  500000  2014-06-11 090000      Admin\n",
       "5         6      Vipul     Diwan  200000  2014-06-11 090000    Account\n",
       "6         7     Satish     Kumar   75000  2014-01-20 090000    Account\n",
       "7         8    Geetika   Chauhan   90000  2014-04-11 090000      Admin"
      ]
     },
     "execution_count": 43,
     "metadata": {},
     "output_type": "execute_result"
    }
   ],
   "source": [
    "# create an datafram\n",
    "pd.DataFrame(np.loadtxt('worker.txt',dtype='str',delimiter='\\t'),columns=['worker_id','first_name','last_name','salary','joining_date','department'])"
   ]
  },
  {
   "cell_type": "code",
   "execution_count": 44,
   "id": "35cde4e2",
   "metadata": {},
   "outputs": [],
   "source": [
    "df = pd.DataFrame(np.loadtxt('worker.txt',dtype='str',delimiter='\\t'),columns=['worker_id','first_name','last_name','salary','joining_date','department'])"
   ]
  },
  {
   "cell_type": "markdown",
   "id": "9a6a3d25",
   "metadata": {},
   "source": [
    "## Find workers and their corresponding information from the table with an even number for their worker id."
   ]
  },
  {
   "cell_type": "code",
   "execution_count": 20,
   "id": "00c6ac66",
   "metadata": {},
   "outputs": [
    {
     "name": "stdout",
     "output_type": "stream",
     "text": [
      "1\n",
      "0\n",
      "1\n",
      "0\n"
     ]
    }
   ],
   "source": [
    "# the way to find remainder in python\n",
    "print(1%2)\n",
    "print(2%2)\n",
    "print(3%2)\n",
    "print(4%2)"
   ]
  },
  {
   "cell_type": "code",
   "execution_count": 45,
   "id": "12f7b111",
   "metadata": {},
   "outputs": [
    {
     "data": {
      "text/plain": [
       "dtype('O')"
      ]
     },
     "execution_count": 45,
     "metadata": {},
     "output_type": "execute_result"
    }
   ],
   "source": [
    "# check the datatype of column before divide with 2\n",
    "df['worker_id'].dtype"
   ]
  },
  {
   "cell_type": "code",
   "execution_count": 49,
   "id": "d6ba0e10",
   "metadata": {},
   "outputs": [
    {
     "data": {
      "text/plain": [
       "0    1\n",
       "1    2\n",
       "2    3\n",
       "3    4\n",
       "4    5\n",
       "5    6\n",
       "6    7\n",
       "7    8\n",
       "Name: worker_id, dtype: int32"
      ]
     },
     "execution_count": 49,
     "metadata": {},
     "output_type": "execute_result"
    }
   ],
   "source": [
    "# change the datatype of column from object into int\n",
    "df['worker_id'].astype(int)"
   ]
  },
  {
   "cell_type": "code",
   "execution_count": 50,
   "id": "81bdd734",
   "metadata": {},
   "outputs": [],
   "source": [
    "# overwrite it with the existing 'worker_id' column\n",
    "df['worker_id']= df['worker_id'].astype(int)"
   ]
  },
  {
   "cell_type": "code",
   "execution_count": 51,
   "id": "9f196a89",
   "metadata": {},
   "outputs": [
    {
     "data": {
      "text/plain": [
       "0    1\n",
       "1    0\n",
       "2    1\n",
       "3    0\n",
       "4    1\n",
       "5    0\n",
       "6    1\n",
       "7    0\n",
       "Name: worker_id, dtype: int32"
      ]
     },
     "execution_count": 51,
     "metadata": {},
     "output_type": "execute_result"
    }
   ],
   "source": [
    "# divide the column with 2 and keep remainders\n",
    "df['worker_id']%2"
   ]
  },
  {
   "cell_type": "code",
   "execution_count": 52,
   "id": "2824fe9e",
   "metadata": {},
   "outputs": [
    {
     "data": {
      "text/plain": [
       "0     True\n",
       "1    False\n",
       "2     True\n",
       "3    False\n",
       "4     True\n",
       "5    False\n",
       "6     True\n",
       "7    False\n",
       "Name: worker_id, dtype: bool"
      ]
     },
     "execution_count": 52,
     "metadata": {},
     "output_type": "execute_result"
    }
   ],
   "source": [
    "# find an even number for their worker id\n",
    "df['worker_id']%2==1"
   ]
  },
  {
   "cell_type": "code",
   "execution_count": 53,
   "id": "15c6d110",
   "metadata": {},
   "outputs": [
    {
     "data": {
      "text/html": [
       "<div>\n",
       "<style scoped>\n",
       "    .dataframe tbody tr th:only-of-type {\n",
       "        vertical-align: middle;\n",
       "    }\n",
       "\n",
       "    .dataframe tbody tr th {\n",
       "        vertical-align: top;\n",
       "    }\n",
       "\n",
       "    .dataframe thead th {\n",
       "        text-align: right;\n",
       "    }\n",
       "</style>\n",
       "<table border=\"1\" class=\"dataframe\">\n",
       "  <thead>\n",
       "    <tr style=\"text-align: right;\">\n",
       "      <th></th>\n",
       "      <th>worker_id</th>\n",
       "      <th>first_name</th>\n",
       "      <th>last_name</th>\n",
       "      <th>salary</th>\n",
       "      <th>joining_date</th>\n",
       "      <th>department</th>\n",
       "    </tr>\n",
       "  </thead>\n",
       "  <tbody>\n",
       "    <tr>\n",
       "      <th>0</th>\n",
       "      <td>1</td>\n",
       "      <td>Monika</td>\n",
       "      <td>Arora</td>\n",
       "      <td>100000</td>\n",
       "      <td>2014-02-20 090000</td>\n",
       "      <td>HR</td>\n",
       "    </tr>\n",
       "    <tr>\n",
       "      <th>2</th>\n",
       "      <td>3</td>\n",
       "      <td>Vishal</td>\n",
       "      <td>Singhal</td>\n",
       "      <td>300000</td>\n",
       "      <td>2014-02-20 090000</td>\n",
       "      <td>HR</td>\n",
       "    </tr>\n",
       "    <tr>\n",
       "      <th>4</th>\n",
       "      <td>5</td>\n",
       "      <td>Vivek</td>\n",
       "      <td>Bhati</td>\n",
       "      <td>500000</td>\n",
       "      <td>2014-06-11 090000</td>\n",
       "      <td>Admin</td>\n",
       "    </tr>\n",
       "    <tr>\n",
       "      <th>6</th>\n",
       "      <td>7</td>\n",
       "      <td>Satish</td>\n",
       "      <td>Kumar</td>\n",
       "      <td>75000</td>\n",
       "      <td>2014-01-20 090000</td>\n",
       "      <td>Account</td>\n",
       "    </tr>\n",
       "  </tbody>\n",
       "</table>\n",
       "</div>"
      ],
      "text/plain": [
       "   worker_id first_name last_name  salary       joining_date department\n",
       "0          1     Monika     Arora  100000  2014-02-20 090000         HR\n",
       "2          3     Vishal   Singhal  300000  2014-02-20 090000         HR\n",
       "4          5      Vivek     Bhati  500000  2014-06-11 090000      Admin\n",
       "6          7     Satish     Kumar   75000  2014-01-20 090000    Account"
      ]
     },
     "execution_count": 53,
     "metadata": {},
     "output_type": "execute_result"
    }
   ],
   "source": [
    "df[df['worker_id']%2==1]"
   ]
  }
 ],
 "metadata": {
  "kernelspec": {
   "display_name": "Python 3 (ipykernel)",
   "language": "python",
   "name": "python3"
  },
  "language_info": {
   "codemirror_mode": {
    "name": "ipython",
    "version": 3
   },
   "file_extension": ".py",
   "mimetype": "text/x-python",
   "name": "python",
   "nbconvert_exporter": "python",
   "pygments_lexer": "ipython3",
   "version": "3.9.13"
  }
 },
 "nbformat": 4,
 "nbformat_minor": 5
}

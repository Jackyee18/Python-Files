{
 "cells": [
  {
   "cell_type": "markdown",
   "id": "3368b788",
   "metadata": {},
   "source": [
    "# A. NHẬP THƯ VIỆN VÀ DỮ LIỆU"
   ]
  },
  {
   "cell_type": "code",
   "execution_count": 1,
   "id": "7846887b",
   "metadata": {
    "scrolled": true
   },
   "outputs": [
    {
     "data": {
      "text/html": [
       "<div>\n",
       "<style scoped>\n",
       "    .dataframe tbody tr th:only-of-type {\n",
       "        vertical-align: middle;\n",
       "    }\n",
       "\n",
       "    .dataframe tbody tr th {\n",
       "        vertical-align: top;\n",
       "    }\n",
       "\n",
       "    .dataframe thead th {\n",
       "        text-align: right;\n",
       "    }\n",
       "</style>\n",
       "<table border=\"1\" class=\"dataframe\">\n",
       "  <thead>\n",
       "    <tr style=\"text-align: right;\">\n",
       "      <th></th>\n",
       "      <th>MaDuAn</th>\n",
       "      <th>TenDuAn</th>\n",
       "      <th>NhomDuAn</th>\n",
       "      <th>LoaiDuAn</th>\n",
       "      <th>ChuDauTu</th>\n",
       "      <th>LinhVuc</th>\n",
       "      <th>SuCanThietDauTu</th>\n",
       "      <th>MucTieuDauTu</th>\n",
       "      <th>DiaDiemDauTu</th>\n",
       "      <th>TenNguonVon</th>\n",
       "      <th>TongMucDauTu</th>\n",
       "      <th>TongMucChuTruongDauTu</th>\n",
       "      <th>NamDangKy</th>\n",
       "      <th>NamKhoiCong</th>\n",
       "      <th>NamHoanThanh</th>\n",
       "      <th>ThoiGianThucHien</th>\n",
       "      <th>NgayHoanThanhDA</th>\n",
       "      <th>NgayGiaiNganDauTien</th>\n",
       "    </tr>\n",
       "  </thead>\n",
       "  <tbody>\n",
       "    <tr>\n",
       "      <th>0</th>\n",
       "      <td>KT.19.0007</td>\n",
       "      <td>Nạo vét, kiên cố hoá, khơi thông dòng cha...</td>\n",
       "      <td>Nhóm C</td>\n",
       "      <td>Dự án đầu tư</td>\n",
       "      <td>Ban quản lý dự án đầu tư xây dựng các công trì...</td>\n",
       "      <td>Thủy lợi, phòng chống lụt bão</td>\n",
       "      <td>Thực trạng tuyến kênh thuỷ lợi To đang bị bồi ...</td>\n",
       "      <td>Nhằm đảm bảo hoàn thành mục tiêu của Đề á...</td>\n",
       "      <td>Huyện Bình Chánh</td>\n",
       "      <td>Vốn đầu tư từ cân đối ngân sách địa phương của...</td>\n",
       "      <td>76400</td>\n",
       "      <td>None</td>\n",
       "      <td>2019</td>\n",
       "      <td>2019</td>\n",
       "      <td>2021</td>\n",
       "      <td>24</td>\n",
       "      <td>None</td>\n",
       "      <td>None</td>\n",
       "    </tr>\n",
       "    <tr>\n",
       "      <th>1</th>\n",
       "      <td>KT.19.0006</td>\n",
       "      <td>Đường Võ Văn Điều</td>\n",
       "      <td>Nhóm B</td>\n",
       "      <td>Dự án đầu tư</td>\n",
       "      <td>Ban Quản lý dự án đầu tư xây dựng khu vực huyệ...</td>\n",
       "      <td>Đầu tư cho giao thông</td>\n",
       "      <td>Huyện Củ Chi là địa bàn cửa ngõ phía Bắc thành...</td>\n",
       "      <td>- Nâng cao chất lượng mặt đường hiện hữu để ho...</td>\n",
       "      <td>Huyện Củ Chi</td>\n",
       "      <td>Vốn đầu tư từ cân đối ngân sách địa phương của...</td>\n",
       "      <td>150000</td>\n",
       "      <td>None</td>\n",
       "      <td>2019</td>\n",
       "      <td>2019</td>\n",
       "      <td>2020</td>\n",
       "      <td>12</td>\n",
       "      <td>None</td>\n",
       "      <td>None</td>\n",
       "    </tr>\n",
       "    <tr>\n",
       "      <th>2</th>\n",
       "      <td>KT.19.0005</td>\n",
       "      <td>Xây dựng Trạm trung chuyển rác tại xã Long Thới</td>\n",
       "      <td>Nhóm B</td>\n",
       "      <td>Dự án đầu tư</td>\n",
       "      <td>Ban Quản lý dự án đầu tư xây dựng khu vực huyệ...</td>\n",
       "      <td>Chương trình giảm ô nhiễm môi trường</td>\n",
       "      <td>-\\tHuyện Nhà Bè là khu vực có tốc độ phát triể...</td>\n",
       "      <td>Nhằm đáp ứng vệ sinh môi trường của khu vực, g...</td>\n",
       "      <td>Huyện Nhà Bè</td>\n",
       "      <td>Vốn đầu tư từ cân đối ngân sách địa phương của...</td>\n",
       "      <td>144300</td>\n",
       "      <td>144300</td>\n",
       "      <td>2019</td>\n",
       "      <td>2019</td>\n",
       "      <td>2020</td>\n",
       "      <td>12</td>\n",
       "      <td>None</td>\n",
       "      <td>None</td>\n",
       "    </tr>\n",
       "    <tr>\n",
       "      <th>3</th>\n",
       "      <td>KT.19.0004</td>\n",
       "      <td>Xây dựng Trạm Trung chuyển rác tại xã Phước Lộc</td>\n",
       "      <td>Nhóm B</td>\n",
       "      <td>Dự án đầu tư</td>\n",
       "      <td>Ban Quản lý dự án đầu tư xây dựng khu vực huyệ...</td>\n",
       "      <td>Chương trình giảm ô nhiễm môi trường</td>\n",
       "      <td>-\\tHuyện Nhà Bè được thành lập từ năm 1997. Sa...</td>\n",
       "      <td>-\\tMục tiêu: Nhằm đáp ứng vệ sinh môi trường, ...</td>\n",
       "      <td>Huyện Nhà Bè</td>\n",
       "      <td>Vốn đầu tư từ cân đối ngân sách địa phương của...</td>\n",
       "      <td>155700</td>\n",
       "      <td>155700</td>\n",
       "      <td>2019</td>\n",
       "      <td>2019</td>\n",
       "      <td>2020</td>\n",
       "      <td>12</td>\n",
       "      <td>None</td>\n",
       "      <td>None</td>\n",
       "    </tr>\n",
       "    <tr>\n",
       "      <th>4</th>\n",
       "      <td>KT.19.0003</td>\n",
       "      <td>Dự án đầu tư máy sản xuất các sản phẩm từ tinh...</td>\n",
       "      <td>Quyết định số 50/2015/QĐ-UBND ngày 30/10/2...</td>\n",
       "      <td>Dự án kích cầu</td>\n",
       "      <td>Công ty TNHH MTV Bánh kẹo Á Châu</td>\n",
       "      <td>Công nghiệp hỗ trợ</td>\n",
       "      <td>NaN</td>\n",
       "      <td>NaN</td>\n",
       "      <td>Quận Bình Tân</td>\n",
       "      <td>Vốn đầu tư từ nguồn khác</td>\n",
       "      <td>2481</td>\n",
       "      <td>None</td>\n",
       "      <td>0</td>\n",
       "      <td>2017</td>\n",
       "      <td>0</td>\n",
       "      <td>0</td>\n",
       "      <td>None</td>\n",
       "      <td>None</td>\n",
       "    </tr>\n",
       "  </tbody>\n",
       "</table>\n",
       "</div>"
      ],
      "text/plain": [
       "       MaDuAn                                            TenDuAn  \\\n",
       "0  KT.19.0007  Nạo vét, kiên cố hoá, khơi thông dòng cha...   \n",
       "1  KT.19.0006                                  Đường Võ Văn Điều   \n",
       "2  KT.19.0005    Xây dựng Trạm trung chuyển rác tại xã Long Thới   \n",
       "3  KT.19.0004    Xây dựng Trạm Trung chuyển rác tại xã Phước Lộc   \n",
       "4  KT.19.0003  Dự án đầu tư máy sản xuất các sản phẩm từ tinh...   \n",
       "\n",
       "                                            NhomDuAn        LoaiDuAn  \\\n",
       "0                                             Nhóm C    Dự án đầu tư   \n",
       "1                                             Nhóm B    Dự án đầu tư   \n",
       "2                                             Nhóm B    Dự án đầu tư   \n",
       "3                                             Nhóm B    Dự án đầu tư   \n",
       "4  Quyết định số 50/2015/QĐ-UBND ngày 30/10/2...  Dự án kích cầu   \n",
       "\n",
       "                                            ChuDauTu  \\\n",
       "0  Ban quản lý dự án đầu tư xây dựng các công trì...   \n",
       "1  Ban Quản lý dự án đầu tư xây dựng khu vực huyệ...   \n",
       "2  Ban Quản lý dự án đầu tư xây dựng khu vực huyệ...   \n",
       "3  Ban Quản lý dự án đầu tư xây dựng khu vực huyệ...   \n",
       "4                   Công ty TNHH MTV Bánh kẹo Á Châu   \n",
       "\n",
       "                                    LinhVuc  \\\n",
       "0             Thủy lợi, phòng chống lụt bão   \n",
       "1                     Đầu tư cho giao thông   \n",
       "2  Chương trình giảm ô nhiễm môi trường   \n",
       "3  Chương trình giảm ô nhiễm môi trường   \n",
       "4                       Công nghiệp hỗ trợ    \n",
       "\n",
       "                                     SuCanThietDauTu  \\\n",
       "0  Thực trạng tuyến kênh thuỷ lợi To đang bị bồi ...   \n",
       "1  Huyện Củ Chi là địa bàn cửa ngõ phía Bắc thành...   \n",
       "2  -\\tHuyện Nhà Bè là khu vực có tốc độ phát triể...   \n",
       "3  -\\tHuyện Nhà Bè được thành lập từ năm 1997. Sa...   \n",
       "4                                                NaN   \n",
       "\n",
       "                                        MucTieuDauTu      DiaDiemDauTu  \\\n",
       "0  Nhằm đảm bảo hoàn thành mục tiêu của Đề á...  Huyện Bình Chánh   \n",
       "1  - Nâng cao chất lượng mặt đường hiện hữu để ho...      Huyện Củ Chi   \n",
       "2  Nhằm đáp ứng vệ sinh môi trường của khu vực, g...      Huyện Nhà Bè   \n",
       "3  -\\tMục tiêu: Nhằm đáp ứng vệ sinh môi trường, ...      Huyện Nhà Bè   \n",
       "4                                                NaN     Quận Bình Tân   \n",
       "\n",
       "                                         TenNguonVon  TongMucDauTu  \\\n",
       "0  Vốn đầu tư từ cân đối ngân sách địa phương của...         76400   \n",
       "1  Vốn đầu tư từ cân đối ngân sách địa phương của...        150000   \n",
       "2  Vốn đầu tư từ cân đối ngân sách địa phương của...        144300   \n",
       "3  Vốn đầu tư từ cân đối ngân sách địa phương của...        155700   \n",
       "4                           Vốn đầu tư từ nguồn khác          2481   \n",
       "\n",
       "  TongMucChuTruongDauTu NamDangKy NamKhoiCong NamHoanThanh ThoiGianThucHien  \\\n",
       "0                  None      2019        2019         2021               24   \n",
       "1                  None      2019        2019         2020               12   \n",
       "2                144300      2019        2019         2020               12   \n",
       "3                155700      2019        2019         2020               12   \n",
       "4                  None         0        2017            0                0   \n",
       "\n",
       "  NgayHoanThanhDA NgayGiaiNganDauTien  \n",
       "0            None                None  \n",
       "1            None                None  \n",
       "2            None                None  \n",
       "3            None                None  \n",
       "4            None                None  "
      ]
     },
     "execution_count": 1,
     "metadata": {},
     "output_type": "execute_result"
    }
   ],
   "source": [
    "import pandas as pd\n",
    "import numpy as np\n",
    "from matplotlib import pyplot as plt\n",
    "q=pd.read_csv('FUTA_bai tap phan tich du lieu_dau_tu_cong.csv')\n",
    "q.head()"
   ]
  },
  {
   "cell_type": "code",
   "execution_count": 2,
   "id": "6f8ceacf",
   "metadata": {},
   "outputs": [
    {
     "data": {
      "text/plain": [
       "7547"
      ]
     },
     "execution_count": 2,
     "metadata": {},
     "output_type": "execute_result"
    }
   ],
   "source": [
    "# có bao nhiêu dự án trong tập dữ liệu (với mỗi dòng là 1 dự án khác nhau)\n",
    "len(q)"
   ]
  },
  {
   "cell_type": "markdown",
   "id": "93410ea4",
   "metadata": {},
   "source": [
    "# B. XỬ LÝ TIỀN DỮ LIỆU"
   ]
  },
  {
   "cell_type": "code",
   "execution_count": 3,
   "id": "544efaba",
   "metadata": {},
   "outputs": [
    {
     "data": {
      "text/plain": [
       "array(['2019', '0', '2017', '2018', '2015', '2008', '2011', '2003',\n",
       "       '2014', '2016', '2013', '2006', '2004', '2007', '2009', '2012',\n",
       "       '2010', '2022', '2005', '16', '1998', '2001', '2002', 'None',\n",
       "       '2021'], dtype=object)"
      ]
     },
     "execution_count": 3,
     "metadata": {},
     "output_type": "execute_result"
    }
   ],
   "source": [
    "# Kiểm tra dữ liệu ở cột năm đăng ký (NamDangKy)\n",
    "q.NamDangKy.unique()"
   ]
  },
  {
   "cell_type": "code",
   "execution_count": 4,
   "id": "d46a172d",
   "metadata": {},
   "outputs": [],
   "source": [
    "# Xử lý dữ liệu sai: đổi '16' thành '2016'\n",
    "q.NamDangKy.replace('16','2016',inplace=True)"
   ]
  },
  {
   "cell_type": "code",
   "execution_count": 5,
   "id": "a6025705",
   "metadata": {},
   "outputs": [
    {
     "data": {
      "text/plain": [
       "array(['2021', '2020', '0', '2018', '2019', '2015', '2010', '2009',\n",
       "       '2022', '2023', '2014', '2025', '2013', '2017', '2016', 'None',\n",
       "       '2011', '2007', '2006', '2028', '22', '2005', '2012', '2044',\n",
       "       '2008', '2024', '2002', '2040', '2003', '2042'], dtype=object)"
      ]
     },
     "execution_count": 5,
     "metadata": {},
     "output_type": "execute_result"
    }
   ],
   "source": [
    "# Kiểm tra dữ liệu ở cột năm hoàn thành (NamHoanThanh)\n",
    "q.NamHoanThanh.unique()"
   ]
  },
  {
   "cell_type": "code",
   "execution_count": 6,
   "id": "ea1e9cb9",
   "metadata": {},
   "outputs": [],
   "source": [
    "# Xử lý dữ liệu sai: đổi '22' thành '2022'\n",
    "q.NamHoanThanh.replace('22','2022',inplace=True)"
   ]
  },
  {
   "cell_type": "code",
   "execution_count": 7,
   "id": "7bd28a7c",
   "metadata": {
    "scrolled": true
   },
   "outputs": [
    {
     "data": {
      "text/html": [
       "<div>\n",
       "<style scoped>\n",
       "    .dataframe tbody tr th:only-of-type {\n",
       "        vertical-align: middle;\n",
       "    }\n",
       "\n",
       "    .dataframe tbody tr th {\n",
       "        vertical-align: top;\n",
       "    }\n",
       "\n",
       "    .dataframe thead th {\n",
       "        text-align: right;\n",
       "    }\n",
       "</style>\n",
       "<table border=\"1\" class=\"dataframe\">\n",
       "  <thead>\n",
       "    <tr style=\"text-align: right;\">\n",
       "      <th></th>\n",
       "      <th>MaDuAn</th>\n",
       "      <th>TenDuAn</th>\n",
       "      <th>NhomDuAn</th>\n",
       "      <th>LoaiDuAn</th>\n",
       "      <th>ChuDauTu</th>\n",
       "      <th>LinhVuc</th>\n",
       "      <th>SuCanThietDauTu</th>\n",
       "      <th>MucTieuDauTu</th>\n",
       "      <th>DiaDiemDauTu</th>\n",
       "      <th>TenNguonVon</th>\n",
       "      <th>TongMucDauTu</th>\n",
       "      <th>TongMucChuTruongDauTu</th>\n",
       "      <th>NamDangKy</th>\n",
       "      <th>NamKhoiCong</th>\n",
       "      <th>NamHoanThanh</th>\n",
       "      <th>ThoiGianThucHien</th>\n",
       "      <th>NgayHoanThanhDA</th>\n",
       "      <th>NgayGiaiNganDauTien</th>\n",
       "    </tr>\n",
       "  </thead>\n",
       "  <tbody>\n",
       "    <tr>\n",
       "      <th>4</th>\n",
       "      <td>KT.19.0003</td>\n",
       "      <td>Dự án đầu tư máy sản xuất các sản phẩm từ tinh...</td>\n",
       "      <td>Quyết định số 50/2015/QĐ-UBND ngày 30/10/2...</td>\n",
       "      <td>Dự án kích cầu</td>\n",
       "      <td>Công ty TNHH MTV Bánh kẹo Á Châu</td>\n",
       "      <td>Công nghiệp hỗ trợ</td>\n",
       "      <td>NaN</td>\n",
       "      <td>NaN</td>\n",
       "      <td>Quận Bình Tân</td>\n",
       "      <td>Vốn đầu tư từ nguồn khác</td>\n",
       "      <td>2481</td>\n",
       "      <td>None</td>\n",
       "      <td>0</td>\n",
       "      <td>2017</td>\n",
       "      <td>0</td>\n",
       "      <td>0</td>\n",
       "      <td>None</td>\n",
       "      <td>None</td>\n",
       "    </tr>\n",
       "    <tr>\n",
       "      <th>6</th>\n",
       "      <td>VX.19.0012</td>\n",
       "      <td>Đầu tư xây dựng công trình nhà điều hành Trườn...</td>\n",
       "      <td>Quyết định số 33/2011/QĐ-UBND ngày 28/05/2...</td>\n",
       "      <td>Dự án kích cầu</td>\n",
       "      <td>Trường Đại học Nông Lâm thành phố Hồ Chí Minh</td>\n",
       "      <td>Giáo dục - Đào tạo</td>\n",
       "      <td>NaN</td>\n",
       "      <td>NaN</td>\n",
       "      <td>Quận Thủ Đức</td>\n",
       "      <td>Vốn đầu tư từ nguồn khác</td>\n",
       "      <td>51572</td>\n",
       "      <td>None</td>\n",
       "      <td>0</td>\n",
       "      <td>0</td>\n",
       "      <td>0</td>\n",
       "      <td>0</td>\n",
       "      <td>None</td>\n",
       "      <td>None</td>\n",
       "    </tr>\n",
       "    <tr>\n",
       "      <th>7</th>\n",
       "      <td>VX.19.0011</td>\n",
       "      <td>Đầu tư trang thiết bị y tế Bệnh viện quận 11</td>\n",
       "      <td>Quyết định số 50/2015/QĐ-UBND ngày 30/10/2...</td>\n",
       "      <td>Dự án kích cầu</td>\n",
       "      <td>Bệnh viện Quận 11</td>\n",
       "      <td>Y tế</td>\n",
       "      <td>NaN</td>\n",
       "      <td>NaN</td>\n",
       "      <td>Quận 11</td>\n",
       "      <td>Vốn đầu tư từ nguồn khác</td>\n",
       "      <td>15525</td>\n",
       "      <td>None</td>\n",
       "      <td>0</td>\n",
       "      <td>0</td>\n",
       "      <td>0</td>\n",
       "      <td>0</td>\n",
       "      <td>None</td>\n",
       "      <td>None</td>\n",
       "    </tr>\n",
       "    <tr>\n",
       "      <th>9</th>\n",
       "      <td>VX.19.0010</td>\n",
       "      <td>Đầu tư mua sắm trang thiết bị y tế cho Khu khá...</td>\n",
       "      <td>Quyết định số 50/2015/QĐ-UBND ngày 30/10/2...</td>\n",
       "      <td>Dự án kích cầu</td>\n",
       "      <td>Bệnh viện Ung Bướu</td>\n",
       "      <td>Y tế</td>\n",
       "      <td>NaN</td>\n",
       "      <td>NaN</td>\n",
       "      <td>Quận Bình Thạnh</td>\n",
       "      <td>Vốn đầu tư từ nguồn khác</td>\n",
       "      <td>100217</td>\n",
       "      <td>None</td>\n",
       "      <td>0</td>\n",
       "      <td>0</td>\n",
       "      <td>0</td>\n",
       "      <td>0</td>\n",
       "      <td>None</td>\n",
       "      <td>None</td>\n",
       "    </tr>\n",
       "    <tr>\n",
       "      <th>10</th>\n",
       "      <td>VX.19.0009</td>\n",
       "      <td>Đầu tư mua xe tập lái cho Trung tâm đào tạo lá...</td>\n",
       "      <td>Quyết định số 50/2015/QĐ-UBND ngày 30/10/2...</td>\n",
       "      <td>Dự án kích cầu</td>\n",
       "      <td>Trường Trung cấp kinh tế kỹ thuật Nguyễn Hữu Cảnh</td>\n",
       "      <td>Giáo dục - Đào tạo</td>\n",
       "      <td>NaN</td>\n",
       "      <td>NaN</td>\n",
       "      <td>Quận 7</td>\n",
       "      <td>Vốn đầu tư từ nguồn khác</td>\n",
       "      <td>5184</td>\n",
       "      <td>None</td>\n",
       "      <td>0</td>\n",
       "      <td>0</td>\n",
       "      <td>0</td>\n",
       "      <td>0</td>\n",
       "      <td>None</td>\n",
       "      <td>None</td>\n",
       "    </tr>\n",
       "    <tr>\n",
       "      <th>...</th>\n",
       "      <td>...</td>\n",
       "      <td>...</td>\n",
       "      <td>...</td>\n",
       "      <td>...</td>\n",
       "      <td>...</td>\n",
       "      <td>...</td>\n",
       "      <td>...</td>\n",
       "      <td>...</td>\n",
       "      <td>...</td>\n",
       "      <td>...</td>\n",
       "      <td>...</td>\n",
       "      <td>...</td>\n",
       "      <td>...</td>\n",
       "      <td>...</td>\n",
       "      <td>...</td>\n",
       "      <td>...</td>\n",
       "      <td>...</td>\n",
       "      <td>...</td>\n",
       "    </tr>\n",
       "    <tr>\n",
       "      <th>7502</th>\n",
       "      <td>KC.18.72931</td>\n",
       "      <td>Đầu tư mua sắm trang thiết bị y tế của Bệnh vi...</td>\n",
       "      <td>Quyết định số 33/2011/QĐ-UBND ngày 28/05/2...</td>\n",
       "      <td>Dự án kích cầu</td>\n",
       "      <td>Bệnh viện Đa khoa Khu vực Hóc Môn</td>\n",
       "      <td>Y tế</td>\n",
       "      <td>NaN</td>\n",
       "      <td>NaN</td>\n",
       "      <td>Huyện Hóc Môn</td>\n",
       "      <td>Vốn đầu tư từ nguồn khác</td>\n",
       "      <td>13511</td>\n",
       "      <td>None</td>\n",
       "      <td>0</td>\n",
       "      <td>0</td>\n",
       "      <td>0</td>\n",
       "      <td>0</td>\n",
       "      <td>None</td>\n",
       "      <td>None</td>\n",
       "    </tr>\n",
       "    <tr>\n",
       "      <th>7503</th>\n",
       "      <td>KC.18.72930</td>\n",
       "      <td>Đầu tư mua sắm trang thiết bị y tế Bệnh viện T...</td>\n",
       "      <td>Quyết định số 20/2009/QĐ-UBND ngày 27/02/2...</td>\n",
       "      <td>Dự án kích cầu</td>\n",
       "      <td>Bệnh viện Tai-Mũi-Họng thành phố Hồ Chí Minh</td>\n",
       "      <td>Y tế</td>\n",
       "      <td>NaN</td>\n",
       "      <td>NaN</td>\n",
       "      <td>Quận 3</td>\n",
       "      <td>Vốn đầu tư từ nguồn khác</td>\n",
       "      <td>13990</td>\n",
       "      <td>None</td>\n",
       "      <td>0</td>\n",
       "      <td>0</td>\n",
       "      <td>0</td>\n",
       "      <td>None</td>\n",
       "      <td>None</td>\n",
       "      <td>None</td>\n",
       "    </tr>\n",
       "    <tr>\n",
       "      <th>7504</th>\n",
       "      <td>KC.18.72929</td>\n",
       "      <td>Đầu tư máy Spect và máy Laser điều trị bướu mạ...</td>\n",
       "      <td>Quyết định số 33/2011/QĐ-UBND ngày 28/05/2...</td>\n",
       "      <td>Dự án kích cầu</td>\n",
       "      <td>Bệnh viện Ung Bướu</td>\n",
       "      <td>Y tế</td>\n",
       "      <td>NaN</td>\n",
       "      <td>NaN</td>\n",
       "      <td>Quận Bình Thạnh</td>\n",
       "      <td>Vốn đầu tư từ nguồn khác</td>\n",
       "      <td>16500</td>\n",
       "      <td>None</td>\n",
       "      <td>0</td>\n",
       "      <td>0</td>\n",
       "      <td>0</td>\n",
       "      <td>None</td>\n",
       "      <td>None</td>\n",
       "      <td>None</td>\n",
       "    </tr>\n",
       "    <tr>\n",
       "      <th>7505</th>\n",
       "      <td>KC.18.72928</td>\n",
       "      <td>Đầu tư đổi mới xe tập lái phục vụ đào tạo, sát...</td>\n",
       "      <td>Quyết định số 50/2015/QĐ-UBND ngày 30/10/2...</td>\n",
       "      <td>Dự án kích cầu</td>\n",
       "      <td>Trường Cao đẳng Giao thông Vận tải</td>\n",
       "      <td>Giáo dục - Đào tạo</td>\n",
       "      <td>NaN</td>\n",
       "      <td>NaN</td>\n",
       "      <td>Quận 12,</td>\n",
       "      <td>Vốn đầu tư từ nguồn khác</td>\n",
       "      <td>10870</td>\n",
       "      <td>None</td>\n",
       "      <td>0</td>\n",
       "      <td>0</td>\n",
       "      <td>0</td>\n",
       "      <td>0</td>\n",
       "      <td>None</td>\n",
       "      <td>None</td>\n",
       "    </tr>\n",
       "    <tr>\n",
       "      <th>7506</th>\n",
       "      <td>KC.18.72927</td>\n",
       "      <td>Đầu tư Cao ốc văn phòng và trụ sở Báo Người La...</td>\n",
       "      <td>Quyết định số 20/2009/QĐ-UBND ngày 27/02/2...</td>\n",
       "      <td>Dự án kích cầu</td>\n",
       "      <td>Báo Người Lao động</td>\n",
       "      <td>Văn hóa</td>\n",
       "      <td>NaN</td>\n",
       "      <td>NaN</td>\n",
       "      <td>Quận 3</td>\n",
       "      <td>Vốn đầu tư từ nguồn khác</td>\n",
       "      <td>96360</td>\n",
       "      <td>None</td>\n",
       "      <td>0</td>\n",
       "      <td>0</td>\n",
       "      <td>0</td>\n",
       "      <td>None</td>\n",
       "      <td>None</td>\n",
       "      <td>None</td>\n",
       "    </tr>\n",
       "  </tbody>\n",
       "</table>\n",
       "<p>4133 rows × 18 columns</p>\n",
       "</div>"
      ],
      "text/plain": [
       "           MaDuAn                                            TenDuAn  \\\n",
       "4      KT.19.0003  Dự án đầu tư máy sản xuất các sản phẩm từ tinh...   \n",
       "6      VX.19.0012  Đầu tư xây dựng công trình nhà điều hành Trườn...   \n",
       "7      VX.19.0011       Đầu tư trang thiết bị y tế Bệnh viện quận 11   \n",
       "9      VX.19.0010  Đầu tư mua sắm trang thiết bị y tế cho Khu khá...   \n",
       "10     VX.19.0009  Đầu tư mua xe tập lái cho Trung tâm đào tạo lá...   \n",
       "...           ...                                                ...   \n",
       "7502  KC.18.72931  Đầu tư mua sắm trang thiết bị y tế của Bệnh vi...   \n",
       "7503  KC.18.72930  Đầu tư mua sắm trang thiết bị y tế Bệnh viện T...   \n",
       "7504  KC.18.72929  Đầu tư máy Spect và máy Laser điều trị bướu mạ...   \n",
       "7505  KC.18.72928  Đầu tư đổi mới xe tập lái phục vụ đào tạo, sát...   \n",
       "7506  KC.18.72927  Đầu tư Cao ốc văn phòng và trụ sở Báo Người La...   \n",
       "\n",
       "                                               NhomDuAn        LoaiDuAn  \\\n",
       "4     Quyết định số 50/2015/QĐ-UBND ngày 30/10/2...  Dự án kích cầu   \n",
       "6     Quyết định số 33/2011/QĐ-UBND ngày 28/05/2...  Dự án kích cầu   \n",
       "7     Quyết định số 50/2015/QĐ-UBND ngày 30/10/2...  Dự án kích cầu   \n",
       "9     Quyết định số 50/2015/QĐ-UBND ngày 30/10/2...  Dự án kích cầu   \n",
       "10    Quyết định số 50/2015/QĐ-UBND ngày 30/10/2...  Dự án kích cầu   \n",
       "...                                                 ...             ...   \n",
       "7502  Quyết định số 33/2011/QĐ-UBND ngày 28/05/2...  Dự án kích cầu   \n",
       "7503  Quyết định số 20/2009/QĐ-UBND ngày 27/02/2...  Dự án kích cầu   \n",
       "7504  Quyết định số 33/2011/QĐ-UBND ngày 28/05/2...  Dự án kích cầu   \n",
       "7505  Quyết định số 50/2015/QĐ-UBND ngày 30/10/2...  Dự án kích cầu   \n",
       "7506  Quyết định số 20/2009/QĐ-UBND ngày 27/02/2...  Dự án kích cầu   \n",
       "\n",
       "                                               ChuDauTu              LinhVuc  \\\n",
       "4                      Công ty TNHH MTV Bánh kẹo Á Châu  Công nghiệp hỗ trợ    \n",
       "6         Trường Đại học Nông Lâm thành phố Hồ Chí Minh   Giáo dục - Đào tạo   \n",
       "7                                     Bệnh viện Quận 11                 Y tế   \n",
       "9                                    Bệnh viện Ung Bướu                 Y tế   \n",
       "10    Trường Trung cấp kinh tế kỹ thuật Nguyễn Hữu Cảnh   Giáo dục - Đào tạo   \n",
       "...                                                 ...                  ...   \n",
       "7502                  Bệnh viện Đa khoa Khu vực Hóc Môn                 Y tế   \n",
       "7503       Bệnh viện Tai-Mũi-Họng thành phố Hồ Chí Minh                 Y tế   \n",
       "7504                                 Bệnh viện Ung Bướu                 Y tế   \n",
       "7505                 Trường Cao đẳng Giao thông Vận tải   Giáo dục - Đào tạo   \n",
       "7506                             Báo Người Lao động               Văn hóa   \n",
       "\n",
       "     SuCanThietDauTu MucTieuDauTu     DiaDiemDauTu               TenNguonVon  \\\n",
       "4                NaN          NaN    Quận Bình Tân  Vốn đầu tư từ nguồn khác   \n",
       "6                NaN          NaN     Quận Thủ Đức  Vốn đầu tư từ nguồn khác   \n",
       "7                NaN          NaN          Quận 11  Vốn đầu tư từ nguồn khác   \n",
       "9                NaN          NaN  Quận Bình Thạnh  Vốn đầu tư từ nguồn khác   \n",
       "10               NaN          NaN           Quận 7  Vốn đầu tư từ nguồn khác   \n",
       "...              ...          ...              ...                       ...   \n",
       "7502             NaN          NaN    Huyện Hóc Môn  Vốn đầu tư từ nguồn khác   \n",
       "7503             NaN          NaN           Quận 3  Vốn đầu tư từ nguồn khác   \n",
       "7504             NaN          NaN  Quận Bình Thạnh  Vốn đầu tư từ nguồn khác   \n",
       "7505             NaN          NaN         Quận 12,  Vốn đầu tư từ nguồn khác   \n",
       "7506             NaN          NaN           Quận 3  Vốn đầu tư từ nguồn khác   \n",
       "\n",
       "      TongMucDauTu TongMucChuTruongDauTu NamDangKy NamKhoiCong NamHoanThanh  \\\n",
       "4             2481                  None         0        2017            0   \n",
       "6            51572                  None         0           0            0   \n",
       "7            15525                  None         0           0            0   \n",
       "9           100217                  None         0           0            0   \n",
       "10            5184                  None         0           0            0   \n",
       "...            ...                   ...       ...         ...          ...   \n",
       "7502         13511                  None         0           0            0   \n",
       "7503         13990                  None         0           0            0   \n",
       "7504         16500                  None         0           0            0   \n",
       "7505         10870                  None         0           0            0   \n",
       "7506         96360                  None         0           0            0   \n",
       "\n",
       "     ThoiGianThucHien NgayHoanThanhDA NgayGiaiNganDauTien  \n",
       "4                   0            None                None  \n",
       "6                   0            None                None  \n",
       "7                   0            None                None  \n",
       "9                   0            None                None  \n",
       "10                  0            None                None  \n",
       "...               ...             ...                 ...  \n",
       "7502                0            None                None  \n",
       "7503             None            None                None  \n",
       "7504             None            None                None  \n",
       "7505                0            None                None  \n",
       "7506             None            None                None  \n",
       "\n",
       "[4133 rows x 18 columns]"
      ]
     },
     "execution_count": 7,
     "metadata": {},
     "output_type": "execute_result"
    }
   ],
   "source": [
    "# kiểm tra những dự án có năm hoàn thành bằng 0\n",
    "NamHoanThanhLaKhong=q[q.NamHoanThanh=='0']\n",
    "NamHoanThanhLaKhong"
   ]
  },
  {
   "cell_type": "code",
   "execution_count": 8,
   "id": "604cedc0",
   "metadata": {},
   "outputs": [
    {
     "data": {
      "text/plain": [
       "4133"
      ]
     },
     "execution_count": 8,
     "metadata": {},
     "output_type": "execute_result"
    }
   ],
   "source": [
    "# Tổng Dự Án có năm hoàn thành = 0\n",
    "len(NamHoanThanhLaKhong)"
   ]
  },
  {
   "cell_type": "code",
   "execution_count": 9,
   "id": "6015891b",
   "metadata": {},
   "outputs": [
    {
     "data": {
      "text/plain": [
       "0       4088\n",
       "2016      24\n",
       "2015      20\n",
       "2014       1\n",
       "Name: NamDangKy, dtype: int64"
      ]
     },
     "execution_count": 9,
     "metadata": {},
     "output_type": "execute_result"
    }
   ],
   "source": [
    "# kiểm tra những dự án có năm hoàn thành = 0, có cột giá trị năm đăng ký như thế nào\n",
    "NamHoanThanhLaKhong.NamDangKy.value_counts()"
   ]
  },
  {
   "cell_type": "markdown",
   "id": "c82c7a09",
   "metadata": {},
   "source": [
    "=> có 4088 dự án có năm hoàn thành = 0 và năm đăng ký = 0"
   ]
  },
  {
   "cell_type": "code",
   "execution_count": 10,
   "id": "38af4421",
   "metadata": {},
   "outputs": [
    {
     "data": {
      "text/plain": [
       "0       4126\n",
       "2016       3\n",
       "2015       2\n",
       "2017       1\n",
       "2018       1\n",
       "Name: NamKhoiCong, dtype: int64"
      ]
     },
     "execution_count": 10,
     "metadata": {},
     "output_type": "execute_result"
    }
   ],
   "source": [
    "# kiểm tra dự án có năm hoàn thành = 0 có cột giá trị năm khởi công như thế nào?\n",
    "NamHoanThanhLaKhong.NamKhoiCong.value_counts()"
   ]
  },
  {
   "cell_type": "markdown",
   "id": "2c953c28",
   "metadata": {},
   "source": [
    "=> có 4126 dự án có năm hoàn thành = 0 và năm khởi công = 0"
   ]
  },
  {
   "cell_type": "markdown",
   "id": "57308b84",
   "metadata": {},
   "source": [
    "####  Đặt giả thiết là các dự án có năm đăng ký, năm khởi công và năm hoàn thành đều = 0 là các dự án không thực hiện nữa. Do đó, ta sẽ loại các dự án này ra khỏi dataset"
   ]
  },
  {
   "cell_type": "code",
   "execution_count": 11,
   "id": "74185950",
   "metadata": {
    "scrolled": true
   },
   "outputs": [],
   "source": [
    "q=q[(q.NamDangKy!='0')&(q.NamKhoiCong!='0')&(q.NamHoanThanh!='0')]"
   ]
  },
  {
   "cell_type": "markdown",
   "id": "a4162549",
   "metadata": {},
   "source": [
    "Kiểm tra các giá trị trong cột Năm đăng ký"
   ]
  },
  {
   "cell_type": "code",
   "execution_count": 12,
   "id": "5673e0e3",
   "metadata": {
    "scrolled": false
   },
   "outputs": [
    {
     "data": {
      "text/plain": [
       "2016    1100\n",
       "2015     742\n",
       "2017     332\n",
       "2014      80\n",
       "2018      69\n",
       "2013      31\n",
       "2010      29\n",
       "2012      29\n",
       "2008      20\n",
       "2004      17\n",
       "2009      17\n",
       "2019      15\n",
       "2011      14\n",
       "None       9\n",
       "2007       8\n",
       "2005       7\n",
       "2006       5\n",
       "2003       5\n",
       "2002       5\n",
       "2001       3\n",
       "1998       2\n",
       "2022       1\n",
       "2021       1\n",
       "Name: NamDangKy, dtype: int64"
      ]
     },
     "execution_count": 12,
     "metadata": {},
     "output_type": "execute_result"
    }
   ],
   "source": [
    "# Kiểm tra lại năm đăng ký của dataset mới\n",
    "q.NamDangKy.value_counts()"
   ]
  },
  {
   "cell_type": "markdown",
   "id": "09d57f5e",
   "metadata": {},
   "source": [
    "Có 9 dự án có năm đăng ký là 'None'."
   ]
  },
  {
   "cell_type": "code",
   "execution_count": 13,
   "id": "a6bc4b00",
   "metadata": {
    "scrolled": true
   },
   "outputs": [
    {
     "data": {
      "text/html": [
       "<div>\n",
       "<style scoped>\n",
       "    .dataframe tbody tr th:only-of-type {\n",
       "        vertical-align: middle;\n",
       "    }\n",
       "\n",
       "    .dataframe tbody tr th {\n",
       "        vertical-align: top;\n",
       "    }\n",
       "\n",
       "    .dataframe thead th {\n",
       "        text-align: right;\n",
       "    }\n",
       "</style>\n",
       "<table border=\"1\" class=\"dataframe\">\n",
       "  <thead>\n",
       "    <tr style=\"text-align: right;\">\n",
       "      <th></th>\n",
       "      <th>MaDuAn</th>\n",
       "      <th>TenDuAn</th>\n",
       "      <th>NhomDuAn</th>\n",
       "      <th>LoaiDuAn</th>\n",
       "      <th>ChuDauTu</th>\n",
       "      <th>LinhVuc</th>\n",
       "      <th>SuCanThietDauTu</th>\n",
       "      <th>MucTieuDauTu</th>\n",
       "      <th>DiaDiemDauTu</th>\n",
       "      <th>TenNguonVon</th>\n",
       "      <th>TongMucDauTu</th>\n",
       "      <th>TongMucChuTruongDauTu</th>\n",
       "      <th>NamDangKy</th>\n",
       "      <th>NamKhoiCong</th>\n",
       "      <th>NamHoanThanh</th>\n",
       "      <th>ThoiGianThucHien</th>\n",
       "      <th>NgayHoanThanhDA</th>\n",
       "      <th>NgayGiaiNganDauTien</th>\n",
       "    </tr>\n",
       "  </thead>\n",
       "  <tbody>\n",
       "    <tr>\n",
       "      <th>6909</th>\n",
       "      <td>VX.12.0158</td>\n",
       "      <td>Xây dựng Trường mầm non khu chế xuất Linh Trung 2</td>\n",
       "      <td>Nhóm B</td>\n",
       "      <td>Dự án đầu tư</td>\n",
       "      <td>Ban Quản lý dự án đầu tư xây dựng khu vực quận...</td>\n",
       "      <td>Giáo dục - đào tạo</td>\n",
       "      <td>None</td>\n",
       "      <td>None</td>\n",
       "      <td>Quận Thủ Đức</td>\n",
       "      <td>None</td>\n",
       "      <td>61690</td>\n",
       "      <td>None</td>\n",
       "      <td>None</td>\n",
       "      <td>2016</td>\n",
       "      <td>2018</td>\n",
       "      <td>None</td>\n",
       "      <td>None</td>\n",
       "      <td>None</td>\n",
       "    </tr>\n",
       "    <tr>\n",
       "      <th>6910</th>\n",
       "      <td>VX.12.0157</td>\n",
       "      <td>Xây dựng trường Mầm non INDIA GRANDI</td>\n",
       "      <td>Nhóm B</td>\n",
       "      <td>Dự án đầu tư</td>\n",
       "      <td>Ban Quản lý dự án đầu tư xây dựng khu vực quận...</td>\n",
       "      <td>Giáo dục - đào tạo</td>\n",
       "      <td>None</td>\n",
       "      <td>None</td>\n",
       "      <td>Quận Thủ Đức</td>\n",
       "      <td>None</td>\n",
       "      <td>53843</td>\n",
       "      <td>None</td>\n",
       "      <td>None</td>\n",
       "      <td>2016</td>\n",
       "      <td>2018</td>\n",
       "      <td>None</td>\n",
       "      <td>None</td>\n",
       "      <td>None</td>\n",
       "    </tr>\n",
       "    <tr>\n",
       "      <th>6911</th>\n",
       "      <td>VX.12.0156</td>\n",
       "      <td>Xây dựng Trường mầm non khu chế xuất Linh Trung 1</td>\n",
       "      <td>Nhóm C</td>\n",
       "      <td>Dự án đầu tư</td>\n",
       "      <td>Ban Quản lý dự án đầu tư xây dựng khu vực quận...</td>\n",
       "      <td>Giáo dục - đào tạo</td>\n",
       "      <td>None</td>\n",
       "      <td>None</td>\n",
       "      <td>Quận Thủ Đức</td>\n",
       "      <td>None</td>\n",
       "      <td>40636</td>\n",
       "      <td>None</td>\n",
       "      <td>None</td>\n",
       "      <td>2016</td>\n",
       "      <td>2018</td>\n",
       "      <td>None</td>\n",
       "      <td>None</td>\n",
       "      <td>None</td>\n",
       "    </tr>\n",
       "    <tr>\n",
       "      <th>6912</th>\n",
       "      <td>VX.12.0155</td>\n",
       "      <td>Xây dựng Trường Mầm non Tân Thới Nhất</td>\n",
       "      <td>Nhóm C</td>\n",
       "      <td>Dự án đầu tư</td>\n",
       "      <td>Ban Quản lý dự án đầu tư xây dựng khu vực quận 12</td>\n",
       "      <td>Giáo dục - đào tạo</td>\n",
       "      <td>None</td>\n",
       "      <td>None</td>\n",
       "      <td>Quận 12</td>\n",
       "      <td>Vốn đầu tư từ cân đối ngân sách địa phương của...</td>\n",
       "      <td>37273</td>\n",
       "      <td>None</td>\n",
       "      <td>None</td>\n",
       "      <td>2016</td>\n",
       "      <td>2018</td>\n",
       "      <td>None</td>\n",
       "      <td>None</td>\n",
       "      <td>None</td>\n",
       "    </tr>\n",
       "    <tr>\n",
       "      <th>6913</th>\n",
       "      <td>VX.12.0154</td>\n",
       "      <td>Xây dựng Trường Mầm non Hiệp Thành</td>\n",
       "      <td>Nhóm B</td>\n",
       "      <td>Dự án đầu tư</td>\n",
       "      <td>Ban Quản lý dự án đầu tư xây dựng khu vực quận 12</td>\n",
       "      <td>Giáo dục - đào tạo</td>\n",
       "      <td>None</td>\n",
       "      <td>None</td>\n",
       "      <td>Quận 12</td>\n",
       "      <td>Vốn đầu tư từ cân đối ngân sách địa phương của...</td>\n",
       "      <td>56873</td>\n",
       "      <td>None</td>\n",
       "      <td>None</td>\n",
       "      <td>2016</td>\n",
       "      <td>2018</td>\n",
       "      <td>None</td>\n",
       "      <td>None</td>\n",
       "      <td>None</td>\n",
       "    </tr>\n",
       "    <tr>\n",
       "      <th>6914</th>\n",
       "      <td>VX.12.0153</td>\n",
       "      <td>Xây dựng trường mầm non Đông Hưng Thuận</td>\n",
       "      <td>Nhóm B</td>\n",
       "      <td>Dự án đầu tư</td>\n",
       "      <td>Ban Quản lý dự án đầu tư xây dựng khu vực quận 12</td>\n",
       "      <td>Giáo dục - đào tạo</td>\n",
       "      <td>None</td>\n",
       "      <td>None</td>\n",
       "      <td>Quận 12</td>\n",
       "      <td>None</td>\n",
       "      <td>53083</td>\n",
       "      <td>None</td>\n",
       "      <td>None</td>\n",
       "      <td>2016</td>\n",
       "      <td>2018</td>\n",
       "      <td>None</td>\n",
       "      <td>None</td>\n",
       "      <td>None</td>\n",
       "    </tr>\n",
       "    <tr>\n",
       "      <th>6915</th>\n",
       "      <td>VX.12.0152</td>\n",
       "      <td>Xây dựng mới Trường mẫu giáo Sơn Ca 3</td>\n",
       "      <td>Nhóm B</td>\n",
       "      <td>Dự án đầu tư</td>\n",
       "      <td>Ban quản lý đầu tư xây dựng công trình huyện H...</td>\n",
       "      <td>Giáo dục - đào tạo</td>\n",
       "      <td>None</td>\n",
       "      <td>None</td>\n",
       "      <td>Huyện Hóc Môn</td>\n",
       "      <td>None</td>\n",
       "      <td>49579</td>\n",
       "      <td>None</td>\n",
       "      <td>None</td>\n",
       "      <td>2016</td>\n",
       "      <td>2018</td>\n",
       "      <td>None</td>\n",
       "      <td>None</td>\n",
       "      <td>None</td>\n",
       "    </tr>\n",
       "    <tr>\n",
       "      <th>6916</th>\n",
       "      <td>VX.12.0151</td>\n",
       "      <td>Xây dựng trường mầm non Sơn Ca, huyện Hóc Môn</td>\n",
       "      <td>Nhóm B</td>\n",
       "      <td>Dự án đầu tư</td>\n",
       "      <td>Ban quản lý đầu tư xây dựng công trình huyện H...</td>\n",
       "      <td>Giáo dục - đào tạo</td>\n",
       "      <td>None</td>\n",
       "      <td>None</td>\n",
       "      <td>Huyện Hóc Môn</td>\n",
       "      <td>None</td>\n",
       "      <td>56475</td>\n",
       "      <td>None</td>\n",
       "      <td>None</td>\n",
       "      <td>2016</td>\n",
       "      <td>2018</td>\n",
       "      <td>None</td>\n",
       "      <td>None</td>\n",
       "      <td>None</td>\n",
       "    </tr>\n",
       "    <tr>\n",
       "      <th>6917</th>\n",
       "      <td>VX.12.0150</td>\n",
       "      <td>Xây dựng trường mầm non Bông Sen, huyện Hóc Môn</td>\n",
       "      <td>Nhóm B</td>\n",
       "      <td>Dự án đầu tư</td>\n",
       "      <td>Ban quản lý đầu tư xây dựng công trình huyện H...</td>\n",
       "      <td>Giáo dục - đào tạo</td>\n",
       "      <td>None</td>\n",
       "      <td>None</td>\n",
       "      <td>Huyện Hóc Môn</td>\n",
       "      <td>None</td>\n",
       "      <td>47815</td>\n",
       "      <td>None</td>\n",
       "      <td>None</td>\n",
       "      <td>2016</td>\n",
       "      <td>2018</td>\n",
       "      <td>None</td>\n",
       "      <td>None</td>\n",
       "      <td>None</td>\n",
       "    </tr>\n",
       "  </tbody>\n",
       "</table>\n",
       "</div>"
      ],
      "text/plain": [
       "          MaDuAn                                            TenDuAn NhomDuAn  \\\n",
       "6909  VX.12.0158  Xây dựng Trường mầm non khu chế xuất Linh Trung 2   Nhóm B   \n",
       "6910  VX.12.0157               Xây dựng trường Mầm non INDIA GRANDI   Nhóm B   \n",
       "6911  VX.12.0156  Xây dựng Trường mầm non khu chế xuất Linh Trung 1   Nhóm C   \n",
       "6912  VX.12.0155              Xây dựng Trường Mầm non Tân Thới Nhất   Nhóm C   \n",
       "6913  VX.12.0154                 Xây dựng Trường Mầm non Hiệp Thành   Nhóm B   \n",
       "6914  VX.12.0153            Xây dựng trường mầm non Đông Hưng Thuận   Nhóm B   \n",
       "6915  VX.12.0152              Xây dựng mới Trường mẫu giáo Sơn Ca 3   Nhóm B   \n",
       "6916  VX.12.0151      Xây dựng trường mầm non Sơn Ca, huyện Hóc Môn   Nhóm B   \n",
       "6917  VX.12.0150    Xây dựng trường mầm non Bông Sen, huyện Hóc Môn   Nhóm B   \n",
       "\n",
       "          LoaiDuAn                                           ChuDauTu  \\\n",
       "6909  Dự án đầu tư  Ban Quản lý dự án đầu tư xây dựng khu vực quận...   \n",
       "6910  Dự án đầu tư  Ban Quản lý dự án đầu tư xây dựng khu vực quận...   \n",
       "6911  Dự án đầu tư  Ban Quản lý dự án đầu tư xây dựng khu vực quận...   \n",
       "6912  Dự án đầu tư  Ban Quản lý dự án đầu tư xây dựng khu vực quận 12   \n",
       "6913  Dự án đầu tư  Ban Quản lý dự án đầu tư xây dựng khu vực quận 12   \n",
       "6914  Dự án đầu tư  Ban Quản lý dự án đầu tư xây dựng khu vực quận 12   \n",
       "6915  Dự án đầu tư  Ban quản lý đầu tư xây dựng công trình huyện H...   \n",
       "6916  Dự án đầu tư  Ban quản lý đầu tư xây dựng công trình huyện H...   \n",
       "6917  Dự án đầu tư  Ban quản lý đầu tư xây dựng công trình huyện H...   \n",
       "\n",
       "                 LinhVuc SuCanThietDauTu MucTieuDauTu   DiaDiemDauTu  \\\n",
       "6909  Giáo dục - đào tạo            None         None   Quận Thủ Đức   \n",
       "6910  Giáo dục - đào tạo            None         None   Quận Thủ Đức   \n",
       "6911  Giáo dục - đào tạo            None         None   Quận Thủ Đức   \n",
       "6912  Giáo dục - đào tạo            None         None        Quận 12   \n",
       "6913  Giáo dục - đào tạo            None         None        Quận 12   \n",
       "6914  Giáo dục - đào tạo            None         None        Quận 12   \n",
       "6915  Giáo dục - đào tạo            None         None  Huyện Hóc Môn   \n",
       "6916  Giáo dục - đào tạo            None         None  Huyện Hóc Môn   \n",
       "6917  Giáo dục - đào tạo            None         None  Huyện Hóc Môn   \n",
       "\n",
       "                                            TenNguonVon  TongMucDauTu  \\\n",
       "6909                                               None         61690   \n",
       "6910                                               None         53843   \n",
       "6911                                               None         40636   \n",
       "6912  Vốn đầu tư từ cân đối ngân sách địa phương của...         37273   \n",
       "6913  Vốn đầu tư từ cân đối ngân sách địa phương của...         56873   \n",
       "6914                                               None         53083   \n",
       "6915                                               None         49579   \n",
       "6916                                               None         56475   \n",
       "6917                                               None         47815   \n",
       "\n",
       "     TongMucChuTruongDauTu NamDangKy NamKhoiCong NamHoanThanh  \\\n",
       "6909                  None      None        2016         2018   \n",
       "6910                  None      None        2016         2018   \n",
       "6911                  None      None        2016         2018   \n",
       "6912                  None      None        2016         2018   \n",
       "6913                  None      None        2016         2018   \n",
       "6914                  None      None        2016         2018   \n",
       "6915                  None      None        2016         2018   \n",
       "6916                  None      None        2016         2018   \n",
       "6917                  None      None        2016         2018   \n",
       "\n",
       "     ThoiGianThucHien NgayHoanThanhDA NgayGiaiNganDauTien  \n",
       "6909             None            None                None  \n",
       "6910             None            None                None  \n",
       "6911             None            None                None  \n",
       "6912             None            None                None  \n",
       "6913             None            None                None  \n",
       "6914             None            None                None  \n",
       "6915             None            None                None  \n",
       "6916             None            None                None  \n",
       "6917             None            None                None  "
      ]
     },
     "execution_count": 13,
     "metadata": {},
     "output_type": "execute_result"
    }
   ],
   "source": [
    "# kiểm tra các dự án có năm đăng ký = None\n",
    "q[q.NamDangKy=='None']"
   ]
  },
  {
   "cell_type": "markdown",
   "id": "c9734295",
   "metadata": {},
   "source": [
    "- Các dự án tuy có năm đăng ký ='None' nhưng đều có năm khởi công và năm hoàn thành.\n",
    "- Nên giả thiết có thể nhập liệu thiếu thông tin năm đăng ký và không thể loại khỏi dataset. \n",
    "- Về việc năm đăng ký bị trống, ta sẽ thay bằng số mod (2016). Vì '2016' có giá trị nhiều nhất trong cột Năm Đăng Ký"
   ]
  },
  {
   "cell_type": "code",
   "execution_count": 14,
   "id": "276d284b",
   "metadata": {
    "scrolled": true
   },
   "outputs": [],
   "source": [
    "# thay các ô có chứa giá trị 'None' bằng '2016'\n",
    "q.NamDangKy.replace('None','2016',inplace=True)"
   ]
  },
  {
   "cell_type": "markdown",
   "id": "0564ad31",
   "metadata": {},
   "source": [
    "Kiểm tra các giá trị trong cột Năm hoàn thành"
   ]
  },
  {
   "cell_type": "code",
   "execution_count": 15,
   "id": "6accde14",
   "metadata": {},
   "outputs": [
    {
     "data": {
      "text/plain": [
       "2019    594\n",
       "2020    585\n",
       "2018    564\n",
       "2017    199\n",
       "2021    162\n",
       "2016    146\n",
       "2022    143\n",
       "2015     51\n",
       "2014     32\n",
       "2013     16\n",
       "2023      9\n",
       "2012      7\n",
       "2025      6\n",
       "2009      6\n",
       "2010      5\n",
       "2011      4\n",
       "None      3\n",
       "2024      2\n",
       "2002      2\n",
       "2044      1\n",
       "2028      1\n",
       "2008      1\n",
       "2007      1\n",
       "2006      1\n",
       "Name: NamHoanThanh, dtype: int64"
      ]
     },
     "execution_count": 15,
     "metadata": {},
     "output_type": "execute_result"
    }
   ],
   "source": [
    "# kiểm tra cột năm hoàn thành.\n",
    "q.NamHoanThanh.value_counts()"
   ]
  },
  {
   "cell_type": "markdown",
   "id": "47cbc489",
   "metadata": {},
   "source": [
    "Có 3 dự án có năm hoàn thành là 'None'"
   ]
  },
  {
   "cell_type": "code",
   "execution_count": 16,
   "id": "15150c95",
   "metadata": {},
   "outputs": [
    {
     "data": {
      "text/html": [
       "<div>\n",
       "<style scoped>\n",
       "    .dataframe tbody tr th:only-of-type {\n",
       "        vertical-align: middle;\n",
       "    }\n",
       "\n",
       "    .dataframe tbody tr th {\n",
       "        vertical-align: top;\n",
       "    }\n",
       "\n",
       "    .dataframe thead th {\n",
       "        text-align: right;\n",
       "    }\n",
       "</style>\n",
       "<table border=\"1\" class=\"dataframe\">\n",
       "  <thead>\n",
       "    <tr style=\"text-align: right;\">\n",
       "      <th></th>\n",
       "      <th>MaDuAn</th>\n",
       "      <th>TenDuAn</th>\n",
       "      <th>NhomDuAn</th>\n",
       "      <th>LoaiDuAn</th>\n",
       "      <th>ChuDauTu</th>\n",
       "      <th>LinhVuc</th>\n",
       "      <th>SuCanThietDauTu</th>\n",
       "      <th>MucTieuDauTu</th>\n",
       "      <th>DiaDiemDauTu</th>\n",
       "      <th>TenNguonVon</th>\n",
       "      <th>TongMucDauTu</th>\n",
       "      <th>TongMucChuTruongDauTu</th>\n",
       "      <th>NamDangKy</th>\n",
       "      <th>NamKhoiCong</th>\n",
       "      <th>NamHoanThanh</th>\n",
       "      <th>ThoiGianThucHien</th>\n",
       "      <th>NgayHoanThanhDA</th>\n",
       "      <th>NgayGiaiNganDauTien</th>\n",
       "    </tr>\n",
       "  </thead>\n",
       "  <tbody>\n",
       "    <tr>\n",
       "      <th>4250</th>\n",
       "      <td>TT.14.0072</td>\n",
       "      <td>Chương trình xây dựng Hệ thống thông tin quản ...</td>\n",
       "      <td>Nhóm C</td>\n",
       "      <td>Dự án đầu tư</td>\n",
       "      <td>Sở xây dựng</td>\n",
       "      <td>Công nghệ thông tin</td>\n",
       "      <td>TP.HCM là đô thị lớn và có tốc độ đô thị hóa n...</td>\n",
       "      <td>Xây dựng hệ thống thông tin về quản lý xây dựn...</td>\n",
       "      <td>Sở Xây dựng</td>\n",
       "      <td>None</td>\n",
       "      <td>73934</td>\n",
       "      <td>None</td>\n",
       "      <td>2016</td>\n",
       "      <td>None</td>\n",
       "      <td>None</td>\n",
       "      <td>None</td>\n",
       "      <td>None</td>\n",
       "      <td>None</td>\n",
       "    </tr>\n",
       "    <tr>\n",
       "      <th>4267</th>\n",
       "      <td>TT.14.0056</td>\n",
       "      <td>Nâng cấp hạ tầng CNTT tại Bệnh viện Đa Khoa Sà...</td>\n",
       "      <td>Nhóm C</td>\n",
       "      <td>Dự án đầu tư</td>\n",
       "      <td>Bệnh viện Đa khoa Sài Gòn</td>\n",
       "      <td>Công nghệ thông tin</td>\n",
       "      <td>Hệ thống mạng LAN được xây dựng qua nhiều thời...</td>\n",
       "      <td>Nhằm nâng cấp hạ tầng cntt tại Bệnh viện Đa Kh...</td>\n",
       "      <td>Bệnh viện Đa Khoa Sài Gòn</td>\n",
       "      <td>None</td>\n",
       "      <td>3800</td>\n",
       "      <td>None</td>\n",
       "      <td>2016</td>\n",
       "      <td>None</td>\n",
       "      <td>None</td>\n",
       "      <td>None</td>\n",
       "      <td>None</td>\n",
       "      <td>None</td>\n",
       "    </tr>\n",
       "    <tr>\n",
       "      <th>4273</th>\n",
       "      <td>TT.14.0065</td>\n",
       "      <td>Nâng cấp hạ tầng CNTT tại bệnh viện Từ Dũ</td>\n",
       "      <td>Nhóm C</td>\n",
       "      <td>Dự án đầu tư</td>\n",
       "      <td>Bệnh viện Từ Dũ</td>\n",
       "      <td>Công nghệ thông tin</td>\n",
       "      <td>Hiện nay, hệ thống mạng cáp quang kết nối khu ...</td>\n",
       "      <td>Đây là dự án đầu tư hệ thống mạng cáp quang mớ...</td>\n",
       "      <td>Bệnh viện Từ Dũ</td>\n",
       "      <td>None</td>\n",
       "      <td>8000</td>\n",
       "      <td>None</td>\n",
       "      <td>2016</td>\n",
       "      <td>None</td>\n",
       "      <td>None</td>\n",
       "      <td>None</td>\n",
       "      <td>None</td>\n",
       "      <td>None</td>\n",
       "    </tr>\n",
       "  </tbody>\n",
       "</table>\n",
       "</div>"
      ],
      "text/plain": [
       "          MaDuAn                                            TenDuAn NhomDuAn  \\\n",
       "4250  TT.14.0072  Chương trình xây dựng Hệ thống thông tin quản ...   Nhóm C   \n",
       "4267  TT.14.0056  Nâng cấp hạ tầng CNTT tại Bệnh viện Đa Khoa Sà...   Nhóm C   \n",
       "4273  TT.14.0065          Nâng cấp hạ tầng CNTT tại bệnh viện Từ Dũ   Nhóm C   \n",
       "\n",
       "          LoaiDuAn                   ChuDauTu              LinhVuc  \\\n",
       "4250  Dự án đầu tư                Sở xây dựng  Công nghệ thông tin   \n",
       "4267  Dự án đầu tư  Bệnh viện Đa khoa Sài Gòn  Công nghệ thông tin   \n",
       "4273  Dự án đầu tư            Bệnh viện Từ Dũ  Công nghệ thông tin   \n",
       "\n",
       "                                        SuCanThietDauTu  \\\n",
       "4250  TP.HCM là đô thị lớn và có tốc độ đô thị hóa n...   \n",
       "4267  Hệ thống mạng LAN được xây dựng qua nhiều thời...   \n",
       "4273  Hiện nay, hệ thống mạng cáp quang kết nối khu ...   \n",
       "\n",
       "                                           MucTieuDauTu  \\\n",
       "4250  Xây dựng hệ thống thông tin về quản lý xây dựn...   \n",
       "4267  Nhằm nâng cấp hạ tầng cntt tại Bệnh viện Đa Kh...   \n",
       "4273  Đây là dự án đầu tư hệ thống mạng cáp quang mớ...   \n",
       "\n",
       "                   DiaDiemDauTu TenNguonVon  TongMucDauTu  \\\n",
       "4250                Sở Xây dựng        None         73934   \n",
       "4267  Bệnh viện Đa Khoa Sài Gòn        None          3800   \n",
       "4273            Bệnh viện Từ Dũ        None          8000   \n",
       "\n",
       "     TongMucChuTruongDauTu NamDangKy NamKhoiCong NamHoanThanh  \\\n",
       "4250                  None      2016        None         None   \n",
       "4267                  None      2016        None         None   \n",
       "4273                  None      2016        None         None   \n",
       "\n",
       "     ThoiGianThucHien NgayHoanThanhDA NgayGiaiNganDauTien  \n",
       "4250             None            None                None  \n",
       "4267             None            None                None  \n",
       "4273             None            None                None  "
      ]
     },
     "execution_count": 16,
     "metadata": {},
     "output_type": "execute_result"
    }
   ],
   "source": [
    "# xem lại các dữ liệu có năm hoàn thành là 'None'\n",
    "q[q.NamHoanThanh=='None']"
   ]
  },
  {
   "cell_type": "markdown",
   "id": "310b1e26",
   "metadata": {},
   "source": [
    "3 dự án này vừa có năm khởi công là 'None' vừa có năm hoàn thành là 'None'. Ta đặt giả thiết là các dự án không thực hiện nữa và sẽ loại khỏi dataset"
   ]
  },
  {
   "cell_type": "code",
   "execution_count": 17,
   "id": "5c61c127",
   "metadata": {
    "scrolled": true
   },
   "outputs": [],
   "source": [
    "q=q[q.NamHoanThanh!='None']"
   ]
  },
  {
   "cell_type": "markdown",
   "id": "a4d484d8",
   "metadata": {},
   "source": [
    "### Vậy là ta đã hoàn thành xử lý tiền dữ liệu, đảm bảo rằng các dữ liệu trong dataset đều có thời gian đăng ký, khởi công và hoàn thành... Mục đích là để đảm bảo ta chỉ phân tích trên tệp dữ liệu chứa những dự án đã và đang thực hiện"
   ]
  },
  {
   "cell_type": "markdown",
   "id": "74fb4c6f",
   "metadata": {},
   "source": [
    "# C. PHÂN TÍCH DỮ LIỆU"
   ]
  },
  {
   "cell_type": "markdown",
   "id": "5e067a06",
   "metadata": {},
   "source": [
    "Các số liệu thống kê của tập dữ liệu"
   ]
  },
  {
   "cell_type": "code",
   "execution_count": 18,
   "id": "1d9bba3d",
   "metadata": {
    "scrolled": true
   },
   "outputs": [
    {
     "data": {
      "text/html": [
       "<div>\n",
       "<style scoped>\n",
       "    .dataframe tbody tr th:only-of-type {\n",
       "        vertical-align: middle;\n",
       "    }\n",
       "\n",
       "    .dataframe tbody tr th {\n",
       "        vertical-align: top;\n",
       "    }\n",
       "\n",
       "    .dataframe thead th {\n",
       "        text-align: right;\n",
       "    }\n",
       "</style>\n",
       "<table border=\"1\" class=\"dataframe\">\n",
       "  <thead>\n",
       "    <tr style=\"text-align: right;\">\n",
       "      <th></th>\n",
       "      <th>TongMucDauTu</th>\n",
       "    </tr>\n",
       "  </thead>\n",
       "  <tbody>\n",
       "    <tr>\n",
       "      <th>count</th>\n",
       "      <td>2.538000e+03</td>\n",
       "    </tr>\n",
       "    <tr>\n",
       "      <th>mean</th>\n",
       "      <td>3.744840e+05</td>\n",
       "    </tr>\n",
       "    <tr>\n",
       "      <th>std</th>\n",
       "      <td>2.473066e+06</td>\n",
       "    </tr>\n",
       "    <tr>\n",
       "      <th>min</th>\n",
       "      <td>0.000000e+00</td>\n",
       "    </tr>\n",
       "    <tr>\n",
       "      <th>25%</th>\n",
       "      <td>3.750750e+04</td>\n",
       "    </tr>\n",
       "    <tr>\n",
       "      <th>50%</th>\n",
       "      <td>7.642150e+04</td>\n",
       "    </tr>\n",
       "    <tr>\n",
       "      <th>75%</th>\n",
       "      <td>1.911252e+05</td>\n",
       "    </tr>\n",
       "    <tr>\n",
       "      <th>max</th>\n",
       "      <td>1.056000e+08</td>\n",
       "    </tr>\n",
       "  </tbody>\n",
       "</table>\n",
       "</div>"
      ],
      "text/plain": [
       "       TongMucDauTu\n",
       "count  2.538000e+03\n",
       "mean   3.744840e+05\n",
       "std    2.473066e+06\n",
       "min    0.000000e+00\n",
       "25%    3.750750e+04\n",
       "50%    7.642150e+04\n",
       "75%    1.911252e+05\n",
       "max    1.056000e+08"
      ]
     },
     "execution_count": 18,
     "metadata": {},
     "output_type": "execute_result"
    }
   ],
   "source": [
    "q.describe()"
   ]
  },
  {
   "cell_type": "markdown",
   "id": "e0e0d3e4",
   "metadata": {},
   "source": [
    "## 1. Tổng mức đầu tư qua các năm"
   ]
  },
  {
   "cell_type": "code",
   "execution_count": 72,
   "id": "ff7bf694",
   "metadata": {
    "scrolled": true
   },
   "outputs": [
    {
     "data": {
      "text/html": [
       "<div>\n",
       "<style scoped>\n",
       "    .dataframe tbody tr th:only-of-type {\n",
       "        vertical-align: middle;\n",
       "    }\n",
       "\n",
       "    .dataframe tbody tr th {\n",
       "        vertical-align: top;\n",
       "    }\n",
       "\n",
       "    .dataframe thead th {\n",
       "        text-align: right;\n",
       "    }\n",
       "</style>\n",
       "<table border=\"1\" class=\"dataframe\">\n",
       "  <thead>\n",
       "    <tr style=\"text-align: right;\">\n",
       "      <th></th>\n",
       "      <th>NamKhoiCong</th>\n",
       "      <th>TongMucDauTu</th>\n",
       "    </tr>\n",
       "  </thead>\n",
       "  <tbody>\n",
       "    <tr>\n",
       "      <th>0</th>\n",
       "      <td>2016</td>\n",
       "      <td>509575669</td>\n",
       "    </tr>\n",
       "    <tr>\n",
       "      <th>1</th>\n",
       "      <td>2017</td>\n",
       "      <td>131369337</td>\n",
       "    </tr>\n",
       "    <tr>\n",
       "      <th>2</th>\n",
       "      <td>2018</td>\n",
       "      <td>72252383</td>\n",
       "    </tr>\n",
       "    <tr>\n",
       "      <th>3</th>\n",
       "      <td>2015</td>\n",
       "      <td>69716514</td>\n",
       "    </tr>\n",
       "    <tr>\n",
       "      <th>4</th>\n",
       "      <td>2019</td>\n",
       "      <td>38268482</td>\n",
       "    </tr>\n",
       "    <tr>\n",
       "      <th>5</th>\n",
       "      <td>2008</td>\n",
       "      <td>31952100</td>\n",
       "    </tr>\n",
       "    <tr>\n",
       "      <th>6</th>\n",
       "      <td>2009</td>\n",
       "      <td>16454505</td>\n",
       "    </tr>\n",
       "    <tr>\n",
       "      <th>7</th>\n",
       "      <td>2012</td>\n",
       "      <td>13641353</td>\n",
       "    </tr>\n",
       "    <tr>\n",
       "      <th>8</th>\n",
       "      <td>2004</td>\n",
       "      <td>11344271</td>\n",
       "    </tr>\n",
       "    <tr>\n",
       "      <th>9</th>\n",
       "      <td>2014</td>\n",
       "      <td>9038101</td>\n",
       "    </tr>\n",
       "    <tr>\n",
       "      <th>10</th>\n",
       "      <td>2010</td>\n",
       "      <td>7295413</td>\n",
       "    </tr>\n",
       "    <tr>\n",
       "      <th>11</th>\n",
       "      <td>2011</td>\n",
       "      <td>7231904</td>\n",
       "    </tr>\n",
       "    <tr>\n",
       "      <th>12</th>\n",
       "      <td>2013</td>\n",
       "      <td>6570044</td>\n",
       "    </tr>\n",
       "    <tr>\n",
       "      <th>13</th>\n",
       "      <td>2005</td>\n",
       "      <td>6314689</td>\n",
       "    </tr>\n",
       "    <tr>\n",
       "      <th>14</th>\n",
       "      <td>2002</td>\n",
       "      <td>6270623</td>\n",
       "    </tr>\n",
       "    <tr>\n",
       "      <th>15</th>\n",
       "      <td>2007</td>\n",
       "      <td>4894738</td>\n",
       "    </tr>\n",
       "    <tr>\n",
       "      <th>16</th>\n",
       "      <td>2003</td>\n",
       "      <td>4484000</td>\n",
       "    </tr>\n",
       "    <tr>\n",
       "      <th>17</th>\n",
       "      <td>2025</td>\n",
       "      <td>1470000</td>\n",
       "    </tr>\n",
       "    <tr>\n",
       "      <th>18</th>\n",
       "      <td>2020</td>\n",
       "      <td>1302920</td>\n",
       "    </tr>\n",
       "    <tr>\n",
       "      <th>19</th>\n",
       "      <td>2001</td>\n",
       "      <td>454847</td>\n",
       "    </tr>\n",
       "    <tr>\n",
       "      <th>20</th>\n",
       "      <td>1999</td>\n",
       "      <td>249053</td>\n",
       "    </tr>\n",
       "    <tr>\n",
       "      <th>21</th>\n",
       "      <td>2006</td>\n",
       "      <td>244931</td>\n",
       "    </tr>\n",
       "    <tr>\n",
       "      <th>22</th>\n",
       "      <td>1998</td>\n",
       "      <td>42000</td>\n",
       "    </tr>\n",
       "    <tr>\n",
       "      <th>23</th>\n",
       "      <td>2021</td>\n",
       "      <td>2500</td>\n",
       "    </tr>\n",
       "  </tbody>\n",
       "</table>\n",
       "</div>"
      ],
      "text/plain": [
       "   NamKhoiCong  TongMucDauTu\n",
       "0         2016     509575669\n",
       "1         2017     131369337\n",
       "2         2018      72252383\n",
       "3         2015      69716514\n",
       "4         2019      38268482\n",
       "5         2008      31952100\n",
       "6         2009      16454505\n",
       "7         2012      13641353\n",
       "8         2004      11344271\n",
       "9         2014       9038101\n",
       "10        2010       7295413\n",
       "11        2011       7231904\n",
       "12        2013       6570044\n",
       "13        2005       6314689\n",
       "14        2002       6270623\n",
       "15        2007       4894738\n",
       "16        2003       4484000\n",
       "17        2025       1470000\n",
       "18        2020       1302920\n",
       "19        2001        454847\n",
       "20        1999        249053\n",
       "21        2006        244931\n",
       "22        1998         42000\n",
       "23        2021          2500"
      ]
     },
     "execution_count": 72,
     "metadata": {},
     "output_type": "execute_result"
    }
   ],
   "source": [
    "q.groupby('NamKhoiCong').TongMucDauTu.sum().sort_values(ascending=False).reset_index(name='TongMucDauTu')"
   ]
  },
  {
   "cell_type": "markdown",
   "id": "41e743c0",
   "metadata": {},
   "source": [
    "### ĐỒ THỊ TỔNG MỨC ĐẦU TƯ CỦA CÁC DỰ ÁN KHỞI CÔNG TẠI CÁC NĂM"
   ]
  },
  {
   "cell_type": "code",
   "execution_count": 73,
   "id": "5d293b1b",
   "metadata": {},
   "outputs": [
    {
     "data": {
      "image/png": "[encoded data removed]",
      "text/plain": [
       "<Figure size 1000x400 with 1 Axes>"
      ]
     },
     "metadata": {},
     "output_type": "display_data"
    }
   ],
   "source": [
    "# Các dự án đầu tư được khởi công theo từng năm của tệp dữ liệu trên\n",
    "q.groupby('NamKhoiCong').TongMucDauTu.sum().plot(kind='bar',ylabel='Tổng Mức Đầu Tư',\n",
    "                                                 title='TỔNG MỨC ĐẦU TƯ CỦA CÁC DỰ ÁN KHỞI CÔNG TẠI CÁC NĂM',\n",
    "                                                figsize=(10,4),grid=True)\n",
    "plt.show()"
   ]
  },
  {
   "cell_type": "markdown",
   "id": "c7018f68",
   "metadata": {},
   "source": [
    "=> Năm 2016 là năm có tổng mức đầu tư của các dự án được khởi công cao nhất. \n",
    "### 1.1 Các dự án khởi công trong năm 2016 có năm hoàn thành khi nào?"
   ]
  },
  {
   "cell_type": "code",
   "execution_count": 20,
   "id": "8cb64055",
   "metadata": {},
   "outputs": [
    {
     "data": {
      "text/plain": [
       "2018    470\n",
       "2019    227\n",
       "2020    146\n",
       "2017    102\n",
       "2021     15\n",
       "2016      3\n",
       "2044      1\n",
       "Name: NamHoanThanh, dtype: int64"
      ]
     },
     "execution_count": 20,
     "metadata": {},
     "output_type": "execute_result"
    }
   ],
   "source": [
    "q[q.NamKhoiCong=='2016'].NamHoanThanh.value_counts()\n",
    "# Có khoảng 470 dự án khởi công trong năm 2016 sẽ hoàn thành trong năm 2018."
   ]
  },
  {
   "cell_type": "markdown",
   "id": "1b978255",
   "metadata": {},
   "source": [
    "### 1.2 Tổng mức đầu tư dự án vào những lĩnh vực nào cao nhất?"
   ]
  },
  {
   "cell_type": "code",
   "execution_count": 21,
   "id": "c9e3ef70",
   "metadata": {
    "scrolled": true
   },
   "outputs": [
    {
     "data": {
      "text/html": [
       "<div>\n",
       "<style scoped>\n",
       "    .dataframe tbody tr th:only-of-type {\n",
       "        vertical-align: middle;\n",
       "    }\n",
       "\n",
       "    .dataframe tbody tr th {\n",
       "        vertical-align: top;\n",
       "    }\n",
       "\n",
       "    .dataframe thead th {\n",
       "        text-align: right;\n",
       "    }\n",
       "</style>\n",
       "<table border=\"1\" class=\"dataframe\">\n",
       "  <thead>\n",
       "    <tr style=\"text-align: right;\">\n",
       "      <th></th>\n",
       "      <th>LinhVuc</th>\n",
       "      <th>TongMucDauTu</th>\n",
       "    </tr>\n",
       "  </thead>\n",
       "  <tbody>\n",
       "    <tr>\n",
       "      <th>4</th>\n",
       "      <td>Chương trình giảm ùn tắc giao thông, giảm tai ...</td>\n",
       "      <td>248247732</td>\n",
       "    </tr>\n",
       "    <tr>\n",
       "      <th>8</th>\n",
       "      <td>Dự án khác</td>\n",
       "      <td>42205011</td>\n",
       "    </tr>\n",
       "    <tr>\n",
       "      <th>2</th>\n",
       "      <td>Chương trình giảm ô nhiễm môi trường</td>\n",
       "      <td>36418544</td>\n",
       "    </tr>\n",
       "    <tr>\n",
       "      <th>21</th>\n",
       "      <td>Đầu tư cho giao thông</td>\n",
       "      <td>31832166</td>\n",
       "    </tr>\n",
       "    <tr>\n",
       "      <th>3</th>\n",
       "      <td>Chương trình giảm ngập nước</td>\n",
       "      <td>29215763</td>\n",
       "    </tr>\n",
       "    <tr>\n",
       "      <th>17</th>\n",
       "      <td>Văn hóa, thể thao và xã hội</td>\n",
       "      <td>23685512</td>\n",
       "    </tr>\n",
       "    <tr>\n",
       "      <th>7</th>\n",
       "      <td>Cấp nước sạch</td>\n",
       "      <td>22058900</td>\n",
       "    </tr>\n",
       "    <tr>\n",
       "      <th>10</th>\n",
       "      <td>Giáo dục - đào tạo</td>\n",
       "      <td>16193256</td>\n",
       "    </tr>\n",
       "    <tr>\n",
       "      <th>20</th>\n",
       "      <td>Y Tế</td>\n",
       "      <td>15987489</td>\n",
       "    </tr>\n",
       "    <tr>\n",
       "      <th>1</th>\n",
       "      <td>Chương trình chỉnh trang và phát triển đô thị</td>\n",
       "      <td>9527000</td>\n",
       "    </tr>\n",
       "    <tr>\n",
       "      <th>6</th>\n",
       "      <td>Công nghệ thông tin</td>\n",
       "      <td>6551552</td>\n",
       "    </tr>\n",
       "    <tr>\n",
       "      <th>16</th>\n",
       "      <td>Thủy lợi, phòng chống lụt bão</td>\n",
       "      <td>6110187</td>\n",
       "    </tr>\n",
       "    <tr>\n",
       "      <th>0</th>\n",
       "      <td>An ninh quốc phòng</td>\n",
       "      <td>5951732</td>\n",
       "    </tr>\n",
       "    <tr>\n",
       "      <th>18</th>\n",
       "      <td>Xây dựng nhà ở xã hội, tái định cư</td>\n",
       "      <td>4145325</td>\n",
       "    </tr>\n",
       "    <tr>\n",
       "      <th>19</th>\n",
       "      <td>Xây dựng trụ sở cơ quan</td>\n",
       "      <td>4134370</td>\n",
       "    </tr>\n",
       "    <tr>\n",
       "      <th>12</th>\n",
       "      <td>Khoa học - công nghệ</td>\n",
       "      <td>3813697</td>\n",
       "    </tr>\n",
       "    <tr>\n",
       "      <th>15</th>\n",
       "      <td>Nông nghiệp</td>\n",
       "      <td>1585913</td>\n",
       "    </tr>\n",
       "    <tr>\n",
       "      <th>11</th>\n",
       "      <td>Hạ Tầng</td>\n",
       "      <td>718692</td>\n",
       "    </tr>\n",
       "    <tr>\n",
       "      <th>5</th>\n",
       "      <td>Chương trình nâng cao chất lượng tăng trưởng, ...</td>\n",
       "      <td>644900</td>\n",
       "    </tr>\n",
       "    <tr>\n",
       "      <th>9</th>\n",
       "      <td>Dự án ngành điện</td>\n",
       "      <td>366941</td>\n",
       "    </tr>\n",
       "    <tr>\n",
       "      <th>14</th>\n",
       "      <td>None</td>\n",
       "      <td>114469</td>\n",
       "    </tr>\n",
       "    <tr>\n",
       "      <th>13</th>\n",
       "      <td>Môi trường</td>\n",
       "      <td>66518</td>\n",
       "    </tr>\n",
       "  </tbody>\n",
       "</table>\n",
       "</div>"
      ],
      "text/plain": [
       "                                              LinhVuc  TongMucDauTu\n",
       "4   Chương trình giảm ùn tắc giao thông, giảm tai ...     248247732\n",
       "8                                          Dự án khác      42205011\n",
       "2            Chương trình giảm ô nhiễm môi trường      36418544\n",
       "21                              Đầu tư cho giao thông      31832166\n",
       "3                         Chương trình giảm ngập nước      29215763\n",
       "17                        Văn hóa, thể thao và xã hội      23685512\n",
       "7                                       Cấp nước sạch      22058900\n",
       "10                                 Giáo dục - đào tạo      16193256\n",
       "20                                               Y Tế      15987489\n",
       "1      Chương trình chỉnh trang và phát triển đô thị       9527000\n",
       "6                                 Công nghệ thông tin       6551552\n",
       "16                      Thủy lợi, phòng chống lụt bão       6110187\n",
       "0                                  An ninh quốc phòng       5951732\n",
       "18                 Xây dựng nhà ở xã hội, tái định cư       4145325\n",
       "19                            Xây dựng trụ sở cơ quan       4134370\n",
       "12                               Khoa học - công nghệ       3813697\n",
       "15                                        Nông nghiệp       1585913\n",
       "11                                            Hạ Tầng        718692\n",
       "5   Chương trình nâng cao chất lượng tăng trưởng, ...        644900\n",
       "9                                    Dự án ngành điện        366941\n",
       "14                                               None        114469\n",
       "13                                        Môi trường          66518"
      ]
     },
     "execution_count": 21,
     "metadata": {},
     "output_type": "execute_result"
    }
   ],
   "source": [
    "q[q.NamKhoiCong=='2016'].groupby('LinhVuc').TongMucDauTu.sum().reset_index().sort_values(by='TongMucDauTu',ascending=False)"
   ]
  },
  {
   "cell_type": "markdown",
   "id": "0af7c14b",
   "metadata": {},
   "source": [
    "=> Tổng mức đầu tư của các dự án vào 'Chương trình giảm ùn tắc giao thông, giảm tai nạn giao thông' là lớn nhất"
   ]
  },
  {
   "cell_type": "markdown",
   "id": "77d4ca08",
   "metadata": {},
   "source": [
    "### 1.3 Top 5 dự án có tổng mức đầu tư cao nhất trong lĩnh vực 'Chương trình giảm ùn tắc giao thông, giảm tai nạn giao thông' khởi công năm 2016"
   ]
  },
  {
   "cell_type": "code",
   "execution_count": 22,
   "id": "6466d6bc",
   "metadata": {
    "scrolled": true
   },
   "outputs": [
    {
     "data": {
      "text/plain": [
       "array(['Tuyến Metro số 4 và 4B',\n",
       "       'Đường trên cao tuyến số 5 (đoạn từ nút giao trạm 2 đến nút giao An Sương)',\n",
       "       'Tuyến xe điện mặt đất số 1', 'Nút giao thông An Phú, quận 2',\n",
       "       'Quốc lộ 22 (đường Xuyên Á)'], dtype=object)"
      ]
     },
     "execution_count": 22,
     "metadata": {},
     "output_type": "execute_result"
    }
   ],
   "source": [
    "q[(q.LinhVuc=='Chương trình giảm ùn tắc giao thông, giảm tai nạn giao thông')&(q.NamKhoiCong=='2016')].sort_values(by='TongMucDauTu',ascending=False).head(5).TenDuAn.values"
   ]
  },
  {
   "cell_type": "markdown",
   "id": "d9d1128f",
   "metadata": {},
   "source": [
    "Chi tiết 5 dự án lớn trong lĩnh vực này khởi công năm 2016 (Tên Dự Án, Tổng Mức Đầu Tư, Năm Đăng Ký, Năm Khởi Công, Năm Hoàn Thành)"
   ]
  },
  {
   "cell_type": "code",
   "execution_count": 23,
   "id": "e5f3c7db",
   "metadata": {},
   "outputs": [
    {
     "data": {
      "text/html": [
       "<div>\n",
       "<style scoped>\n",
       "    .dataframe tbody tr th:only-of-type {\n",
       "        vertical-align: middle;\n",
       "    }\n",
       "\n",
       "    .dataframe tbody tr th {\n",
       "        vertical-align: top;\n",
       "    }\n",
       "\n",
       "    .dataframe thead th {\n",
       "        text-align: right;\n",
       "    }\n",
       "</style>\n",
       "<table border=\"1\" class=\"dataframe\">\n",
       "  <thead>\n",
       "    <tr style=\"text-align: right;\">\n",
       "      <th></th>\n",
       "      <th>TenDuAn</th>\n",
       "      <th>TongMucDauTu</th>\n",
       "      <th>NamDangKy</th>\n",
       "      <th>NamKhoiCong</th>\n",
       "      <th>NamHoanThanh</th>\n",
       "    </tr>\n",
       "  </thead>\n",
       "  <tbody>\n",
       "    <tr>\n",
       "      <th>7154</th>\n",
       "      <td>Tuyến Metro số 4 và 4B</td>\n",
       "      <td>105600000</td>\n",
       "      <td>2016</td>\n",
       "      <td>2016</td>\n",
       "      <td>2019</td>\n",
       "    </tr>\n",
       "    <tr>\n",
       "      <th>7160</th>\n",
       "      <td>Đường trên cao tuyến số 5 (đoạn từ nút giao tr...</td>\n",
       "      <td>15405000</td>\n",
       "      <td>2016</td>\n",
       "      <td>2016</td>\n",
       "      <td>2019</td>\n",
       "    </tr>\n",
       "    <tr>\n",
       "      <th>7155</th>\n",
       "      <td>Tuyến xe điện mặt đất số 1</td>\n",
       "      <td>12500000</td>\n",
       "      <td>2016</td>\n",
       "      <td>2016</td>\n",
       "      <td>2019</td>\n",
       "    </tr>\n",
       "    <tr>\n",
       "      <th>7180</th>\n",
       "      <td>Nút giao thông An Phú, quận 2</td>\n",
       "      <td>7000000</td>\n",
       "      <td>2016</td>\n",
       "      <td>2016</td>\n",
       "      <td>2019</td>\n",
       "    </tr>\n",
       "    <tr>\n",
       "      <th>7167</th>\n",
       "      <td>Quốc lộ 22 (đường Xuyên Á)</td>\n",
       "      <td>6500000</td>\n",
       "      <td>2016</td>\n",
       "      <td>2016</td>\n",
       "      <td>2019</td>\n",
       "    </tr>\n",
       "    <tr>\n",
       "      <th>7186</th>\n",
       "      <td>Dự án xây dựng cầu Bình Quới – Thủ Đức...</td>\n",
       "      <td>6500000</td>\n",
       "      <td>2016</td>\n",
       "      <td>2016</td>\n",
       "      <td>2020</td>\n",
       "    </tr>\n",
       "  </tbody>\n",
       "</table>\n",
       "</div>"
      ],
      "text/plain": [
       "                                                TenDuAn  TongMucDauTu  \\\n",
       "7154                             Tuyến Metro số 4 và 4B     105600000   \n",
       "7160  Đường trên cao tuyến số 5 (đoạn từ nút giao tr...      15405000   \n",
       "7155                         Tuyến xe điện mặt đất số 1      12500000   \n",
       "7180                      Nút giao thông An Phú, quận 2       7000000   \n",
       "7167                         Quốc lộ 22 (đường Xuyên Á)       6500000   \n",
       "7186  Dự án xây dựng cầu Bình Quới – Thủ Đức...       6500000   \n",
       "\n",
       "     NamDangKy NamKhoiCong NamHoanThanh  \n",
       "7154      2016        2016         2019  \n",
       "7160      2016        2016         2019  \n",
       "7155      2016        2016         2019  \n",
       "7180      2016        2016         2019  \n",
       "7167      2016        2016         2019  \n",
       "7186      2016        2016         2020  "
      ]
     },
     "execution_count": 23,
     "metadata": {},
     "output_type": "execute_result"
    }
   ],
   "source": [
    "q[(q.LinhVuc=='Chương trình giảm ùn tắc giao thông, giảm tai nạn giao thông')&(q.NamKhoiCong=='2016')].sort_values(by='TongMucDauTu',ascending=False).iloc[0:6,[1,10,12,13,14]]"
   ]
  },
  {
   "cell_type": "markdown",
   "id": "b3bc35f9",
   "metadata": {},
   "source": [
    "### 1.4 Tổng mức đầu tư dự án năm 2016 vào những địa điểm nào?"
   ]
  },
  {
   "cell_type": "code",
   "execution_count": 24,
   "id": "a427004e",
   "metadata": {
    "scrolled": true
   },
   "outputs": [
    {
     "data": {
      "text/html": [
       "<div>\n",
       "<style scoped>\n",
       "    .dataframe tbody tr th:only-of-type {\n",
       "        vertical-align: middle;\n",
       "    }\n",
       "\n",
       "    .dataframe tbody tr th {\n",
       "        vertical-align: top;\n",
       "    }\n",
       "\n",
       "    .dataframe thead th {\n",
       "        text-align: right;\n",
       "    }\n",
       "</style>\n",
       "<table border=\"1\" class=\"dataframe\">\n",
       "  <thead>\n",
       "    <tr style=\"text-align: right;\">\n",
       "      <th></th>\n",
       "      <th>DiaDiemDauTu</th>\n",
       "      <th>TongMucDauTu</th>\n",
       "    </tr>\n",
       "  </thead>\n",
       "  <tbody>\n",
       "    <tr>\n",
       "      <th>128</th>\n",
       "      <td>quận 1, 4,7, 12, Gò Vấp, Nhà Bè</td>\n",
       "      <td>105600000</td>\n",
       "    </tr>\n",
       "    <tr>\n",
       "      <th>101</th>\n",
       "      <td>Thành phố Hồ Chí Minh</td>\n",
       "      <td>24889203</td>\n",
       "    </tr>\n",
       "    <tr>\n",
       "      <th>50</th>\n",
       "      <td>Quận 2</td>\n",
       "      <td>20327132</td>\n",
       "    </tr>\n",
       "    <tr>\n",
       "      <th>148</th>\n",
       "      <td>quậnThủ Đức, quận 12 - TPHCM, Dĩ An - Bình Dương</td>\n",
       "      <td>15405000</td>\n",
       "    </tr>\n",
       "    <tr>\n",
       "      <th>76</th>\n",
       "      <td>Quận 9</td>\n",
       "      <td>14901287</td>\n",
       "    </tr>\n",
       "    <tr>\n",
       "      <th>14</th>\n",
       "      <td>Huyện Bình Chánh</td>\n",
       "      <td>14007202</td>\n",
       "    </tr>\n",
       "    <tr>\n",
       "      <th>126</th>\n",
       "      <td>quận 1</td>\n",
       "      <td>12688000</td>\n",
       "    </tr>\n",
       "    <tr>\n",
       "      <th>3</th>\n",
       "      <td>quận Bình Tân, quận 6 quận 5, quận 1</td>\n",
       "      <td>12500000</td>\n",
       "    </tr>\n",
       "    <tr>\n",
       "      <th>42</th>\n",
       "      <td>Quận 1</td>\n",
       "      <td>12460968</td>\n",
       "    </tr>\n",
       "    <tr>\n",
       "      <th>141</th>\n",
       "      <td>quận Bình Tân</td>\n",
       "      <td>11237923</td>\n",
       "    </tr>\n",
       "  </tbody>\n",
       "</table>\n",
       "</div>"
      ],
      "text/plain": [
       "                                         DiaDiemDauTu  TongMucDauTu\n",
       "128                   quận 1, 4,7, 12, Gò Vấp, Nhà Bè     105600000\n",
       "101                             Thành phố Hồ Chí Minh      24889203\n",
       "50                                             Quận 2      20327132\n",
       "148  quậnThủ Đức, quận 12 - TPHCM, Dĩ An - Bình Dương      15405000\n",
       "76                                             Quận 9      14901287\n",
       "14                                   Huyện Bình Chánh      14007202\n",
       "126                                            quận 1      12688000\n",
       "3                quận Bình Tân, quận 6 quận 5, quận 1      12500000\n",
       "42                                             Quận 1      12460968\n",
       "141                                     quận Bình Tân      11237923"
      ]
     },
     "execution_count": 24,
     "metadata": {},
     "output_type": "execute_result"
    }
   ],
   "source": [
    "q[q.NamKhoiCong=='2016'].groupby('DiaDiemDauTu').TongMucDauTu.sum().reset_index().sort_values(by='TongMucDauTu',ascending=False).head(10)"
   ]
  },
  {
   "cell_type": "markdown",
   "id": "bc1ef0c6",
   "metadata": {},
   "source": [
    "##### - Top 1 địa điểm đầu tư có mức tổng đầu tư cao nhất khởi công năm 2016 có những dự án nào?"
   ]
  },
  {
   "cell_type": "code",
   "execution_count": 25,
   "id": "ff6058c5",
   "metadata": {
    "scrolled": true
   },
   "outputs": [
    {
     "data": {
      "text/html": [
       "<div>\n",
       "<style scoped>\n",
       "    .dataframe tbody tr th:only-of-type {\n",
       "        vertical-align: middle;\n",
       "    }\n",
       "\n",
       "    .dataframe tbody tr th {\n",
       "        vertical-align: top;\n",
       "    }\n",
       "\n",
       "    .dataframe thead th {\n",
       "        text-align: right;\n",
       "    }\n",
       "</style>\n",
       "<table border=\"1\" class=\"dataframe\">\n",
       "  <thead>\n",
       "    <tr style=\"text-align: right;\">\n",
       "      <th></th>\n",
       "      <th>TenDuAn</th>\n",
       "      <th>ChuDauTu</th>\n",
       "      <th>TongMucDauTu</th>\n",
       "      <th>NamDangKy</th>\n",
       "      <th>NamKhoiCong</th>\n",
       "    </tr>\n",
       "  </thead>\n",
       "  <tbody>\n",
       "    <tr>\n",
       "      <th>7154</th>\n",
       "      <td>Tuyến Metro số 4 và 4B</td>\n",
       "      <td>Công ty Cổ phần Việt Liên Á</td>\n",
       "      <td>105600000</td>\n",
       "      <td>2016</td>\n",
       "      <td>2016</td>\n",
       "    </tr>\n",
       "  </tbody>\n",
       "</table>\n",
       "</div>"
      ],
      "text/plain": [
       "                     TenDuAn                     ChuDauTu  TongMucDauTu  \\\n",
       "7154  Tuyến Metro số 4 và 4B  Công ty Cổ phần Việt Liên Á     105600000   \n",
       "\n",
       "     NamDangKy NamKhoiCong  \n",
       "7154      2016        2016  "
      ]
     },
     "execution_count": 25,
     "metadata": {},
     "output_type": "execute_result"
    }
   ],
   "source": [
    "q[q.DiaDiemDauTu=='quận 1, 4,7, 12, Gò Vấp, Nhà Bè'].iloc[:,[1,4,10,12,13]]"
   ]
  },
  {
   "cell_type": "markdown",
   "id": "fe215a93",
   "metadata": {},
   "source": [
    "##### - Top 2 địa điểm đầu tư có mức tổng đầu tư cao nhất khởi công năm 2016 có những dự án nào?"
   ]
  },
  {
   "cell_type": "code",
   "execution_count": 26,
   "id": "63f82e88",
   "metadata": {},
   "outputs": [
    {
     "data": {
      "text/html": [
       "<div>\n",
       "<style scoped>\n",
       "    .dataframe tbody tr th:only-of-type {\n",
       "        vertical-align: middle;\n",
       "    }\n",
       "\n",
       "    .dataframe tbody tr th {\n",
       "        vertical-align: top;\n",
       "    }\n",
       "\n",
       "    .dataframe thead th {\n",
       "        text-align: right;\n",
       "    }\n",
       "</style>\n",
       "<table border=\"1\" class=\"dataframe\">\n",
       "  <thead>\n",
       "    <tr style=\"text-align: right;\">\n",
       "      <th></th>\n",
       "      <th>TenDuAn</th>\n",
       "      <th>ChuDauTu</th>\n",
       "      <th>TongMucDauTu</th>\n",
       "      <th>NamDangKy</th>\n",
       "      <th>NamKhoiCong</th>\n",
       "    </tr>\n",
       "  </thead>\n",
       "  <tbody>\n",
       "    <tr>\n",
       "      <th>5588</th>\n",
       "      <td>Đầu tư xây dựng đường sắt đô thị Thành phố Hồ ...</td>\n",
       "      <td>Ban quản lý đường sắt đô thị</td>\n",
       "      <td>41607060</td>\n",
       "      <td>2017</td>\n",
       "      <td>2017</td>\n",
       "    </tr>\n",
       "    <tr>\n",
       "      <th>4578</th>\n",
       "      <td>Dự án Cải thiện môi trường nước thành phố Hồ C...</td>\n",
       "      <td>Ban quản lý đầu tư xây dựng công trình giao th...</td>\n",
       "      <td>9782000</td>\n",
       "      <td>2017</td>\n",
       "      <td>2019</td>\n",
       "    </tr>\n",
       "    <tr>\n",
       "      <th>6360</th>\n",
       "      <td>Dự án Quản lý rủi ro ngập nước khu vực thành p...</td>\n",
       "      <td>Ban Quản lý dự án Đầu tư Xây dựng Hạ tầng Đô thị</td>\n",
       "      <td>9657000</td>\n",
       "      <td>2015</td>\n",
       "      <td>2017</td>\n",
       "    </tr>\n",
       "  </tbody>\n",
       "</table>\n",
       "</div>"
      ],
      "text/plain": [
       "                                                TenDuAn  \\\n",
       "5588  Đầu tư xây dựng đường sắt đô thị Thành phố Hồ ...   \n",
       "4578  Dự án Cải thiện môi trường nước thành phố Hồ C...   \n",
       "6360  Dự án Quản lý rủi ro ngập nước khu vực thành p...   \n",
       "\n",
       "                                               ChuDauTu  TongMucDauTu  \\\n",
       "5588                       Ban quản lý đường sắt đô thị      41607060   \n",
       "4578  Ban quản lý đầu tư xây dựng công trình giao th...       9782000   \n",
       "6360   Ban Quản lý dự án Đầu tư Xây dựng Hạ tầng Đô thị       9657000   \n",
       "\n",
       "     NamDangKy NamKhoiCong  \n",
       "5588      2017        2017  \n",
       "4578      2017        2019  \n",
       "6360      2015        2017  "
      ]
     },
     "execution_count": 26,
     "metadata": {},
     "output_type": "execute_result"
    }
   ],
   "source": [
    "# 3 dự án lớn nhát tại địa điểm này\n",
    "q[q.DiaDiemDauTu=='Thành phố Hồ Chí Minh'].nlargest(3,'TongMucDauTu').iloc[:,[1,4,10,12,13]]"
   ]
  },
  {
   "cell_type": "code",
   "execution_count": 27,
   "id": "f5795ee6",
   "metadata": {},
   "outputs": [
    {
     "data": {
      "text/plain": [
       "array(['Đầu tư xây dựng đường sắt đô thị Thành phố Hồ Chí Minh, tuyến metro số 5 giai đoạn 1 (Ngã tư Bảy Hiền - Cầu Sài Gòn)',\n",
       "       'Dự án Cải thiện môi trường nước thành phố Hồ Chí Minh lưu vực Tàu HŨ - Bến Nghé - Đôi - Tẻ giai đoạn III',\n",
       "       'Dự án Quản lý rủi ro ngập nước khu vực thành phố Hồ Chí Minh'],\n",
       "      dtype=object)"
      ]
     },
     "execution_count": 27,
     "metadata": {},
     "output_type": "execute_result"
    }
   ],
   "source": [
    "q[q.DiaDiemDauTu=='Thành phố Hồ Chí Minh'].nlargest(3,'TongMucDauTu').TenDuAn.values"
   ]
  },
  {
   "cell_type": "markdown",
   "id": "872f7f71",
   "metadata": {},
   "source": [
    "### Kết luận: \n",
    "- Năm 2016 là năm khởi công nhiều dự án đầu tư có quy mô rất lớn. \n",
    "- Các dự án lớn đáng chú y bao gồm: Tuyến Metro số 4 và 4B, đường trên cao (nút giao An Sương); Tuyến xe điện mặt đất số 1; Nút giao thông An Phú; quận 2; Quốc lộ 22 (đường Xuyên Á); Dự án xây dựng cầu Bình Quới – Thủ Đức\n",
    "- Các quận được tập trung đầu tư lớn là: Quận 1, Quận 2, Quận Thủ Đức, TP Thủ Thiêm, Quận 9 và Quận 12"
   ]
  },
  {
   "cell_type": "markdown",
   "id": "9875145a",
   "metadata": {},
   "source": [
    "## 2. Số lượng dự án đầu tư tại các năm khởi công?"
   ]
  },
  {
   "cell_type": "code",
   "execution_count": 28,
   "id": "a1dca5f7",
   "metadata": {},
   "outputs": [
    {
     "data": {
      "image/png": "[encoded data removed]",
      "text/plain": [
       "<Figure size 1000x400 with 1 Axes>"
      ]
     },
     "metadata": {},
     "output_type": "display_data"
    }
   ],
   "source": [
    "q.groupby('NamKhoiCong').TongMucDauTu.count().plot(kind='bar',ylabel='Tổng Số Dự Án',\n",
    "                                                 title='Tổng Số Dự Án Khởi Công Tại Các Năm',\n",
    "                                                figsize=(10,4),grid=True)\n",
    "plt.show()"
   ]
  },
  {
   "cell_type": "markdown",
   "id": "69a86cee",
   "metadata": {},
   "source": [
    "Năm 2016 tiếp tục là năm có nhiều dự án đầu tư được khởi công nhất qua các năm"
   ]
  },
  {
   "cell_type": "markdown",
   "id": "36091605",
   "metadata": {},
   "source": [
    "### 2.1 Số lượng dự án khởi công trong năm 2016 chủ yếu vào địa điểm nào?"
   ]
  },
  {
   "cell_type": "code",
   "execution_count": 29,
   "id": "2a661088",
   "metadata": {},
   "outputs": [
    {
     "data": {
      "text/html": [
       "<div>\n",
       "<style scoped>\n",
       "    .dataframe tbody tr th:only-of-type {\n",
       "        vertical-align: middle;\n",
       "    }\n",
       "\n",
       "    .dataframe tbody tr th {\n",
       "        vertical-align: top;\n",
       "    }\n",
       "\n",
       "    .dataframe thead th {\n",
       "        text-align: right;\n",
       "    }\n",
       "</style>\n",
       "<table border=\"1\" class=\"dataframe\">\n",
       "  <thead>\n",
       "    <tr style=\"text-align: right;\">\n",
       "      <th></th>\n",
       "      <th>index</th>\n",
       "      <th>TongSoDuAn</th>\n",
       "    </tr>\n",
       "  </thead>\n",
       "  <tbody>\n",
       "    <tr>\n",
       "      <th>0</th>\n",
       "      <td>Quận 9</td>\n",
       "      <td>78</td>\n",
       "    </tr>\n",
       "    <tr>\n",
       "      <th>1</th>\n",
       "      <td>Huyện Hóc Môn</td>\n",
       "      <td>61</td>\n",
       "    </tr>\n",
       "    <tr>\n",
       "      <th>2</th>\n",
       "      <td>Huyện Nhà Bè</td>\n",
       "      <td>57</td>\n",
       "    </tr>\n",
       "    <tr>\n",
       "      <th>3</th>\n",
       "      <td>Quận 12</td>\n",
       "      <td>54</td>\n",
       "    </tr>\n",
       "    <tr>\n",
       "      <th>4</th>\n",
       "      <td>Huyện Bình Chánh</td>\n",
       "      <td>53</td>\n",
       "    </tr>\n",
       "    <tr>\n",
       "      <th>...</th>\n",
       "      <td>...</td>\n",
       "      <td>...</td>\n",
       "    </tr>\n",
       "    <tr>\n",
       "      <th>150</th>\n",
       "      <td>Phường Long Phước, Quận 9</td>\n",
       "      <td>1</td>\n",
       "    </tr>\n",
       "    <tr>\n",
       "      <th>151</th>\n",
       "      <td>Phường 12, Quận Bình Thạnh</td>\n",
       "      <td>1</td>\n",
       "    </tr>\n",
       "    <tr>\n",
       "      <th>152</th>\n",
       "      <td>\"Quận 12, Bình Tân</td>\n",
       "      <td>1</td>\n",
       "    </tr>\n",
       "    <tr>\n",
       "      <th>153</th>\n",
       "      <td>Phường 15 và 25, Quận Bình Thạnh</td>\n",
       "      <td>1</td>\n",
       "    </tr>\n",
       "    <tr>\n",
       "      <th>154</th>\n",
       "      <td>128 Trần Quý, phường 6,Quận 11</td>\n",
       "      <td>1</td>\n",
       "    </tr>\n",
       "  </tbody>\n",
       "</table>\n",
       "<p>155 rows × 2 columns</p>\n",
       "</div>"
      ],
      "text/plain": [
       "                                index  TongSoDuAn\n",
       "0                              Quận 9          78\n",
       "1                       Huyện Hóc Môn          61\n",
       "2                        Huyện Nhà Bè          57\n",
       "3                             Quận 12          54\n",
       "4                    Huyện Bình Chánh          53\n",
       "..                                ...         ...\n",
       "150      Phường Long Phước, Quận 9           1\n",
       "151        Phường 12, Quận Bình Thạnh           1\n",
       "152                \"Quận 12, Bình Tân           1\n",
       "153  Phường 15 và 25, Quận Bình Thạnh           1\n",
       "154    128 Trần Quý, phường 6,Quận 11           1\n",
       "\n",
       "[155 rows x 2 columns]"
      ]
     },
     "execution_count": 29,
     "metadata": {},
     "output_type": "execute_result"
    }
   ],
   "source": [
    "q[q.NamKhoiCong=='2016'].DiaDiemDauTu.value_counts().reset_index(name='TongSoDuAn')"
   ]
  },
  {
   "cell_type": "markdown",
   "id": "a2a50875",
   "metadata": {},
   "source": [
    "=> Các dự án khởi công trong năm 2016 chủ yếu tại 4 điểm là Quận 9, Huyện Hóc Môn, Huyện Nhà Bè và Quận 12"
   ]
  },
  {
   "cell_type": "markdown",
   "id": "71eb0ed9",
   "metadata": {},
   "source": [
    "### 2.2 Về Quận 9 trong trong năm 2016"
   ]
  },
  {
   "cell_type": "code",
   "execution_count": 30,
   "id": "62c3d951",
   "metadata": {},
   "outputs": [
    {
     "data": {
      "text/plain": [
       "Khoa học - công nghệ                                            33\n",
       "Giáo dục - đào tạo                                              12\n",
       "Chương trình giảm ùn tắc giao thông, giảm tai nạn giao thông     9\n",
       "Dự án khác                                                       6\n",
       "An ninh quốc phòng                                               5\n",
       "Văn hóa, thể thao và xã hội                                      4\n",
       "Đầu tư cho giao thông                                            3\n",
       "Thủy lợi, phòng chống lụt bão                                    2\n",
       "Chương trình giảm ngập nước                                      1\n",
       "Cấp nước sạch                                                    1\n",
       "Dự án ngành điện                                                 1\n",
       "Xây dựng trụ sở cơ quan                                          1\n",
       "Name: LinhVuc, dtype: int64"
      ]
     },
     "execution_count": 30,
     "metadata": {},
     "output_type": "execute_result"
    }
   ],
   "source": [
    "Q9_2016=q[(q.NamKhoiCong=='2016')&(q.DiaDiemDauTu=='Quận 9')]\n",
    "Q9_2016.LinhVuc.value_counts()"
   ]
  },
  {
   "cell_type": "markdown",
   "id": "3c5a2a06",
   "metadata": {},
   "source": [
    "Quận 9 được chú trọng đầu tư trong các lĩnh vực khoa học công nghệ nhiều => định hướng trở thành trung tâm mới về khoa học công nghệ cao"
   ]
  },
  {
   "cell_type": "code",
   "execution_count": 31,
   "id": "a733bed9",
   "metadata": {},
   "outputs": [
    {
     "data": {
      "text/plain": [
       "11"
      ]
     },
     "execution_count": 31,
     "metadata": {},
     "output_type": "execute_result"
    }
   ],
   "source": [
    "# số lượng dự án về xây dựng và cải tạo trường học tại quận 9\n",
    "len(Q9_2016[Q9_2016.TenDuAn.str.contains('Trường|trường')])"
   ]
  },
  {
   "cell_type": "markdown",
   "id": "6e9684d3",
   "metadata": {},
   "source": [
    "### 2.3 Về Huyện Hóc Môn trong năm 2016"
   ]
  },
  {
   "cell_type": "code",
   "execution_count": 32,
   "id": "2584e36f",
   "metadata": {},
   "outputs": [
    {
     "data": {
      "text/plain": [
       "Đầu tư cho giao thông                                           26\n",
       "Giáo dục - đào tạo                                              25\n",
       "Chương trình giảm ngập nước                                      4\n",
       "Dự án khác                                                       2\n",
       "An ninh quốc phòng                                               2\n",
       "Chương trình giảm ùn tắc giao thông, giảm tai nạn giao thông     2\n",
       "Name: LinhVuc, dtype: int64"
      ]
     },
     "execution_count": 32,
     "metadata": {},
     "output_type": "execute_result"
    }
   ],
   "source": [
    "HocMon_2016=q[(q.NamKhoiCong=='2016')&(q.DiaDiemDauTu=='Huyện Hóc Môn')]\n",
    "HocMon_2016.LinhVuc.value_counts()"
   ]
  },
  {
   "cell_type": "markdown",
   "id": "39d98ca4",
   "metadata": {},
   "source": [
    "Huyện Hóc Môn được chú trọng đầu tư nhiều cho giao thông.\n",
    "Huyện Hóc Môn được chú trọng xây dựng, nâng cấp và giải phóng mặt bằng để xây dựng rất nhiều trường học mới"
   ]
  },
  {
   "cell_type": "markdown",
   "id": "f8c0d716",
   "metadata": {},
   "source": [
    "### 2.4 Về Huyện Nhà Bè trong năm 2016"
   ]
  },
  {
   "cell_type": "code",
   "execution_count": 34,
   "id": "403ff288",
   "metadata": {},
   "outputs": [
    {
     "data": {
      "text/plain": [
       "Giáo dục - đào tạo                                              14\n",
       "Chương trình giảm ùn tắc giao thông, giảm tai nạn giao thông    12\n",
       "Đầu tư cho giao thông                                           11\n",
       "Thủy lợi, phòng chống lụt bão                                   10\n",
       "Dự án khác                                                       5\n",
       "Chương trình giảm ngập nước                                      3\n",
       "Xây dựng nhà ở xã hội, tái định cư                               2\n",
       "Name: LinhVuc, dtype: int64"
      ]
     },
     "execution_count": 34,
     "metadata": {},
     "output_type": "execute_result"
    }
   ],
   "source": [
    "NhaBe_2016=q[(q.NamKhoiCong=='2016')&(q.DiaDiemDauTu=='Huyện Nhà Bè')]\n",
    "NhaBe_2016.LinhVuc.value_counts()"
   ]
  },
  {
   "cell_type": "markdown",
   "id": "887d5679",
   "metadata": {},
   "source": [
    "Huyện Nhà Bè được chú trọng đầu tư nhiều cho giáo dục đào tạo"
   ]
  },
  {
   "cell_type": "markdown",
   "id": "4e520075",
   "metadata": {},
   "source": [
    "### 2.5 Về Quận 12 trong năm 2016"
   ]
  },
  {
   "cell_type": "code",
   "execution_count": 36,
   "id": "e803be5c",
   "metadata": {},
   "outputs": [
    {
     "data": {
      "text/plain": [
       "Giáo dục - đào tạo                                              22\n",
       "Đầu tư cho giao thông                                           11\n",
       "Xây dựng trụ sở cơ quan                                          6\n",
       "Dự án khác                                                       4\n",
       "Chương trình giảm ngập nước                                      3\n",
       "Nông nghiệp                                                      2\n",
       "An ninh quốc phòng                                               2\n",
       "Văn hóa, thể thao và xã hội                                      1\n",
       "Y Tế                                                             1\n",
       "Chương trình giảm ùn tắc giao thông, giảm tai nạn giao thông     1\n",
       "Khoa học - công nghệ                                             1\n",
       "Name: LinhVuc, dtype: int64"
      ]
     },
     "execution_count": 36,
     "metadata": {},
     "output_type": "execute_result"
    }
   ],
   "source": [
    "Q12_2016=q[(q.NamKhoiCong=='2016')&(q.DiaDiemDauTu=='Quận 12')]\n",
    "Q12_2016.LinhVuc.value_counts()"
   ]
  },
  {
   "cell_type": "markdown",
   "id": "f9842d42",
   "metadata": {},
   "source": [
    "Quận 12 được chú trọng đầu tư nhiều cho giáo dục đào tạo"
   ]
  },
  {
   "cell_type": "markdown",
   "id": "246fe11f",
   "metadata": {},
   "source": [
    "### 2.6 Về Huyện Bình Chánh trong năm 2016"
   ]
  },
  {
   "cell_type": "code",
   "execution_count": 38,
   "id": "f0c6a01f",
   "metadata": {},
   "outputs": [
    {
     "data": {
      "text/plain": [
       "Hạ Tầng                                                         13\n",
       "Đầu tư cho giao thông                                           12\n",
       "Giáo dục - đào tạo                                               8\n",
       "Dự án khác                                                       4\n",
       "Y Tế                                                             3\n",
       "An ninh quốc phòng                                               3\n",
       "Chương trình giảm ùn tắc giao thông, giảm tai nạn giao thông     3\n",
       "Chương trình giảm ô nhiễm môi trường                         3\n",
       "Văn hóa, thể thao và xã hội                                      2\n",
       "Chương trình giảm ngập nước                                      1\n",
       "Môi trường                                                       1\n",
       "Name: LinhVuc, dtype: int64"
      ]
     },
     "execution_count": 38,
     "metadata": {},
     "output_type": "execute_result"
    }
   ],
   "source": [
    "BinhChanh_2016=q[(q.NamKhoiCong=='2016')&(q.DiaDiemDauTu=='Huyện Bình Chánh')]\n",
    "BinhChanh_2016.LinhVuc.value_counts()"
   ]
  },
  {
   "cell_type": "markdown",
   "id": "e66cf1b7",
   "metadata": {},
   "source": [
    "Huyện Bình Chánh được chú trọng đầu tư nhiều vào cơ sở hạ tầng và giao thông"
   ]
  },
  {
   "cell_type": "markdown",
   "id": "0f188084",
   "metadata": {},
   "source": [
    "### Kết luận: \n",
    "- Năm 2016 là năm khởi công nhiều dự án đầu tư. \n",
    "- Các địa điểm đầu tư có nhiều dự án là: Quận 9, Huyện Hóc Môn, Huyện Nhà Bè, Quận 12 và Huyện Bình Chánh.\n",
    "- Quận 9 đầu tư nhiều về lĩnh vực khoa học công nghệ => định hướng trở thành trung tâm mới về khoa học công nghệ cao  \n",
    "- Huyện Hóc Môn đầu tư nhiều vào giao thông và xây dựng trường học (28 dự án)\n",
    "- Huyện Nhà Bè đầu tư nhiều vào xây dựng và nâng cấp trường học (14 dự án)\n",
    "- Quận 12 đầu tư nhiều vào xây dựng và nâng cấp trường học (21 dự án)\n",
    "- Huyện Bình Chánh đầu tư nhiều vào cơ sở hạ tầng giao thông"
   ]
  },
  {
   "cell_type": "markdown",
   "id": "ed89512b",
   "metadata": {},
   "source": [
    "# 3. Tỷ trọng đầu tư qua các năm về tổng số vốn đầu tư trong nước, nước ngoài qua các năm."
   ]
  },
  {
   "cell_type": "code",
   "execution_count": 39,
   "id": "6d0a182b",
   "metadata": {},
   "outputs": [
    {
     "data": {
      "text/plain": [
       "array(['Vốn đầu tư từ cân đối ngân sách địa phương của thành phố',\n",
       "       'Vốn đầu tư từ nguồn khác', 'None',\n",
       "       'Vốn đầu tư từ nguồn thu sử dụng đất',\n",
       "       'Vốn đầu tư từ nguồn xổ số kiến thiết'], dtype=object)"
      ]
     },
     "execution_count": 39,
     "metadata": {},
     "output_type": "execute_result"
    }
   ],
   "source": [
    "# kiểm tra cột Tên Nguồn Vốn\n",
    "q.TenNguonVon.unique()"
   ]
  },
  {
   "cell_type": "markdown",
   "id": "59e8ccdb",
   "metadata": {},
   "source": [
    "#### Đặt giả thiết: các dự án có phần nguồn vốn chứa giá trị 'None' là vốn đầu tư nước ngoài, còn lại là nguồn vốn đầu tư trong nước."
   ]
  },
  {
   "cell_type": "code",
   "execution_count": 40,
   "id": "1867804a",
   "metadata": {},
   "outputs": [],
   "source": [
    "TrongNgoaiNuoc=[]\n",
    "for i in q.TenNguonVon:\n",
    "    if i=='None':\n",
    "        TrongNgoaiNuoc.append('Trong Nước')\n",
    "    else:\n",
    "        TrongNgoaiNuoc.append('Ngoài Nước')\n",
    "q['TrongNgoaiNuoc']=TrongNgoaiNuoc"
   ]
  },
  {
   "cell_type": "markdown",
   "id": "e95ba11c",
   "metadata": {},
   "source": [
    "### 3.1 Tỉ trọng nguồn vốn trong và ngoài nước"
   ]
  },
  {
   "cell_type": "code",
   "execution_count": 41,
   "id": "48d508ea",
   "metadata": {
    "scrolled": true
   },
   "outputs": [
    {
     "data": {
      "text/html": [
       "<div>\n",
       "<style scoped>\n",
       "    .dataframe tbody tr th:only-of-type {\n",
       "        vertical-align: middle;\n",
       "    }\n",
       "\n",
       "    .dataframe tbody tr th {\n",
       "        vertical-align: top;\n",
       "    }\n",
       "\n",
       "    .dataframe thead th {\n",
       "        text-align: right;\n",
       "    }\n",
       "</style>\n",
       "<table border=\"1\" class=\"dataframe\">\n",
       "  <thead>\n",
       "    <tr style=\"text-align: right;\">\n",
       "      <th></th>\n",
       "      <th>TrongNgoaiNuoc</th>\n",
       "      <th>TongMucDauTu</th>\n",
       "      <th>TiTrong</th>\n",
       "    </tr>\n",
       "  </thead>\n",
       "  <tbody>\n",
       "    <tr>\n",
       "      <th>0</th>\n",
       "      <td>Ngoài Nước</td>\n",
       "      <td>412003281</td>\n",
       "      <td>43.35%</td>\n",
       "    </tr>\n",
       "    <tr>\n",
       "      <th>1</th>\n",
       "      <td>Trong Nước</td>\n",
       "      <td>538437096</td>\n",
       "      <td>56.65%</td>\n",
       "    </tr>\n",
       "  </tbody>\n",
       "</table>\n",
       "</div>"
      ],
      "text/plain": [
       "  TrongNgoaiNuoc  TongMucDauTu TiTrong\n",
       "0     Ngoài Nước     412003281  43.35%\n",
       "1     Trong Nước     538437096  56.65%"
      ]
     },
     "execution_count": 41,
     "metadata": {},
     "output_type": "execute_result"
    }
   ],
   "source": [
    "TrongNgoaiNuoc=q.groupby('TrongNgoaiNuoc').TongMucDauTu.sum().reset_index(name='TongMucDauTu')\n",
    "TrongNgoaiNuoc['TiTrong']=((TrongNgoaiNuoc.TongMucDauTu/TrongNgoaiNuoc.TongMucDauTu.sum()*100).round(2)).astype(str)+'%'\n",
    "TrongNgoaiNuoc"
   ]
  },
  {
   "cell_type": "markdown",
   "id": "59c1c29d",
   "metadata": {},
   "source": [
    "#### Biểu đồ tỉ trọng nguồn vốn trong và ngoài nước"
   ]
  },
  {
   "cell_type": "code",
   "execution_count": 42,
   "id": "00353c82",
   "metadata": {},
   "outputs": [
    {
     "data": {
      "image/png": "[encoded data removed]",
      "text/plain": [
       "<Figure size 640x480 with 1 Axes>"
      ]
     },
     "metadata": {},
     "output_type": "display_data"
    }
   ],
   "source": [
    "q.groupby('TrongNgoaiNuoc').TongMucDauTu.sum().plot(kind='pie',autopct='%.2f %%',legend=True,\n",
    "                                                   title='TỈ TRỌNG VỐN ĐẦU TƯ TRONG NƯỚC VÀ NGOÀI NƯỚC',\n",
    "                                                   ylabel='')\n",
    "plt.show()"
   ]
  },
  {
   "cell_type": "markdown",
   "id": "ca3ab356",
   "metadata": {},
   "source": [
    "### 3.2 Tỉ trọng nguồn vốn trong và ngoài nước qua các năm"
   ]
  },
  {
   "cell_type": "code",
   "execution_count": 43,
   "id": "0515a69d",
   "metadata": {
    "scrolled": true
   },
   "outputs": [
    {
     "data": {
      "text/html": [
       "<div>\n",
       "<style scoped>\n",
       "    .dataframe tbody tr th:only-of-type {\n",
       "        vertical-align: middle;\n",
       "    }\n",
       "\n",
       "    .dataframe tbody tr th {\n",
       "        vertical-align: top;\n",
       "    }\n",
       "\n",
       "    .dataframe thead th {\n",
       "        text-align: right;\n",
       "    }\n",
       "</style>\n",
       "<table border=\"1\" class=\"dataframe\">\n",
       "  <thead>\n",
       "    <tr style=\"text-align: right;\">\n",
       "      <th></th>\n",
       "      <th>NamKhoiCong</th>\n",
       "      <th>TongMucDauTuNgoaiNuoc</th>\n",
       "      <th>TongMucDauTuTrongNuoc</th>\n",
       "      <th>TiTrongNgoaiNuoc</th>\n",
       "      <th>TiTrongTrongNuoc</th>\n",
       "    </tr>\n",
       "  </thead>\n",
       "  <tbody>\n",
       "    <tr>\n",
       "      <th>0</th>\n",
       "      <td>2004</td>\n",
       "      <td>3387607</td>\n",
       "      <td>7956664</td>\n",
       "      <td>29.86%</td>\n",
       "      <td>70.14%</td>\n",
       "    </tr>\n",
       "    <tr>\n",
       "      <th>1</th>\n",
       "      <td>2005</td>\n",
       "      <td>3321813</td>\n",
       "      <td>2992876</td>\n",
       "      <td>52.6%</td>\n",
       "      <td>47.4%</td>\n",
       "    </tr>\n",
       "    <tr>\n",
       "      <th>2</th>\n",
       "      <td>2006</td>\n",
       "      <td>142394</td>\n",
       "      <td>102537</td>\n",
       "      <td>58.14%</td>\n",
       "      <td>41.86%</td>\n",
       "    </tr>\n",
       "    <tr>\n",
       "      <th>3</th>\n",
       "      <td>2007</td>\n",
       "      <td>4758280</td>\n",
       "      <td>136458</td>\n",
       "      <td>97.21%</td>\n",
       "      <td>2.79%</td>\n",
       "    </tr>\n",
       "    <tr>\n",
       "      <th>4</th>\n",
       "      <td>2008</td>\n",
       "      <td>20636215</td>\n",
       "      <td>11315885</td>\n",
       "      <td>64.58%</td>\n",
       "      <td>35.42%</td>\n",
       "    </tr>\n",
       "    <tr>\n",
       "      <th>5</th>\n",
       "      <td>2009</td>\n",
       "      <td>4548089</td>\n",
       "      <td>11906416</td>\n",
       "      <td>27.64%</td>\n",
       "      <td>72.36%</td>\n",
       "    </tr>\n",
       "    <tr>\n",
       "      <th>6</th>\n",
       "      <td>2010</td>\n",
       "      <td>6873284</td>\n",
       "      <td>422129</td>\n",
       "      <td>94.21%</td>\n",
       "      <td>5.79%</td>\n",
       "    </tr>\n",
       "    <tr>\n",
       "      <th>7</th>\n",
       "      <td>2011</td>\n",
       "      <td>7136280</td>\n",
       "      <td>95624</td>\n",
       "      <td>98.68%</td>\n",
       "      <td>1.32%</td>\n",
       "    </tr>\n",
       "    <tr>\n",
       "      <th>8</th>\n",
       "      <td>2012</td>\n",
       "      <td>7843456</td>\n",
       "      <td>5797897</td>\n",
       "      <td>57.5%</td>\n",
       "      <td>42.5%</td>\n",
       "    </tr>\n",
       "    <tr>\n",
       "      <th>9</th>\n",
       "      <td>2013</td>\n",
       "      <td>5881562</td>\n",
       "      <td>688482</td>\n",
       "      <td>89.52%</td>\n",
       "      <td>10.48%</td>\n",
       "    </tr>\n",
       "    <tr>\n",
       "      <th>10</th>\n",
       "      <td>2014</td>\n",
       "      <td>7170431</td>\n",
       "      <td>1867670</td>\n",
       "      <td>79.34%</td>\n",
       "      <td>20.66%</td>\n",
       "    </tr>\n",
       "    <tr>\n",
       "      <th>11</th>\n",
       "      <td>2015</td>\n",
       "      <td>25492803</td>\n",
       "      <td>44223711</td>\n",
       "      <td>36.57%</td>\n",
       "      <td>63.43%</td>\n",
       "    </tr>\n",
       "    <tr>\n",
       "      <th>12</th>\n",
       "      <td>2016</td>\n",
       "      <td>138406767</td>\n",
       "      <td>371168902</td>\n",
       "      <td>27.16%</td>\n",
       "      <td>72.84%</td>\n",
       "    </tr>\n",
       "    <tr>\n",
       "      <th>13</th>\n",
       "      <td>2017</td>\n",
       "      <td>82199712</td>\n",
       "      <td>49169625</td>\n",
       "      <td>62.57%</td>\n",
       "      <td>37.43%</td>\n",
       "    </tr>\n",
       "    <tr>\n",
       "      <th>14</th>\n",
       "      <td>2018</td>\n",
       "      <td>60207922</td>\n",
       "      <td>12044461</td>\n",
       "      <td>83.33%</td>\n",
       "      <td>16.67%</td>\n",
       "    </tr>\n",
       "    <tr>\n",
       "      <th>15</th>\n",
       "      <td>2019</td>\n",
       "      <td>25965776</td>\n",
       "      <td>12302706</td>\n",
       "      <td>67.85%</td>\n",
       "      <td>32.15%</td>\n",
       "    </tr>\n",
       "  </tbody>\n",
       "</table>\n",
       "</div>"
      ],
      "text/plain": [
       "   NamKhoiCong  TongMucDauTuNgoaiNuoc  TongMucDauTuTrongNuoc TiTrongNgoaiNuoc  \\\n",
       "0         2004                3387607                7956664           29.86%   \n",
       "1         2005                3321813                2992876            52.6%   \n",
       "2         2006                 142394                 102537           58.14%   \n",
       "3         2007                4758280                 136458           97.21%   \n",
       "4         2008               20636215               11315885           64.58%   \n",
       "5         2009                4548089               11906416           27.64%   \n",
       "6         2010                6873284                 422129           94.21%   \n",
       "7         2011                7136280                  95624           98.68%   \n",
       "8         2012                7843456                5797897            57.5%   \n",
       "9         2013                5881562                 688482           89.52%   \n",
       "10        2014                7170431                1867670           79.34%   \n",
       "11        2015               25492803               44223711           36.57%   \n",
       "12        2016              138406767              371168902           27.16%   \n",
       "13        2017               82199712               49169625           62.57%   \n",
       "14        2018               60207922               12044461           83.33%   \n",
       "15        2019               25965776               12302706           67.85%   \n",
       "\n",
       "   TiTrongTrongNuoc  \n",
       "0            70.14%  \n",
       "1             47.4%  \n",
       "2            41.86%  \n",
       "3             2.79%  \n",
       "4            35.42%  \n",
       "5            72.36%  \n",
       "6             5.79%  \n",
       "7             1.32%  \n",
       "8             42.5%  \n",
       "9            10.48%  \n",
       "10           20.66%  \n",
       "11           63.43%  \n",
       "12           72.84%  \n",
       "13           37.43%  \n",
       "14           16.67%  \n",
       "15           32.15%  "
      ]
     },
     "execution_count": 43,
     "metadata": {},
     "output_type": "execute_result"
    }
   ],
   "source": [
    "TrongNgoaiNuocCacNam=q.groupby(['TrongNgoaiNuoc','NamKhoiCong']).TongMucDauTu.sum().reset_index(name='TongMucDauTu')\n",
    "NgoaiNuocCacNam=TrongNgoaiNuocCacNam[TrongNgoaiNuocCacNam.TrongNgoaiNuoc=='Ngoài Nước']\n",
    "TrongNuocCacNam=TrongNgoaiNuocCacNam[TrongNgoaiNuocCacNam.TrongNgoaiNuoc=='Trong Nước']\n",
    "TrongNgoaiNuocCacNam1=NgoaiNuocCacNam.merge(TrongNuocCacNam,on='NamKhoiCong',suffixes=['NgoaiNuoc','TrongNuoc']).drop(columns=['TrongNgoaiNuocNgoaiNuoc','TrongNgoaiNuocTrongNuoc'])\n",
    "TrongNgoaiNuocCacNam1['TiTrongNgoaiNuoc']=((TrongNgoaiNuocCacNam1.TongMucDauTuNgoaiNuoc/(TrongNgoaiNuocCacNam1.TongMucDauTuNgoaiNuoc+TrongNgoaiNuocCacNam1.TongMucDauTuTrongNuoc)*100).round(2)).astype(str)+'%'\n",
    "TrongNgoaiNuocCacNam1['TiTrongTrongNuoc']=((TrongNgoaiNuocCacNam1.TongMucDauTuTrongNuoc/(TrongNgoaiNuocCacNam1.TongMucDauTuNgoaiNuoc+TrongNgoaiNuocCacNam1.TongMucDauTuTrongNuoc)*100).round(2)).astype(str)+'%'\n",
    "TrongNgoaiNuocCacNam1"
   ]
  },
  {
   "cell_type": "markdown",
   "id": "83e3fd85",
   "metadata": {},
   "source": [
    "### 3.3 Biểu đồ vốn đầu tư trong và ngoài nước qua các năm"
   ]
  },
  {
   "cell_type": "code",
   "execution_count": 44,
   "id": "5897fc3a",
   "metadata": {},
   "outputs": [
    {
     "data": {
      "image/png": "[encoded data removed]",
      "text/plain": [
       "<Figure size 640x480 with 1 Axes>"
      ]
     },
     "metadata": {},
     "output_type": "display_data"
    }
   ],
   "source": [
    "plt.plot(TrongNgoaiNuocCacNam1.NamKhoiCong,TrongNgoaiNuocCacNam1.TongMucDauTuNgoaiNuoc,'b.-')\n",
    "plt.plot(TrongNgoaiNuocCacNam1.NamKhoiCong,TrongNgoaiNuocCacNam1.TongMucDauTuTrongNuoc,'r.-')\n",
    "plt.xticks(rotation=45)\n",
    "plt.legend(['Vốn Ngoài Nước','Vốn Trong Nước'])\n",
    "plt.xlabel('Năm')\n",
    "plt.ylabel('Tổng Mức Đầu Tư')\n",
    "plt.title('VỐN ĐẦU TƯ TRONG VÀ NGOÀI NƯỚC QUA CÁC NĂM KHỞI CÔNG')\n",
    "plt.grid()\n",
    "plt.show()"
   ]
  },
  {
   "cell_type": "markdown",
   "id": "f712b350",
   "metadata": {},
   "source": [
    "### Kết luận: \n",
    "- Vốn đầu tư trong nước vẫn là nguồn lực chính đầu tư các dự án chiếm 56%.\n",
    "- Vốn đầu tư trong nước có các dự án khởi công lớn ở giai đoạn 2015-2016\n",
    "- Từ năm 2016 trở đi vốn đầu tư nước ngoài có dự án khởi công cao hơn"
   ]
  },
  {
   "cell_type": "markdown",
   "id": "6bb3c4e4",
   "metadata": {},
   "source": [
    "### 3.4 Vốn đầu tư trong nước đầu tư ở những lĩnh vực và khu vực nào?"
   ]
  },
  {
   "cell_type": "code",
   "execution_count": 45,
   "id": "a3c1727f",
   "metadata": {
    "scrolled": false
   },
   "outputs": [
    {
     "data": {
      "text/html": [
       "<div>\n",
       "<style scoped>\n",
       "    .dataframe tbody tr th:only-of-type {\n",
       "        vertical-align: middle;\n",
       "    }\n",
       "\n",
       "    .dataframe tbody tr th {\n",
       "        vertical-align: top;\n",
       "    }\n",
       "\n",
       "    .dataframe thead th {\n",
       "        text-align: right;\n",
       "    }\n",
       "</style>\n",
       "<table border=\"1\" class=\"dataframe\">\n",
       "  <thead>\n",
       "    <tr style=\"text-align: right;\">\n",
       "      <th></th>\n",
       "      <th>LinhVuc</th>\n",
       "      <th>TongMucDauTu</th>\n",
       "    </tr>\n",
       "  </thead>\n",
       "  <tbody>\n",
       "    <tr>\n",
       "      <th>4</th>\n",
       "      <td>Chương trình giảm ùn tắc giao thông, giảm tai ...</td>\n",
       "      <td>336299018</td>\n",
       "    </tr>\n",
       "    <tr>\n",
       "      <th>8</th>\n",
       "      <td>Dự án khác</td>\n",
       "      <td>45475213</td>\n",
       "    </tr>\n",
       "    <tr>\n",
       "      <th>2</th>\n",
       "      <td>Chương trình giảm ô nhiễm môi trường</td>\n",
       "      <td>36292000</td>\n",
       "    </tr>\n",
       "    <tr>\n",
       "      <th>15</th>\n",
       "      <td>Văn hóa, thể thao và xã hội</td>\n",
       "      <td>20217671</td>\n",
       "    </tr>\n",
       "    <tr>\n",
       "      <th>7</th>\n",
       "      <td>Cấp nước sạch</td>\n",
       "      <td>19145941</td>\n",
       "    </tr>\n",
       "  </tbody>\n",
       "</table>\n",
       "</div>"
      ],
      "text/plain": [
       "                                              LinhVuc  TongMucDauTu\n",
       "4   Chương trình giảm ùn tắc giao thông, giảm tai ...     336299018\n",
       "8                                          Dự án khác      45475213\n",
       "2            Chương trình giảm ô nhiễm môi trường      36292000\n",
       "15                        Văn hóa, thể thao và xã hội      20217671\n",
       "7                                       Cấp nước sạch      19145941"
      ]
     },
     "execution_count": 45,
     "metadata": {},
     "output_type": "execute_result"
    }
   ],
   "source": [
    "# Những lĩnh vực mà dự án sử dụng vốn đầu tư trong ngoài:\n",
    "q[q.TrongNgoaiNuoc=='Trong Nước'].groupby('LinhVuc').TongMucDauTu.sum().reset_index(name='TongMucDauTu').nlargest(5,'TongMucDauTu')"
   ]
  },
  {
   "cell_type": "code",
   "execution_count": 46,
   "id": "658f6fb6",
   "metadata": {},
   "outputs": [
    {
     "data": {
      "text/html": [
       "<div>\n",
       "<style scoped>\n",
       "    .dataframe tbody tr th:only-of-type {\n",
       "        vertical-align: middle;\n",
       "    }\n",
       "\n",
       "    .dataframe tbody tr th {\n",
       "        vertical-align: top;\n",
       "    }\n",
       "\n",
       "    .dataframe thead th {\n",
       "        text-align: right;\n",
       "    }\n",
       "</style>\n",
       "<table border=\"1\" class=\"dataframe\">\n",
       "  <thead>\n",
       "    <tr style=\"text-align: right;\">\n",
       "      <th></th>\n",
       "      <th>DiaDiemDauTu</th>\n",
       "      <th>TongMucDauTu</th>\n",
       "    </tr>\n",
       "  </thead>\n",
       "  <tbody>\n",
       "    <tr>\n",
       "      <th>97</th>\n",
       "      <td>quận 1, 4,7, 12, Gò Vấp, Nhà Bè</td>\n",
       "      <td>105600000</td>\n",
       "    </tr>\n",
       "    <tr>\n",
       "      <th>77</th>\n",
       "      <td>Thành phố Hồ Chí Minh</td>\n",
       "      <td>76833909</td>\n",
       "    </tr>\n",
       "    <tr>\n",
       "      <th>111</th>\n",
       "      <td>quậnThủ Đức, quận 12 - TPHCM, Dĩ An - Bình Dương</td>\n",
       "      <td>15405000</td>\n",
       "    </tr>\n",
       "    <tr>\n",
       "      <th>42</th>\n",
       "      <td>Quận 2, 7, Bình Chánh</td>\n",
       "      <td>15015000</td>\n",
       "    </tr>\n",
       "    <tr>\n",
       "      <th>74</th>\n",
       "      <td>TP.HCM</td>\n",
       "      <td>12796795</td>\n",
       "    </tr>\n",
       "  </tbody>\n",
       "</table>\n",
       "</div>"
      ],
      "text/plain": [
       "                                         DiaDiemDauTu  TongMucDauTu\n",
       "97                    quận 1, 4,7, 12, Gò Vấp, Nhà Bè     105600000\n",
       "77                              Thành phố Hồ Chí Minh      76833909\n",
       "111  quậnThủ Đức, quận 12 - TPHCM, Dĩ An - Bình Dương      15405000\n",
       "42                              Quận 2, 7, Bình Chánh      15015000\n",
       "74                                             TP.HCM      12796795"
      ]
     },
     "execution_count": 46,
     "metadata": {},
     "output_type": "execute_result"
    }
   ],
   "source": [
    "# Những địa điểm mà dự án sử dụng vốn đầu tư trong ngoài:\n",
    "q[q.TrongNgoaiNuoc=='Trong Nước'].groupby('DiaDiemDauTu').TongMucDauTu.sum().reset_index(name='TongMucDauTu').nlargest(5,'TongMucDauTu')"
   ]
  },
  {
   "cell_type": "markdown",
   "id": "6e2d44a4",
   "metadata": {},
   "source": [
    "### 3.5 Vốn đầu tư ngoài nước đầu tư ở những lĩnh vực và khu vực nào?"
   ]
  },
  {
   "cell_type": "code",
   "execution_count": 47,
   "id": "95c94ad9",
   "metadata": {},
   "outputs": [
    {
     "data": {
      "text/html": [
       "<div>\n",
       "<style scoped>\n",
       "    .dataframe tbody tr th:only-of-type {\n",
       "        vertical-align: middle;\n",
       "    }\n",
       "\n",
       "    .dataframe tbody tr th {\n",
       "        vertical-align: top;\n",
       "    }\n",
       "\n",
       "    .dataframe thead th {\n",
       "        text-align: right;\n",
       "    }\n",
       "</style>\n",
       "<table border=\"1\" class=\"dataframe\">\n",
       "  <thead>\n",
       "    <tr style=\"text-align: right;\">\n",
       "      <th></th>\n",
       "      <th>LinhVuc</th>\n",
       "      <th>TongMucDauTu</th>\n",
       "    </tr>\n",
       "  </thead>\n",
       "  <tbody>\n",
       "    <tr>\n",
       "      <th>25</th>\n",
       "      <td>Đầu tư cho giao thông</td>\n",
       "      <td>118680567</td>\n",
       "    </tr>\n",
       "    <tr>\n",
       "      <th>4</th>\n",
       "      <td>Chương trình giảm ùn tắc giao thông, giảm tai ...</td>\n",
       "      <td>66723427</td>\n",
       "    </tr>\n",
       "    <tr>\n",
       "      <th>3</th>\n",
       "      <td>Chương trình giảm ngập nước</td>\n",
       "      <td>58608303</td>\n",
       "    </tr>\n",
       "    <tr>\n",
       "      <th>12</th>\n",
       "      <td>Giáo dục - đào tạo</td>\n",
       "      <td>51007563</td>\n",
       "    </tr>\n",
       "    <tr>\n",
       "      <th>2</th>\n",
       "      <td>Chương trình giảm ô nhiễm môi trường</td>\n",
       "      <td>21971125</td>\n",
       "    </tr>\n",
       "  </tbody>\n",
       "</table>\n",
       "</div>"
      ],
      "text/plain": [
       "                                              LinhVuc  TongMucDauTu\n",
       "25                              Đầu tư cho giao thông     118680567\n",
       "4   Chương trình giảm ùn tắc giao thông, giảm tai ...      66723427\n",
       "3                         Chương trình giảm ngập nước      58608303\n",
       "12                                 Giáo dục - đào tạo      51007563\n",
       "2            Chương trình giảm ô nhiễm môi trường      21971125"
      ]
     },
     "execution_count": 47,
     "metadata": {},
     "output_type": "execute_result"
    }
   ],
   "source": [
    "# Những lĩnh vực mà dự án sử dụng vốn đầu tư nước ngoài:\n",
    "q[q.TrongNgoaiNuoc=='Ngoài Nước'].groupby('LinhVuc').TongMucDauTu.sum().reset_index(name='TongMucDauTu').nlargest(5,'TongMucDauTu')"
   ]
  },
  {
   "cell_type": "code",
   "execution_count": 48,
   "id": "b9e9319f",
   "metadata": {},
   "outputs": [
    {
     "data": {
      "text/html": [
       "<div>\n",
       "<style scoped>\n",
       "    .dataframe tbody tr th:only-of-type {\n",
       "        vertical-align: middle;\n",
       "    }\n",
       "\n",
       "    .dataframe tbody tr th {\n",
       "        vertical-align: top;\n",
       "    }\n",
       "\n",
       "    .dataframe thead th {\n",
       "        text-align: right;\n",
       "    }\n",
       "</style>\n",
       "<table border=\"1\" class=\"dataframe\">\n",
       "  <thead>\n",
       "    <tr style=\"text-align: right;\">\n",
       "      <th></th>\n",
       "      <th>DiaDiemDauTu</th>\n",
       "      <th>TongMucDauTu</th>\n",
       "    </tr>\n",
       "  </thead>\n",
       "  <tbody>\n",
       "    <tr>\n",
       "      <th>59</th>\n",
       "      <td>Quận 2</td>\n",
       "      <td>34314952</td>\n",
       "    </tr>\n",
       "    <tr>\n",
       "      <th>98</th>\n",
       "      <td>Quận Bình Tân</td>\n",
       "      <td>26171945</td>\n",
       "    </tr>\n",
       "    <tr>\n",
       "      <th>92</th>\n",
       "      <td>Quận 9</td>\n",
       "      <td>25234823</td>\n",
       "    </tr>\n",
       "    <tr>\n",
       "      <th>12</th>\n",
       "      <td>Huyện Bình Chánh</td>\n",
       "      <td>22921165</td>\n",
       "    </tr>\n",
       "    <tr>\n",
       "      <th>119</th>\n",
       "      <td>Thành phố Hồ Chí Minh</td>\n",
       "      <td>22878887</td>\n",
       "    </tr>\n",
       "  </tbody>\n",
       "</table>\n",
       "</div>"
      ],
      "text/plain": [
       "              DiaDiemDauTu  TongMucDauTu\n",
       "59                  Quận 2      34314952\n",
       "98           Quận Bình Tân      26171945\n",
       "92                  Quận 9      25234823\n",
       "12        Huyện Bình Chánh      22921165\n",
       "119  Thành phố Hồ Chí Minh      22878887"
      ]
     },
     "execution_count": 48,
     "metadata": {},
     "output_type": "execute_result"
    }
   ],
   "source": [
    "# Những địa điểm mà dự án sử dụng vốn đầu tư nước ngoài:\n",
    "q[q.TrongNgoaiNuoc=='Ngoài Nước'].groupby('DiaDiemDauTu').TongMucDauTu.sum().reset_index(name='TongMucDauTu').nlargest(5,'TongMucDauTu')"
   ]
  },
  {
   "cell_type": "markdown",
   "id": "ecc94166",
   "metadata": {},
   "source": [
    "### Kết luận: \n",
    "- Vốn đầu tư trong nước thường tập trung vào các lĩnh vực: Chương trình giảm ùn tắc giao thông, giảm tai nạn giao thông, Chương trình giảm ô nhiễm môi trường và dự án khác\n",
    "- Vốn đầu tư trong nước thường tập trung ở các địa điểm: quy mô toàn thành phố Hồ Chí Minh nhiều hơn\n",
    "- Vốn đầu tư nước ngoài thường tập trung vào các lĩnh vực: Đầu tư cho giao thông, Chương trình giảm ùn tắc giao thông, Chương trình giảm ngập nước.\n",
    "- Vốn đầu tư trong nước thường tập trung ở các địa điểm: Quận 2, Quận Bình Tân, Quận 9, Huyện Bình Chánh"
   ]
  },
  {
   "cell_type": "markdown",
   "id": "b7cf90c4",
   "metadata": {},
   "source": [
    "# 4. Phân tích loại hình đầu tư"
   ]
  },
  {
   "cell_type": "code",
   "execution_count": 49,
   "id": "25b74d94",
   "metadata": {},
   "outputs": [
    {
     "data": {
      "text/html": [
       "<div>\n",
       "<style scoped>\n",
       "    .dataframe tbody tr th:only-of-type {\n",
       "        vertical-align: middle;\n",
       "    }\n",
       "\n",
       "    .dataframe tbody tr th {\n",
       "        vertical-align: top;\n",
       "    }\n",
       "\n",
       "    .dataframe thead th {\n",
       "        text-align: right;\n",
       "    }\n",
       "</style>\n",
       "<table border=\"1\" class=\"dataframe\">\n",
       "  <thead>\n",
       "    <tr style=\"text-align: right;\">\n",
       "      <th></th>\n",
       "      <th>LoaiDuAn</th>\n",
       "      <th>Tổng dự án</th>\n",
       "      <th>Tổng Mức Đầu Tư</th>\n",
       "      <th>Trung bình 1 Dự án</th>\n",
       "    </tr>\n",
       "  </thead>\n",
       "  <tbody>\n",
       "    <tr>\n",
       "      <th>0</th>\n",
       "      <td>Dự án 41</td>\n",
       "      <td>80</td>\n",
       "      <td>4264911</td>\n",
       "      <td>53311.39</td>\n",
       "    </tr>\n",
       "    <tr>\n",
       "      <th>1</th>\n",
       "      <td>Dự án kích cầu</td>\n",
       "      <td>50</td>\n",
       "      <td>4769325</td>\n",
       "      <td>95386.50</td>\n",
       "    </tr>\n",
       "    <tr>\n",
       "      <th>2</th>\n",
       "      <td>Dự án đầu tư</td>\n",
       "      <td>2408</td>\n",
       "      <td>941406141</td>\n",
       "      <td>390949.39</td>\n",
       "    </tr>\n",
       "  </tbody>\n",
       "</table>\n",
       "</div>"
      ],
      "text/plain": [
       "         LoaiDuAn  Tổng dự án  Tổng Mức Đầu Tư  Trung bình 1 Dự án\n",
       "0        Dự án 41          80          4264911            53311.39\n",
       "1  Dự án kích cầu          50          4769325            95386.50\n",
       "2    Dự án đầu tư        2408        941406141           390949.39"
      ]
     },
     "execution_count": 49,
     "metadata": {},
     "output_type": "execute_result"
    }
   ],
   "source": [
    "LoaiHinhDauTu=pd.merge(q.groupby('LoaiDuAn').TongMucDauTu.count().reset_index(name='Tổng dự án'),q.groupby('LoaiDuAn').TongMucDauTu.sum().reset_index(name='Tổng Mức Đầu Tư'))\n",
    "LoaiHinhDauTu['Trung bình 1 Dự án']=(LoaiHinhDauTu['Tổng Mức Đầu Tư']/LoaiHinhDauTu['Tổng dự án']).round(2)\n",
    "LoaiHinhDauTu"
   ]
  },
  {
   "cell_type": "markdown",
   "id": "f0a6e8ec",
   "metadata": {},
   "source": [
    "- Các dự án có loại dự án là 'dự án đầu tư' vừa nhiều số lượng, vừa có quy mô đầu tư lớn hơn 2 loại hình dự án còn lại. "
   ]
  },
  {
   "cell_type": "markdown",
   "id": "da2707f0",
   "metadata": {},
   "source": [
    "# 4.1 Biểu đồ tỉ trọng tổng mức đầu tư của 3 loại dự án"
   ]
  },
  {
   "cell_type": "code",
   "execution_count": 50,
   "id": "4d757a39",
   "metadata": {},
   "outputs": [
    {
     "data": {
      "image/png": "[encoded data removed]",
      "text/plain": [
       "<Figure size 640x480 with 1 Axes>"
      ]
     },
     "metadata": {},
     "output_type": "display_data"
    }
   ],
   "source": [
    "LoaiDuAnSum=q.groupby('LoaiDuAn').TongMucDauTu.sum().reset_index(name='TongMucDauTu')\n",
    "labels=[]\n",
    "for i in LoaiDuAnSum.LoaiDuAn.unique():\n",
    "    labels.append(i)\n",
    "\n",
    "plt.pie(q.groupby('LoaiDuAn').TongMucDauTu.sum(),labels=labels,autopct='%.2f %%',explode=(.1,.7,.4))\n",
    "plt.legend()\n",
    "plt.title('Tỉ Trọng Tổng Mức Đầu tư theo loại hình dự án đầu tư',color='Navy')\n",
    "plt.show()"
   ]
  },
  {
   "cell_type": "markdown",
   "id": "15536172",
   "metadata": {},
   "source": [
    "### Kết luận: \n",
    "- Có 3 loại hình dự án đầu tư: Dự án đầu tư, dự án kích cầu, dự án 41\n",
    "- Dự án đầu tư là loại hình dự án có nhiều số lượng dự án và chiếm tỉ trọng gần 99%"
   ]
  },
  {
   "cell_type": "markdown",
   "id": "31b130d0",
   "metadata": {},
   "source": [
    "# 5. Phân tích quy mô dự án"
   ]
  },
  {
   "cell_type": "code",
   "execution_count": 51,
   "id": "7770ef71",
   "metadata": {
    "scrolled": true
   },
   "outputs": [],
   "source": [
    "# chuyển cột TongMucDauTu sang giá trị số\n",
    "q.TongMucDauTu=q.TongMucDauTu.astype(int)"
   ]
  },
  {
   "cell_type": "markdown",
   "id": "171d925f",
   "metadata": {},
   "source": [
    "### 5.1 Tiêu chí phân loại quy mô dự án dựa vào Tổng Mức Đầu Tư Dự Án"
   ]
  },
  {
   "cell_type": "code",
   "execution_count": 52,
   "id": "89200957",
   "metadata": {},
   "outputs": [
    {
     "data": {
      "text/plain": [
       "7180      7000000\n",
       "5892      7377496\n",
       "5816      7500000\n",
       "7150      7699000\n",
       "7093      8265000\n",
       "5833      8400000\n",
       "7122      8500000\n",
       "7126      9200000\n",
       "6360      9657000\n",
       "4578      9782000\n",
       "7151      9804000\n",
       "6049      9863682\n",
       "7086      9926000\n",
       "5008      9926000\n",
       "6054     11132904\n",
       "7155     12500000\n",
       "5834     15015000\n",
       "7160     15405000\n",
       "5588     41607060\n",
       "7154    105600000\n",
       "Name: TongMucDauTu, dtype: int32"
      ]
     },
     "execution_count": 52,
     "metadata": {},
     "output_type": "execute_result"
    }
   ],
   "source": [
    "# sắp xếp các dự án theo Tổng Mức Đầu Tư\n",
    "q.TongMucDauTu.sort_values().tail(20)"
   ]
  },
  {
   "cell_type": "code",
   "execution_count": 53,
   "id": "1c01245d",
   "metadata": {},
   "outputs": [
    {
     "data": {
      "image/png": "[encoded data removed]",
      "text/plain": [
       "<Figure size 640x480 with 1 Axes>"
      ]
     },
     "metadata": {},
     "output_type": "display_data"
    }
   ],
   "source": [
    "# Biểu đồ phân bổ các dự án dựa trên Tổng Mức Đầu Tư Dự Án\n",
    "plt.boxplot(q.TongMucDauTu)\n",
    "plt.show()"
   ]
  },
  {
   "attachments": {},
   "cell_type": "markdown",
   "id": "4e307579",
   "metadata": {},
   "source": [
    "=> Có 2 dự án có Tổng mức đầu tư rất lớn so với phần lớn các phần còn lại. \n",
    "- 2 dự án này phân thành dự án có quy mô 'Đặc Biệt'.\n",
    "- Các dự án còn lại được phân thành 4 loại dựa theo tổng  mức đầu tư như sau:\n",
    "- Siêu Nhỏ: TongMucDauTu<= 3081000\n",
    "- Nhỏ: 3081000 <= TongMucDauTu <= 6162000\n",
    "- Vừa: 6162000 <= TongMucDauTu <= 9243000\n",
    "- Lớn: 9243000 <= TongMucDauTu <= 12324000\n",
    "- Siêu Lớn: 12324000 <= TongMucDauTu <= 15405000"
   ]
  },
  {
   "cell_type": "markdown",
   "id": "2a86bec0",
   "metadata": {},
   "source": [
    "### 5.1.1 Số lượng dự án theo loại Quy Mô Dự Án"
   ]
  },
  {
   "cell_type": "code",
   "execution_count": 84,
   "id": "b6d0938e",
   "metadata": {},
   "outputs": [
    {
     "data": {
      "text/html": [
       "<div>\n",
       "<style scoped>\n",
       "    .dataframe tbody tr th:only-of-type {\n",
       "        vertical-align: middle;\n",
       "    }\n",
       "\n",
       "    .dataframe tbody tr th {\n",
       "        vertical-align: top;\n",
       "    }\n",
       "\n",
       "    .dataframe thead th {\n",
       "        text-align: right;\n",
       "    }\n",
       "</style>\n",
       "<table border=\"1\" class=\"dataframe\">\n",
       "  <thead>\n",
       "    <tr style=\"text-align: right;\">\n",
       "      <th></th>\n",
       "      <th>index</th>\n",
       "      <th>TongSoDuAn</th>\n",
       "    </tr>\n",
       "  </thead>\n",
       "  <tbody>\n",
       "    <tr>\n",
       "      <th>0</th>\n",
       "      <td>Siêu Nhỏ</td>\n",
       "      <td>2492</td>\n",
       "    </tr>\n",
       "    <tr>\n",
       "      <th>1</th>\n",
       "      <td>Nhỏ</td>\n",
       "      <td>21</td>\n",
       "    </tr>\n",
       "    <tr>\n",
       "      <th>2</th>\n",
       "      <td>Vừa</td>\n",
       "      <td>13</td>\n",
       "    </tr>\n",
       "    <tr>\n",
       "      <th>3</th>\n",
       "      <td>Lớn</td>\n",
       "      <td>7</td>\n",
       "    </tr>\n",
       "    <tr>\n",
       "      <th>4</th>\n",
       "      <td>Siêu Lớn</td>\n",
       "      <td>3</td>\n",
       "    </tr>\n",
       "    <tr>\n",
       "      <th>5</th>\n",
       "      <td>Đặc Biệt</td>\n",
       "      <td>2</td>\n",
       "    </tr>\n",
       "  </tbody>\n",
       "</table>\n",
       "</div>"
      ],
      "text/plain": [
       "      index  TongSoDuAn\n",
       "0  Siêu Nhỏ        2492\n",
       "1       Nhỏ          21\n",
       "2       Vừa          13\n",
       "3       Lớn           7\n",
       "4  Siêu Lớn           3\n",
       "5  Đặc Biệt           2"
      ]
     },
     "execution_count": 84,
     "metadata": {},
     "output_type": "execute_result"
    }
   ],
   "source": [
    "QuyMoDuAn=[]\n",
    "for i in q.TongMucDauTu:\n",
    "    if i<=3081000:\n",
    "        QuyMoDuAn.append('Siêu Nhỏ')\n",
    "    elif i<=6162000:\n",
    "        QuyMoDuAn.append('Nhỏ')\n",
    "    elif i<=9243000:\n",
    "        QuyMoDuAn.append('Vừa')\n",
    "    elif i<=12324000:\n",
    "        QuyMoDuAn.append('Lớn')\n",
    "    elif i<=15405000:\n",
    "        QuyMoDuAn.append('Siêu Lớn')\n",
    "    else:\n",
    "        QuyMoDuAn.append('Đặc Biệt')\n",
    "q['QuyMoDuAn']=QuyMoDuAn\n",
    "q.QuyMoDuAn.value_counts().reset_index(name='TongSoDuAn')"
   ]
  },
  {
   "cell_type": "markdown",
   "id": "e6a327d7",
   "metadata": {},
   "source": [
    "### 5.1.2 Tổng mức đầu tư theo loại Quy Mô Dự Án"
   ]
  },
  {
   "cell_type": "code",
   "execution_count": 55,
   "id": "ad1ba1bf",
   "metadata": {},
   "outputs": [
    {
     "data": {
      "text/html": [
       "<div>\n",
       "<style scoped>\n",
       "    .dataframe tbody tr th:only-of-type {\n",
       "        vertical-align: middle;\n",
       "    }\n",
       "\n",
       "    .dataframe tbody tr th {\n",
       "        vertical-align: top;\n",
       "    }\n",
       "\n",
       "    .dataframe thead th {\n",
       "        text-align: right;\n",
       "    }\n",
       "</style>\n",
       "<table border=\"1\" class=\"dataframe\">\n",
       "  <thead>\n",
       "    <tr style=\"text-align: right;\">\n",
       "      <th></th>\n",
       "      <th>QuyMoDuAn</th>\n",
       "      <th>TongMucDauTu</th>\n",
       "      <th>TiTrong</th>\n",
       "    </tr>\n",
       "  </thead>\n",
       "  <tbody>\n",
       "    <tr>\n",
       "      <th>0</th>\n",
       "      <td>Lớn</td>\n",
       "      <td>70091586</td>\n",
       "      <td>7.37%</td>\n",
       "    </tr>\n",
       "    <tr>\n",
       "      <th>1</th>\n",
       "      <td>Nhỏ</td>\n",
       "      <td>102363111</td>\n",
       "      <td>10.77%</td>\n",
       "    </tr>\n",
       "    <tr>\n",
       "      <th>2</th>\n",
       "      <td>Siêu Lớn</td>\n",
       "      <td>42920000</td>\n",
       "      <td>4.52%</td>\n",
       "    </tr>\n",
       "    <tr>\n",
       "      <th>3</th>\n",
       "      <td>Siêu Nhỏ</td>\n",
       "      <td>491229124</td>\n",
       "      <td>51.68%</td>\n",
       "    </tr>\n",
       "    <tr>\n",
       "      <th>4</th>\n",
       "      <td>Vừa</td>\n",
       "      <td>96629496</td>\n",
       "      <td>10.17%</td>\n",
       "    </tr>\n",
       "    <tr>\n",
       "      <th>5</th>\n",
       "      <td>Đặc Biệt</td>\n",
       "      <td>147207060</td>\n",
       "      <td>15.49%</td>\n",
       "    </tr>\n",
       "  </tbody>\n",
       "</table>\n",
       "</div>"
      ],
      "text/plain": [
       "  QuyMoDuAn  TongMucDauTu TiTrong\n",
       "0       Lớn      70091586   7.37%\n",
       "1       Nhỏ     102363111  10.77%\n",
       "2  Siêu Lớn      42920000   4.52%\n",
       "3  Siêu Nhỏ     491229124  51.68%\n",
       "4       Vừa      96629496  10.17%\n",
       "5  Đặc Biệt     147207060  15.49%"
      ]
     },
     "execution_count": 55,
     "metadata": {},
     "output_type": "execute_result"
    }
   ],
   "source": [
    "TongMucDauTu_QuyMoDuAn=q.groupby('QuyMoDuAn').TongMucDauTu.sum().reset_index(name='TongMucDauTu')\n",
    "TongMucDauTu_QuyMoDuAn['TiTrong']=((TongMucDauTu_QuyMoDuAn.TongMucDauTu/TongMucDauTu_QuyMoDuAn.TongMucDauTu.sum()*100).round(2)).astype(str)+'%'\n",
    "TongMucDauTu_QuyMoDuAn"
   ]
  },
  {
   "cell_type": "markdown",
   "id": "23bd20b0",
   "metadata": {},
   "source": [
    "### 5.1.3 Biểu Đồ Tỉ Trọng Tổng Mức Đầu Tư theo Quy Mô Dự Án"
   ]
  },
  {
   "cell_type": "code",
   "execution_count": 56,
   "id": "c174e9e5",
   "metadata": {},
   "outputs": [
    {
     "data": {
      "image/png": "[encoded data removed]",
      "text/plain": [
       "<Figure size 640x480 with 1 Axes>"
      ]
     },
     "metadata": {},
     "output_type": "display_data"
    }
   ],
   "source": [
    "plt.pie(q.groupby('QuyMoDuAn').TongMucDauTu.sum(),autopct='%.2f %%')\n",
    "plt.legend(['Lớn','Nhỏ','Siêu Lớn','Siêu Nhỏ','Vừa','Đặc Biệt'])\n",
    "plt.title('TỈ TRỌNG TỔNG MỨC ĐẦU TƯ THEO QUY MÔ DỰ ÁN')\n",
    "plt.show()"
   ]
  },
  {
   "cell_type": "markdown",
   "id": "3a94022e",
   "metadata": {},
   "source": [
    "# 5.2 Các dự án có quy mô Đặc Biệt, Siêu Lớn và Lớn"
   ]
  },
  {
   "cell_type": "markdown",
   "id": "1011742a",
   "metadata": {},
   "source": [
    "### 5.2.1 Dự án có quy mô Đặc biệt là 2 dự án nào?"
   ]
  },
  {
   "cell_type": "code",
   "execution_count": 85,
   "id": "5f7e001a",
   "metadata": {},
   "outputs": [
    {
     "data": {
      "text/html": [
       "<div>\n",
       "<style scoped>\n",
       "    .dataframe tbody tr th:only-of-type {\n",
       "        vertical-align: middle;\n",
       "    }\n",
       "\n",
       "    .dataframe tbody tr th {\n",
       "        vertical-align: top;\n",
       "    }\n",
       "\n",
       "    .dataframe thead th {\n",
       "        text-align: right;\n",
       "    }\n",
       "</style>\n",
       "<table border=\"1\" class=\"dataframe\">\n",
       "  <thead>\n",
       "    <tr style=\"text-align: right;\">\n",
       "      <th></th>\n",
       "      <th>TenDuAn</th>\n",
       "      <th>DiaDiemDauTu</th>\n",
       "      <th>TongMucDauTu</th>\n",
       "      <th>NamKhoiCong</th>\n",
       "      <th>NamHoanThanh</th>\n",
       "    </tr>\n",
       "  </thead>\n",
       "  <tbody>\n",
       "    <tr>\n",
       "      <th>5588</th>\n",
       "      <td>Đầu tư xây dựng đường sắt đô thị Thành phố Hồ ...</td>\n",
       "      <td>Thành phố Hồ Chí Minh</td>\n",
       "      <td>41607060</td>\n",
       "      <td>2017</td>\n",
       "      <td>2024</td>\n",
       "    </tr>\n",
       "    <tr>\n",
       "      <th>7154</th>\n",
       "      <td>Tuyến Metro số 4 và 4B</td>\n",
       "      <td>quận 1, 4,7, 12, Gò Vấp, Nhà Bè</td>\n",
       "      <td>105600000</td>\n",
       "      <td>2016</td>\n",
       "      <td>2019</td>\n",
       "    </tr>\n",
       "  </tbody>\n",
       "</table>\n",
       "</div>"
      ],
      "text/plain": [
       "                                                TenDuAn  \\\n",
       "5588  Đầu tư xây dựng đường sắt đô thị Thành phố Hồ ...   \n",
       "7154                             Tuyến Metro số 4 và 4B   \n",
       "\n",
       "                         DiaDiemDauTu  TongMucDauTu NamKhoiCong NamHoanThanh  \n",
       "5588            Thành phố Hồ Chí Minh      41607060        2017         2024  \n",
       "7154  quận 1, 4,7, 12, Gò Vấp, Nhà Bè     105600000        2016         2019  "
      ]
     },
     "execution_count": 85,
     "metadata": {},
     "output_type": "execute_result"
    }
   ],
   "source": [
    "q[q.QuyMoDuAn=='Đặc Biệt'][['TenDuAn','DiaDiemDauTu','TongMucDauTu','NamKhoiCong','NamHoanThanh']]"
   ]
  },
  {
   "cell_type": "markdown",
   "id": "7ed633d4",
   "metadata": {},
   "source": [
    "### 5.2.2 Dự án có quy mô Siêu Lớn là 3 dự án nào?"
   ]
  },
  {
   "cell_type": "code",
   "execution_count": 86,
   "id": "7fa8d0ba",
   "metadata": {
    "scrolled": true
   },
   "outputs": [
    {
     "data": {
      "text/html": [
       "<div>\n",
       "<style scoped>\n",
       "    .dataframe tbody tr th:only-of-type {\n",
       "        vertical-align: middle;\n",
       "    }\n",
       "\n",
       "    .dataframe tbody tr th {\n",
       "        vertical-align: top;\n",
       "    }\n",
       "\n",
       "    .dataframe thead th {\n",
       "        text-align: right;\n",
       "    }\n",
       "</style>\n",
       "<table border=\"1\" class=\"dataframe\">\n",
       "  <thead>\n",
       "    <tr style=\"text-align: right;\">\n",
       "      <th></th>\n",
       "      <th>TenDuAn</th>\n",
       "      <th>DiaDiemDauTu</th>\n",
       "      <th>TongMucDauTu</th>\n",
       "      <th>NamKhoiCong</th>\n",
       "      <th>NamHoanThanh</th>\n",
       "    </tr>\n",
       "  </thead>\n",
       "  <tbody>\n",
       "    <tr>\n",
       "      <th>5834</th>\n",
       "      <td>Đầu tư Xây dựng Tuyến Monorail số 2</td>\n",
       "      <td>Quận 2, 7, Bình Chánh</td>\n",
       "      <td>15015000</td>\n",
       "      <td>2015</td>\n",
       "      <td>2016</td>\n",
       "    </tr>\n",
       "    <tr>\n",
       "      <th>7155</th>\n",
       "      <td>Tuyến xe điện mặt đất số 1</td>\n",
       "      <td>quận Bình Tân, quận 6 quận 5, quận 1</td>\n",
       "      <td>12500000</td>\n",
       "      <td>2016</td>\n",
       "      <td>2019</td>\n",
       "    </tr>\n",
       "    <tr>\n",
       "      <th>7160</th>\n",
       "      <td>Đường trên cao tuyến số 5 (đoạn từ nút giao tr...</td>\n",
       "      <td>quậnThủ Đức, quận 12 - TPHCM, Dĩ An - Bình Dương</td>\n",
       "      <td>15405000</td>\n",
       "      <td>2016</td>\n",
       "      <td>2019</td>\n",
       "    </tr>\n",
       "  </tbody>\n",
       "</table>\n",
       "</div>"
      ],
      "text/plain": [
       "                                                TenDuAn  \\\n",
       "5834            Đầu tư Xây dựng Tuyến Monorail số 2    \n",
       "7155                         Tuyến xe điện mặt đất số 1   \n",
       "7160  Đường trên cao tuyến số 5 (đoạn từ nút giao tr...   \n",
       "\n",
       "                                          DiaDiemDauTu  TongMucDauTu  \\\n",
       "5834                             Quận 2, 7, Bình Chánh      15015000   \n",
       "7155              quận Bình Tân, quận 6 quận 5, quận 1      12500000   \n",
       "7160  quậnThủ Đức, quận 12 - TPHCM, Dĩ An - Bình Dương      15405000   \n",
       "\n",
       "     NamKhoiCong NamHoanThanh  \n",
       "5834        2015         2016  \n",
       "7155        2016         2019  \n",
       "7160        2016         2019  "
      ]
     },
     "execution_count": 86,
     "metadata": {},
     "output_type": "execute_result"
    }
   ],
   "source": [
    "q[q.QuyMoDuAn=='Siêu Lớn'][['TenDuAn','DiaDiemDauTu','TongMucDauTu','NamKhoiCong','NamHoanThanh']]"
   ]
  },
  {
   "cell_type": "markdown",
   "id": "fddd6ddc",
   "metadata": {},
   "source": [
    "### 5.2.3 Dự án có quy mô Lớn là 7 dự án nào?"
   ]
  },
  {
   "cell_type": "code",
   "execution_count": 87,
   "id": "806f7d87",
   "metadata": {
    "scrolled": true
   },
   "outputs": [
    {
     "data": {
      "text/html": [
       "<div>\n",
       "<style scoped>\n",
       "    .dataframe tbody tr th:only-of-type {\n",
       "        vertical-align: middle;\n",
       "    }\n",
       "\n",
       "    .dataframe tbody tr th {\n",
       "        vertical-align: top;\n",
       "    }\n",
       "\n",
       "    .dataframe thead th {\n",
       "        text-align: right;\n",
       "    }\n",
       "</style>\n",
       "<table border=\"1\" class=\"dataframe\">\n",
       "  <thead>\n",
       "    <tr style=\"text-align: right;\">\n",
       "      <th></th>\n",
       "      <th>TenDuAn</th>\n",
       "      <th>DiaDiemDauTu</th>\n",
       "      <th>TongMucDauTu</th>\n",
       "      <th>NamKhoiCong</th>\n",
       "      <th>NamHoanThanh</th>\n",
       "    </tr>\n",
       "  </thead>\n",
       "  <tbody>\n",
       "    <tr>\n",
       "      <th>4578</th>\n",
       "      <td>Dự án Cải thiện môi trường nước thành phố Hồ C...</td>\n",
       "      <td>Thành phố Hồ Chí Minh</td>\n",
       "      <td>9782000</td>\n",
       "      <td>2019</td>\n",
       "      <td>2025</td>\n",
       "    </tr>\n",
       "    <tr>\n",
       "      <th>5008</th>\n",
       "      <td>Giải quyết ngập do triều khu vực Thành phố Hồ ...</td>\n",
       "      <td>quận 1, quận 4, quận 7, quận 8, huyện Nhà Bè, ...</td>\n",
       "      <td>9926000</td>\n",
       "      <td>2016</td>\n",
       "      <td>2018</td>\n",
       "    </tr>\n",
       "    <tr>\n",
       "      <th>6049</th>\n",
       "      <td>Xây dựng Đại lộ Đông Tây</td>\n",
       "      <td>TP.HCM</td>\n",
       "      <td>9863682</td>\n",
       "      <td>2008</td>\n",
       "      <td>2013</td>\n",
       "    </tr>\n",
       "    <tr>\n",
       "      <th>6054</th>\n",
       "      <td>Dự án Vệ sinh môi trường TPHCM - Giai đoạn 2</td>\n",
       "      <td>Quận 2</td>\n",
       "      <td>11132904</td>\n",
       "      <td>2015</td>\n",
       "      <td>2020</td>\n",
       "    </tr>\n",
       "    <tr>\n",
       "      <th>6360</th>\n",
       "      <td>Dự án Quản lý rủi ro ngập nước khu vực thành p...</td>\n",
       "      <td>Thành phố Hồ Chí Minh</td>\n",
       "      <td>9657000</td>\n",
       "      <td>2017</td>\n",
       "      <td>2021</td>\n",
       "    </tr>\n",
       "    <tr>\n",
       "      <th>7086</th>\n",
       "      <td>Giải quyết ngập do triều khu vực thành phố Hồ ...</td>\n",
       "      <td>quận 1, 4, 7, 8, Bình Chánh, Nhà Bè</td>\n",
       "      <td>9926000</td>\n",
       "      <td>2016</td>\n",
       "      <td>2018</td>\n",
       "    </tr>\n",
       "    <tr>\n",
       "      <th>7151</th>\n",
       "      <td>Nhà máy xử lý nước thải Bình Tân</td>\n",
       "      <td>quận Bình Tân</td>\n",
       "      <td>9804000</td>\n",
       "      <td>2016</td>\n",
       "      <td>2019</td>\n",
       "    </tr>\n",
       "  </tbody>\n",
       "</table>\n",
       "</div>"
      ],
      "text/plain": [
       "                                                TenDuAn  \\\n",
       "4578  Dự án Cải thiện môi trường nước thành phố Hồ C...   \n",
       "5008  Giải quyết ngập do triều khu vực Thành phố Hồ ...   \n",
       "6049                          Xây dựng Đại lộ Đông Tây    \n",
       "6054       Dự án Vệ sinh môi trường TPHCM - Giai đoạn 2   \n",
       "6360  Dự án Quản lý rủi ro ngập nước khu vực thành p...   \n",
       "7086  Giải quyết ngập do triều khu vực thành phố Hồ ...   \n",
       "7151                   Nhà máy xử lý nước thải Bình Tân   \n",
       "\n",
       "                                           DiaDiemDauTu  TongMucDauTu  \\\n",
       "4578                              Thành phố Hồ Chí Minh       9782000   \n",
       "5008  quận 1, quận 4, quận 7, quận 8, huyện Nhà Bè, ...       9926000   \n",
       "6049                                             TP.HCM       9863682   \n",
       "6054                                             Quận 2      11132904   \n",
       "6360                              Thành phố Hồ Chí Minh       9657000   \n",
       "7086                quận 1, 4, 7, 8, Bình Chánh, Nhà Bè       9926000   \n",
       "7151                                      quận Bình Tân       9804000   \n",
       "\n",
       "     NamKhoiCong NamHoanThanh  \n",
       "4578        2019         2025  \n",
       "5008        2016         2018  \n",
       "6049        2008         2013  \n",
       "6054        2015         2020  \n",
       "6360        2017         2021  \n",
       "7086        2016         2018  \n",
       "7151        2016         2019  "
      ]
     },
     "execution_count": 87,
     "metadata": {},
     "output_type": "execute_result"
    }
   ],
   "source": [
    "q[q.QuyMoDuAn=='Lớn'][['TenDuAn','DiaDiemDauTu','TongMucDauTu','NamKhoiCong','NamHoanThanh']]"
   ]
  },
  {
   "cell_type": "markdown",
   "id": "c44f0f14",
   "metadata": {},
   "source": [
    "# 5.3 Các dự án có quy mô Vừa và Nhỏ"
   ]
  },
  {
   "cell_type": "markdown",
   "id": "d26946d9",
   "metadata": {},
   "source": [
    "### 5.3.1 Các dự án có quy mô Vừa và Nhỏ khởi công ở những năm nào?"
   ]
  },
  {
   "cell_type": "code",
   "execution_count": 60,
   "id": "a7b1c29c",
   "metadata": {},
   "outputs": [
    {
     "data": {
      "text/plain": [
       "2016    23\n",
       "2008     2\n",
       "2015     2\n",
       "2009     2\n",
       "2018     1\n",
       "2004     1\n",
       "2002     1\n",
       "2010     1\n",
       "2003     1\n",
       "Name: NamKhoiCong, dtype: int64"
      ]
     },
     "execution_count": 60,
     "metadata": {},
     "output_type": "execute_result"
    }
   ],
   "source": [
    "q[(q.QuyMoDuAn=='Vừa')|(q.QuyMoDuAn=='Nhỏ')].NamKhoiCong.value_counts()"
   ]
  },
  {
   "cell_type": "markdown",
   "id": "93f3c1d1",
   "metadata": {},
   "source": [
    "### 5.3.2 Các dự án có quy mô Vừa và Nhỏ tập trung ở những địa điểm nào?"
   ]
  },
  {
   "cell_type": "code",
   "execution_count": 61,
   "id": "0c04d4da",
   "metadata": {},
   "outputs": [
    {
     "data": {
      "text/plain": [
       "Thành phố Hồ Chí Minh                            3\n",
       "quận 7                                           2\n",
       "thành phố Hồ Chí Minh                            2\n",
       "quận 2, quận 7                                   1\n",
       "Huyện Nhà Bè, huyện Cần Giờ                      1\n",
       "huyện Nhơn Trạch tỉnh Đồng Nai, quận 2 TP.HCM    1\n",
       "quận Thủ Đức, quận 9, quận 2                     1\n",
       "quận 2                                           1\n",
       "Quận 7, huyện Nhà Bè                             1\n",
       "Quận 9, quận Thủ Đức                             1\n",
       "quận 9, Tây Ninh                                 1\n",
       "Nhà Bè                                           1\n",
       "Quận Bình Thạnh                                  1\n",
       "quận 7, huyện Nhà Bè, Bình Chánh                 1\n",
       "quận 8, huyện Bình Chánh                         1\n",
       "Quận 1                                           1\n",
       "Quận 2                                           1\n",
       "quận 9                                           1\n",
       "Chợ Nguyễn Văn Trỗi, quận 3\\n                    1\n",
       "quận 1                                           1\n",
       "Khu Liên hợp thể thao Rạch Chiếc, quận 2         1\n",
       " quận Bình Thạnh, quận Thủ Đức                   1\n",
       "Quận 2, quận 9, thị xã Dĩ An tỉnh Bình Dương     1\n",
       "Quận 12, quận Bình Tân, huyện Bình Chánh         1\n",
       " KĐT mới Thủ Thiêm quận 2                        1\n",
       "Quận Thủ Đức                                     1\n",
       "TP.HCM                                           1\n",
       "Quận 12, Gò Vấp                                  1\n",
       "Quận Tân Bình, Gò Vấp, Bình Thạnh, Thủ Đức       1\n",
       "Quận 4, quận 2                                   1\n",
       "Name: DiaDiemDauTu, dtype: int64"
      ]
     },
     "execution_count": 61,
     "metadata": {},
     "output_type": "execute_result"
    }
   ],
   "source": [
    "q[(q.QuyMoDuAn=='Vừa')|(q.QuyMoDuAn=='Nhỏ')].DiaDiemDauTu.value_counts()"
   ]
  },
  {
   "cell_type": "markdown",
   "id": "2ec3688c",
   "metadata": {},
   "source": [
    "# 5.4 Các dự án có quy mô Siêu Nhỏ"
   ]
  },
  {
   "cell_type": "markdown",
   "id": "a4ed62b8",
   "metadata": {},
   "source": [
    "### 5.4.1 Các dự án có quy mô Siêu Nhỏ tập trung ở những địa điểm nào?"
   ]
  },
  {
   "cell_type": "code",
   "execution_count": 88,
   "id": "54755f26",
   "metadata": {},
   "outputs": [
    {
     "data": {
      "text/html": [
       "<div>\n",
       "<style scoped>\n",
       "    .dataframe tbody tr th:only-of-type {\n",
       "        vertical-align: middle;\n",
       "    }\n",
       "\n",
       "    .dataframe tbody tr th {\n",
       "        vertical-align: top;\n",
       "    }\n",
       "\n",
       "    .dataframe thead th {\n",
       "        text-align: right;\n",
       "    }\n",
       "</style>\n",
       "<table border=\"1\" class=\"dataframe\">\n",
       "  <thead>\n",
       "    <tr style=\"text-align: right;\">\n",
       "      <th></th>\n",
       "      <th>index</th>\n",
       "      <th>TongSoDuAn</th>\n",
       "    </tr>\n",
       "  </thead>\n",
       "  <tbody>\n",
       "    <tr>\n",
       "      <th>0</th>\n",
       "      <td>Huyện Bình Chánh</td>\n",
       "      <td>181</td>\n",
       "    </tr>\n",
       "    <tr>\n",
       "      <th>1</th>\n",
       "      <td>Quận Bình Tân</td>\n",
       "      <td>177</td>\n",
       "    </tr>\n",
       "    <tr>\n",
       "      <th>2</th>\n",
       "      <td>Quận 9</td>\n",
       "      <td>165</td>\n",
       "    </tr>\n",
       "    <tr>\n",
       "      <th>3</th>\n",
       "      <td>Huyện Hóc Môn</td>\n",
       "      <td>142</td>\n",
       "    </tr>\n",
       "    <tr>\n",
       "      <th>4</th>\n",
       "      <td>Quận 12</td>\n",
       "      <td>128</td>\n",
       "    </tr>\n",
       "    <tr>\n",
       "      <th>...</th>\n",
       "      <td>...</td>\n",
       "      <td>...</td>\n",
       "    </tr>\n",
       "    <tr>\n",
       "      <th>216</th>\n",
       "      <td>Phường Trường Thạnh, Quận 9</td>\n",
       "      <td>1</td>\n",
       "    </tr>\n",
       "    <tr>\n",
       "      <th>217</th>\n",
       "      <td>Quận 9  Quận 2</td>\n",
       "      <td>1</td>\n",
       "    </tr>\n",
       "    <tr>\n",
       "      <th>218</th>\n",
       "      <td>Quận 2  Quận 9</td>\n",
       "      <td>1</td>\n",
       "    </tr>\n",
       "    <tr>\n",
       "      <th>219</th>\n",
       "      <td>Huyện Bình Chánh, Củ Chi, Hóc Môn (Thành phố H...</td>\n",
       "      <td>1</td>\n",
       "    </tr>\n",
       "    <tr>\n",
       "      <th>220</th>\n",
       "      <td>quận 8</td>\n",
       "      <td>1</td>\n",
       "    </tr>\n",
       "  </tbody>\n",
       "</table>\n",
       "<p>221 rows × 2 columns</p>\n",
       "</div>"
      ],
      "text/plain": [
       "                                                 index  TongSoDuAn\n",
       "0                                     Huyện Bình Chánh         181\n",
       "1                                        Quận Bình Tân         177\n",
       "2                                               Quận 9         165\n",
       "3                                        Huyện Hóc Môn         142\n",
       "4                                              Quận 12         128\n",
       "..                                                 ...         ...\n",
       "216                        Phường Trường Thạnh, Quận 9           1\n",
       "217                                     Quận 9  Quận 2           1\n",
       "218                                     Quận 2  Quận 9           1\n",
       "219  Huyện Bình Chánh, Củ Chi, Hóc Môn (Thành phố H...           1\n",
       "220                                             quận 8           1\n",
       "\n",
       "[221 rows x 2 columns]"
      ]
     },
     "execution_count": 88,
     "metadata": {},
     "output_type": "execute_result"
    }
   ],
   "source": [
    "q[(q.QuyMoDuAn=='Siêu Nhỏ')].DiaDiemDauTu.value_counts().reset_index(name='TongSoDuAn')"
   ]
  },
  {
   "cell_type": "markdown",
   "id": "3dead8c7",
   "metadata": {},
   "source": [
    "### 5.4.2 Các dự án có quy mô Siêu Nhỏ tập trung ở những lĩnh vực nào?"
   ]
  },
  {
   "cell_type": "code",
   "execution_count": 89,
   "id": "ee84e94f",
   "metadata": {
    "scrolled": true
   },
   "outputs": [
    {
     "data": {
      "text/html": [
       "<div>\n",
       "<style scoped>\n",
       "    .dataframe tbody tr th:only-of-type {\n",
       "        vertical-align: middle;\n",
       "    }\n",
       "\n",
       "    .dataframe tbody tr th {\n",
       "        vertical-align: top;\n",
       "    }\n",
       "\n",
       "    .dataframe thead th {\n",
       "        text-align: right;\n",
       "    }\n",
       "</style>\n",
       "<table border=\"1\" class=\"dataframe\">\n",
       "  <thead>\n",
       "    <tr style=\"text-align: right;\">\n",
       "      <th></th>\n",
       "      <th>index</th>\n",
       "      <th>TongSoDuAn</th>\n",
       "    </tr>\n",
       "  </thead>\n",
       "  <tbody>\n",
       "    <tr>\n",
       "      <th>0</th>\n",
       "      <td>Giáo dục - đào tạo</td>\n",
       "      <td>715</td>\n",
       "    </tr>\n",
       "    <tr>\n",
       "      <th>1</th>\n",
       "      <td>Đầu tư cho giao thông</td>\n",
       "      <td>512</td>\n",
       "    </tr>\n",
       "    <tr>\n",
       "      <th>2</th>\n",
       "      <td>Chương trình giảm ngập nước</td>\n",
       "      <td>203</td>\n",
       "    </tr>\n",
       "    <tr>\n",
       "      <th>3</th>\n",
       "      <td>Chương trình giảm ùn tắc giao thông, giảm tai ...</td>\n",
       "      <td>177</td>\n",
       "    </tr>\n",
       "    <tr>\n",
       "      <th>4</th>\n",
       "      <td>Thủy lợi, phòng chống lụt bão</td>\n",
       "      <td>131</td>\n",
       "    </tr>\n",
       "    <tr>\n",
       "      <th>5</th>\n",
       "      <td>An ninh quốc phòng</td>\n",
       "      <td>120</td>\n",
       "    </tr>\n",
       "    <tr>\n",
       "      <th>6</th>\n",
       "      <td>Văn hóa, thể thao và xã hội</td>\n",
       "      <td>89</td>\n",
       "    </tr>\n",
       "    <tr>\n",
       "      <th>7</th>\n",
       "      <td>Dự án khác</td>\n",
       "      <td>89</td>\n",
       "    </tr>\n",
       "    <tr>\n",
       "      <th>8</th>\n",
       "      <td>Y Tế</td>\n",
       "      <td>74</td>\n",
       "    </tr>\n",
       "    <tr>\n",
       "      <th>9</th>\n",
       "      <td>Xây dựng trụ sở cơ quan</td>\n",
       "      <td>70</td>\n",
       "    </tr>\n",
       "    <tr>\n",
       "      <th>10</th>\n",
       "      <td>Khoa học - công nghệ</td>\n",
       "      <td>57</td>\n",
       "    </tr>\n",
       "    <tr>\n",
       "      <th>11</th>\n",
       "      <td>Nông nghiệp</td>\n",
       "      <td>44</td>\n",
       "    </tr>\n",
       "    <tr>\n",
       "      <th>12</th>\n",
       "      <td>Chương trình giảm ô nhiễm môi trường</td>\n",
       "      <td>41</td>\n",
       "    </tr>\n",
       "    <tr>\n",
       "      <th>13</th>\n",
       "      <td>Dự án ngành điện</td>\n",
       "      <td>39</td>\n",
       "    </tr>\n",
       "    <tr>\n",
       "      <th>14</th>\n",
       "      <td>Hạ Tầng</td>\n",
       "      <td>38</td>\n",
       "    </tr>\n",
       "    <tr>\n",
       "      <th>15</th>\n",
       "      <td>Xây dựng nhà ở xã hội, tái định cư</td>\n",
       "      <td>31</td>\n",
       "    </tr>\n",
       "    <tr>\n",
       "      <th>16</th>\n",
       "      <td>Công nghệ thông tin</td>\n",
       "      <td>27</td>\n",
       "    </tr>\n",
       "    <tr>\n",
       "      <th>17</th>\n",
       "      <td>Cấp nước sạch</td>\n",
       "      <td>10</td>\n",
       "    </tr>\n",
       "    <tr>\n",
       "      <th>18</th>\n",
       "      <td>Chương trình chỉnh trang và phát triển đô thị</td>\n",
       "      <td>9</td>\n",
       "    </tr>\n",
       "    <tr>\n",
       "      <th>19</th>\n",
       "      <td>Hạ Tầng, Nhà ở cho Công nhân, ký túc xá sinh viên</td>\n",
       "      <td>3</td>\n",
       "    </tr>\n",
       "    <tr>\n",
       "      <th>20</th>\n",
       "      <td>Môi trường</td>\n",
       "      <td>3</td>\n",
       "    </tr>\n",
       "    <tr>\n",
       "      <th>21</th>\n",
       "      <td>None</td>\n",
       "      <td>3</td>\n",
       "    </tr>\n",
       "    <tr>\n",
       "      <th>22</th>\n",
       "      <td>Chương trình nâng cao chất lượng tăng trưởng, ...</td>\n",
       "      <td>2</td>\n",
       "    </tr>\n",
       "    <tr>\n",
       "      <th>23</th>\n",
       "      <td>Công nghiệp, công nghệ cao</td>\n",
       "      <td>2</td>\n",
       "    </tr>\n",
       "    <tr>\n",
       "      <th>24</th>\n",
       "      <td>Giáo dục - Đào tạo</td>\n",
       "      <td>1</td>\n",
       "    </tr>\n",
       "    <tr>\n",
       "      <th>25</th>\n",
       "      <td>Y tế</td>\n",
       "      <td>1</td>\n",
       "    </tr>\n",
       "    <tr>\n",
       "      <th>26</th>\n",
       "      <td>Công nghiệp hỗ trợ</td>\n",
       "      <td>1</td>\n",
       "    </tr>\n",
       "  </tbody>\n",
       "</table>\n",
       "</div>"
      ],
      "text/plain": [
       "                                                index  TongSoDuAn\n",
       "0                                  Giáo dục - đào tạo         715\n",
       "1                               Đầu tư cho giao thông         512\n",
       "2                         Chương trình giảm ngập nước         203\n",
       "3   Chương trình giảm ùn tắc giao thông, giảm tai ...         177\n",
       "4                       Thủy lợi, phòng chống lụt bão         131\n",
       "5                                  An ninh quốc phòng         120\n",
       "6                         Văn hóa, thể thao và xã hội          89\n",
       "7                                          Dự án khác          89\n",
       "8                                                Y Tế          74\n",
       "9                             Xây dựng trụ sở cơ quan          70\n",
       "10                               Khoa học - công nghệ          57\n",
       "11                                        Nông nghiệp          44\n",
       "12           Chương trình giảm ô nhiễm môi trường          41\n",
       "13                                   Dự án ngành điện          39\n",
       "14                                            Hạ Tầng          38\n",
       "15                 Xây dựng nhà ở xã hội, tái định cư          31\n",
       "16                                Công nghệ thông tin          27\n",
       "17                                      Cấp nước sạch          10\n",
       "18     Chương trình chỉnh trang và phát triển đô thị           9\n",
       "19  Hạ Tầng, Nhà ở cho Công nhân, ký túc xá sinh viên           3\n",
       "20                                        Môi trường            3\n",
       "21                                               None           3\n",
       "22  Chương trình nâng cao chất lượng tăng trưởng, ...           2\n",
       "23                        Công nghiệp, công nghệ cao            2\n",
       "24                                 Giáo dục - Đào tạo           1\n",
       "25                                               Y tế           1\n",
       "26                                Công nghiệp hỗ trợ            1"
      ]
     },
     "execution_count": 89,
     "metadata": {},
     "output_type": "execute_result"
    }
   ],
   "source": [
    "q[(q.QuyMoDuAn=='Siêu Nhỏ')].LinhVuc.value_counts().reset_index(name='TongSoDuAn')"
   ]
  },
  {
   "cell_type": "markdown",
   "id": "5bacade6",
   "metadata": {},
   "source": [
    "### Kết luận: \n",
    "- Tỉ trọng đóng góp tổng mức đầu tư của dự án siêu nhỏ là 51.68%, tiếp theo là dự án Đặc biệt chiếm 10.17%\n",
    "- 2 Dự án có quy mô Đặc biệt là: Tuyến Metro số 4 và 4B, Đầu tư xây dựng đường sất đô thị TP HCM và\n",
    "- 3 Dự án có quy mô Siêu lớn là: Đầu tư Xây dựng Tuyến Monorail số 2, Tuyến xe điện mặt đất số 1,Đường trên cao tuyến số 5 (đoạn từ nút giao trạm 2 đến nút giao An Sương)\n",
    "- 7 Dự án có quy mô lớn là: Dự án Cải thiện môi trường nước thành phố Hồ Chí Minh lưu vực Tàu HŨ - Bến Nghé - Đôi - Tẻ giai đoạn III, Giải quyết ngập do triều khu vực Thành phố Hồ Chí Minh có xét đến yếu tố biến đổi khí hậu (giai đoạn 1) ,Xây dựng Đại lộ Đông Tây, Dự án Vệ sinh môi trường TPHCM - Giai đoạn 2, Dự án Quản lý rủi ro ngập nước khu vực thành phố Hồ Chí Minh, Giải quyết ngập do triều khu vực thành phố Hồ Chí Minh có xét đến yếu tố biến đổi khí hậu, Nhà máy xử lý nước thải Bình Tân.\n",
    "- Những dự án có quy mô vừa và nhỏ khởi công nhiều trong năm 2016, dia diem thường ở TP Hồ Chí Minh, Quận 2 và Quận 7\n",
    "- Những dự án có quy mô siêu nhỏ tập trung nhiều Huyện Bình Chánh, Quận Bình Tân, Quận 9, Huyện Hóc Môn, Quận 12,\n",
    "- Những dự án có quy mô siêu nhỏ tập trung nhiều ở lĩnh vực Giáo dục - đào tạo, đầu tư cho giao thông, chương trình giảm ngập nước\n",
    "\n"
   ]
  },
  {
   "cell_type": "markdown",
   "id": "f57a983f",
   "metadata": {},
   "source": [
    "# 6. Đơn vị cấp phép"
   ]
  },
  {
   "cell_type": "code",
   "execution_count": 90,
   "id": "29d4424b",
   "metadata": {
    "scrolled": true
   },
   "outputs": [
    {
     "data": {
      "text/html": [
       "<div>\n",
       "<style scoped>\n",
       "    .dataframe tbody tr th:only-of-type {\n",
       "        vertical-align: middle;\n",
       "    }\n",
       "\n",
       "    .dataframe tbody tr th {\n",
       "        vertical-align: top;\n",
       "    }\n",
       "\n",
       "    .dataframe thead th {\n",
       "        text-align: right;\n",
       "    }\n",
       "</style>\n",
       "<table border=\"1\" class=\"dataframe\">\n",
       "  <thead>\n",
       "    <tr style=\"text-align: right;\">\n",
       "      <th></th>\n",
       "      <th>index</th>\n",
       "      <th>TongSoDuAn</th>\n",
       "    </tr>\n",
       "  </thead>\n",
       "  <tbody>\n",
       "    <tr>\n",
       "      <th>0</th>\n",
       "      <td>Nhóm B</td>\n",
       "      <td>1302</td>\n",
       "    </tr>\n",
       "    <tr>\n",
       "      <th>1</th>\n",
       "      <td>Nhóm C</td>\n",
       "      <td>1098</td>\n",
       "    </tr>\n",
       "    <tr>\n",
       "      <th>2</th>\n",
       "      <td>Nhóm A</td>\n",
       "      <td>88</td>\n",
       "    </tr>\n",
       "    <tr>\n",
       "      <th>3</th>\n",
       "      <td>Quyết định số 50/2015/QĐ-UBND ngày 30/10/2...</td>\n",
       "      <td>44</td>\n",
       "    </tr>\n",
       "    <tr>\n",
       "      <th>4</th>\n",
       "      <td>Quyết định số 33/2011/QĐ-UBND ngày 28/05/2...</td>\n",
       "      <td>6</td>\n",
       "    </tr>\n",
       "  </tbody>\n",
       "</table>\n",
       "</div>"
      ],
      "text/plain": [
       "                                               index  TongSoDuAn\n",
       "0                                             Nhóm B        1302\n",
       "1                                             Nhóm C        1098\n",
       "2                                             Nhóm A          88\n",
       "3  Quyết định số 50/2015/QĐ-UBND ngày 30/10/2...          44\n",
       "4  Quyết định số 33/2011/QĐ-UBND ngày 28/05/2...           6"
      ]
     },
     "execution_count": 90,
     "metadata": {},
     "output_type": "execute_result"
    }
   ],
   "source": [
    "q.NhomDuAn.value_counts().reset_index(name='TongSoDuAn')"
   ]
  },
  {
   "cell_type": "code",
   "execution_count": 65,
   "id": "09439449",
   "metadata": {},
   "outputs": [
    {
     "data": {
      "image/png": "[encoded data removed]",
      "text/plain": [
       "<Figure size 640x480 with 1 Axes>"
      ]
     },
     "metadata": {},
     "output_type": "display_data"
    }
   ],
   "source": [
    "plt.pie(q.NhomDuAn.value_counts(),autopct='%.2f %%',explode=(.1,.2,.5,.4,0))\n",
    "plt.legend(['Nhóm B','Nhóm C','Nhóm A','QD 50','QD 33'])\n",
    "plt.title('TỈ TRỌNG ĐƠN VỊ CẤP PHÉP CỦA CÁC DỰ ÁN')\n",
    "plt.show()"
   ]
  },
  {
   "cell_type": "markdown",
   "id": "ec2ea812",
   "metadata": {},
   "source": [
    "### Kết luận: \n",
    "- Đơn vị cấp phép cho những dự án Nhóm B chiếm tỉ trọng cáo nhất 51.30%, tiếp đến là những dự án nhóm C với 43.26%\n",
    "- Các nhóm A và QD 50 và QD 33 chiếm tỉ trọng nhỏ lần lượt là 3.47%, 1.73% và 0.24%"
   ]
  },
  {
   "cell_type": "markdown",
   "id": "e1394ed5",
   "metadata": {},
   "source": [
    "# 7. THỜI HẠN CẤP PHÉP"
   ]
  },
  {
   "cell_type": "markdown",
   "id": "f843bd25",
   "metadata": {},
   "source": [
    "Đặt giả thiết là thời hạn cấp phép bằng năm khởi công - năm đăng ký"
   ]
  },
  {
   "cell_type": "code",
   "execution_count": 92,
   "id": "a78e3353",
   "metadata": {},
   "outputs": [
    {
     "data": {
      "text/plain": [
       " 0     0.405831\n",
       " 1     0.395587\n",
       " 2     0.139874\n",
       " 3     0.032703\n",
       " 4     0.013396\n",
       "-1     0.004728\n",
       "-3     0.002364\n",
       " 5     0.001576\n",
       "-4     0.001182\n",
       "-2     0.000788\n",
       " 6     0.000394\n",
       "-6     0.000394\n",
       "-11    0.000394\n",
       " 7     0.000394\n",
       "-8     0.000394\n",
       "dtype: float64"
      ]
     },
     "execution_count": 92,
     "metadata": {},
     "output_type": "execute_result"
    }
   ],
   "source": [
    "(q.NamKhoiCong.astype(int)-q.NamDangKy.astype(int)).value_counts(normalize=True)"
   ]
  },
  {
   "cell_type": "code",
   "execution_count": 93,
   "id": "a8e11d49",
   "metadata": {},
   "outputs": [
    {
     "data": {
      "image/png": "[encoded data removed]",
      "text/plain": [
       "<Figure size 640x480 with 1 Axes>"
      ]
     },
     "metadata": {},
     "output_type": "display_data"
    }
   ],
   "source": [
    "(q.NamKhoiCong.astype(int)-q.NamDangKy.astype(int)).value_counts().plot(kind='bar')\n",
    "plt.title('BIỂU ĐỒ SỐ LƯỢNG DỰ ÁN THEO THỜI GIAN CẤP PHÉP')\n",
    "plt.ylabel('Số lượng dự án')\n",
    "plt.xlabel('Năm')\n",
    "plt.show()"
   ]
  },
  {
   "cell_type": "markdown",
   "id": "90b16b67",
   "metadata": {},
   "source": [
    "### Kết luận: \n",
    "- Thời hạn cấp phép dưới 1 năm trở xuống chiếm tỉ trọng cao nhất: 40.58%\n",
    "- Kế tiếp là thời hạn cấp phép khoảng 1 năm chiếm: 39.55%"
   ]
  }
 ],
 "metadata": {
  "kernelspec": {
   "display_name": "Python 3 (ipykernel)",
   "language": "python",
   "name": "python3"
  },
  "language_info": {
   "codemirror_mode": {
    "name": "ipython",
    "version": 3
   },
   "file_extension": ".py",
   "mimetype": "text/x-python",
   "name": "python",
   "nbconvert_exporter": "python",
   "pygments_lexer": "ipython3",
   "version": "3.9.13"
  }
 },
 "nbformat": 4,
 "nbformat_minor": 5
}

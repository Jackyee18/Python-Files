{
 "cells": [
  {
   "cell_type": "markdown",
   "id": "63d1fa57",
   "metadata": {},
   "source": [
    "# KHAI BÁO TÊN CÁC FILE DỮ LIỆU ĐẦU VÀO"
   ]
  },
  {
   "cell_type": "code",
   "execution_count": 1,
   "id": "4176ebf7",
   "metadata": {},
   "outputs": [],
   "source": [
    "# ngày báo cáo là thứ hai thì lấy số liệu ngày thứ 6 tuần trước,\n",
    "# 1. cập nhập file bcqt 20 vào file info\n",
    "# 2. down file cib sme ngày báo cáo\n",
    "# 3. cập nhập tk 43 44 vào file info\n",
    "# 4. down file gl101 ngày báo cáo \n",
    "# 5. cập nhập file ủy thác phát sinh\n",
    "# 6. cập nhập file kế hoạch vào file info (1 lần/tháng)\n",
    "# 7. cập nhập file thực hiện vào file info (1 lần/tháng)\n",
    "info_filename=r\"D:\\Bao Cao Ngay - Data\\info.xlsx\" #1\n",
    "TraiPhieuPath=r'C:\\Users\\phatdd3\\Downloads\\File-trái-phiếu-ghi-nhận-tay-2023-update-18.08.2023.xlsx' # cập nhập file trái phiếu"
   ]
  },
  {
   "cell_type": "markdown",
   "id": "44d7e896",
   "metadata": {},
   "source": [
    "# XÁC ĐỊNH NGÀY BÁO CÁO CỦA FILE BÁO CÁO VÀ TÊN FILE BÁO CÁO NGÀY"
   ]
  },
  {
   "cell_type": "code",
   "execution_count": 2,
   "id": "21965041",
   "metadata": {},
   "outputs": [
    {
     "name": "stdout",
     "output_type": "stream",
     "text": [
      "Ngày số liệu báo cáo của huy động trên KM là: 09.06.2023\n"
     ]
    }
   ],
   "source": [
    "import pandas as pd\n",
    "import numpy as np\n",
    "import datetime\n",
    "import openpyxl\n",
    "billion=1000000000\n",
    "\n",
    "# File Báo Cáo ngày sheet KM chứa data của file BCQT 20 xuất từ MIS\n",
    "q=pd.read_excel(info_filename,sheet_name='KM')\n",
    "\n",
    "#Lấy dữ liệu của ngày báo cáo trong file\n",
    "NgayBaoCao=q.iloc[0,0].strftime(\"%d/%m/%Y\")\n",
    "ThangBaoCao=q.iloc[0,0].strftime(\"%#m\")\n",
    "\n",
    "# Chuyển đổi NgayBaoCao từ stirng sang datetime object\n",
    "NgayBaoCao_dt = datetime.datetime.strptime(NgayBaoCao, \"%d/%m/%Y\")\n",
    "date_str=NgayBaoCao_dt.strftime(\"%d.%m.%Y\")\n",
    "# Tên file mới theo ngày báo cáo\n",
    "new_filename = f'Báo cáo ngày {date_str}.xlsx'\n",
    "\n",
    "# tính số cho vay của Muadee\n",
    "CVMuadee=q[q.CN==\"'668\"]['CVNGAYBC'].iloc[0]/billion\n",
    "BK2=CVMuadee\n",
    "\n",
    "# QUY ĐỔI BẢNG VỀ ĐƠN VỊ TỶ ĐỒNG:\n",
    "# chọn những cột có chứa dữ liệu dạng số\n",
    "numeric_cols=q.select_dtypes(include=['int64','float64']).columns\n",
    "# chia những giá trị của cột này với 1 tỷ (ngoại trừ cột CN_GOC)\n",
    "q.CN_GOC=q.CN_GOC*billion\n",
    "q[numeric_cols]=q[numeric_cols]/billion\n",
    "# Chuyển các cột dữ liệu thành dạng số thập phân\n",
    "q.iloc[:,4:len(q.columns)+1]=q.iloc[:,4:len(q.columns)+1].astype(float)\n",
    "# fill NaN values with zero in-place\n",
    "q.fillna(value=0, inplace=True)\n",
    "# bỏ các cột dữ liệu ko cần thiết\n",
    "q=q.drop(['NGAY','CN_GOC','TENCN'],axis=1)\n",
    "\n",
    "print(f'Ngày số liệu báo cáo của huy động trên KM là: {date_str}')"
   ]
  },
  {
   "cell_type": "code",
   "execution_count": 3,
   "id": "ce72c693",
   "metadata": {},
   "outputs": [
    {
     "data": {
      "text/plain": [
       "486050.23434692"
      ]
     },
     "execution_count": 3,
     "metadata": {},
     "output_type": "execute_result"
    }
   ],
   "source": [
    "# SỐ LIỆU TỔNG TÀI SẢN CỦA TOÀN HÀNG THEO FILE B02\n",
    "# Đọc file B02\n",
    "B02_data=pd.read_excel(info_filename,sheet_name='B02')\n",
    "# Lưu số liệu tổng tài sản mới của file B02 và Chuyển đơn vị từ đồng thành tỉ đồng\n",
    "TongTaiSanCapNhap=B02_data.iloc[94,3]/billion #([94,3] hoặc [47,3])\n",
    "TongTaiSanCapNhap"
   ]
  },
  {
   "cell_type": "code",
   "execution_count": 4,
   "id": "05277562",
   "metadata": {
    "scrolled": true
   },
   "outputs": [
    {
     "name": "stdout",
     "output_type": "stream",
     "text": [
      "Số liệu thực hiện tháng trước là: 31.05.2023\n"
     ]
    }
   ],
   "source": [
    "import datetime\n",
    "import calendar\n",
    "\n",
    "# Assuming NgayBaoCao_dt is a datetime object representing the current date\n",
    "\n",
    "# Calculate the previous month\n",
    "previous_month = NgayBaoCao_dt.replace(day=1) - datetime.timedelta(days=1)\n",
    "\n",
    "# Get the last day of the previous month\n",
    "last_day = calendar.monthrange(previous_month.year, previous_month.month)[1]\n",
    "\n",
    "# Set the final date of the month for the last_month\n",
    "last_month = previous_month.replace(day=last_day)\n",
    "\n",
    "# Format the last_month as a string in the format \"%d%m%y\"\n",
    "last_month_str = last_month.strftime(\"%d.%m.%Y\")\n",
    "month_of_last_month = last_month.strftime(\"%m.%Y\")\n",
    "print(f'Số liệu thực hiện tháng trước là: {last_month_str}')"
   ]
  },
  {
   "cell_type": "markdown",
   "id": "47308e4f",
   "metadata": {},
   "source": [
    "# A. CẬP NHẬP HUY ĐỘNG"
   ]
  },
  {
   "cell_type": "code",
   "execution_count": 5,
   "id": "013c932f",
   "metadata": {},
   "outputs": [],
   "source": [
    "# bỏ các cột tổng huy động\n",
    "q=q.drop(['HTHANGTRC','HNGAYTRC','HNGAYBC','HSME','HSMEVND','HCIB','HCIBVND','HCN','HCNVND'],axis=1)"
   ]
  },
  {
   "cell_type": "markdown",
   "id": "7a8db84e",
   "metadata": {},
   "source": [
    "## GHI NHẬN CÁC SỐ LIỆU HUY ĐỘNG CỘT HPC108 CỦA CN VÀO SME"
   ]
  },
  {
   "cell_type": "code",
   "execution_count": 6,
   "id": "ff43c2f5",
   "metadata": {},
   "outputs": [],
   "source": [
    "# tạo list các cột cần cập nhập\n",
    "HPC_col=['HPC108VNDKKH','HPC108VNDNH','HPC108VNDTDH','HPC108SJC','HPC108USD','HPC108EUR','HPC108KHAC','HPC108KKH','HPC108NH','HPC108TDH']\n",
    "HSME_col=['HSMEVNDKKH','HSMEVNDNH','HSMEVNDTDH','HSMESJC','HSMEUSD','HSMEEUR','HSMEKHAC','HSMEKKH','HSMENH','HSMETDH']\n",
    "HCN_col=['HCNVNDKKH','HCNVNDNH','HCNVNDTDH','HCNSJC','HCNUSD','HCNEUR','HCNKHAC','HCNKKH','HCNNH','HCNTDH']\n",
    "\n",
    "# lấy giá trị các cột HPC108 + tương ứng ở các cột HSME và - tương ứng ở các cột HCN\n",
    "for i, j in zip(HSME_col, HPC_col):\n",
    "    q[i]+=q[j]\n",
    "\n",
    "for i,j in zip(HCN_col,HPC_col):\n",
    "    q[i]-=q[j]"
   ]
  },
  {
   "cell_type": "markdown",
   "id": "d0605cdf",
   "metadata": {},
   "source": [
    "## CỘNG SỐ LIỆU ỦY THÁC TƯƠNG ỨNG THEO TỪNG MÃ ĐƠN VỊ"
   ]
  },
  {
   "cell_type": "code",
   "execution_count": 7,
   "id": "5492b81a",
   "metadata": {},
   "outputs": [
    {
     "data": {
      "text/html": [
       "<div>\n",
       "<style scoped>\n",
       "    .dataframe tbody tr th:only-of-type {\n",
       "        vertical-align: middle;\n",
       "    }\n",
       "\n",
       "    .dataframe tbody tr th {\n",
       "        vertical-align: top;\n",
       "    }\n",
       "\n",
       "    .dataframe thead th {\n",
       "        text-align: right;\n",
       "    }\n",
       "</style>\n",
       "<table border=\"1\" class=\"dataframe\">\n",
       "  <thead>\n",
       "    <tr style=\"text-align: right;\">\n",
       "      <th></th>\n",
       "      <th>Mã</th>\n",
       "      <th>UTSME</th>\n",
       "      <th>UTCN</th>\n",
       "      <th>UTCIB</th>\n",
       "    </tr>\n",
       "  </thead>\n",
       "  <tbody>\n",
       "    <tr>\n",
       "      <th>8</th>\n",
       "      <td>'009</td>\n",
       "      <td>120.0</td>\n",
       "      <td>0.0</td>\n",
       "      <td>0.0</td>\n",
       "    </tr>\n",
       "    <tr>\n",
       "      <th>17</th>\n",
       "      <td>'020</td>\n",
       "      <td>0.0</td>\n",
       "      <td>0.0</td>\n",
       "      <td>250.0</td>\n",
       "    </tr>\n",
       "    <tr>\n",
       "      <th>27</th>\n",
       "      <td>'030</td>\n",
       "      <td>60.0</td>\n",
       "      <td>0.0</td>\n",
       "      <td>0.0</td>\n",
       "    </tr>\n",
       "    <tr>\n",
       "      <th>55</th>\n",
       "      <td>'059</td>\n",
       "      <td>550.0</td>\n",
       "      <td>0.0</td>\n",
       "      <td>0.0</td>\n",
       "    </tr>\n",
       "    <tr>\n",
       "      <th>58</th>\n",
       "      <td>'062</td>\n",
       "      <td>130.0</td>\n",
       "      <td>0.0</td>\n",
       "      <td>0.0</td>\n",
       "    </tr>\n",
       "    <tr>\n",
       "      <th>64</th>\n",
       "      <td>'068</td>\n",
       "      <td>0.0</td>\n",
       "      <td>0.0</td>\n",
       "      <td>10.0</td>\n",
       "    </tr>\n",
       "    <tr>\n",
       "      <th>156</th>\n",
       "      <td>'166</td>\n",
       "      <td>0.0</td>\n",
       "      <td>0.0</td>\n",
       "      <td>70.0</td>\n",
       "    </tr>\n",
       "    <tr>\n",
       "      <th>158</th>\n",
       "      <td>'168</td>\n",
       "      <td>200.0</td>\n",
       "      <td>0.0</td>\n",
       "      <td>0.0</td>\n",
       "    </tr>\n",
       "    <tr>\n",
       "      <th>317</th>\n",
       "      <td>'688</td>\n",
       "      <td>0.0</td>\n",
       "      <td>0.0</td>\n",
       "      <td>480.0</td>\n",
       "    </tr>\n",
       "  </tbody>\n",
       "</table>\n",
       "</div>"
      ],
      "text/plain": [
       "       Mã  UTSME  UTCN  UTCIB\n",
       "8    '009  120.0   0.0    0.0\n",
       "17   '020    0.0   0.0  250.0\n",
       "27   '030   60.0   0.0    0.0\n",
       "55   '059  550.0   0.0    0.0\n",
       "58   '062  130.0   0.0    0.0\n",
       "64   '068    0.0   0.0   10.0\n",
       "156  '166    0.0   0.0   70.0\n",
       "158  '168  200.0   0.0    0.0\n",
       "317  '688    0.0   0.0  480.0"
      ]
     },
     "execution_count": 7,
     "metadata": {},
     "output_type": "execute_result"
    }
   ],
   "source": [
    "# đọc dữ liệu về Ủy Thác\n",
    "UT=pd.read_excel(info_filename,sheet_name='UT')\n",
    "UT=UT[UT['Vốn cấp 2'].notnull()]\n",
    "\n",
    "# chuyển định dạng đúng của mã CN\n",
    "if UT.iloc[:,0].dtypes == 'object':\n",
    "    UT.iloc[:,0] = \"'\" + UT.iloc[:,0].str.zfill(3)\n",
    "elif np.issubdtype(UT.iloc[:,0].dtypes, np.integer):\n",
    "    UT.iloc[:,0] = \"'\" + UT.iloc[:,0].astype(str).str.zfill(3)\n",
    "elif np.issubdtype(UT.iloc[:,0].dtypes, np.floating):\n",
    "    UT.iloc[:,0] = \"'\" + UT.iloc[:,0].round(0).astype(int).astype(str).str.zfill(3)\n",
    "\n",
    "# đổi các tên cột\n",
    "UT=UT.rename(columns={\n",
    "    'Vốn cấp 2':'Mã','CMB':'UTSME','Retail':\"UTCN\",\"CIB\":\"UTCIB\"}).replace(' -   ', np.nan).fillna(0)\n",
    "# các mã đơn vị cần cập nhập số liệu ủy thác\n",
    "UT[(UT.UTSME!=0)|(UT.UTCN!=0)|(UT.UTCIB!=0)][['Mã','UTSME','UTCN','UTCIB']]"
   ]
  },
  {
   "cell_type": "code",
   "execution_count": 8,
   "id": "d1c15c23",
   "metadata": {},
   "outputs": [
    {
     "data": {
      "text/html": [
       "<div>\n",
       "<style scoped>\n",
       "    .dataframe tbody tr th:only-of-type {\n",
       "        vertical-align: middle;\n",
       "    }\n",
       "\n",
       "    .dataframe tbody tr th {\n",
       "        vertical-align: top;\n",
       "    }\n",
       "\n",
       "    .dataframe thead th {\n",
       "        text-align: right;\n",
       "    }\n",
       "</style>\n",
       "<table border=\"1\" class=\"dataframe\">\n",
       "  <thead>\n",
       "    <tr style=\"text-align: right;\">\n",
       "      <th></th>\n",
       "      <th>CN</th>\n",
       "      <th>HSMEVNDTDH</th>\n",
       "      <th>HSMETDH</th>\n",
       "      <th>HCIBVNDTDH</th>\n",
       "      <th>HCIBTDH</th>\n",
       "      <th>HCNVNDTDH</th>\n",
       "      <th>HCNTDH</th>\n",
       "    </tr>\n",
       "  </thead>\n",
       "  <tbody>\n",
       "    <tr>\n",
       "      <th>1</th>\n",
       "      <td>'068</td>\n",
       "      <td>3477.049767</td>\n",
       "      <td>3477.049767</td>\n",
       "      <td>0.000</td>\n",
       "      <td>0.000</td>\n",
       "      <td>1187.263342</td>\n",
       "      <td>1188.300683</td>\n",
       "    </tr>\n",
       "    <tr>\n",
       "      <th>9</th>\n",
       "      <td>'688</td>\n",
       "      <td>0.000000</td>\n",
       "      <td>0.000000</td>\n",
       "      <td>1219.000</td>\n",
       "      <td>1219.000</td>\n",
       "      <td>0.000000</td>\n",
       "      <td>0.000000</td>\n",
       "    </tr>\n",
       "    <tr>\n",
       "      <th>49</th>\n",
       "      <td>'059</td>\n",
       "      <td>272.027975</td>\n",
       "      <td>272.027975</td>\n",
       "      <td>173.000</td>\n",
       "      <td>173.000</td>\n",
       "      <td>740.211356</td>\n",
       "      <td>740.746147</td>\n",
       "    </tr>\n",
       "    <tr>\n",
       "      <th>53</th>\n",
       "      <td>'009</td>\n",
       "      <td>688.474937</td>\n",
       "      <td>688.474937</td>\n",
       "      <td>2.500</td>\n",
       "      <td>2.500</td>\n",
       "      <td>613.618779</td>\n",
       "      <td>613.618779</td>\n",
       "    </tr>\n",
       "    <tr>\n",
       "      <th>84</th>\n",
       "      <td>'062</td>\n",
       "      <td>299.044933</td>\n",
       "      <td>299.044933</td>\n",
       "      <td>0.000</td>\n",
       "      <td>0.000</td>\n",
       "      <td>593.965098</td>\n",
       "      <td>593.995182</td>\n",
       "    </tr>\n",
       "    <tr>\n",
       "      <th>98</th>\n",
       "      <td>'020</td>\n",
       "      <td>83.325553</td>\n",
       "      <td>83.325553</td>\n",
       "      <td>1384.000</td>\n",
       "      <td>1384.000</td>\n",
       "      <td>615.079464</td>\n",
       "      <td>615.148537</td>\n",
       "    </tr>\n",
       "    <tr>\n",
       "      <th>130</th>\n",
       "      <td>'030</td>\n",
       "      <td>0.000000</td>\n",
       "      <td>0.000000</td>\n",
       "      <td>0.000</td>\n",
       "      <td>0.000</td>\n",
       "      <td>610.500651</td>\n",
       "      <td>610.792127</td>\n",
       "    </tr>\n",
       "    <tr>\n",
       "      <th>206</th>\n",
       "      <td>'168</td>\n",
       "      <td>1006.187275</td>\n",
       "      <td>1006.187275</td>\n",
       "      <td>0.000</td>\n",
       "      <td>0.000</td>\n",
       "      <td>630.160172</td>\n",
       "      <td>630.196013</td>\n",
       "    </tr>\n",
       "    <tr>\n",
       "      <th>363</th>\n",
       "      <td>'166</td>\n",
       "      <td>0.000000</td>\n",
       "      <td>0.000000</td>\n",
       "      <td>1642.099</td>\n",
       "      <td>1642.099</td>\n",
       "      <td>0.000000</td>\n",
       "      <td>0.000000</td>\n",
       "    </tr>\n",
       "  </tbody>\n",
       "</table>\n",
       "</div>"
      ],
      "text/plain": [
       "       CN   HSMEVNDTDH      HSMETDH  HCIBVNDTDH   HCIBTDH    HCNVNDTDH  \\\n",
       "1    '068  3477.049767  3477.049767       0.000     0.000  1187.263342   \n",
       "9    '688     0.000000     0.000000    1219.000  1219.000     0.000000   \n",
       "49   '059   272.027975   272.027975     173.000   173.000   740.211356   \n",
       "53   '009   688.474937   688.474937       2.500     2.500   613.618779   \n",
       "84   '062   299.044933   299.044933       0.000     0.000   593.965098   \n",
       "98   '020    83.325553    83.325553    1384.000  1384.000   615.079464   \n",
       "130  '030     0.000000     0.000000       0.000     0.000   610.500651   \n",
       "206  '168  1006.187275  1006.187275       0.000     0.000   630.160172   \n",
       "363  '166     0.000000     0.000000    1642.099  1642.099     0.000000   \n",
       "\n",
       "          HCNTDH  \n",
       "1    1188.300683  \n",
       "9       0.000000  \n",
       "49    740.746147  \n",
       "53    613.618779  \n",
       "84    593.995182  \n",
       "98    615.148537  \n",
       "130   610.792127  \n",
       "206   630.196013  \n",
       "363     0.000000  "
      ]
     },
     "execution_count": 8,
     "metadata": {},
     "output_type": "execute_result"
    }
   ],
   "source": [
    "# các mã đơn vị sẽ update từ file Ủy thác\n",
    "update_list=UT[(UT.UTSME!=0)|(UT.UTCN!=0)|(UT.UTCIB!=0)]['Mã'].tolist()\n",
    "# số liệu ban đầu của các đơn vị cần update\n",
    "q[q.CN.isin(update_list)][['CN','HSMEVNDTDH','HSMETDH','HCIBVNDTDH','HCIBTDH','HCNVNDTDH','HCNTDH']]"
   ]
  },
  {
   "cell_type": "code",
   "execution_count": 9,
   "id": "daeb07a5",
   "metadata": {},
   "outputs": [],
   "source": [
    "# nối bảng UT với file KM theo từng mã CN\n",
    "q=q.merge(UT,how='left',left_on='CN',right_on='Mã').fillna(0)\n",
    "\n",
    "# cộng số Ủy thác theo từng mã đơn vị của từng khối vào VNDTDH và TDH\n",
    "q['HSMEVNDTDH']+=q['UTSME']\n",
    "q['HSMETDH']+=q['UTSME']\n",
    "q['HCIBVNDTDH']+=q['UTCIB']\n",
    "q['HCIBTDH']+=q['UTCIB']\n",
    "q['HCNVNDTDH']+=q['UTCN']\n",
    "q['HCNTDH']+=q['UTCN']\n",
    "\n",
    "# xóa các cột của bảng UT\n",
    "q.drop(UT.columns.tolist(),axis=1,inplace=True)"
   ]
  },
  {
   "cell_type": "code",
   "execution_count": 10,
   "id": "65d8b2ba",
   "metadata": {},
   "outputs": [
    {
     "data": {
      "text/html": [
       "<div>\n",
       "<style scoped>\n",
       "    .dataframe tbody tr th:only-of-type {\n",
       "        vertical-align: middle;\n",
       "    }\n",
       "\n",
       "    .dataframe tbody tr th {\n",
       "        vertical-align: top;\n",
       "    }\n",
       "\n",
       "    .dataframe thead th {\n",
       "        text-align: right;\n",
       "    }\n",
       "</style>\n",
       "<table border=\"1\" class=\"dataframe\">\n",
       "  <thead>\n",
       "    <tr style=\"text-align: right;\">\n",
       "      <th></th>\n",
       "      <th>CN</th>\n",
       "      <th>HSMEVNDTDH</th>\n",
       "      <th>HSMETDH</th>\n",
       "      <th>HCIBVNDTDH</th>\n",
       "      <th>HCIBTDH</th>\n",
       "      <th>HCNVNDTDH</th>\n",
       "      <th>HCNTDH</th>\n",
       "    </tr>\n",
       "  </thead>\n",
       "  <tbody>\n",
       "    <tr>\n",
       "      <th>1</th>\n",
       "      <td>'068</td>\n",
       "      <td>3477.049767</td>\n",
       "      <td>3477.049767</td>\n",
       "      <td>10.000</td>\n",
       "      <td>10.000</td>\n",
       "      <td>1187.263342</td>\n",
       "      <td>1188.300683</td>\n",
       "    </tr>\n",
       "    <tr>\n",
       "      <th>9</th>\n",
       "      <td>'688</td>\n",
       "      <td>0.000000</td>\n",
       "      <td>0.000000</td>\n",
       "      <td>1699.000</td>\n",
       "      <td>1699.000</td>\n",
       "      <td>0.000000</td>\n",
       "      <td>0.000000</td>\n",
       "    </tr>\n",
       "    <tr>\n",
       "      <th>49</th>\n",
       "      <td>'059</td>\n",
       "      <td>822.027975</td>\n",
       "      <td>822.027975</td>\n",
       "      <td>173.000</td>\n",
       "      <td>173.000</td>\n",
       "      <td>740.211356</td>\n",
       "      <td>740.746147</td>\n",
       "    </tr>\n",
       "    <tr>\n",
       "      <th>53</th>\n",
       "      <td>'009</td>\n",
       "      <td>808.474937</td>\n",
       "      <td>808.474937</td>\n",
       "      <td>2.500</td>\n",
       "      <td>2.500</td>\n",
       "      <td>613.618779</td>\n",
       "      <td>613.618779</td>\n",
       "    </tr>\n",
       "    <tr>\n",
       "      <th>84</th>\n",
       "      <td>'062</td>\n",
       "      <td>429.044933</td>\n",
       "      <td>429.044933</td>\n",
       "      <td>0.000</td>\n",
       "      <td>0.000</td>\n",
       "      <td>593.965098</td>\n",
       "      <td>593.995182</td>\n",
       "    </tr>\n",
       "    <tr>\n",
       "      <th>98</th>\n",
       "      <td>'020</td>\n",
       "      <td>83.325553</td>\n",
       "      <td>83.325553</td>\n",
       "      <td>1634.000</td>\n",
       "      <td>1634.000</td>\n",
       "      <td>615.079464</td>\n",
       "      <td>615.148537</td>\n",
       "    </tr>\n",
       "    <tr>\n",
       "      <th>130</th>\n",
       "      <td>'030</td>\n",
       "      <td>60.000000</td>\n",
       "      <td>60.000000</td>\n",
       "      <td>0.000</td>\n",
       "      <td>0.000</td>\n",
       "      <td>610.500651</td>\n",
       "      <td>610.792127</td>\n",
       "    </tr>\n",
       "    <tr>\n",
       "      <th>206</th>\n",
       "      <td>'168</td>\n",
       "      <td>1206.187275</td>\n",
       "      <td>1206.187275</td>\n",
       "      <td>0.000</td>\n",
       "      <td>0.000</td>\n",
       "      <td>630.160172</td>\n",
       "      <td>630.196013</td>\n",
       "    </tr>\n",
       "    <tr>\n",
       "      <th>363</th>\n",
       "      <td>'166</td>\n",
       "      <td>0.000000</td>\n",
       "      <td>0.000000</td>\n",
       "      <td>1712.099</td>\n",
       "      <td>1712.099</td>\n",
       "      <td>0.000000</td>\n",
       "      <td>0.000000</td>\n",
       "    </tr>\n",
       "  </tbody>\n",
       "</table>\n",
       "</div>"
      ],
      "text/plain": [
       "       CN   HSMEVNDTDH      HSMETDH  HCIBVNDTDH   HCIBTDH    HCNVNDTDH  \\\n",
       "1    '068  3477.049767  3477.049767      10.000    10.000  1187.263342   \n",
       "9    '688     0.000000     0.000000    1699.000  1699.000     0.000000   \n",
       "49   '059   822.027975   822.027975     173.000   173.000   740.211356   \n",
       "53   '009   808.474937   808.474937       2.500     2.500   613.618779   \n",
       "84   '062   429.044933   429.044933       0.000     0.000   593.965098   \n",
       "98   '020    83.325553    83.325553    1634.000  1634.000   615.079464   \n",
       "130  '030    60.000000    60.000000       0.000     0.000   610.500651   \n",
       "206  '168  1206.187275  1206.187275       0.000     0.000   630.160172   \n",
       "363  '166     0.000000     0.000000    1712.099  1712.099     0.000000   \n",
       "\n",
       "          HCNTDH  \n",
       "1    1188.300683  \n",
       "9       0.000000  \n",
       "49    740.746147  \n",
       "53    613.618779  \n",
       "84    593.995182  \n",
       "98    615.148537  \n",
       "130   610.792127  \n",
       "206   630.196013  \n",
       "363     0.000000  "
      ]
     },
     "execution_count": 10,
     "metadata": {},
     "output_type": "execute_result"
    }
   ],
   "source": [
    "# các số liệu lúc sau của các đơn vị cần update\n",
    "q[q.CN.isin(update_list)][['CN','HSMEVNDTDH','HSMETDH','HCIBVNDTDH','HCIBTDH','HCNVNDTDH','HCNTDH']]"
   ]
  },
  {
   "cell_type": "markdown",
   "id": "42da291f",
   "metadata": {},
   "source": [
    "# CHIA SẺ SỐ HUY ĐỘNG LẠI GIỮA CÁC ĐƠN VỊ"
   ]
  },
  {
   "cell_type": "code",
   "execution_count": 11,
   "id": "ac3dd457",
   "metadata": {},
   "outputs": [],
   "source": [
    "# lưu dữ liệu vào dataframe\n",
    "CIBSME_data=pd.read_excel(info_filename,sheet_name='CIB SME')"
   ]
  },
  {
   "cell_type": "code",
   "execution_count": 12,
   "id": "c722ffc3",
   "metadata": {},
   "outputs": [
    {
     "name": "stdout",
     "output_type": "stream",
     "text": [
      "Ngày số liệu báo cáo của huy động CIB SME là: 23/08/2023\n"
     ]
    }
   ],
   "source": [
    "# backup dữ liệu vào CIB SME\n",
    "df=CIBSME_data.copy()\n",
    "date_string = df.iloc[0,0].date().strftime(\"%d/%m/%Y\")\n",
    "print(f'Ngày số liệu báo cáo của huy động CIB SME là: {date_string}')"
   ]
  },
  {
   "cell_type": "code",
   "execution_count": 13,
   "id": "d91ee7be",
   "metadata": {},
   "outputs": [
    {
     "name": "stdout",
     "output_type": "stream",
     "text": [
      "Ngày đáo hạn sớm nhất các món chia sẻ huy động này: \n"
     ]
    },
    {
     "data": {
      "text/plain": [
       "Timestamp('2023-08-24 00:00:00')"
      ]
     },
     "execution_count": 13,
     "metadata": {},
     "output_type": "execute_result"
    }
   ],
   "source": [
    "selected_acct_no=['009704060001776','009704060001777','009704060001778','009704060001779',\n",
    "                  '045704060003805','045704060003785','045704060003661','045704060003809']\n",
    "# ngày đáo hạn của các món:\n",
    "df[df['ACCT_NO'].isin(selected_acct_no)]['NGAY_DAOHAN']\n",
    "# ngày đáo hạn sớm nhất của các món\n",
    "print('Ngày đáo hạn sớm nhất các món chia sẻ huy động này: ')\n",
    "df[df['ACCT_NO'].isin(selected_acct_no)]['NGAY_DAOHAN'].min()"
   ]
  },
  {
   "cell_type": "markdown",
   "id": "3bb315fb",
   "metadata": {},
   "source": [
    "## SỐ DƯ HUY ĐỘNG 4 TK 0097 - TRỪ RA KHỎI MÃ CN '009 - CN HÀ NỘI"
   ]
  },
  {
   "cell_type": "code",
   "execution_count": 14,
   "id": "6bc7fb5f",
   "metadata": {
    "scrolled": false
   },
   "outputs": [
    {
     "name": "stdout",
     "output_type": "stream",
     "text": [
      "Tổng số dư huy động của 4 tài khoản 0097 theo ngắn hạn và dài hạn\n"
     ]
    },
    {
     "data": {
      "text/html": [
       "<div>\n",
       "<style scoped>\n",
       "    .dataframe tbody tr th:only-of-type {\n",
       "        vertical-align: middle;\n",
       "    }\n",
       "\n",
       "    .dataframe tbody tr th {\n",
       "        vertical-align: top;\n",
       "    }\n",
       "\n",
       "    .dataframe thead th {\n",
       "        text-align: right;\n",
       "    }\n",
       "</style>\n",
       "<table border=\"1\" class=\"dataframe\">\n",
       "  <thead>\n",
       "    <tr style=\"text-align: right;\">\n",
       "      <th></th>\n",
       "      <th>NH</th>\n",
       "      <th>DH</th>\n",
       "    </tr>\n",
       "  </thead>\n",
       "  <tbody>\n",
       "    <tr>\n",
       "      <th>0</th>\n",
       "      <td>143.418521</td>\n",
       "      <td>380.0</td>\n",
       "    </tr>\n",
       "  </tbody>\n",
       "</table>\n",
       "</div>"
      ],
      "text/plain": [
       "           NH     DH\n",
       "0  143.418521  380.0"
      ]
     },
     "execution_count": 14,
     "metadata": {},
     "output_type": "execute_result"
    }
   ],
   "source": [
    "# CLIENT_NO = 02618199 (THUỘC CN HÀ NỘI)\n",
    "# lọc data theo 4 số tài khoản \"009704060001776\", \"009704060001777\", \"009704060001778\", \"009704060001779\"\n",
    "TK0097_NganHan = ['009704060001776','009704060001777'] # Ngan han\n",
    "TK0097_TrungHan = ['009704060001778','009704060001779'] # Trung han\n",
    "# Tổng số dư huy động quy đổi của các tài khoản 0097 ngắn hạn và 0097 trung hạn\n",
    "# Nhân 80% số dư qd đổi này\n",
    "# Quy đổi đơn vị đồng thành tỷ động\n",
    "SoDuHuyDongNganHan_TK0097=CIBSME_data[CIBSME_data['ACCT_NO'].isin(TK0097_NganHan)]['SODU_QD'].sum()*0.8/billion\n",
    "SoDuHuyDongTrungHan_TK0097=CIBSME_data[CIBSME_data['ACCT_NO'].isin(TK0097_TrungHan)]['SODU_QD'].sum()*0.8/billion\n",
    "# các số liệu cần cập nhập\n",
    "print('Tổng số dư huy động của 4 tài khoản 0097 theo ngắn hạn và dài hạn')\n",
    "pd.DataFrame({'NH':[SoDuHuyDongNganHan_TK0097],'DH':[SoDuHuyDongTrungHan_TK0097]})"
   ]
  },
  {
   "cell_type": "code",
   "execution_count": 15,
   "id": "6d153dc6",
   "metadata": {},
   "outputs": [
    {
     "name": "stdout",
     "output_type": "stream",
     "text": [
      "Số dư huy động CN 009 trước khi cập nhập\n"
     ]
    },
    {
     "data": {
      "text/html": [
       "<div>\n",
       "<style scoped>\n",
       "    .dataframe tbody tr th:only-of-type {\n",
       "        vertical-align: middle;\n",
       "    }\n",
       "\n",
       "    .dataframe tbody tr th {\n",
       "        vertical-align: top;\n",
       "    }\n",
       "\n",
       "    .dataframe thead th {\n",
       "        text-align: right;\n",
       "    }\n",
       "</style>\n",
       "<table border=\"1\" class=\"dataframe\">\n",
       "  <thead>\n",
       "    <tr style=\"text-align: right;\">\n",
       "      <th></th>\n",
       "      <th>CN</th>\n",
       "      <th>HSMEVNDNH</th>\n",
       "      <th>HSMEVNDTDH</th>\n",
       "      <th>HSMENH</th>\n",
       "      <th>HSMETDH</th>\n",
       "    </tr>\n",
       "  </thead>\n",
       "  <tbody>\n",
       "    <tr>\n",
       "      <th>53</th>\n",
       "      <td>'009</td>\n",
       "      <td>538.9967</td>\n",
       "      <td>808.474937</td>\n",
       "      <td>538.9967</td>\n",
       "      <td>808.474937</td>\n",
       "    </tr>\n",
       "  </tbody>\n",
       "</table>\n",
       "</div>"
      ],
      "text/plain": [
       "      CN  HSMEVNDNH  HSMEVNDTDH    HSMENH     HSMETDH\n",
       "53  '009   538.9967  808.474937  538.9967  808.474937"
      ]
     },
     "execution_count": 15,
     "metadata": {},
     "output_type": "execute_result"
    }
   ],
   "source": [
    "# số liệu TRƯỚC khi cập nhập huy động ở 009\n",
    "print('Số dư huy động CN 009 trước khi cập nhập')\n",
    "q.loc[q.CN==\"'009\",['CN','HSMEVNDNH','HSMEVNDTDH','HSMENH','HSMETDH']]"
   ]
  },
  {
   "cell_type": "code",
   "execution_count": 16,
   "id": "158243de",
   "metadata": {},
   "outputs": [],
   "source": [
    "# Trừ vào ô HSMEVNDNH trong file bcqt của CN ='009\n",
    "q.loc[q.CN==\"'009\",'HSMEVNDNH']-= SoDuHuyDongNganHan_TK0097\n",
    "# Trừ vào ô HSMEVNDTDH trong file bcqt của CN ='009\n",
    "q.loc[q.CN==\"'009\",'HSMEVNDTDH']-= SoDuHuyDongTrungHan_TK0097\n",
    "# Trừ vào ô HSMENH trong file bcqt của CN ='009\n",
    "q.loc[q.CN==\"'009\",'HSMENH']-= SoDuHuyDongNganHan_TK0097\n",
    "# Trừ vào ô HSMETDH trong file bcqt của CN ='009\n",
    "q.loc[q.CN==\"'009\",'HSMETDH']-= SoDuHuyDongTrungHan_TK0097"
   ]
  },
  {
   "cell_type": "code",
   "execution_count": 17,
   "id": "59fe4a5b",
   "metadata": {},
   "outputs": [
    {
     "name": "stdout",
     "output_type": "stream",
     "text": [
      "Số dư huy động CN 009 sau khi cập nhập\n"
     ]
    },
    {
     "data": {
      "text/html": [
       "<div>\n",
       "<style scoped>\n",
       "    .dataframe tbody tr th:only-of-type {\n",
       "        vertical-align: middle;\n",
       "    }\n",
       "\n",
       "    .dataframe tbody tr th {\n",
       "        vertical-align: top;\n",
       "    }\n",
       "\n",
       "    .dataframe thead th {\n",
       "        text-align: right;\n",
       "    }\n",
       "</style>\n",
       "<table border=\"1\" class=\"dataframe\">\n",
       "  <thead>\n",
       "    <tr style=\"text-align: right;\">\n",
       "      <th></th>\n",
       "      <th>CN</th>\n",
       "      <th>HSMEVNDNH</th>\n",
       "      <th>HSMEVNDTDH</th>\n",
       "      <th>HSMENH</th>\n",
       "      <th>HSMETDH</th>\n",
       "    </tr>\n",
       "  </thead>\n",
       "  <tbody>\n",
       "    <tr>\n",
       "      <th>53</th>\n",
       "      <td>'009</td>\n",
       "      <td>395.57818</td>\n",
       "      <td>428.474937</td>\n",
       "      <td>395.57818</td>\n",
       "      <td>428.474937</td>\n",
       "    </tr>\n",
       "  </tbody>\n",
       "</table>\n",
       "</div>"
      ],
      "text/plain": [
       "      CN  HSMEVNDNH  HSMEVNDTDH     HSMENH     HSMETDH\n",
       "53  '009  395.57818  428.474937  395.57818  428.474937"
      ]
     },
     "execution_count": 17,
     "metadata": {},
     "output_type": "execute_result"
    }
   ],
   "source": [
    "# số liệu SAU khi cập nhập huy động ở 009\n",
    "print('Số dư huy động CN 009 sau khi cập nhập')\n",
    "q.loc[q.CN==\"'009\",['CN','HSMEVNDNH','HSMEVNDTDH','HSMENH','HSMETDH']]"
   ]
  },
  {
   "cell_type": "markdown",
   "id": "f0ad5959",
   "metadata": {},
   "source": [
    "## SỐ DƯ HUY ĐỘNG 4 TK 0457 - TRỪ Ở MÃ CN '045 - CN SÀI GÒN "
   ]
  },
  {
   "cell_type": "code",
   "execution_count": 18,
   "id": "7a039573",
   "metadata": {
    "scrolled": true
   },
   "outputs": [
    {
     "name": "stdout",
     "output_type": "stream",
     "text": [
      "Tổng số dư huy động của 4 tài khoản 0457 theo ngắn hạn và dài hạn\n"
     ]
    },
    {
     "data": {
      "text/html": [
       "<div>\n",
       "<style scoped>\n",
       "    .dataframe tbody tr th:only-of-type {\n",
       "        vertical-align: middle;\n",
       "    }\n",
       "\n",
       "    .dataframe tbody tr th {\n",
       "        vertical-align: top;\n",
       "    }\n",
       "\n",
       "    .dataframe thead th {\n",
       "        text-align: right;\n",
       "    }\n",
       "</style>\n",
       "<table border=\"1\" class=\"dataframe\">\n",
       "  <thead>\n",
       "    <tr style=\"text-align: right;\">\n",
       "      <th></th>\n",
       "      <th>NH</th>\n",
       "      <th>DH</th>\n",
       "    </tr>\n",
       "  </thead>\n",
       "  <tbody>\n",
       "    <tr>\n",
       "      <th>0</th>\n",
       "      <td>400.0</td>\n",
       "      <td>300.0</td>\n",
       "    </tr>\n",
       "  </tbody>\n",
       "</table>\n",
       "</div>"
      ],
      "text/plain": [
       "      NH     DH\n",
       "0  400.0  300.0"
      ]
     },
     "execution_count": 18,
     "metadata": {},
     "output_type": "execute_result"
    }
   ],
   "source": [
    "# CLIENT_NO 00006278 (THUỘC CN SÀI GÒN)\n",
    "# lọc data theo 4 số tài khoản \"045704060003443\", \"045704060003353\", \"045704060003440\", \"045704060003661\"\n",
    "TK0457_TrungHan =['045704060003805','045704060003785',] # TRUNG HAN\n",
    "TK0457_NganHan =['045704060003661','045704060003809'] # NGAN HAN\n",
    "# Tổng số dư huy động quy đổi của các tài khoản 0457 ngắn hạn và 0457 trung hạn\n",
    "# Quy đổi đơn vị đồng thành tỷ động\n",
    "SoDuHuyDongTrungHan_TK0457=CIBSME_data[CIBSME_data['ACCT_NO'].isin(TK0457_TrungHan)]['SODU_QD'].sum()/billion\n",
    "SoDuHuyDongNganHan_TK0457=CIBSME_data[CIBSME_data['ACCT_NO'].isin(TK0457_NganHan)]['SODU_QD'].sum()/billion\n",
    "print('Tổng số dư huy động của 4 tài khoản 0457 theo ngắn hạn và dài hạn')\n",
    "pd.DataFrame({'NH':[SoDuHuyDongNganHan_TK0457],'DH':[SoDuHuyDongTrungHan_TK0457]})"
   ]
  },
  {
   "cell_type": "code",
   "execution_count": 19,
   "id": "deb740c5",
   "metadata": {},
   "outputs": [
    {
     "name": "stdout",
     "output_type": "stream",
     "text": [
      "Số dư huy động CN 045 trước khi cập nhập\n"
     ]
    },
    {
     "data": {
      "text/html": [
       "<div>\n",
       "<style scoped>\n",
       "    .dataframe tbody tr th:only-of-type {\n",
       "        vertical-align: middle;\n",
       "    }\n",
       "\n",
       "    .dataframe tbody tr th {\n",
       "        vertical-align: top;\n",
       "    }\n",
       "\n",
       "    .dataframe thead th {\n",
       "        text-align: right;\n",
       "    }\n",
       "</style>\n",
       "<table border=\"1\" class=\"dataframe\">\n",
       "  <thead>\n",
       "    <tr style=\"text-align: right;\">\n",
       "      <th></th>\n",
       "      <th>CN</th>\n",
       "      <th>HSMEVNDNH</th>\n",
       "      <th>HSMEVNDTDH</th>\n",
       "      <th>HSMENH</th>\n",
       "      <th>HSMETDH</th>\n",
       "    </tr>\n",
       "  </thead>\n",
       "  <tbody>\n",
       "    <tr>\n",
       "      <th>129</th>\n",
       "      <td>'045</td>\n",
       "      <td>2355.759905</td>\n",
       "      <td>1321.427404</td>\n",
       "      <td>2355.759905</td>\n",
       "      <td>1321.427404</td>\n",
       "    </tr>\n",
       "  </tbody>\n",
       "</table>\n",
       "</div>"
      ],
      "text/plain": [
       "       CN    HSMEVNDNH   HSMEVNDTDH       HSMENH      HSMETDH\n",
       "129  '045  2355.759905  1321.427404  2355.759905  1321.427404"
      ]
     },
     "execution_count": 19,
     "metadata": {},
     "output_type": "execute_result"
    }
   ],
   "source": [
    "# số liệu TRƯỚC khi cập nhập huy động ở 045\n",
    "print('Số dư huy động CN 045 trước khi cập nhập')\n",
    "q.loc[q.CN==\"'045\",['CN','HSMEVNDNH','HSMEVNDTDH','HSMENH','HSMETDH']]"
   ]
  },
  {
   "cell_type": "code",
   "execution_count": 20,
   "id": "7224b0ce",
   "metadata": {},
   "outputs": [],
   "source": [
    "# CLIENT_NO 00006278 (THUỘC CN SÀI GÒN)\n",
    "# Trừ vào ô HSMEVNDNH trong file bcqt của CN ='045\n",
    "q.loc[q.CN==\"'045\",'HSMEVNDNH']-= SoDuHuyDongNganHan_TK0457\n",
    "# Trừ vào ô HSMEVNDTDH trong file bcqt của CN ='045\n",
    "q.loc[q.CN==\"'045\",'HSMEVNDTDH']-= SoDuHuyDongTrungHan_TK0457\n",
    "# Trừ vào ô HSMENH trong file bcqt của CN ='045\n",
    "q.loc[q.CN==\"'045\",'HSMENH']-= SoDuHuyDongNganHan_TK0457\n",
    "# Trừ vào ô HSMETDH trong file bcqt của CN ='045\n",
    "q.loc[q.CN==\"'045\",'HSMETDH']-= SoDuHuyDongTrungHan_TK0457"
   ]
  },
  {
   "cell_type": "code",
   "execution_count": 21,
   "id": "d9c937ed",
   "metadata": {},
   "outputs": [
    {
     "name": "stdout",
     "output_type": "stream",
     "text": [
      "Số dư huy động CN 045 sau khi cập nhập\n"
     ]
    },
    {
     "data": {
      "text/html": [
       "<div>\n",
       "<style scoped>\n",
       "    .dataframe tbody tr th:only-of-type {\n",
       "        vertical-align: middle;\n",
       "    }\n",
       "\n",
       "    .dataframe tbody tr th {\n",
       "        vertical-align: top;\n",
       "    }\n",
       "\n",
       "    .dataframe thead th {\n",
       "        text-align: right;\n",
       "    }\n",
       "</style>\n",
       "<table border=\"1\" class=\"dataframe\">\n",
       "  <thead>\n",
       "    <tr style=\"text-align: right;\">\n",
       "      <th></th>\n",
       "      <th>CN</th>\n",
       "      <th>HSMEVNDNH</th>\n",
       "      <th>HSMEVNDTDH</th>\n",
       "      <th>HSMENH</th>\n",
       "      <th>HSMETDH</th>\n",
       "    </tr>\n",
       "  </thead>\n",
       "  <tbody>\n",
       "    <tr>\n",
       "      <th>129</th>\n",
       "      <td>'045</td>\n",
       "      <td>1955.759905</td>\n",
       "      <td>1021.427404</td>\n",
       "      <td>1955.759905</td>\n",
       "      <td>1021.427404</td>\n",
       "    </tr>\n",
       "  </tbody>\n",
       "</table>\n",
       "</div>"
      ],
      "text/plain": [
       "       CN    HSMEVNDNH   HSMEVNDTDH       HSMENH      HSMETDH\n",
       "129  '045  1955.759905  1021.427404  1955.759905  1021.427404"
      ]
     },
     "execution_count": 21,
     "metadata": {},
     "output_type": "execute_result"
    }
   ],
   "source": [
    "# số liệu SAU khi cập nhập huy động ở 045\n",
    "print('Số dư huy động CN 045 sau khi cập nhập')\n",
    "q.loc[q.CN==\"'045\",['CN','HSMEVNDNH','HSMEVNDTDH','HSMENH','HSMETDH']]"
   ]
  },
  {
   "cell_type": "markdown",
   "id": "0b069bc2",
   "metadata": {},
   "source": [
    "## CỘNG SDHD 2 TK TRÊN VÀO MÃ CN '068 - TRUNG TÂM KINH DOANH"
   ]
  },
  {
   "cell_type": "code",
   "execution_count": 22,
   "id": "cc538b73",
   "metadata": {},
   "outputs": [
    {
     "name": "stdout",
     "output_type": "stream",
     "text": [
      "Số dư huy động CN 068 trước khi cập nhập\n"
     ]
    },
    {
     "data": {
      "text/html": [
       "<div>\n",
       "<style scoped>\n",
       "    .dataframe tbody tr th:only-of-type {\n",
       "        vertical-align: middle;\n",
       "    }\n",
       "\n",
       "    .dataframe tbody tr th {\n",
       "        vertical-align: top;\n",
       "    }\n",
       "\n",
       "    .dataframe thead th {\n",
       "        text-align: right;\n",
       "    }\n",
       "</style>\n",
       "<table border=\"1\" class=\"dataframe\">\n",
       "  <thead>\n",
       "    <tr style=\"text-align: right;\">\n",
       "      <th></th>\n",
       "      <th>CN</th>\n",
       "      <th>HSMEVNDNH</th>\n",
       "      <th>HSMEVNDTDH</th>\n",
       "      <th>HSMENH</th>\n",
       "      <th>HSMETDH</th>\n",
       "    </tr>\n",
       "  </thead>\n",
       "  <tbody>\n",
       "    <tr>\n",
       "      <th>1</th>\n",
       "      <td>'068</td>\n",
       "      <td>4155.674924</td>\n",
       "      <td>3477.049767</td>\n",
       "      <td>4155.674924</td>\n",
       "      <td>3477.049767</td>\n",
       "    </tr>\n",
       "  </tbody>\n",
       "</table>\n",
       "</div>"
      ],
      "text/plain": [
       "     CN    HSMEVNDNH   HSMEVNDTDH       HSMENH      HSMETDH\n",
       "1  '068  4155.674924  3477.049767  4155.674924  3477.049767"
      ]
     },
     "execution_count": 22,
     "metadata": {},
     "output_type": "execute_result"
    }
   ],
   "source": [
    "# số liệu TRƯỚC khi cập nhập huy động ở 068\n",
    "print('Số dư huy động CN 068 trước khi cập nhập')\n",
    "q.loc[q.CN==\"'068\",['CN','HSMEVNDNH','HSMEVNDTDH','HSMENH','HSMETDH']]"
   ]
  },
  {
   "cell_type": "code",
   "execution_count": 23,
   "id": "ab4f1f48",
   "metadata": {},
   "outputs": [],
   "source": [
    "# Trừ vào ô HSMEVNDNH trong file bcqt của CN ='068\n",
    "q.loc[q.CN==\"'068\",'HSMEVNDNH']+= (SoDuHuyDongNganHan_TK0457+SoDuHuyDongNganHan_TK0097)\n",
    "# Trừ vào ô HSMEVNDTDH trong file bcqt của CN ='068\n",
    "q.loc[q.CN==\"'068\",'HSMEVNDTDH']+= (SoDuHuyDongTrungHan_TK0457+SoDuHuyDongTrungHan_TK0097)\n",
    "# Trừ vào ô HSMENH trong file bcqt của CN ='068\n",
    "q.loc[q.CN==\"'068\",'HSMENH']+= (SoDuHuyDongNganHan_TK0457+SoDuHuyDongNganHan_TK0097)\n",
    "# Trừ vào ô HSMETDH trong file bcqt của CN ='068\n",
    "q.loc[q.CN==\"'068\",'HSMETDH']+= (SoDuHuyDongTrungHan_TK0457+SoDuHuyDongTrungHan_TK0097)"
   ]
  },
  {
   "cell_type": "code",
   "execution_count": 24,
   "id": "b685d88d",
   "metadata": {},
   "outputs": [
    {
     "name": "stdout",
     "output_type": "stream",
     "text": [
      "Số dư huy động CN 068 sau khi cập nhập\n"
     ]
    },
    {
     "data": {
      "text/html": [
       "<div>\n",
       "<style scoped>\n",
       "    .dataframe tbody tr th:only-of-type {\n",
       "        vertical-align: middle;\n",
       "    }\n",
       "\n",
       "    .dataframe tbody tr th {\n",
       "        vertical-align: top;\n",
       "    }\n",
       "\n",
       "    .dataframe thead th {\n",
       "        text-align: right;\n",
       "    }\n",
       "</style>\n",
       "<table border=\"1\" class=\"dataframe\">\n",
       "  <thead>\n",
       "    <tr style=\"text-align: right;\">\n",
       "      <th></th>\n",
       "      <th>CN</th>\n",
       "      <th>HSMEVNDNH</th>\n",
       "      <th>HSMEVNDTDH</th>\n",
       "      <th>HSMENH</th>\n",
       "      <th>HSMETDH</th>\n",
       "    </tr>\n",
       "  </thead>\n",
       "  <tbody>\n",
       "    <tr>\n",
       "      <th>1</th>\n",
       "      <td>'068</td>\n",
       "      <td>4699.093445</td>\n",
       "      <td>4157.049767</td>\n",
       "      <td>4699.093445</td>\n",
       "      <td>4157.049767</td>\n",
       "    </tr>\n",
       "  </tbody>\n",
       "</table>\n",
       "</div>"
      ],
      "text/plain": [
       "     CN    HSMEVNDNH   HSMEVNDTDH       HSMENH      HSMETDH\n",
       "1  '068  4699.093445  4157.049767  4699.093445  4157.049767"
      ]
     },
     "execution_count": 24,
     "metadata": {},
     "output_type": "execute_result"
    }
   ],
   "source": [
    "# số liệu SAU khi cập nhập huy động ở 068\n",
    "print('Số dư huy động CN 068 sau khi cập nhập')\n",
    "q.loc[q.CN==\"'068\",['CN','HSMEVNDNH','HSMEVNDTDH','HSMENH','HSMETDH']]"
   ]
  },
  {
   "cell_type": "markdown",
   "id": "f4351c32",
   "metadata": {},
   "source": [
    "## LOẠI SỐ LIỆU TỪ FILE TÀI KHOẢN 43 44 (CHỨNG TỪ CÓ GIÁ)"
   ]
  },
  {
   "cell_type": "code",
   "execution_count": 25,
   "id": "b69dfbbc",
   "metadata": {},
   "outputs": [
    {
     "name": "stdout",
     "output_type": "stream",
     "text": [
      "Ngày số liệu báo cáo của huy động ở tk 43 44 là: 06/09/2023\n"
     ]
    }
   ],
   "source": [
    "# đọc dữ liệu file \"43 44\"\n",
    "tk4344_df=pd.read_excel(info_filename,sheet_name='TK 43 44')\n",
    "df=tk4344_df\n",
    "# chuyển định dạng đúng của mã CN\n",
    "if df.CN.dtypes == 'object':\n",
    "    df.CN = \"'\" + df.CN.str.zfill(3)\n",
    "elif np.issubdtype(df.CN.dtypes, np.integer):\n",
    "    df.CN = \"'\" + df.CN.astype(str).str.zfill(3)\n",
    "elif np.issubdtype(df.CN.dtypes, np.floating):\n",
    "    df.CN = \"'\" + df.CN.round(0).astype(int).astype(str).str.zfill(3)\n",
    "\n",
    "date_string = df.iloc[0,0].date().strftime(\"%d/%m/%Y\")\n",
    "print(f'Ngày số liệu báo cáo của huy động ở tk 43 44 là: {date_string}')"
   ]
  },
  {
   "cell_type": "markdown",
   "id": "bd9fac8c",
   "metadata": {},
   "source": [
    "## GL_CODE 243 CUẢ CN 001 TRỪ ĐI VÀO PHẦN HUY ĐỘNG CỦA CN 001"
   ]
  },
  {
   "cell_type": "code",
   "execution_count": 26,
   "id": "364e81b5",
   "metadata": {},
   "outputs": [
    {
     "data": {
      "text/html": [
       "<div>\n",
       "<style scoped>\n",
       "    .dataframe tbody tr th:only-of-type {\n",
       "        vertical-align: middle;\n",
       "    }\n",
       "\n",
       "    .dataframe tbody tr th {\n",
       "        vertical-align: top;\n",
       "    }\n",
       "\n",
       "    .dataframe thead th {\n",
       "        text-align: right;\n",
       "    }\n",
       "</style>\n",
       "<table border=\"1\" class=\"dataframe\">\n",
       "  <thead>\n",
       "    <tr style=\"text-align: right;\">\n",
       "      <th></th>\n",
       "      <th>CN</th>\n",
       "      <th>LOAI_KHACHHANG</th>\n",
       "      <th>LOAI_TIEN</th>\n",
       "      <th>LOAI_KYHAN</th>\n",
       "      <th>SODU_QD</th>\n",
       "    </tr>\n",
       "  </thead>\n",
       "  <tbody>\n",
       "    <tr>\n",
       "      <th>0</th>\n",
       "      <td>'001</td>\n",
       "      <td>CIB</td>\n",
       "      <td>VND</td>\n",
       "      <td>DAI HAN</td>\n",
       "      <td>1380.0</td>\n",
       "    </tr>\n",
       "    <tr>\n",
       "      <th>1</th>\n",
       "      <td>'001</td>\n",
       "      <td>SME</td>\n",
       "      <td>USD</td>\n",
       "      <td>DAI HAN</td>\n",
       "      <td>7761.0</td>\n",
       "    </tr>\n",
       "    <tr>\n",
       "      <th>2</th>\n",
       "      <td>'001</td>\n",
       "      <td>SME</td>\n",
       "      <td>VND</td>\n",
       "      <td>DAI HAN</td>\n",
       "      <td>6440.0</td>\n",
       "    </tr>\n",
       "    <tr>\n",
       "      <th>3</th>\n",
       "      <td>'001</td>\n",
       "      <td>SME</td>\n",
       "      <td>VND</td>\n",
       "      <td>NGAN HAN</td>\n",
       "      <td>12500.0</td>\n",
       "    </tr>\n",
       "    <tr>\n",
       "      <th>4</th>\n",
       "      <td>'001</td>\n",
       "      <td>SME</td>\n",
       "      <td>VND</td>\n",
       "      <td>TRUNG HAN</td>\n",
       "      <td>16300.0</td>\n",
       "    </tr>\n",
       "  </tbody>\n",
       "</table>\n",
       "</div>"
      ],
      "text/plain": [
       "     CN LOAI_KHACHHANG LOAI_TIEN LOAI_KYHAN  SODU_QD\n",
       "0  '001            CIB       VND    DAI HAN   1380.0\n",
       "1  '001            SME       USD    DAI HAN   7761.0\n",
       "2  '001            SME       VND    DAI HAN   6440.0\n",
       "3  '001            SME       VND   NGAN HAN  12500.0\n",
       "4  '001            SME       VND  TRUNG HAN  16300.0"
      ]
     },
     "execution_count": 26,
     "metadata": {},
     "output_type": "execute_result"
    }
   ],
   "source": [
    "# lọc GL_Code bắt đầu bằng 243 và CN 001\n",
    "df=df[df.GL_CODE.apply(str).str.startswith('243')]\n",
    "df=df[df.CN==\"'001\"] # lọc dữ liệu cột CN bằng 1\n",
    "\n",
    "# Tính tỔng số dư quy đổi theo LOAI_KYHAN và LOẠI_KHACHHANG\n",
    "df=df.groupby(['CN','LOAI_KHACHHANG','LOAI_TIEN','LOAI_KYHAN']).SODU_QD.sum().reset_index()\n",
    "# Chuyển thành đơn vị tỷ đồng\n",
    "df.SODU_QD=df.SODU_QD/billion\n",
    "df"
   ]
  },
  {
   "cell_type": "code",
   "execution_count": 27,
   "id": "1c86f918",
   "metadata": {},
   "outputs": [],
   "source": [
    "# sắp xếp các món huy động theo loại kỳ hạn tương ứng trong file KM\n",
    "CN=[]\n",
    "HSMENH=[]\n",
    "HSMETDH=[]\n",
    "HCIBNH=[]\n",
    "HCIBTDH=[]\n",
    "for i in range(len(df)):\n",
    "    if df.iloc[i,1]=='SME' and df.iloc[i,3] == 'NGAN HAN':\n",
    "        CN.append(df.iloc[i,0])\n",
    "        HSMENH.append(df.iloc[i,4])\n",
    "        HSMETDH.append(0)\n",
    "        HCIBNH.append(0)\n",
    "        HCIBTDH.append(0)\n",
    "    if df.iloc[i,1]=='CIB' and df.iloc[i,3]=='NGAN HAN':\n",
    "        CN.append(df.iloc[i,0])\n",
    "        HSMENH.append(0)\n",
    "        HSMETDH.append(0)\n",
    "        HCIBNH.append(df.iloc[i,4])\n",
    "        HCIBTDH.append(0)\n",
    "    if df.iloc[i,1]=='SME' and df.iloc[i,3]!='NGAN HAN':\n",
    "        CN.append(df.iloc[i,0])\n",
    "        HSMENH.append(0)\n",
    "        HSMETDH.append(df.iloc[i,4])\n",
    "        HCIBNH.append(0)\n",
    "        HCIBTDH.append(0)\n",
    "    if df.iloc[i,1]=='CIB' and df.iloc[i,3]!='NGAN HAN':\n",
    "        CN.append(df.iloc[i,0])\n",
    "        HSMENH.append(0)\n",
    "        HSMETDH.append(0)\n",
    "        HCIBNH.append(0)\n",
    "        HCIBTDH.append(df.iloc[i,4])\n",
    "# bảng sắp xếp các món huy động theo NH VÀ TDH CỦA TỪNG KHỐI\n",
    "data=pd.DataFrame({'CN':CN,'HSMENH':HSMENH,'HSMETDH':HSMETDH,'HCIBNH':HCIBNH,'HCIBTDH':HCIBTDH}).groupby('CN').sum().reset_index()\n",
    "# chia các món huy động theo từng khồi\n",
    "CIB_df=df[df.LOAI_KHACHHANG=='CIB'].drop(columns={'LOAI_KHACHHANG'})\n",
    "SME_df=df[df.LOAI_KHACHHANG=='SME'].drop(columns={'LOAI_KHACHHANG'})\n",
    "\n",
    "# chuyển từng món tiền vào từng ô với SME tương ứng trong file KM\n",
    "CN=[]\n",
    "HSMEVNDNH=[]\n",
    "HSMEVNDTDH=[]\n",
    "HSMESJC=[]\n",
    "HSMEUSD=[]\n",
    "HSMEEUR=[]\n",
    "HSMEKHAC=[]\n",
    "\n",
    "for i in range(len(SME_df)):\n",
    "    if SME_df.iloc[i,1] == 'USD':\n",
    "        CN.append(SME_df.iloc[i,0])\n",
    "        HSMEVNDNH.append(0)\n",
    "        HSMEVNDTDH.append(0)\n",
    "        HSMESJC.append(0)\n",
    "        HSMEUSD.append(SME_df.iloc[i,3])\n",
    "        HSMEEUR.append(0)\n",
    "        HSMEKHAC.append(0)\n",
    "    if SME_df.iloc[i,1] == 'EUR':\n",
    "        CN.append(SME_df.iloc[i,0])\n",
    "        HSMEVNDNH.append(0)\n",
    "        HSMEVNDTDH.append(0)\n",
    "        HSMESJC.append(0)\n",
    "        HSMEUSD.append(0)\n",
    "        HSMEEUR.append(SME_df.iloc[i,3])\n",
    "        HSMEKHAC.append(0)\n",
    "    if SME_df.iloc[i,1] == 'SJC':\n",
    "        CN.append(SME_df.iloc[i,0])\n",
    "        HSMEVNDNH.append(0)\n",
    "        HSMEVNDTDH.append(0)\n",
    "        HSMESJC.append(SME_df.iloc[i,3])\n",
    "        HSMEUSD.append(0)\n",
    "        HSMEEUR.append(0)\n",
    "        HSMEKHAC.append(0)\n",
    "    if SME_df.iloc[i,1] != 'VND' and SME_df.iloc[i,1] != 'USD' and SME_df.iloc[i,1] != 'EUR'and SME_df.iloc[i,1] != 'SJC':\n",
    "        CN.append(SME_df.iloc[i,0])\n",
    "        HSMEVNDNH.append(0)\n",
    "        HSMEVNDTDH.append(0)\n",
    "        HSMESJC.append(0)\n",
    "        HSMEUSD.append(0)\n",
    "        HSMEEUR.append(0)\n",
    "        HSMEKHAC.append(SME_df.iloc[i,3])\n",
    "    if SME_df.iloc[i,1] == 'VND' and SME_df.iloc[i,2] == 'NGAN HAN':\n",
    "        CN.append(SME_df.iloc[i,0])\n",
    "        HSMEVNDNH.append(SME_df.iloc[i,3])\n",
    "        HSMEVNDTDH.append(0)\n",
    "        HSMESJC.append(0)\n",
    "        HSMEUSD.append(0)\n",
    "        HSMEEUR.append(0)\n",
    "        HSMEKHAC.append(0)\n",
    "    if SME_df.iloc[i,1] == 'VND' and SME_df.iloc[i,2] != 'NGAN HAN':\n",
    "        CN.append(SME_df.iloc[i,0])\n",
    "        HSMEVNDNH.append(0)\n",
    "        HSMEVNDTDH.append(SME_df.iloc[i,3])\n",
    "        HSMESJC.append(0)\n",
    "        HSMEUSD.append(0)\n",
    "        HSMEEUR.append(0)\n",
    "        HSMEKHAC.append(0)\n",
    "# tạo dataframe theo dạng file KM, tổng hợp lại theo từng mã CN (groupby)\n",
    "SME_updated_df=pd.DataFrame({'CN':CN,'HSMEVNDNH':HSMEVNDNH,'HSMEVNDTDH':HSMEVNDTDH,'HSMESJC':HSMESJC,'HSMEUSD':HSMEUSD,\n",
    "                             'HSMEEUR':HSMEEUR,'HSMEKHAC':HSMEKHAC}).groupby('CN').sum().reset_index()\n",
    "\n",
    "# chuyển từng món tiền vào từng ô với CIB tương ứng trong file KM\n",
    "CN=[]\n",
    "HCIBVNDNH=[]\n",
    "HCIBVNDTDH=[]\n",
    "HCIBSJC=[]\n",
    "HCIBUSD=[]\n",
    "HCIBEUR=[]\n",
    "HCIBKHAC=[]\n",
    "\n",
    "for i in range(len(CIB_df)):\n",
    "    if CIB_df.iloc[i,1] == 'USD':\n",
    "        CN.append(CIB_df.iloc[i,0])\n",
    "        HCIBVNDNH.append(0)\n",
    "        HCIBVNDTDH.append(0)\n",
    "        HCIBSJC.append(0)\n",
    "        HCIBUSD.append(CIB_df.iloc[i,3])\n",
    "        HCIBEUR.append(0)\n",
    "        HCIBKHAC.append(0)\n",
    "    if CIB_df.iloc[i,1] == 'EUR':\n",
    "        CN.append(CIB_df.iloc[i,0])\n",
    "        HCIBVNDNH.append(0)\n",
    "        HCIBVNDTDH.append(0)\n",
    "        HCIBSJC.append(0)\n",
    "        HCIBUSD.append(0)\n",
    "        HCIBEUR.append(CIB_df.iloc[i,3])\n",
    "        HCIBKHAC.append(0)\n",
    "    if CIB_df.iloc[i,1] == 'SJC':\n",
    "        CN.append(CIB_df.iloc[i,0])\n",
    "        HCIBVNDNH.append(0)\n",
    "        HCIBVNDTDH.append(0)\n",
    "        HCIBSJC.append(CIB_df.iloc[i,3])\n",
    "        HCIBUSD.append(0)\n",
    "        HCIBEUR.append(0)\n",
    "        HCIBKHAC.append(0)\n",
    "    if CIB_df.iloc[i,1] != 'VND' and CIB_df.iloc[i,1] != 'USD' and CIB_df.iloc[i,1] != 'EUR'and CIB_df.iloc[i,1] != 'SJC':\n",
    "        CN.append(CIB_df.iloc[i,0])\n",
    "        HCIBVNDNH.append(0)\n",
    "        HCIBVNDTDH.append(0)\n",
    "        HCIBSJC.append(0)\n",
    "        HCIBUSD.append(0)\n",
    "        HCIBEUR.append(0)\n",
    "        HCIBKHAC.append(CIB_df.iloc[i,3])\n",
    "    if CIB_df.iloc[i,1] == 'VND' and CIB_df.iloc[i,2] == 'NGAN HAN':\n",
    "        CN.append(CIB_df.iloc[i,0])\n",
    "        HCIBVNDNH.append(CIB_df.iloc[i,3])\n",
    "        HCIBVNDTDH.append(0)\n",
    "        HCIBSJC.append(0)\n",
    "        HCIBUSD.append(0)\n",
    "        HCIBEUR.append(0)\n",
    "        HCIBKHAC.append(0)\n",
    "    if CIB_df.iloc[i,1] == 'VND' and CIB_df.iloc[i,2] != 'NGAN HAN':\n",
    "        CN.append(CIB_df.iloc[i,0])\n",
    "        HCIBVNDNH.append(0)\n",
    "        HCIBVNDTDH.append(CIB_df.iloc[i,3])\n",
    "        HCIBSJC.append(0)\n",
    "        HCIBUSD.append(0)\n",
    "        HCIBEUR.append(0)\n",
    "        HCIBKHAC.append(0)\n",
    "# tạo dataframe theo dạng file KM, tổng hợp lại theo từng mã CN (groupby)\n",
    "CIB_updated_df=pd.DataFrame({'CN':CN,'HCIBVNDNH':HCIBVNDNH,'HCIBVNDTDH':HCIBVNDTDH,'HCIBSJC':HCIBSJC,'HCIBUSD':HCIBUSD,\n",
    "                             'HCIBEUR':HCIBEUR,'HCIBKHAC':HCIBKHAC}).groupby('CN').sum().reset_index()\n",
    "\n",
    "# gộp các cột dữ dữ liệu về huy động như file KM\n",
    "df=CIB_updated_df.merge(SME_updated_df,how='outer').merge(data,how='outer')"
   ]
  },
  {
   "cell_type": "code",
   "execution_count": 28,
   "id": "1f236fb6",
   "metadata": {},
   "outputs": [
    {
     "data": {
      "text/html": [
       "<div>\n",
       "<style scoped>\n",
       "    .dataframe tbody tr th:only-of-type {\n",
       "        vertical-align: middle;\n",
       "    }\n",
       "\n",
       "    .dataframe tbody tr th {\n",
       "        vertical-align: top;\n",
       "    }\n",
       "\n",
       "    .dataframe thead th {\n",
       "        text-align: right;\n",
       "    }\n",
       "</style>\n",
       "<table border=\"1\" class=\"dataframe\">\n",
       "  <thead>\n",
       "    <tr style=\"text-align: right;\">\n",
       "      <th></th>\n",
       "      <th>CN</th>\n",
       "      <th>HSMEVNDNH</th>\n",
       "      <th>HSMEVNDTDH</th>\n",
       "      <th>HSMESJC</th>\n",
       "      <th>HSMEUSD</th>\n",
       "      <th>HSMEEUR</th>\n",
       "      <th>HSMEKHAC</th>\n",
       "      <th>HSMENH</th>\n",
       "      <th>HSMETDH</th>\n",
       "      <th>HCIBVNDNH</th>\n",
       "      <th>HCIBVNDTDH</th>\n",
       "      <th>HCIBSJC</th>\n",
       "      <th>HCIBUSD</th>\n",
       "      <th>HCIBEUR</th>\n",
       "      <th>HCIBKHAC</th>\n",
       "      <th>HCIBNH</th>\n",
       "      <th>HCIBTDH</th>\n",
       "    </tr>\n",
       "  </thead>\n",
       "  <tbody>\n",
       "    <tr>\n",
       "      <th>0</th>\n",
       "      <td>'001</td>\n",
       "      <td>12500.0</td>\n",
       "      <td>22740.0</td>\n",
       "      <td>0.0</td>\n",
       "      <td>7762.259649</td>\n",
       "      <td>0.0</td>\n",
       "      <td>0.0</td>\n",
       "      <td>12500.0</td>\n",
       "      <td>30501.0</td>\n",
       "      <td>0.0</td>\n",
       "      <td>1380.0</td>\n",
       "      <td>0.0</td>\n",
       "      <td>0.0</td>\n",
       "      <td>0.0</td>\n",
       "      <td>0.0</td>\n",
       "      <td>0.0</td>\n",
       "      <td>1380.0</td>\n",
       "    </tr>\n",
       "  </tbody>\n",
       "</table>\n",
       "</div>"
      ],
      "text/plain": [
       "     CN  HSMEVNDNH  HSMEVNDTDH  HSMESJC      HSMEUSD  HSMEEUR  HSMEKHAC  \\\n",
       "0  '001    12500.0     22740.0      0.0  7762.259649      0.0       0.0   \n",
       "\n",
       "    HSMENH  HSMETDH  HCIBVNDNH  HCIBVNDTDH  HCIBSJC  HCIBUSD  HCIBEUR  \\\n",
       "0  12500.0  30501.0        0.0      1380.0      0.0      0.0      0.0   \n",
       "\n",
       "   HCIBKHAC  HCIBNH  HCIBTDH  \n",
       "0       0.0     0.0   1380.0  "
      ]
     },
     "execution_count": 28,
     "metadata": {},
     "output_type": "execute_result"
    }
   ],
   "source": [
    "# số liệu TRƯỚC khi cập nhập\n",
    "q[q.CN==\"'001\"][['CN', 'HSMEVNDNH', 'HSMEVNDTDH', 'HSMESJC', 'HSMEUSD', 'HSMEEUR', 'HSMEKHAC', 'HSMENH', 'HSMETDH', \n",
    "                 'HCIBVNDNH', 'HCIBVNDTDH', 'HCIBSJC', 'HCIBUSD', 'HCIBEUR', 'HCIBKHAC','HCIBNH', 'HCIBTDH']]"
   ]
  },
  {
   "cell_type": "code",
   "execution_count": 29,
   "id": "8c0130dd",
   "metadata": {},
   "outputs": [],
   "source": [
    "# trừ các số liệu cho vào các ô tương ứng trong file BCQT 20\n",
    "q.merge(df,how='left',on='CN',suffixes=('', '_df2')).fillna(0)\n",
    "updated_col=['HCIBVNDNH', 'HCIBVNDTDH', 'HCIBSJC', 'HCIBUSD', 'HCIBEUR',\n",
    "       'HCIBKHAC', 'HSMEVNDNH', 'HSMEVNDTDH', 'HSMESJC', 'HSMEUSD', 'HSMEEUR',\n",
    "       'HSMEKHAC', 'HSMENH', 'HSMETDH', 'HCIBNH', 'HCIBTDH']\n",
    "# nối tương ứng bảng giá trị cần cập nhập theo từng mã CN\n",
    "q = q.merge(df, on='CN', how='left', suffixes=('', '_df2')).fillna(0)\n",
    "# cộng các số dư huy động vào file KM theo từng cột\n",
    "for i in updated_col:\n",
    "    q[f'{i}'] -= q[f'{i}_df2']\n",
    "# xóa các cột được nối vào\n",
    "for i in updated_col:\n",
    "    q.drop(f'{i}_df2', axis=1, inplace=True)"
   ]
  },
  {
   "cell_type": "code",
   "execution_count": 30,
   "id": "81bbcc5d",
   "metadata": {},
   "outputs": [
    {
     "data": {
      "text/html": [
       "<div>\n",
       "<style scoped>\n",
       "    .dataframe tbody tr th:only-of-type {\n",
       "        vertical-align: middle;\n",
       "    }\n",
       "\n",
       "    .dataframe tbody tr th {\n",
       "        vertical-align: top;\n",
       "    }\n",
       "\n",
       "    .dataframe thead th {\n",
       "        text-align: right;\n",
       "    }\n",
       "</style>\n",
       "<table border=\"1\" class=\"dataframe\">\n",
       "  <thead>\n",
       "    <tr style=\"text-align: right;\">\n",
       "      <th></th>\n",
       "      <th>CN</th>\n",
       "      <th>HSMEVNDNH</th>\n",
       "      <th>HSMEVNDTDH</th>\n",
       "      <th>HSMESJC</th>\n",
       "      <th>HSMEUSD</th>\n",
       "      <th>HSMEEUR</th>\n",
       "      <th>HSMEKHAC</th>\n",
       "      <th>HSMENH</th>\n",
       "      <th>HSMETDH</th>\n",
       "      <th>HCIBVNDNH</th>\n",
       "      <th>HCIBVNDTDH</th>\n",
       "      <th>HCIBSJC</th>\n",
       "      <th>HCIBUSD</th>\n",
       "      <th>HCIBEUR</th>\n",
       "      <th>HCIBKHAC</th>\n",
       "      <th>HCIBNH</th>\n",
       "      <th>HCIBTDH</th>\n",
       "    </tr>\n",
       "  </thead>\n",
       "  <tbody>\n",
       "    <tr>\n",
       "      <th>0</th>\n",
       "      <td>'001</td>\n",
       "      <td>0.0</td>\n",
       "      <td>0.0</td>\n",
       "      <td>0.0</td>\n",
       "      <td>1.259649</td>\n",
       "      <td>0.0</td>\n",
       "      <td>0.0</td>\n",
       "      <td>0.0</td>\n",
       "      <td>0.0</td>\n",
       "      <td>0.0</td>\n",
       "      <td>0.0</td>\n",
       "      <td>0.0</td>\n",
       "      <td>0.0</td>\n",
       "      <td>0.0</td>\n",
       "      <td>0.0</td>\n",
       "      <td>0.0</td>\n",
       "      <td>0.0</td>\n",
       "    </tr>\n",
       "  </tbody>\n",
       "</table>\n",
       "</div>"
      ],
      "text/plain": [
       "     CN  HSMEVNDNH  HSMEVNDTDH  HSMESJC   HSMEUSD  HSMEEUR  HSMEKHAC  HSMENH  \\\n",
       "0  '001        0.0         0.0      0.0  1.259649      0.0       0.0     0.0   \n",
       "\n",
       "   HSMETDH  HCIBVNDNH  HCIBVNDTDH  HCIBSJC  HCIBUSD  HCIBEUR  HCIBKHAC  \\\n",
       "0      0.0        0.0         0.0      0.0      0.0      0.0       0.0   \n",
       "\n",
       "   HCIBNH  HCIBTDH  \n",
       "0     0.0      0.0  "
      ]
     },
     "execution_count": 30,
     "metadata": {},
     "output_type": "execute_result"
    }
   ],
   "source": [
    "# số liệu SAU khi cập nhập\n",
    "q[q.CN==\"'001\"][['CN', 'HSMEVNDNH', 'HSMEVNDTDH', 'HSMESJC', 'HSMEUSD', 'HSMEEUR', 'HSMEKHAC', 'HSMENH', 'HSMETDH', \n",
    "                 'HCIBVNDNH', 'HCIBVNDTDH', 'HCIBSJC', 'HCIBUSD', 'HCIBEUR', 'HCIBKHAC','HCIBNH', 'HCIBTDH']]"
   ]
  },
  {
   "cell_type": "markdown",
   "id": "30be7808",
   "metadata": {},
   "source": [
    "## GL_CODE ĐẦU 244 GHI NHẬN CHO CÁC MÃ ĐƠN VỊ KHÁC"
   ]
  },
  {
   "cell_type": "markdown",
   "id": "495c29ff",
   "metadata": {},
   "source": [
    "## lưu ý: kiểm tra GL_CODE"
   ]
  },
  {
   "cell_type": "code",
   "execution_count": 31,
   "id": "5c0f9871",
   "metadata": {},
   "outputs": [
    {
     "data": {
      "text/html": [
       "<div>\n",
       "<style scoped>\n",
       "    .dataframe tbody tr th:only-of-type {\n",
       "        vertical-align: middle;\n",
       "    }\n",
       "\n",
       "    .dataframe tbody tr th {\n",
       "        vertical-align: top;\n",
       "    }\n",
       "\n",
       "    .dataframe thead th {\n",
       "        text-align: right;\n",
       "    }\n",
       "</style>\n",
       "<table border=\"1\" class=\"dataframe\">\n",
       "  <thead>\n",
       "    <tr style=\"text-align: right;\">\n",
       "      <th></th>\n",
       "      <th>CN</th>\n",
       "      <th>LOAI_KHACHHANG</th>\n",
       "      <th>LOAI_TIEN</th>\n",
       "      <th>LOAI_KYHAN</th>\n",
       "      <th>SODU_QD</th>\n",
       "    </tr>\n",
       "  </thead>\n",
       "  <tbody>\n",
       "    <tr>\n",
       "      <th>0</th>\n",
       "      <td>'001</td>\n",
       "      <td>TCTD</td>\n",
       "      <td>USD</td>\n",
       "      <td>DAI HAN</td>\n",
       "      <td>0.736620</td>\n",
       "    </tr>\n",
       "    <tr>\n",
       "      <th>1</th>\n",
       "      <td>'135</td>\n",
       "      <td>TCTD</td>\n",
       "      <td>JPY</td>\n",
       "      <td>DAI HAN</td>\n",
       "      <td>53.440442</td>\n",
       "    </tr>\n",
       "    <tr>\n",
       "      <th>2</th>\n",
       "      <td>'688</td>\n",
       "      <td>CIB</td>\n",
       "      <td>USD</td>\n",
       "      <td>DAI HAN</td>\n",
       "      <td>2778.763636</td>\n",
       "    </tr>\n",
       "  </tbody>\n",
       "</table>\n",
       "</div>"
      ],
      "text/plain": [
       "     CN LOAI_KHACHHANG LOAI_TIEN LOAI_KYHAN      SODU_QD\n",
       "0  '001           TCTD       USD    DAI HAN     0.736620\n",
       "1  '135           TCTD       JPY    DAI HAN    53.440442\n",
       "2  '688            CIB       USD    DAI HAN  2778.763636"
      ]
     },
     "execution_count": 31,
     "metadata": {},
     "output_type": "execute_result"
    }
   ],
   "source": [
    "# đọc dữ liệu file \"43 44\"\n",
    "df=tk4344_df\n",
    "# lọc GL_Code bắt đầu bằng 244\n",
    "df=df[df.GL_CODE.apply(str).str.startswith('244')] # chuyển cột \"GL_CODE\" sang string và tìm giá trị bắt đầu bằng 244\n",
    "\n",
    "# Tính tỔng số dư quy đổi theo LOAI_KYHAN và LOẠI_KHACHHANG\n",
    "df=df.groupby(['CN','LOAI_KHACHHANG','LOAI_TIEN','LOAI_KYHAN']).SODU_QD.sum().reset_index()\n",
    "# Chuyển thành đơn vị tỷ đồng\n",
    "df.SODU_QD=df.SODU_QD/billion\n",
    "# LOAI_KHACHHANG là TCTD thì xếp vào ô CIB hay SME\n",
    "df"
   ]
  },
  {
   "cell_type": "code",
   "execution_count": 32,
   "id": "ca538ee0",
   "metadata": {},
   "outputs": [],
   "source": [
    "# sắp xếp các món huy động vào file KM theo loại kỳ hạn\n",
    "CN=[]\n",
    "HSMENH=[]\n",
    "HSMETDH=[]\n",
    "HCIBNH=[]\n",
    "HCIBTDH=[]\n",
    "for i in range(len(df)):\n",
    "    if df.iloc[i,1]=='SME' and df.iloc[i,3] == 'NGAN HAN':\n",
    "        CN.append(df.iloc[i,0])\n",
    "        HSMENH.append(df.iloc[i,4])\n",
    "        HSMETDH.append(0)\n",
    "        HCIBNH.append(0)\n",
    "        HCIBTDH.append(0)\n",
    "    if df.iloc[i,1]!='SME' and df.iloc[i,3]=='NGAN HAN':\n",
    "        CN.append(df.iloc[i,0])\n",
    "        HSMENH.append(0)\n",
    "        HSMETDH.append(0)\n",
    "        HCIBNH.append(df.iloc[i,4])\n",
    "        HCIBTDH.append(0)\n",
    "    if df.iloc[i,1]=='SME' and df.iloc[i,3]!='NGAN HAN':\n",
    "        CN.append(df.iloc[i,0])\n",
    "        HSMENH.append(0)\n",
    "        HSMETDH.append(df.iloc[i,4])\n",
    "        HCIBNH.append(0)\n",
    "        HCIBTDH.append(0)\n",
    "    if df.iloc[i,1]!='SME' and df.iloc[i,3]!='NGAN HAN':\n",
    "        CN.append(df.iloc[i,0])\n",
    "        HSMENH.append(0)\n",
    "        HSMETDH.append(0)\n",
    "        HCIBNH.append(0)\n",
    "        HCIBTDH.append(df.iloc[i,4])\n",
    "data=pd.DataFrame({'CN':CN,'HSMENH':HSMENH,'HSMETDH':HSMETDH,'HCIBNH':HCIBNH,'HCIBTDH':HCIBTDH}).groupby('CN').sum().reset_index()\n",
    "\n",
    "SME_df=df[df.LOAI_KHACHHANG=='SME'].drop(columns={'LOAI_KHACHHANG'})\n",
    "# chuyển từng món tiền vào từng ô với SME tương ứng trong file KM\n",
    "CN=[]\n",
    "HSMEVNDNH=[]\n",
    "HSMEVNDTDH=[]\n",
    "HSMESJC=[]\n",
    "HSMEUSD=[]\n",
    "HSMEEUR=[]\n",
    "HSMEKHAC=[]\n",
    "\n",
    "for i in range(len(SME_df)):\n",
    "    if SME_df.iloc[i,1] == 'USD':\n",
    "        CN.append(SME_df.iloc[i,0])\n",
    "        HSMEVNDNH.append(0)\n",
    "        HSMEVNDTDH.append(0)\n",
    "        HSMESJC.append(0)\n",
    "        HSMEUSD.append(SME_df.iloc[i,3])\n",
    "        HSMEEUR.append(0)\n",
    "        HSMEKHAC.append(0)\n",
    "    if SME_df.iloc[i,1] == 'EUR':\n",
    "        CN.append(SME_df.iloc[i,0])\n",
    "        HSMEVNDNH.append(0)\n",
    "        HSMEVNDTDH.append(0)\n",
    "        HSMESJC.append(0)\n",
    "        HSMEUSD.append(0)\n",
    "        HSMEEUR.append(SME_df.iloc[i,3])\n",
    "        HSMEKHAC.append(0)\n",
    "    if SME_df.iloc[i,1] == 'SJC':\n",
    "        CN.append(SME_df.iloc[i,0])\n",
    "        HSMEVNDNH.append(0)\n",
    "        HSMEVNDTDH.append(0)\n",
    "        HSMESJC.append(SME_df.iloc[i,3])\n",
    "        HSMEUSD.append(0)\n",
    "        HSMEEUR.append(0)\n",
    "        HSMEKHAC.append(0)\n",
    "    if SME_df.iloc[i,1] != 'VND' and SME_df.iloc[i,1] != 'USD' and SME_df.iloc[i,1] != 'EUR'and SME_df.iloc[i,1] != 'SJC':\n",
    "        CN.append(SME_df.iloc[i,0])\n",
    "        HSMEVNDNH.append(0)\n",
    "        HSMEVNDTDH.append(0)\n",
    "        HSMESJC.append(0)\n",
    "        HSMEUSD.append(0)\n",
    "        HSMEEUR.append(0)\n",
    "        HSMEKHAC.append(SME_df.iloc[i,3])\n",
    "    if SME_df.iloc[i,1] == 'VND' and SME_df.iloc[i,2] == 'NGAN HAN':\n",
    "        CN.append(SME_df.iloc[i,0])\n",
    "        HSMEVNDNH.append(SME_df.iloc[i,3])\n",
    "        HSMEVNDTDH.append(0)\n",
    "        HSMESJC.append(0)\n",
    "        HSMEUSD.append(0)\n",
    "        HSMEEUR.append(0)\n",
    "        HSMEKHAC.append(0)\n",
    "    if SME_df.iloc[i,1] == 'VND' and SME_df.iloc[i,2] != 'NGAN HAN':\n",
    "        CN.append(SME_df.iloc[i,0])\n",
    "        HSMEVNDNH.append(0)\n",
    "        HSMEVNDTDH.append(SME_df.iloc[i,3])\n",
    "        HSMESJC.append(0)\n",
    "        HSMEUSD.append(0)\n",
    "        HSMEEUR.append(0)\n",
    "        HSMEKHAC.append(0)\n",
    "# tạo dataframe theo dạng file KM, tổng hợp lại theo từng mã CN (groupby)\n",
    "SME_updated_df=pd.DataFrame({'CN':CN,'HSMEVNDNH':HSMEVNDNH,'HSMEVNDTDH':HSMEVNDTDH,'HSMESJC':HSMESJC,'HSMEUSD':HSMEUSD,\n",
    "                             'HSMEEUR':HSMEEUR,'HSMEKHAC':HSMEKHAC}).groupby('CN').sum().reset_index()\n",
    "\n",
    "CIB_df=df[df.LOAI_KHACHHANG!='SME'].drop(columns={'LOAI_KHACHHANG'})\n",
    "# chuyển từng món tiền vào từng ô với CIB tương ứng trong file KM\n",
    "CN=[]\n",
    "HCIBVNDNH=[]\n",
    "HCIBVNDTDH=[]\n",
    "HCIBSJC=[]\n",
    "HCIBUSD=[]\n",
    "HCIBEUR=[]\n",
    "HCIBKHAC=[]\n",
    "\n",
    "for i in range(len(CIB_df)):\n",
    "    if CIB_df.iloc[i,1] == 'USD':\n",
    "        CN.append(CIB_df.iloc[i,0])\n",
    "        HCIBVNDNH.append(0)\n",
    "        HCIBVNDTDH.append(0)\n",
    "        HCIBSJC.append(0)\n",
    "        HCIBUSD.append(CIB_df.iloc[i,3])\n",
    "        HCIBEUR.append(0)\n",
    "        HCIBKHAC.append(0)\n",
    "    if CIB_df.iloc[i,1] == 'EUR':\n",
    "        CN.append(CIB_df.iloc[i,0])\n",
    "        HCIBVNDNH.append(0)\n",
    "        HCIBVNDTDH.append(0)\n",
    "        HCIBSJC.append(0)\n",
    "        HCIBUSD.append(0)\n",
    "        HCIBEUR.append(CIB_df.iloc[i,3])\n",
    "        HCIBKHAC.append(0)\n",
    "    if CIB_df.iloc[i,1] == 'SJC':\n",
    "        CN.append(CIB_df.iloc[i,0])\n",
    "        HCIBVNDNH.append(0)\n",
    "        HCIBVNDTDH.append(0)\n",
    "        HCIBSJC.append(CIB_df.iloc[i,3])\n",
    "        HCIBUSD.append(0)\n",
    "        HCIBEUR.append(0)\n",
    "        HCIBKHAC.append(0)\n",
    "    if CIB_df.iloc[i,1] != 'VND' and CIB_df.iloc[i,1] != 'USD' and CIB_df.iloc[i,1] != 'EUR'and CIB_df.iloc[i,1] != 'SJC':\n",
    "        CN.append(CIB_df.iloc[i,0])\n",
    "        HCIBVNDNH.append(0)\n",
    "        HCIBVNDTDH.append(0)\n",
    "        HCIBSJC.append(0)\n",
    "        HCIBUSD.append(0)\n",
    "        HCIBEUR.append(0)\n",
    "        HCIBKHAC.append(CIB_df.iloc[i,3])\n",
    "    if CIB_df.iloc[i,1] == 'VND' and CIB_df.iloc[i,2] == 'NGAN HAN':\n",
    "        CN.append(CIB_df.iloc[i,0])\n",
    "        HCIBVNDNH.append(CIB_df.iloc[i,3])\n",
    "        HCIBVNDTDH.append(0)\n",
    "        HCIBSJC.append(0)\n",
    "        HCIBUSD.append(0)\n",
    "        HCIBEUR.append(0)\n",
    "        HCIBKHAC.append(0)\n",
    "    if CIB_df.iloc[i,1] == 'VND' and CIB_df.iloc[i,2] != 'NGAN HAN':\n",
    "        CN.append(CIB_df.iloc[i,0])\n",
    "        HCIBVNDNH.append(0)\n",
    "        HCIBVNDTDH.append(CIB_df.iloc[i,3])\n",
    "        HCIBSJC.append(0)\n",
    "        HCIBUSD.append(0)\n",
    "        HCIBEUR.append(0)\n",
    "        HCIBKHAC.append(0)\n",
    "# tạo dataframe theo dạng file KM, tổng hợp lại theo từng mã CN (groupby)\n",
    "CIB_updated_df=pd.DataFrame({'CN':CN,'HCIBVNDNH':HCIBVNDNH,'HCIBVNDTDH':HCIBVNDTDH,'HCIBSJC':HCIBSJC,'HCIBUSD':HCIBUSD,\n",
    "                             'HCIBEUR':HCIBEUR,'HCIBKHAC':HCIBKHAC}).groupby('CN').sum().reset_index()\n"
   ]
  },
  {
   "cell_type": "code",
   "execution_count": 33,
   "id": "726c2d4c",
   "metadata": {},
   "outputs": [
    {
     "data": {
      "text/html": [
       "<div>\n",
       "<style scoped>\n",
       "    .dataframe tbody tr th:only-of-type {\n",
       "        vertical-align: middle;\n",
       "    }\n",
       "\n",
       "    .dataframe tbody tr th {\n",
       "        vertical-align: top;\n",
       "    }\n",
       "\n",
       "    .dataframe thead th {\n",
       "        text-align: right;\n",
       "    }\n",
       "</style>\n",
       "<table border=\"1\" class=\"dataframe\">\n",
       "  <thead>\n",
       "    <tr style=\"text-align: right;\">\n",
       "      <th></th>\n",
       "      <th>CN</th>\n",
       "      <th>HCIBVNDNH</th>\n",
       "      <th>HCIBVNDTDH</th>\n",
       "      <th>HCIBSJC</th>\n",
       "      <th>HCIBUSD</th>\n",
       "      <th>HCIBEUR</th>\n",
       "      <th>HCIBKHAC</th>\n",
       "      <th>HSMEVNDNH</th>\n",
       "      <th>HSMEVNDTDH</th>\n",
       "      <th>HSMESJC</th>\n",
       "      <th>HSMEUSD</th>\n",
       "      <th>HSMEEUR</th>\n",
       "      <th>HSMEKHAC</th>\n",
       "      <th>HSMENH</th>\n",
       "      <th>HSMETDH</th>\n",
       "      <th>HCIBNH</th>\n",
       "      <th>HCIBTDH</th>\n",
       "    </tr>\n",
       "  </thead>\n",
       "  <tbody>\n",
       "    <tr>\n",
       "      <th>0</th>\n",
       "      <td>'001</td>\n",
       "      <td>0</td>\n",
       "      <td>0</td>\n",
       "      <td>0</td>\n",
       "      <td>0.736620</td>\n",
       "      <td>0</td>\n",
       "      <td>0.000000</td>\n",
       "      <td>0.0</td>\n",
       "      <td>0.0</td>\n",
       "      <td>0.0</td>\n",
       "      <td>0.0</td>\n",
       "      <td>0.0</td>\n",
       "      <td>0.0</td>\n",
       "      <td>0</td>\n",
       "      <td>0</td>\n",
       "      <td>0</td>\n",
       "      <td>0.736620</td>\n",
       "    </tr>\n",
       "    <tr>\n",
       "      <th>1</th>\n",
       "      <td>'135</td>\n",
       "      <td>0</td>\n",
       "      <td>0</td>\n",
       "      <td>0</td>\n",
       "      <td>0.000000</td>\n",
       "      <td>0</td>\n",
       "      <td>53.440442</td>\n",
       "      <td>0.0</td>\n",
       "      <td>0.0</td>\n",
       "      <td>0.0</td>\n",
       "      <td>0.0</td>\n",
       "      <td>0.0</td>\n",
       "      <td>0.0</td>\n",
       "      <td>0</td>\n",
       "      <td>0</td>\n",
       "      <td>0</td>\n",
       "      <td>53.440442</td>\n",
       "    </tr>\n",
       "    <tr>\n",
       "      <th>2</th>\n",
       "      <td>'688</td>\n",
       "      <td>0</td>\n",
       "      <td>0</td>\n",
       "      <td>0</td>\n",
       "      <td>2778.763636</td>\n",
       "      <td>0</td>\n",
       "      <td>0.000000</td>\n",
       "      <td>0.0</td>\n",
       "      <td>0.0</td>\n",
       "      <td>0.0</td>\n",
       "      <td>0.0</td>\n",
       "      <td>0.0</td>\n",
       "      <td>0.0</td>\n",
       "      <td>0</td>\n",
       "      <td>0</td>\n",
       "      <td>0</td>\n",
       "      <td>2778.763636</td>\n",
       "    </tr>\n",
       "  </tbody>\n",
       "</table>\n",
       "</div>"
      ],
      "text/plain": [
       "     CN  HCIBVNDNH  HCIBVNDTDH  HCIBSJC      HCIBUSD  HCIBEUR   HCIBKHAC  \\\n",
       "0  '001          0           0        0     0.736620        0   0.000000   \n",
       "1  '135          0           0        0     0.000000        0  53.440442   \n",
       "2  '688          0           0        0  2778.763636        0   0.000000   \n",
       "\n",
       "   HSMEVNDNH  HSMEVNDTDH  HSMESJC  HSMEUSD  HSMEEUR  HSMEKHAC  HSMENH  \\\n",
       "0        0.0         0.0      0.0      0.0      0.0       0.0       0   \n",
       "1        0.0         0.0      0.0      0.0      0.0       0.0       0   \n",
       "2        0.0         0.0      0.0      0.0      0.0       0.0       0   \n",
       "\n",
       "   HSMETDH  HCIBNH      HCIBTDH  \n",
       "0        0       0     0.736620  \n",
       "1        0       0    53.440442  \n",
       "2        0       0  2778.763636  "
      ]
     },
     "execution_count": 33,
     "metadata": {},
     "output_type": "execute_result"
    }
   ],
   "source": [
    "# gộp các cột dữ dữ liệu về huy động như file KM\n",
    "df=CIB_updated_df.merge(SME_updated_df,how='outer').merge(data,how='outer')\n",
    "# điền các giá trị trống bằng 0\n",
    "df=df.fillna(0)\n",
    "# số liệu huy động ghi nhận cho các đơn vị khác\n",
    "df"
   ]
  },
  {
   "cell_type": "code",
   "execution_count": 34,
   "id": "af01915b",
   "metadata": {
    "scrolled": true
   },
   "outputs": [],
   "source": [
    "# gộp số liệu của CN '001 với CN '135\n",
    "updated_col=['HCIBVNDNH', 'HCIBVNDTDH', 'HCIBSJC', 'HCIBUSD', 'HCIBEUR',\n",
    "       'HCIBKHAC', 'HSMEVNDNH', 'HSMEVNDTDH', 'HSMESJC', 'HSMEUSD', 'HSMEEUR',\n",
    "       'HSMEKHAC', 'HSMENH', 'HSMETDH', 'HCIBNH', 'HCIBTDH']\n",
    "for i in updated_col:\n",
    "    df.loc[df.CN==\"'001\",i]+=df.loc[df.CN==\"'135\",i].values[0]\n",
    "\n",
    "df=df[df.CN!=\"'135\"].fillna(0)\n",
    "\n",
    "updated_col=['HCIBVNDNH', 'HCIBVNDTDH', 'HCIBSJC', 'HCIBUSD', 'HCIBEUR',\n",
    "       'HCIBKHAC', 'HSMEVNDNH', 'HSMEVNDTDH', 'HSMESJC', 'HSMEUSD', 'HSMEEUR',\n",
    "       'HSMEKHAC', 'HSMENH', 'HSMETDH', 'HCIBNH', 'HCIBTDH']\n",
    "# nối tương ứng bảng giá trị cần cập nhập theo từng mã CN\n",
    "q = q.merge(df, on='CN', how='left', suffixes=('', '_df2')).fillna(0)\n",
    "# cộng các số dư huy động vào file KM theo từng cột\n",
    "for i in updated_col:\n",
    "    q[f'{i}'] += q[f'{i}_df2']\n",
    "# xóa các cột được nối vào\n",
    "for i in updated_col:\n",
    "    q.drop(f'{i}_df2', axis=1, inplace=True)"
   ]
  },
  {
   "cell_type": "markdown",
   "id": "35dcd54e",
   "metadata": {},
   "source": [
    "## CẬP NHẬP HUY ĐỘNG TỪ TRÁI PHIẾU"
   ]
  },
  {
   "cell_type": "code",
   "execution_count": 35,
   "id": "4a770346",
   "metadata": {
    "scrolled": true
   },
   "outputs": [],
   "source": [
    "# chọn đường dẫn file trái phiếu mới\n",
    "file_path=TraiPhieuPath\n",
    "\n",
    "# lập danh sách các tên sheet của file excel\n",
    "xls = pd.ExcelFile(file_path)\n",
    "sheet_names = xls.sheet_names\n",
    "\n",
    "# Lấy tên file cuối cùng\n",
    "last_sheet_name = sheet_names[-1]\n",
    "\n",
    "# Đọc sheet cuối cùng của file excel\n",
    "TraiPhieu_df = pd.read_excel(file_path, skiprows=1,sheet_name=last_sheet_name)\n",
    "TraiPhieu_df=TraiPhieu_df[TraiPhieu_df['Tên TP'].notnull()]\n",
    "# Chuyển các cột giá trị ghi nhận trái phiếu thành dạng thập phân\n",
    "TraiPhieu_df['Mệnh giá (Ghi nhận TPDN)']=TraiPhieu_df['Mệnh giá (Ghi nhận TPDN)'].astype(float)\n",
    "TraiPhieu_df['Số tiền bán (Ghi nhận HĐ)']=TraiPhieu_df['Số tiền bán (Ghi nhận HĐ)'].astype(float)\n",
    "selected_cols=['Mã ĐV CV', 'Mã ĐV HĐ', 'Mệnh giá (Ghi nhận TPDN)', 'Số tiền bán (Ghi nhận HĐ)',\n",
    "              'Ghi nhận cho khối và \\nĐVKD về trái phiếu DN', 'Ghi nhận cho khối và \\nĐVKD về huy động',\n",
    "               'Tên TP', 'Tên KH mua', 'Ngày bán', 'Ngày mua lại','Đã trình ghi nhận CV',\n",
    "       'Đã trình ghi nhận HĐ']\n",
    "TraiPhieu_df=TraiPhieu_df[selected_cols]"
   ]
  },
  {
   "cell_type": "code",
   "execution_count": 36,
   "id": "9cf7bc4a",
   "metadata": {},
   "outputs": [],
   "source": [
    "df=TraiPhieu_df.copy()\n",
    "# loại bỏ các dòng cuối của file excel\n",
    "# lọc đã trình ghi nhận Huy động\n",
    "df=df[df['Đã trình ghi nhận HĐ'].notnull()]\n",
    "# lọc ngày mua lại trống\n",
    "df=df[~df['Ngày mua lại'].notnull()]\n",
    "# Group by theo từng mã đơn vị (Mã DV HĐ) và từng khối (\"Ghi nhận cho khối và ĐVKD về huy động\") ... tính tổng cột \"Số tiền bán (Ghi nhận HĐ)\"\n",
    "df=df.groupby(['Mã ĐV HĐ','Ghi nhận cho khối và \\nĐVKD về huy động'])['Số tiền bán (Ghi nhận HĐ)'].sum().reset_index()\n",
    "df['Mã ĐV HĐ']=\"'\"+df['Mã ĐV HĐ'].astype(int).astype(str).str.zfill(3)\n",
    "df['Số tiền bán (Ghi nhận HĐ)']=df['Số tiền bán (Ghi nhận HĐ)'].astype(float)\n",
    "TraiPhieuHuyDong=df['Số tiền bán (Ghi nhận HĐ)'].sum()*billion"
   ]
  },
  {
   "cell_type": "code",
   "execution_count": 37,
   "id": "4c7bd108",
   "metadata": {},
   "outputs": [],
   "source": [
    "SME_df=df[df['Ghi nhận cho khối và \\nĐVKD về huy động']=='CKH CMB']\n",
    "SME_df=SME_df.groupby('Mã ĐV HĐ')['Số tiền bán (Ghi nhận HĐ)'].sum().reset_index()\n",
    "CIB_df=df[df['Ghi nhận cho khối và \\nĐVKD về huy động']=='CKH CIB']\n",
    "CIB_df=CIB_df.groupby('Mã ĐV HĐ')['Số tiền bán (Ghi nhận HĐ)'].sum().reset_index()"
   ]
  },
  {
   "cell_type": "code",
   "execution_count": 38,
   "id": "22c226e3",
   "metadata": {},
   "outputs": [],
   "source": [
    "updated_col=['HSMEVNDNH','HSMENH']\n",
    "# nối tương ứng bảng giá trị cần cập nhập theo từng mã CN\n",
    "q = q.merge(SME_df, left_on='CN',right_on='Mã ĐV HĐ', how='left', suffixes=('', '_df2')).fillna(0)\n",
    "# chuyển các cột cần update thành dạng float\n",
    "q[updated_col]=q[updated_col].astype(float)\n",
    "\n",
    "# cộng các số dư huy động vào file KM theo từng cột\n",
    "for i in updated_col:\n",
    "    q[i] += q['Số tiền bán (Ghi nhận HĐ)']\n",
    "# xóa các cột được nối vào\n",
    "for i in SME_df.columns.tolist():\n",
    "    q.drop(i, axis=1, inplace=True)\n",
    "\n",
    "updated_col=['HCIBVNDNH','HCIBNH']\n",
    "# nối tương ứng bảng giá trị cần cập nhập theo từng mã CN\n",
    "q = q.merge(CIB_df, left_on='CN',right_on='Mã ĐV HĐ', how='left', suffixes=('', '_df2')).fillna(0)\n",
    "# chuyển các cột cần update thành dạng float\n",
    "q[updated_col]=q[updated_col].astype(float)\n",
    "\n",
    "# cộng các số dư huy động vào file KM theo từng cột\n",
    "for i in updated_col:\n",
    "    q[i] += q['Số tiền bán (Ghi nhận HĐ)']\n",
    "# xóa các cột được nối vào\n",
    "for i in CIB_df.columns.tolist():\n",
    "    q.drop(i, axis=1, inplace=True)"
   ]
  },
  {
   "cell_type": "markdown",
   "id": "dd982495",
   "metadata": {},
   "source": [
    "## THÊM CÁC CỘT GIÁ TRỊ TỔNG CỦA HUY ĐỘNG"
   ]
  },
  {
   "cell_type": "code",
   "execution_count": 39,
   "id": "fbf67482",
   "metadata": {},
   "outputs": [],
   "source": [
    "# chuyển các cột saut hành số thập phân\n",
    "q[['HSMEVNDKKH', 'HSMEVNDNH', 'HSMEVNDTDH']]=q[['HSMEVNDKKH', 'HSMEVNDNH', 'HSMEVNDTDH']].astype(float)\n",
    "\n",
    "# các cột cần phải thêm vào sau cùng: HSMEVND, HSME, HCIBVND, HCIB, HCNVND, HCN, HNGAYBC\n",
    "# HSMEVND = HSMEVNDKKH,HSMEVNDNH,HSMEVNDTDH\n",
    "# HSME = HSMEVND+HSMESJC+HSMEUSD+HSMEEUR+HSMEKHAC\n",
    "# HNGAYBC = HSME+ HCIB + HCN\n",
    "q['HSMEVND']=q['HSMEVNDKKH']+q['HSMEVNDNH']+q['HSMEVNDTDH']\n",
    "q['HSME']=q['HSMEVND']+q['HSMESJC']+q['HSMEUSD']+q['HSMEEUR']+q['HSMEKHAC']\n",
    "q['HCIBVND']=q['HCIBVNDKKH']+q['HCIBVNDNH']+q['HCIBVNDTDH']\n",
    "q['HCIB']=q['HCIBVND']+q['HCIBSJC']+q['HCIBUSD']+q['HCIBEUR']+q['HCIBKHAC']\n",
    "q['HCNVND']=q['HCNVNDKKH']+q['HCNVNDNH']+q['HCNVNDTDH']\n",
    "q['HCN']=q['HCNVND']+q['HCNSJC']+q['HCNUSD']+q['HCNEUR']+q['HCNKHAC']\n",
    "q['HNGAYBC']=q['HSME']+q['HCIB']+q['HCN']\n",
    "\n",
    "# chuyển các cột số thành dạng số thập phân\n",
    "q.iloc[:,1:]=q.iloc[:,1:].astype(float)"
   ]
  },
  {
   "cell_type": "markdown",
   "id": "a2062b10",
   "metadata": {},
   "source": [
    "# ĐỐI CHIẾU HUY ĐỘNG VS B02"
   ]
  },
  {
   "cell_type": "code",
   "execution_count": 40,
   "id": "30edd203",
   "metadata": {},
   "outputs": [
    {
     "name": "stdout",
     "output_type": "stream",
     "text": [
      "TK 42 (Tiền gửi của khách hàng): 334496512019146.0\n",
      "TK 43 (Phát hành GTCG): 46844941117598.0\n",
      "TK 44 (Vốn TTUT): 2832940698597.0\n",
      "Trái Phiếu cộng tay ghi nhận HĐ: 227268149730.97897\n",
      "Tổng: 384401661985072.0\n"
     ]
    }
   ],
   "source": [
    "# kiểm tra dựa trên file BO2\n",
    "check_df=pd.read_excel(info_filename,sheet_name='B02')\n",
    "TienGuiKhachHang=check_df.iloc[110,3] # TK 42 tiền gửi khách hàng\n",
    "CTCG=check_df.iloc[116,3] # TK 43 phát hành chứng từ có giá\n",
    "VonTaiTroUyThac=check_df.iloc[114,3] # TK 44 vốn tài trợ ủy thác\n",
    "print(f\"TK 42 (Tiền gửi của khách hàng): {TienGuiKhachHang}\")\n",
    "print(f\"TK 43 (Phát hành GTCG): {CTCG}\")\n",
    "print(f\"TK 44 (Vốn TTUT): {VonTaiTroUyThac}\")\n",
    "print(f\"Trái Phiếu cộng tay ghi nhận HĐ: {TraiPhieuHuyDong}\")\n",
    "# tổng tiền gửi khách hàng, CTCG, tài trợ ủy thác và trái phiếu cộng tay huy động\n",
    "print(f'Tổng: {TienGuiKhachHang+CTCG+VonTaiTroUyThac+TraiPhieuHuyDong}')\n",
    "f1=TienGuiKhachHang+CTCG+VonTaiTroUyThac+TraiPhieuHuyDong"
   ]
  },
  {
   "cell_type": "code",
   "execution_count": 41,
   "id": "f97792bb",
   "metadata": {},
   "outputs": [
    {
     "name": "stdout",
     "output_type": "stream",
     "text": [
      "Tổng huy động của báo cáo ngày: \n"
     ]
    },
    {
     "data": {
      "text/plain": [
       "384401661985072.0"
      ]
     },
     "execution_count": 41,
     "metadata": {},
     "output_type": "execute_result"
    }
   ],
   "source": [
    "# tìm các cột có SBV Code chứa số 43 ở đầu trong dữ liệu\n",
    "# lưu file vào biến alm\n",
    "gl101=pd.read_excel(info_filename,sheet_name='gl101')\n",
    "df=gl101[gl101['SBV_CODE'].astype(str).str.startswith('43')]\n",
    "# Tổng cột CR_CLOS trừ cho tổng cột DR_CLOS và quy đổi thành đơn vị tỷ đồng\n",
    "a=(df.CR_CLOS.sum()-df.DR_CLOS.sum())/billion\n",
    "\n",
    "# lưu file vào biến alm\n",
    "# đọc dữ liệu file \"43 44\"\n",
    "df=pd.read_excel(info_filename,sheet_name='TK 43 44')\n",
    "# tìm các cột có SBV Code chứa số 243 ở đầu trong dữ liệu\n",
    "df=df[df['GL_CODE'].astype(str).str.startswith('243')]\n",
    "# cột CN bỏ \"001\"\n",
    "df=df[df.CN!=1]\n",
    "# Quy đổi thành tỷ đồng\n",
    "b=df.SODU_QD.sum()/billion\n",
    "\n",
    "# Số liệu vốn Ủy thác tổng 3 cột Ủy thác của 3 khối trong file Ủy thác\n",
    "c=UT.UTSME.sum()+UT.UTCN.sum()+UT.UTCIB.sum()\n",
    "# Tổng số Chứng từ có giá:\n",
    "CTCG=a-b-c\n",
    "# tổng CTCG và huy động sau cập nhập\n",
    "f2=(CTCG+q['HNGAYBC'].sum())*billion\n",
    "print('Tổng huy động của báo cáo ngày: ')\n",
    "f2"
   ]
  },
  {
   "cell_type": "code",
   "execution_count": 42,
   "id": "934b67b5",
   "metadata": {},
   "outputs": [
    {
     "name": "stdout",
     "output_type": "stream",
     "text": [
      "Độ lệch của Huy động của báo cáo ngày so với B02: (đồng)\n"
     ]
    },
    {
     "data": {
      "text/plain": [
       "0.0"
      ]
     },
     "execution_count": 42,
     "metadata": {},
     "output_type": "execute_result"
    }
   ],
   "source": [
    "# độ lệch của huy động báo cáo ngày và B02 check\n",
    "print('Độ lệch của Huy động của báo cáo ngày so với B02: (đồng)')\n",
    "f1-f2"
   ]
  },
  {
   "cell_type": "markdown",
   "id": "b3f8a91e",
   "metadata": {},
   "source": [
    "# B. CẬP NHẬP CHO VAY"
   ]
  },
  {
   "cell_type": "code",
   "execution_count": 43,
   "id": "87a1f0e0",
   "metadata": {},
   "outputs": [],
   "source": [
    "# xóa các cột tổng về cho vay\n",
    "q.drop(['CVTHANGTRC','CVNGAYTRC','CVNGAYBC','CVSME','CVSMEVND','CVCIB','CVCIBVND','CVCN','CVCNVND'],axis=1,inplace=True)"
   ]
  },
  {
   "cell_type": "code",
   "execution_count": 44,
   "id": "97baa219",
   "metadata": {},
   "outputs": [],
   "source": [
    "# THÊM 3 CỘT MỚI 30% UPAS LC CHO TỪNG KHỐI về tổng cho vay và 30% LC UPAS\n",
    "q['UPAS_LC_SME_30']=q['UPAS_LC_SME']*0.3\n",
    "q['UPAS_LC_CIB_30']=q['UPAS_LC_CIB']*0.3\n",
    "q['UPAS_LC_CN_30']=q['UPAS_LC_CN']*0.3\n"
   ]
  },
  {
   "cell_type": "markdown",
   "id": "16fde369",
   "metadata": {},
   "source": [
    "## Cộng thêm số liệu từ file ỦY THÁC"
   ]
  },
  {
   "cell_type": "code",
   "execution_count": 45,
   "id": "51da2474",
   "metadata": {},
   "outputs": [
    {
     "data": {
      "text/plain": [
       "3848752311632.0"
      ]
     },
     "execution_count": 45,
     "metadata": {},
     "output_type": "execute_result"
    }
   ],
   "source": [
    "df=pd.read_excel(info_filename,sheet_name='UT')\n",
    "df=df[df['Vốn cấp 2'].notnull()].rename(columns={'Vốn cấp 2':'Mã'})\n",
    "\n",
    "# chuyển thành dạng 3 kí tự với dấu phẩy đầu\n",
    "df['Mã'] = \"'\"+df.Mã.astype(int).astype(str).str.zfill(3)\n",
    "\n",
    "UyThac1=(df['von uy thac CMB'].sum()+df['von uy thac retail'].sum()+df['von uy thac CIB'].sum())*billion\n",
    "UyThac1"
   ]
  },
  {
   "cell_type": "code",
   "execution_count": 46,
   "id": "7017f75e",
   "metadata": {},
   "outputs": [],
   "source": [
    "df=df[['Mã','von uy thac CMB','von uy thac retail','von uy thac CIB']]\n",
    "# chuyển các cột vốn ủy thác của từng khối thành dạng số thập phân\n",
    "df[['von uy thac CMB','von uy thac retail','von uy thac CIB']]=df[['von uy thac CMB','von uy thac retail','von uy thac CIB']].astype(float)\n",
    "\n",
    "# thêm 3 cột vào file KM tương ứng theo từng mã CN\n",
    "q=q.merge(df, how='left',left_on='CN',right_on='Mã').fillna(0)\n",
    "\n",
    "# cập nhập cho vay VNDDH và CVDH với với các vốn ủy thác theo từng khối\n",
    "q['CVSMEVNDDH']+=q['von uy thac CMB']\n",
    "q['CVSMEDH']+=q['von uy thac CMB']\n",
    "q['CVCIBVNDDH']+=q['von uy thac CIB']\n",
    "q['CVCIBDH']+=q['von uy thac CIB']\n",
    "q['CVCNVNDDH']+=q['von uy thac retail']\n",
    "q['CVCNDH']+=q['von uy thac retail']\n",
    "\n",
    "# xóa các cột được nối vào\n",
    "for i in df.columns.tolist():\n",
    "    q.drop(i, axis=1, inplace=True)"
   ]
  },
  {
   "cell_type": "markdown",
   "id": "86dfc88b",
   "metadata": {},
   "source": [
    "# Xuất file ủy thác (số phát sinh) trên KM để tính ra số lũy kế"
   ]
  },
  {
   "cell_type": "code",
   "execution_count": 47,
   "id": "9242b797",
   "metadata": {},
   "outputs": [
    {
     "name": "stdout",
     "output_type": "stream",
     "text": [
      "Tong uy thac phat sinh them: -15991970666\n"
     ]
    }
   ],
   "source": [
    "UyThacPhatSinh_df=pd.read_excel(info_filename,sheet_name='ủy thác phát sinh')\n",
    "df=UyThacPhatSinh_df.copy()\n",
    "UyThac2=df.PHATSINH_NO.sum()-df.PHATSINH_CO.sum()\n",
    "df.PHATSINH_CO=df.PHATSINH_CO/billion\n",
    "df.PHATSINH_NO=df.PHATSINH_NO/billion\n",
    "print(f'Tong uy thac phat sinh them: {UyThac2}')"
   ]
  },
  {
   "cell_type": "code",
   "execution_count": 48,
   "id": "c97e3d0f",
   "metadata": {},
   "outputs": [],
   "source": [
    "#PROFIT_CENTRE : 1 là SME, 2 là CN, 8 là CIB\n",
    "SME_df=df[df.PROFIT_CENTRE.str.startswith(\"'1\")]\n",
    "CN_df=df[df.PROFIT_CENTRE.str.startswith(\"'2\")]\n",
    "CIB_df=df[df.PROFIT_CENTRE.str.startswith(\"'8\")]"
   ]
  },
  {
   "cell_type": "code",
   "execution_count": 49,
   "id": "b4ac5dfa",
   "metadata": {},
   "outputs": [],
   "source": [
    "# tổng phát sinh có và phát sinh nợ theo Branch\n",
    "SME_df=SME_df.groupby('MA_CN')[['PHATSINH_NO','PHATSINH_CO']].sum().reset_index()\n",
    "# tổng phát sinh có và phát sinh nợ theo Branch của CIB\n",
    "CIB_df=CIB_df.groupby('MA_CN')[['PHATSINH_NO','PHATSINH_CO']].sum().reset_index()\n",
    "# tổng phát sinh có và phát sinh nợ theo Branch của CN\n",
    "CN_df=CN_df.groupby('MA_CN')[['PHATSINH_NO','PHATSINH_CO']].sum().reset_index()"
   ]
  },
  {
   "cell_type": "code",
   "execution_count": 50,
   "id": "0e03172b",
   "metadata": {},
   "outputs": [],
   "source": [
    "#PHATSINH_NO là cộng thêm vô ... PHATSINH_CO là giảm đi\n",
    "#cộng vào cột CV VND DH và CV DH (của phần cho vay) theo từng mã đơn vị của từng khối\n",
    "q = q.merge(SME_df,left_on='CN',right_on='MA_CN',how='left').fillna(0)\n",
    "q['CVSMEVNDDH']+=q['PHATSINH_NO']\n",
    "q['CVSMEDH']+=q['PHATSINH_NO']\n",
    "q['CVSMEVNDDH']-=q['PHATSINH_CO']\n",
    "q['CVSMEDH']-=q['PHATSINH_CO']\n",
    "# xóa các cột đã thêm vào\n",
    "q.drop(SME_df.columns.tolist(),axis=1,inplace=True)"
   ]
  },
  {
   "cell_type": "code",
   "execution_count": 51,
   "id": "490dca9c",
   "metadata": {},
   "outputs": [],
   "source": [
    "#PHATSINH_NO là cộng thêm vô ... PHATSINH_CO là giảm đi\n",
    "#cộng vào cột CV VND DH và CV DH (của phần cho vay) theo từng mã đơn vị của từng khối\n",
    "q = q.merge(CIB_df,left_on='CN',right_on='MA_CN',how='left').fillna(0)\n",
    "q['CVCIBVNDDH']+=q['PHATSINH_NO']\n",
    "q['CVCIBDH']+=q['PHATSINH_NO']\n",
    "q['CVCIBVNDDH']-=q['PHATSINH_CO']\n",
    "q['CVCIBDH']-=q['PHATSINH_CO']\n",
    "# xóa các cột đã thêm vào\n",
    "q.drop(CIB_df.columns.tolist(),axis=1,inplace=True)"
   ]
  },
  {
   "cell_type": "code",
   "execution_count": 52,
   "id": "653a58de",
   "metadata": {},
   "outputs": [],
   "source": [
    "#PHATSINH_NO là cộng thêm vô ... PHATSINH_CO là giảm đi\n",
    "#cộng vào cột CV VND DH và CV DH (của phần cho vay) theo từng mã đơn vị của từng khối\n",
    "q = q.merge(CN_df,left_on='CN',right_on='MA_CN',how='left').fillna(0)\n",
    "q['CVCNVNDDH']+=q['PHATSINH_NO']\n",
    "q['CVCNDH']+=q['PHATSINH_NO']\n",
    "q['CVCNVNDDH']-=q['PHATSINH_CO']\n",
    "q['CVCNDH']-=q['PHATSINH_CO']\n",
    "# xóa các cột đã thêm vào\n",
    "q.drop(CN_df.columns.tolist(),axis=1,inplace=True)"
   ]
  },
  {
   "cell_type": "markdown",
   "id": "7e71324d",
   "metadata": {},
   "source": [
    "# ghi nhận CHO VAY từ TRÁI PHIẾU"
   ]
  },
  {
   "cell_type": "code",
   "execution_count": 53,
   "id": "c2dde6b6",
   "metadata": {},
   "outputs": [
    {
     "name": "stdout",
     "output_type": "stream",
     "text": [
      "Trái phiếu số hệ thống: 6493797662702.0\n"
     ]
    }
   ],
   "source": [
    "# tính tổng trái phiểu hệ thống\n",
    "TPDN=q['DTCK'].sum()*billion\n",
    "print(f'Trái phiếu số hệ thống: {TPDN}')"
   ]
  },
  {
   "cell_type": "code",
   "execution_count": 54,
   "id": "43805ad3",
   "metadata": {},
   "outputs": [],
   "source": [
    "# là cột DTCK ... cập nhập tay từ file trái phiếu cộng tay\n",
    "# mở file trái phiế ... CỘT \"đã trình ghi nhận CV ko trống ... ngày mua lại = blank ... \n",
    "df=TraiPhieu_df.copy()\n",
    "# chuyển giá trị cột CN thành dạng 3 kí tự 1 => 001\n",
    "df['Mã ĐV CV']=\"'\"+df['Mã ĐV CV'].astype(int).astype(str).str.zfill(3)\n",
    "\n",
    "# # CỘT \"đã trình ghi nhận CV ko trống ... ngày mua lại = blank ... \n",
    "df=df[df['Đã trình ghi nhận CV'].notnull()]\n",
    "df=df[~df['Ngày mua lại'].notnull()]\n"
   ]
  },
  {
   "cell_type": "code",
   "execution_count": 55,
   "id": "6bb96e43",
   "metadata": {},
   "outputs": [
    {
     "name": "stdout",
     "output_type": "stream",
     "text": [
      "Trái phiếu cộng tay thêm: 228.0\n"
     ]
    }
   ],
   "source": [
    "TraiPhieuChoVay=df['Mệnh giá (Ghi nhận TPDN)'].sum()\n",
    "print(f'Trái phiếu cộng tay thêm: {TraiPhieuChoVay}')"
   ]
  },
  {
   "cell_type": "code",
   "execution_count": 56,
   "id": "804db90e",
   "metadata": {},
   "outputs": [
    {
     "name": "stdout",
     "output_type": "stream",
     "text": [
      "Trái phiếu phòng Đầu tư: 119.6\n",
      "Trái phiếu cộng tay ghi nhận vào cột trái phiếu hệ thống: 108.4\n"
     ]
    }
   ],
   "source": [
    "# trái phiếu phòng đầu tư\n",
    "TraiPhieuPDT=df.loc[df['Ghi nhận cho khối và \\nĐVKD về trái phiếu DN']=='P.ĐT','Mệnh giá (Ghi nhận TPDN)'].sum()\n",
    "print(f'Trái phiếu phòng Đầu tư: {TraiPhieuPDT}')\n",
    "\n",
    "print(f'Trái phiếu cộng tay ghi nhận vào cột trái phiếu hệ thống: {TraiPhieuChoVay-TraiPhieuPDT}')"
   ]
  },
  {
   "cell_type": "code",
   "execution_count": 57,
   "id": "315cf8f3",
   "metadata": {},
   "outputs": [],
   "source": [
    "# \"GHI NHẬN CHO KHỐI VÀ ĐVKD về trái phiếu DN\"\n",
    "# loại bỏ những trái phiếu của phòng đầu tư\n",
    "df=df[df['Ghi nhận cho khối và \\nĐVKD về trái phiếu DN']!='P.ĐT']\n",
    "\n",
    "# tạo file data trái phiếu ghi nhận cho từng khối\n",
    "SME_df=df[df['Ghi nhận cho khối và \\nĐVKD về trái phiếu DN']=='CMB']\n",
    "CIB_df=df[df['Ghi nhận cho khối và \\nĐVKD về trái phiếu DN']=='CIB']\n",
    "\n",
    "# tính tổng mệnh giá ghi nhận TPDN cho từng mã CN\n",
    "SME_df=SME_df.groupby('Mã ĐV CV')['Mệnh giá (Ghi nhận TPDN)'].sum().reset_index()\n",
    "CIB_df=CIB_df.groupby('Mã ĐV CV')['Mệnh giá (Ghi nhận TPDN)'].sum().reset_index()"
   ]
  },
  {
   "cell_type": "code",
   "execution_count": 58,
   "id": "5f8c5e70",
   "metadata": {},
   "outputs": [],
   "source": [
    "# cập nhập vào cột tổng cho vay của khối SME\n",
    "q=q.merge(SME_df,how='left',left_on='CN',right_on='Mã ĐV CV').fillna(0)\n",
    "\n",
    "# cột thêm các trái phiếu cộng tay này vào cột DTCK trong file KM\n",
    "q['DTCK'] += q['Mệnh giá (Ghi nhận TPDN)']\n",
    "\n",
    "# xóa các cột thêm vào\n",
    "for i in SME_df.columns.tolist():\n",
    "    q.drop(i, axis=1, inplace=True)\n",
    "    \n",
    "\n",
    "# cập nhập vào cột tổng cho vay của khối CIB\n",
    "q=q.merge(CIB_df,how='left',left_on='CN',right_on='Mã ĐV CV').fillna(0)\n",
    "q['Mệnh giá (Ghi nhận TPDN)']\n",
    "\n",
    "# cột thêm các trái phiếu cộng tay này vào cột DTCK trong file KM\n",
    "q['DTCK'] += q['Mệnh giá (Ghi nhận TPDN)']\n",
    "\n",
    "# xóa các cột thêm vào\n",
    "for i in CIB_df.columns.tolist():\n",
    "    q.drop(i, axis=1, inplace=True)"
   ]
  },
  {
   "cell_type": "code",
   "execution_count": 59,
   "id": "7d309fad",
   "metadata": {},
   "outputs": [
    {
     "data": {
      "text/plain": [
       "6602197662702.0"
      ]
     },
     "execution_count": 59,
     "metadata": {},
     "output_type": "execute_result"
    }
   ],
   "source": [
    "q['DTCK'].sum()*billion"
   ]
  },
  {
   "cell_type": "markdown",
   "id": "4f5ea954",
   "metadata": {},
   "source": [
    "# CỘNG 300 TỶ VÀO CHO VAY DH VÀ CHO VAY VND DH CHO CN 217 - CN HUẾ"
   ]
  },
  {
   "cell_type": "code",
   "execution_count": 60,
   "id": "0e13edfa",
   "metadata": {},
   "outputs": [],
   "source": [
    "# Loại bỏ 300 tỷ chiết khấu SME của CN 217 \n",
    "q.loc[q.CN==\"'217\",\"SME_CK_DL\"]+=-300\n",
    "# CỘNG THÊM 300 TỶ VÀO SỐ CHO VAY VNDDH VÀ CHO VAY DH CỦA SME CỦA CN 217(CTCP QUAN LY VA PHA TRIEN BDS CONASI)\n",
    "q.loc[q.CN==\"'217\",\"CVSMEDH\"]+=300\n",
    "q.loc[q.CN==\"'217\",\"CVSMEVNDDH\"]+=300"
   ]
  },
  {
   "cell_type": "markdown",
   "id": "8a3ee131",
   "metadata": {},
   "source": [
    "# THÊM CỘT CÁC CỘT TỔNG CHO VAY"
   ]
  },
  {
   "cell_type": "code",
   "execution_count": 61,
   "id": "10b9e025",
   "metadata": {},
   "outputs": [],
   "source": [
    "# thêm cột trái phiếu ghi nhận cho khối SME... chỉ trừ mã 166\n",
    "q['SME_DTCK']=q['DTCK']\n",
    "q.loc[q.CN==\"'166\",'SME_DTCK']=0\n",
    "# thêm cột trái phiếu ghi nhận cho khối CIB ... chỉ lấy mã 166\n",
    "q['CIB_DTCK']=0\n",
    "q.loc[q.CN==\"'166\",'CIB_DTCK']=q.loc[q.CN==\"'166\",'DTCK'].values[0]"
   ]
  },
  {
   "cell_type": "code",
   "execution_count": 62,
   "id": "623f3a86",
   "metadata": {},
   "outputs": [],
   "source": [
    "# loại bỏ 45 tỷ trái phiếu của CN 001 của khối SME \n",
    "q.loc[q.CN==\"'001\",'SME_DTCK']=0"
   ]
  },
  {
   "cell_type": "code",
   "execution_count": 63,
   "id": "0ca400ff",
   "metadata": {},
   "outputs": [],
   "source": [
    "# thêm các cột về tổng cho vay VND cho từng khối\n",
    "q['CVSMEVND']=q['CVSMEVNDNH']+q['CVSMEVNDTH']+q['CVSMEVNDDH']\n",
    "q['CVCIBVND']=q['CVCIBVNDNH']+q['CVCIBVNDTH']+q['CVCIBVNDDH']\n",
    "q['CVCNVND']=q['CVCNVNDNH']+q['CVCNVNDTH']+q['CVCNVNDDH']\n"
   ]
  },
  {
   "cell_type": "code",
   "execution_count": 64,
   "id": "845255ed",
   "metadata": {},
   "outputs": [],
   "source": [
    "#  cho vay SME đã bao gồm Trái phiếu\n",
    "q['CVSME_TP']=q['CVSMEVND']+q['CVSMESJC']+q['CVSMEUSD']+q['CVSMEEUR']+q['CVSMEKHAC']+q['SME_DTCK']\n",
    "# cho vay CIB đã bao gồm trái phiếu\n",
    "q['CVCIB_TP']=q['CVCIBVND']+q['CVCIBSJC']+q['CVCIBUSD']+q['CVCIBEUR']+q['CVCIBKHAC']+q['CIB_DTCK']\n",
    "# cho vay CN\n",
    "q['CVCN_TP']=q['CVCNVND']+q['CVCNSJC']+q['CVCNUSD']+q['CVCNEUR']+q['CVCNKHAC']\n"
   ]
  },
  {
   "cell_type": "code",
   "execution_count": 65,
   "id": "594d5452",
   "metadata": {},
   "outputs": [],
   "source": [
    "# Cho vay SME đã bao gồm trái phiếu + 30% UPAS LC\n",
    "q['CVSME_UPDATED']=q['CVSME_TP']+q['UPAS_LC_SME_30']\n",
    "# Cho vay CIB đã bao gồm trái phiếu + 30% UPAS LC\n",
    "q['CVCIB_UPDATED']=q['CVCIB_TP']+q['UPAS_LC_CIB_30']\n",
    "# Cho vay CN + 30% UPAS LC\n",
    "q['CVCN_UPDATED']=q['CVCN_TP']+q['UPAS_LC_CN_30']"
   ]
  },
  {
   "cell_type": "code",
   "execution_count": 66,
   "id": "2307eacf",
   "metadata": {},
   "outputs": [],
   "source": [
    "# thêm các cột dư nợ thẻ (tổng từ ba khối tương ứng loại tiền và loại kỳ hạn)\n",
    "q['THE_CVVNDNH']=q['THE_CVSMEVNDNH'] + q['THE_CVCIBVNDNH'] + q['THE_CVCNVNDNH']\n",
    "q['THE_CVVNDTH']=q['THE_CVSMEVNDTH'] + q['THE_CVCIBVNDTH'] + q['THE_CVCNVNDTH']\n",
    "q['THE_CVVNDDH']=q['THE_CVSMEVNDDH'] + q['THE_CVCIBVNDDH'] + q['THE_CVCNVNDDH']\n",
    "\n",
    "q['THE_CVSJC']=q['THE_CVSMESJC'] + q['THE_CVCIBSJC'] + q['THE_CVCNSJC']\n",
    "q['THE_CVUSD']=q['THE_CVSMEUSD'] + q['THE_CVCIBUSD'] + q['THE_CVCNUSD']\n",
    "q['THE_CVEUR']=q['THE_CVSMEEUR'] + q['THE_CVCIBEUR'] + q['THE_CVCNEUR']\n",
    "q['THE_CVKHAC']=q['THE_CVSMEKHAC'] + q['THE_CVCIBKHAC'] + q['THE_CVCNKHAC']\n",
    "\n",
    "q['THE_CVVND']=q['THE_CVVNDNH']+q['THE_CVVNDTH']+q['THE_CVVNDDH']\n",
    "q['THE_CVNH']=q['THE_CVSMENH']+q['THE_CVCIBNH']+q['THE_CVCNNH']\n",
    "q['THE_CVTH']=q['THE_CVSMETH']+q['THE_CVCIBTH']+q['THE_CVCNTH']\n",
    "q['THE_CVDH']=q['THE_CVSMEDH']+q['THE_CVCIBDH']+q['THE_CVCNDH']\n",
    "q['THE_CV']=q['THE_CVVND']+q['THE_CVSJC']+q['THE_CVUSD']+q['THE_CVEUR']+q['THE_CVKHAC']\n",
    "\n"
   ]
  },
  {
   "cell_type": "code",
   "execution_count": 67,
   "id": "381e803b",
   "metadata": {},
   "outputs": [],
   "source": [
    "# CVNGAYBC = \"Cho vay bao gồm CC STK (bao gồm TPDN)\" của 3 khối khác và cột dư nợ thẻ ngày báo cáo\n",
    "q['CVNGAYBC_TP']=q['CVSME_TP']+q['CVCIB_TP']+q['CVCN_TP']+q['THE_CVNGAYBC']\n",
    "# CVNGAYBC_UPDATED = \"Cho vay bao gồm CC STK (gồm TPDN)+30%UPAS_LC\"\n",
    "q['CVNGAYBC_UPDATED']=q['CVSME_UPDATED']+q['CVCIB_UPDATED']+q['CVCN_UPDATED']+q['THE_CV']\n"
   ]
  },
  {
   "cell_type": "code",
   "execution_count": 68,
   "id": "a8572121",
   "metadata": {},
   "outputs": [],
   "source": [
    "# thêm các cột về chiết khấu = chiết khẩu của từng khối\n",
    "q['CK_DL']=q['SME_CK_DL']+q['CIB_CK_DL']+q['CN_CK_DL']\n",
    "\n",
    "# tạo thêm các cột tổng dư thẻ theo từng nhóm nợ\n",
    "q['THE_N1_DL']=q['THE_SME_N1_DL']+q['THE_CIB_N1_DL']+q['THE_CN_N1_DL']\n",
    "q['THE_N2_DL']=q['THE_SME_N2_DL']+q['THE_CIB_N2_DL']+q['THE_CN_N2_DL']\n",
    "q['THE_N3_DL']=q['THE_SME_N3_DL']+q['THE_CIB_N3_DL']+q['THE_CN_N3_DL']\n",
    "q['THE_N4_DL']=q['THE_SME_N4_DL']+q['THE_CIB_N4_DL']+q['THE_CN_N4_DL']\n",
    "q['THE_N5_DL']=q['THE_SME_N5_DL']+q['THE_CIB_N5_DL']+q['THE_CN_N5_DL']\n"
   ]
  },
  {
   "cell_type": "code",
   "execution_count": 69,
   "id": "5dab982e",
   "metadata": {},
   "outputs": [],
   "source": [
    "# thêm các cột tổng nợ theo từng nhóm (bằng nợ 3 khối cộng lại)\n",
    "q['N1_DL']=q['SME_N1_DL']+q['CIB_N1_DL']+q['CN_N1_DL']\n",
    "q['N2_DL']=q['SME_N2_DL']+q['CIB_N2_DL']+q['CN_N2_DL']\n",
    "q['N3_DL']=q['SME_N3_DL']+q['CIB_N3_DL']+q['CN_N3_DL']\n",
    "q['N4_DL']=q['SME_N4_DL']+q['CIB_N4_DL']+q['CN_N4_DL']\n",
    "q['N5_DL']=q['SME_N5_DL']+q['CIB_N5_DL']+q['CN_N5_DL']\n"
   ]
  },
  {
   "cell_type": "code",
   "execution_count": 70,
   "id": "2598909b",
   "metadata": {},
   "outputs": [
    {
     "name": "stdout",
     "output_type": "stream",
     "text": [
      "Trái phiếu phòng Đầu tư từ trái phiếu cộng tay: 119.6 \n",
      "Trái phiếu phòng Đầu tư trên hệ thống: 913.422025979 \n",
      "Trái phiều ở phòng nguồn vốn: 45.0 \n",
      "Tổng trái phiếu phòng đầu tư: 1078.0220259789999\n"
     ]
    }
   ],
   "source": [
    "# TRÁI PHIẾU DOANH NGHIỆP CỦA PHÒNG ĐẦU TƯ\n",
    "# Trái phiếu của phòng đầu tư từ file trái phiếu ghi nhận tay\n",
    "a=TraiPhieuPDT\n",
    "\n",
    "# TRÁI PHIẾU PHÒNG ĐẦU TƯ TRÊN HỆ THỐNG\n",
    "# lưu file vào biến alm\n",
    "gl101=pd.read_excel(info_filename,sheet_name='gl101')\n",
    "# chuyển cột SBV_CODE thành dạng object\n",
    "gl101.SBV_CODE=gl101.SBV_CODE.astype(str)\n",
    "# lọc Branch_no '379, SBV_CODE startswith 153 163 1413,\n",
    "df=gl101[(gl101.BRANCH_NO==\"'379\")&(gl101.SBV_CODE.str.startswith(('153','163','1413')))]\n",
    "# con số thứ 2 = tổng DR_CLOS - tổng CR_CLOS\n",
    "b=df.DR_CLOS.sum()-df.CR_CLOS.sum()\n",
    "b=b/billion\n",
    "\n",
    "# con số thứ 3 lọc Branch_no '001, SBV_CODE startswith 153 163 1413, tổng DR_CLOS - tổng CR_CLOS\n",
    "# lọc Branch_no '001, SBV_CODE startswith 153 163 1413\n",
    "df=gl101[(gl101.BRANCH_NO==\"'001\")&(gl101.SBV_CODE.str.startswith(('153','163','1413')))]\n",
    "# tổng DR_CLOS - tổng CR_CLOS\n",
    "c=df.DR_CLOS.sum()-df.CR_CLOS.sum()\n",
    "c=c/billion\n",
    "\n",
    "# giá trị ô BK 1 (trái phiếu phòng đầu tư)\n",
    "BK1=a+b+c\n",
    "print(f'Trái phiếu phòng Đầu tư từ trái phiếu cộng tay: {a} \\nTrái phiếu phòng Đầu tư trên hệ thống: {b} \\nTrái phiều ở phòng nguồn vốn: {c} \\nTổng trái phiếu phòng đầu tư: {BK1}')"
   ]
  },
  {
   "cell_type": "code",
   "execution_count": 71,
   "id": "6ed5db79",
   "metadata": {},
   "outputs": [],
   "source": [
    "# 45 tỷ trái phiếu không cập nhập vào cột trái phiếu SME của từng đơn vị ... (45 tỷ trái phiếu nguồn vốn)\n",
    "q.loc[q.CN==\"'001\",'SME_DTCK']=0\n",
    "# cập nhập 1594 trái phiếu phòng đầu tư và 45 tỷ trái phiếu của nguồn vốn vào cho vay của CN 001\n",
    "q.loc[q.CN==\"'001\",'CVNGAYBC_TP']+=(BK1+BK2)\n",
    "# Cho vay bao gồm CC STK (gồm TPDN)+30%UPAS_LC: + số cho vay của Muadee vào CN 001\n",
    "q.loc[q.CN==\"'001\",'CVNGAYBC_UPDATED']+=(BK1+BK2)"
   ]
  },
  {
   "cell_type": "code",
   "execution_count": 72,
   "id": "d2ccf003",
   "metadata": {},
   "outputs": [],
   "source": [
    "# thêm cột Cho vay (không bao gồm chiết khấu)\n",
    "q['Cho vay (không bao gồm chiết khấu)']=q['CVSME_TP']+q['CVCIB_TP']+q['CVCN_TP']+q['THE_CVNGAYBC']\n"
   ]
  },
  {
   "cell_type": "code",
   "execution_count": 73,
   "id": "5a5abf80",
   "metadata": {},
   "outputs": [],
   "source": [
    "# cập nhập cho vay không bao gồm chiết khấu của CN 001 thêm số của ô BK 1\n",
    "q.loc[q.CN==\"'001\",'Cho vay (không bao gồm chiết khấu)']+=(BK1)"
   ]
  },
  {
   "cell_type": "markdown",
   "id": "bfa1950e",
   "metadata": {},
   "source": [
    "# ĐỐI CHIẾU TỔNG CHO VAY VS B02"
   ]
  },
  {
   "cell_type": "code",
   "execution_count": 74,
   "id": "958ebdba",
   "metadata": {},
   "outputs": [
    {
     "name": "stdout",
     "output_type": "stream",
     "text": [
      "TK2 (cho vay khách hàng): 274543019196154.0\n",
      "TPDN (hệ thống): 6493797662702.0\n",
      "30% UPAS LC: 10773899281391.639\n",
      "Trái Phiếu Cho Vay Cộng tay: 228.0\n",
      "Ủy thác: 3832760340966.0\n"
     ]
    }
   ],
   "source": [
    "ChoVayKH=check_df.iloc[24,3] # cho vay khách hàng TK2\n",
    "TraiPhieuChoVay # trái phiếu doanh nghiệp cộng tay\n",
    "TPDN # trái phiếu hệ thống\n",
    "UpasLc30=(q['UPAS_LC_SME_30'].sum()+q['UPAS_LC_CIB_30'].sum()+q['UPAS_LC_CN_30'].sum())*billion\n",
    "TongUyThac=UyThac1+UyThac2\n",
    "print(f'TK2 (cho vay khách hàng): {ChoVayKH}\\nTPDN (hệ thống): {TPDN}\\n30% UPAS LC: {UpasLc30}\\nTrái Phiếu Cho Vay Cộng tay: {TraiPhieuChoVay}\\nỦy thác: {TongUyThac}')"
   ]
  },
  {
   "cell_type": "code",
   "execution_count": 75,
   "id": "28f0eb9d",
   "metadata": {},
   "outputs": [
    {
     "name": "stdout",
     "output_type": "stream",
     "text": [
      "Tổng: 295643476481441.6\n"
     ]
    }
   ],
   "source": [
    "f1=ChoVayKH+TPDN+UpasLc30+TraiPhieuChoVay+TongUyThac\n",
    "print(f'Tổng: {f1}')"
   ]
  },
  {
   "cell_type": "code",
   "execution_count": 76,
   "id": "272f9490",
   "metadata": {},
   "outputs": [
    {
     "name": "stdout",
     "output_type": "stream",
     "text": [
      "Tổng Cho Vay trên Báo cáo ngày: 296171476481200.7\n"
     ]
    }
   ],
   "source": [
    "list=[\"'379\",\"'668\"] # loại bỏ số cho vay của Muadee và của Phòng Đầu tư\n",
    "ChoVayBCNgay=q.loc[~q.CN.isin(list),'CVNGAYBC_UPDATED'].sum()*billion\n",
    "f2=ChoVayBCNgay\n",
    "print(f'Tổng Cho Vay trên Báo cáo ngày: {ChoVayBCNgay}')"
   ]
  },
  {
   "cell_type": "code",
   "execution_count": 77,
   "id": "a8765807",
   "metadata": {},
   "outputs": [
    {
     "name": "stdout",
     "output_type": "stream",
     "text": [
      "Độ lệch của Cho vay của báo cáo ngày so với B02: (đồng)\n"
     ]
    },
    {
     "data": {
      "text/plain": [
       "-527999999759.0625"
      ]
     },
     "execution_count": 77,
     "metadata": {},
     "output_type": "execute_result"
    }
   ],
   "source": [
    "print('Độ lệch của Cho vay của báo cáo ngày so với B02: (đồng)')\n",
    "f1-f2"
   ]
  },
  {
   "cell_type": "markdown",
   "id": "a998973d",
   "metadata": {},
   "source": [
    "# CẬP NHẬP MUA BÁN NỢ VÀ THÊM SỐ LIỆU NĂM 2022"
   ]
  },
  {
   "cell_type": "code",
   "execution_count": 78,
   "id": "a77b6b30",
   "metadata": {},
   "outputs": [],
   "source": [
    "MBN_df=pd.read_excel(info_filename,sheet_name='MBN')\n",
    "df=MBN_df.copy()\n",
    "# loại bỏ file không ghi nhận trong danh sách, ở cột ghi chú\n",
    "df=df[~df['ghi chu'].notnull()]\n",
    "# chuyển đơn vị thành tỷ đồng\n",
    "df['DU NO CON LAI']=df['DU NO CON LAI']/billion\n",
    "# loại bỏ các dấu \"'\" trong cột loại KH 208\n",
    "df['Loại KH 208']=df['Loại KH 208'].str.replace(\"'\",\"\")"
   ]
  },
  {
   "cell_type": "code",
   "execution_count": 79,
   "id": "f68a25e6",
   "metadata": {},
   "outputs": [],
   "source": [
    "CN_df=df[df['Loại KH 208']==\"DIN\"].groupby('ma don vi')['DU NO CON LAI'].sum().reset_index().rename(columns={'DU NO CON LAI':'BanNo_CN'})\n",
    "CMB_df=df[df['Loại KH 208']==\"DCO\"].groupby('ma don vi')['DU NO CON LAI'].sum().reset_index().rename(columns={'DU NO CON LAI':'BanNo_SME'})"
   ]
  },
  {
   "cell_type": "code",
   "execution_count": 80,
   "id": "aa52e37e",
   "metadata": {},
   "outputs": [],
   "source": [
    "q=q.merge(CMB_df,how='left',left_on='CN',right_on='ma don vi').fillna(0).drop(columns='ma don vi') # nối cột bán nợ CMB vào \n",
    "q=q.merge(CN_df,how='left',left_on='CN',right_on='ma don vi').fillna(0).drop(columns='ma don vi') # nối cột bán nợ CN vào\n",
    "q['BanNo_CIB']=0\n",
    "q['BanNo_The']=0"
   ]
  },
  {
   "cell_type": "code",
   "execution_count": 81,
   "id": "5e607a19",
   "metadata": {},
   "outputs": [],
   "source": [
    "df=MBN_df.copy()\n",
    "# loại bỏ file không ghi nhận trong danh sách, ở cột ghi chú\n",
    "# df=df[~df['ghi chu'].notnull()]\n",
    "# chuyển đơn vị thành tỷ đồng\n",
    "df['DU NO CON LAI']=df['DU NO CON LAI']/billion\n",
    "# loại bỏ các dấu \"'\" trong cột loại KH 208\n",
    "df['Loại KH 208']=df['Loại KH 208'].str.replace(\"'\",\"\")\n",
    "df=df.groupby('ma don vi')['DU NO CON LAI'].sum().reset_index().rename(columns={'DU NO CON LAI':'BanNo'})"
   ]
  },
  {
   "cell_type": "code",
   "execution_count": 82,
   "id": "ad048af3",
   "metadata": {},
   "outputs": [],
   "source": [
    "df=MBN_df.copy()\n",
    "# loại bỏ file không ghi nhận trong danh sách, ở cột ghi chú\n",
    "# df=df[~df['ghi chu'].notnull()]\n",
    "# chuyển đơn vị thành tỷ đồng\n",
    "df['DU NO CON LAI']=df['DU NO CON LAI']/billion\n",
    "# loại bỏ các dấu \"'\" trong cột loại KH 208\n",
    "df['Loại KH 208']=df['Loại KH 208'].str.replace(\"'\",\"\")\n",
    "df=df.groupby('ma don vi')['DU NO CON LAI'].sum().reset_index().rename(columns={'DU NO CON LAI':'BanNo'})\n",
    "q=q.merge(df,how='left',left_on='CN',right_on='ma don vi').fillna(0).drop(columns='ma don vi')\n"
   ]
  },
  {
   "cell_type": "code",
   "execution_count": 83,
   "id": "3f2b5a97",
   "metadata": {},
   "outputs": [],
   "source": [
    "# THÊM CỘT SỐ LIỆU 2022\n",
    "# đọc file info sheet 2022\n",
    "df=pd.read_excel(info_filename,sheet_name='2022')\n",
    "# bỏ cột STT\n",
    "df=df.drop(columns=('STT'))\n",
    "# thêm các số liệu 2022 theo từng mã đơn vị\n",
    "q=q.merge(df,left_on='CN',right_on='MDV',how='left').fillna(0)\n",
    "# bỏ cột MDV \n",
    "q=q.drop(columns=('MDV'))"
   ]
  },
  {
   "cell_type": "code",
   "execution_count": 84,
   "id": "275cbc46",
   "metadata": {},
   "outputs": [],
   "source": [
    "# Nợ 345 của SME đã bao gồm bán nợ\n",
    "q['SME_N345_DL_UPDATED']=q['SME_N3_DL']+q['SME_N4_DL']+q['SME_N5_DL']+q['BanNo_SME']\n",
    "q['CIB_N345_DL_UPDATED']=q['CIB_N3_DL']+q['CIB_N4_DL']+q['CIB_N5_DL']+q['BanNo_CIB']\n",
    "q['CN_N345_DL_UPDATED']=q['CN_N3_DL']+q['CN_N4_DL']+q['CN_N5_DL']+q['BanNo_CN']"
   ]
  },
  {
   "cell_type": "code",
   "execution_count": 85,
   "id": "1a54d5c5",
   "metadata": {},
   "outputs": [],
   "source": [
    "# Nợ 345 của SME đã bao gồm bán nợ\n",
    "q['SME_N345_DL_UPDATED']=q['SME_N3_DL']+q['SME_N4_DL']+q['SME_N5_DL']+q['BanNo_SME']\n",
    "q['CIB_N345_DL_UPDATED']=q['CIB_N3_DL']+q['CIB_N4_DL']+q['CIB_N5_DL']+q['BanNo_CIB']\n",
    "q['CN_N345_DL_UPDATED']=q['CN_N3_DL']+q['CN_N4_DL']+q['CN_N5_DL']+q['BanNo_CN']\n",
    "\n",
    "# thể tổng N345\n",
    "q['THE_N345_DL_UPDATED']=q['THE_N3_DL'] + q['THE_N4_DL'] + q['THE_N5_DL']+q['BanNo_The']\n",
    "\n",
    "# cột tổng nợ nhóm 345 bao gồm bán nợ \n",
    "q['SME_N345_DL_UPDATED']=q['SME_N3_DL']+q['SME_N4_DL']+q['SME_N5_DL']+q['BanNo_SME']\n",
    "q['CIB_N345_DL_UPDATED']=q['CIB_N3_DL']+q['CIB_N4_DL']+q['CIB_N5_DL']+q['BanNo_CIB']\n",
    "q['CN_N345_DL_UPDATED']=q['CN_N3_DL']+q['CN_N4_DL']+q['CN_N5_DL']+q['BanNo_CN']\n",
    "\n",
    "# Tổng nợ nhóm 345\n",
    "q['N345_DL']=q['SME_N345_DL_UPDATED']-q['BanNo_SME']+q['CIB_N345_DL_UPDATED']+q['CN_N345_DL_UPDATED']-q['BanNo_CN']+q['THE_N345_DL_UPDATED']\n",
    "\n",
    "# Tổng nợ 345 sau khi chỉnh các món điều chuyển \n",
    "q['N345_SauDieuChuyen']=q['N345_DL']+q['N_DieuChuyen']+q['BanNo']\n"
   ]
  },
  {
   "cell_type": "markdown",
   "id": "f34e0025",
   "metadata": {},
   "source": [
    "# CẬP NHẬP LỢI NHUẬN CỦA CN 001"
   ]
  },
  {
   "cell_type": "code",
   "execution_count": 86,
   "id": "8e403694",
   "metadata": {},
   "outputs": [],
   "source": [
    "# LỢI NHUẬN LŨY KẾ TẠM TÍNH CỦA 001 TRỤ SỞ CHÍNH = TỔNG 001+179+322+323+324+379+666+668\n",
    "q.loc[q.CN==\"'001\",'LNTRONGTHANG']+=(\n",
    "    q.loc[q.CN==\"'179\",'LNTRONGTHANG'].values[0]+\n",
    "    q.loc[q.CN==\"'322\",'LNTRONGTHANG'].values[0]+\n",
    "    q.loc[q.CN==\"'323\",'LNTRONGTHANG'].values[0]+\n",
    "    q.loc[q.CN==\"'379\",'LNTRONGTHANG'].values[0]+\n",
    "    q.loc[q.CN==\"'666\",'LNTRONGTHANG'].values[0]+\n",
    "    q.loc[q.CN==\"'668\",'LNTRONGTHANG'].values[0])\n",
    "# LỢI NHUẬN LŨY KẾ TRONG THÁNG CỦA 001 TSC = TỔNG 001+179+322+323+324+666+668\n",
    "q.loc[q.CN==\"'001\",'LNLUYKE']+=(\n",
    "    q.loc[q.CN==\"'179\",'LNLUYKE'].values[0]+\n",
    "    q.loc[q.CN==\"'322\",'LNLUYKE'].values[0]+\n",
    "    q.loc[q.CN==\"'323\",'LNLUYKE'].values[0]+\n",
    "    q.loc[q.CN==\"'379\",'LNLUYKE'].values[0]+\n",
    "    q.loc[q.CN==\"'666\",'LNLUYKE'].values[0]+\n",
    "    q.loc[q.CN==\"'668\",'LNLUYKE'].values[0])\n"
   ]
  },
  {
   "cell_type": "code",
   "execution_count": 87,
   "id": "114546d2",
   "metadata": {},
   "outputs": [],
   "source": [
    "# xóa các dòng dữ liệu bị trùng\n",
    "q=q.drop_duplicates()\n"
   ]
  },
  {
   "cell_type": "markdown",
   "id": "d1115ad1",
   "metadata": {},
   "source": [
    "# THÊM CÁC SỐ LIỆU KẾ HOẠCH VÀ THỰC HIỆN"
   ]
  },
  {
   "cell_type": "code",
   "execution_count": 88,
   "id": "6fb33d53",
   "metadata": {},
   "outputs": [],
   "source": [
    "# lấy số liệu KẾ HOẠCH từ sheet KH file info\n",
    "df1=pd.read_excel(info_filename,sheet_name='KH')\n",
    "# find the index of the cell containing \"Mã\"\n",
    "row_index, col_index = df1.eq('Mã').stack().idxmax()\n",
    "df1=pd.read_excel(info_filename,sheet_name='KH',skiprows=row_index+1)\n",
    "# loại bỏ các cột \"unamed\"\n"
   ]
  },
  {
   "cell_type": "code",
   "execution_count": 89,
   "id": "254c978f",
   "metadata": {},
   "outputs": [],
   "source": [
    "# lấy số liệu KẾ HOẠCH từ sheet KH file info\n",
    "df1=df1[(df1['Mã']!='000')&df1['STT'].notnull()]\n",
    "# chuyển thành dạng 3 kí tự\n",
    "df1['Mã'] =\"'\"+df1['Mã'].astype(int).astype(str).str.zfill(3)\n",
    "\n",
    "# loại bỏ các cột \"unamed\"\n",
    "unnamed_cols = [col for col in df1.columns if 'Unnamed' in col]\n",
    "df1 = df1.drop(columns=unnamed_cols)\n",
    "\n",
    "# loại bỏ 2 cột stt và tên đơn vị\n",
    "df1=df1.drop(columns=(['STT','Tên đơn vị']))"
   ]
  },
  {
   "cell_type": "code",
   "execution_count": 90,
   "id": "f0b6a88f",
   "metadata": {},
   "outputs": [],
   "source": [
    "# lấy số liệu THỰC HIỆN từ sheet TH file info\n",
    "df2=pd.read_excel(info_filename,sheet_name='TH')\n",
    "# find the index of the cell containing \"Mã\"\n",
    "row_index, col_index = df2.eq('Mã').stack().idxmax()\n",
    "\n",
    "df2=pd.read_excel(info_filename,sheet_name='TH',skiprows=row_index+1)\n",
    "\n",
    "# đổi mã thành dạng 3 kí tự + \"'\"\n",
    "df2['Mã'] =\"'\"+df2['Mã'].astype(int).astype(str).str.zfill(3)\n",
    "\n",
    "# loại bỏ các cột \"unamed\"\n",
    "unnamed_cols = [col for col in df2.columns if 'Unnamed' in col]\n",
    "df2 = df2.drop(columns=unnamed_cols)\n",
    "df2=df2[df2.Mã!=\"'000\"]\n",
    "# loại bỏ 2 cột stt và tên đơn vị\n",
    "df2=df2.drop(columns=(['STT','Tên đơn vị']))"
   ]
  },
  {
   "cell_type": "code",
   "execution_count": 91,
   "id": "000927ab",
   "metadata": {},
   "outputs": [],
   "source": [
    "q1=q.merge(pd.merge(df1,df2,how='outer').fillna(0),left_on='CN',right_on='Mã')\n",
    "q1=q1.drop(columns='Mã')"
   ]
  },
  {
   "cell_type": "code",
   "execution_count": 92,
   "id": "cd0b8dbd",
   "metadata": {},
   "outputs": [],
   "source": [
    "# ĐIỀU CHỈNH TAY LỢI NHUẬN Kế hoạch\n",
    "q1.loc[q1.CN==\"'001\",\"LN kế hoạch\"]=(-521.708558377528)\n",
    "q1.loc[q1.CN==\"'001\",\"LN Tạm tính kế hoạch\"]=95.6579242947089"
   ]
  },
  {
   "cell_type": "markdown",
   "id": "b757dfd4",
   "metadata": {},
   "source": [
    "# ĐIỀU CHỈNH TAY CHỈ TIÊU PHỤ"
   ]
  },
  {
   "cell_type": "code",
   "execution_count": 93,
   "id": "f2e240a1",
   "metadata": {},
   "outputs": [],
   "source": [
    "# LỢI NHUẬN LŨY KẾ TẠM TÍNH\n",
    "q1['LN_LK_TT']=q1['LNTRONGTHANG'] + q1['LN Lũy kế']"
   ]
  },
  {
   "cell_type": "code",
   "execution_count": 94,
   "id": "a95cf706",
   "metadata": {},
   "outputs": [],
   "source": [
    "# ĐIỀU CHỈNH TAY LỢI NHUẬN\n",
    "q1.loc[q1.CN==\"'001\",\"LN_LK_TT\"]+=(-101.2656*0.85-1.3375*0.7)"
   ]
  },
  {
   "cell_type": "code",
   "execution_count": 95,
   "id": "7571cbb8",
   "metadata": {},
   "outputs": [],
   "source": [
    "# thêm cột tổng huy động kế hoạch tháng\n",
    "q1['H_KH']=q1['HĐ - CMB kế hoạch']+q1['HĐ - CIB kế hoạch']+q1['HĐ - CN kế hoạch']\n",
    "# thêm cột tổng cho vay theo kế hoạch tháng\n",
    "q1['CV_KH']=q1['CV - CMB kế hoạch']+q1['CV - CIB kế hoạch']+q1['CV - CN kế hoạch']+q1['CV - THẺ kế hoạch']"
   ]
  },
  {
   "cell_type": "code",
   "execution_count": 96,
   "id": "67a682bb",
   "metadata": {},
   "outputs": [],
   "source": [
    "# thêm cột HĐ CN  Tiền gửi thanh toán và cột HĐ CN % thực hiện kế hoạch\n",
    "q1[f'HĐ CN (Tiền gửi thanh toán) {date_str}']=q1['HCNKKH']"
   ]
  },
  {
   "cell_type": "code",
   "execution_count": 97,
   "id": "ec0b61df",
   "metadata": {},
   "outputs": [],
   "source": [
    "# THÊM CỘT THU DỊCH VỤ\n",
    "q1['Tổng thu dịch vụ kế hoạch tháng']=q1['Thu DV - CMB kế hoạch']+q1['Thu DV - CN kế hoạch']+q1['Thu DV - CIB kế hoạch']+q1['Thu DV - THẺ kế hoạch']-q1['DS BHNT - THẺ kế hoạch']\n",
    "\n",
    "# THÊM CỘT THU KINH DOANH NGOẠI TỆ\n",
    "q1['Tổng thu KDNT kế hoạch tháng']=q1['Thu KDNT - CMB kế hoạch']+q1['Thu KDNT - CN kế hoạch']+q1['Thu KDNT - CIB kế hoạch']\n",
    "\n",
    "# THÊM CỘT DOANH SỐ MUA BÁN NGOẠI TỆ\n",
    "q1['Tổng DS MBNT kế hoạch tháng']=q1['DS MBNT KHDN 2022 - CMB kế hoạch']+q1['DS MBNT - CIB kế hoạch']+q1['DS MBNT - CN kế hoạch']\n",
    "\n",
    "# THÊM CỘT BẢO HIỂM NHÂN THỌ\n",
    "q1['Tổng BHNT kế hoạch']=q1['BHNT - KHDN 2022 - CMB kế hoạch']+q1['DS BHNT - CIB kế hoạch']+q1['DS BHNT - CN kế hoạch']\n",
    "\n",
    "# THÊM CỘT DOANH SỐ THANH TOÁN QUỐC TẾ\n",
    "q1['DS TTQT - TH']=q1['TTQT - CMB']+q1['TTQT - CIB']\n",
    "q1['Tổng DS TTQT - kế hoạch']=q1['TTQT KHDN 2022 - CMB kế hoạch']+q1['DS TTQT - CIB kế hoạch']\n",
    "\n",
    "# THÊM CỘT THU HỘ TRÁI PHIẾU\n",
    "q1['THU HỘ TP - CN']=q1['THU HỘ TP - CN']-q1['THU HỘ TP - CMB']-q1['THU HỘ TP - CIB']\n",
    "q1['Tổng Thu Hộ TP - TH']=q1['THU HỘ TP - CMB']+q1['THU HỘ TP - CIB']+q1['THU HỘ TP - CN']\n",
    "q1['Tổng Thu Hộ TP - kế hoạch']=q1['THU HỘ TRÁI PHIẾU - CMB kế hoạch']+q1['THU HỘ TRÁI PHIẾU - CN kế hoạch']+q1['THU HỘ TRÁI PHIẾU - CIB kế hoạch']\n"
   ]
  },
  {
   "cell_type": "code",
   "execution_count": 98,
   "id": "658b11a9",
   "metadata": {},
   "outputs": [],
   "source": [
    "# ĐIỀU CHỈNH TAY CHỈ TIÊU PHỤ\n",
    "q1.loc[q1.CN==\"'001\",'Tổng thu Dịch Vụ năm 2022']+=(-761.074079002)\n",
    "q1.loc[q1.CN==\"'001\",'Thu DV - TH']+=(-557.06582473)\n",
    "q1.loc[q1.CN==\"'001\",'Thu Dịch Vụ CMB năm 2022']+=(-650.529988676)\n",
    "q1.loc[q1.CN==\"'001\",'Thu DV - CMB']+=(-480.976191529)\n",
    "q1.loc[q1.CN==\"'001\",'Thu Dịch Vụ CIB năm 2022']+=(-104.990077503)\n",
    "q1.loc[q1.CN==\"'001\",'Thu DV - CIB']+=(-73.120084614)\n",
    "q1.loc[q1.CN==\"'001\",'Thu Dịch Vụ CN năm 2022']+=(-5.554012823)\n",
    "q1.loc[q1.CN==\"'001\",'Thu DV - CN']+=(-2.969548587)\n"
   ]
  },
  {
   "cell_type": "code",
   "execution_count": 99,
   "id": "53a25270",
   "metadata": {},
   "outputs": [],
   "source": [
    "q1=q1.drop_duplicates()"
   ]
  },
  {
   "cell_type": "markdown",
   "id": "0c41ddd7",
   "metadata": {},
   "source": [
    "# TÍNH SỐ LIỆU KHU VỰC LOẠI 1, KHU VỰC LOẠI 2, KHU VỰC LOẠI 3 VÀ CỤM ĐƠN VỊ"
   ]
  },
  {
   "cell_type": "code",
   "execution_count": 100,
   "id": "9f2debeb",
   "metadata": {
    "scrolled": true
   },
   "outputs": [
    {
     "name": "stderr",
     "output_type": "stream",
     "text": [
      "C:\\Users\\phatdd3\\AppData\\Local\\Temp\\ipykernel_18656\\1424451507.py:7: FutureWarning: The default value of numeric_only in DataFrameGroupBy.sum is deprecated. In a future version, numeric_only will default to False. Either specify numeric_only or select only columns which should be valid for the function.\n",
      "  q1,how='outer',left_on='MDV',right_on='CN').groupby('CUM').sum().reset_index().rename(columns={'CUM':'CN'})\n",
      "C:\\Users\\phatdd3\\AppData\\Local\\Temp\\ipykernel_18656\\1424451507.py:13: FutureWarning: The default value of numeric_only in DataFrameGroupBy.sum is deprecated. In a future version, numeric_only will default to False. Either specify numeric_only or select only columns which should be valid for the function.\n",
      "  q1,how='outer',left_on='MDV',right_on='CN').groupby(['KV TYPE 1']).sum().reset_index().rename(columns={'KV TYPE 1':'CN'})\n",
      "C:\\Users\\phatdd3\\AppData\\Local\\Temp\\ipykernel_18656\\1424451507.py:19: FutureWarning: The default value of numeric_only in DataFrameGroupBy.sum is deprecated. In a future version, numeric_only will default to False. Either specify numeric_only or select only columns which should be valid for the function.\n",
      "  q1,how='outer',left_on='MDV',right_on='CN').groupby(['KV TYPE 2']).sum().reset_index().rename(columns={'KV TYPE 2':'CN'})\n",
      "C:\\Users\\phatdd3\\AppData\\Local\\Temp\\ipykernel_18656\\1424451507.py:25: FutureWarning: The default value of numeric_only in DataFrameGroupBy.sum is deprecated. In a future version, numeric_only will default to False. Either specify numeric_only or select only columns which should be valid for the function.\n",
      "  q1,how='outer',left_on='MDV',right_on='CN').groupby(['KV TYPE 3']).sum().reset_index().rename(columns={'KV TYPE 3':'CN'})\n",
      "C:\\Users\\phatdd3\\AppData\\Local\\Temp\\ipykernel_18656\\1424451507.py:31: FutureWarning: The default value of numeric_only in DataFrameGroupBy.sum is deprecated. In a future version, numeric_only will default to False. Either specify numeric_only or select only columns which should be valid for the function.\n",
      "  q1,how='outer',left_on='MDV',right_on='CN').groupby(['TOÀN HÀNG']).sum().reset_index().rename(columns={'TOÀN HÀNG':'CN'})\n"
     ]
    }
   ],
   "source": [
    "df=pd.read_excel(info_filename,sheet_name='DS Cum Va Khu Vuc')\n",
    "\n",
    "# MÃ CỤM VÀ MÃ ĐƠN VỊ\n",
    "df[df.CUM.notnull()][['MDV','CUM']]\n",
    "# gộp tổng số liệu các nhóm đơn vị theo từng cụm\n",
    "CUM=df[df.CUM.notnull()][['MDV','CUM']].merge(\n",
    "    q1,how='outer',left_on='MDV',right_on='CN').groupby('CUM').sum().reset_index().rename(columns={'CUM':'CN'})\n",
    "\n",
    "# MÃ ĐƠN VỊ VÀ MÃ KHU VỰC LOẠI 1\n",
    "df[df['KV TYPE 1'].notnull()][['MDV','KV TYPE 1']]\n",
    "# gộp tổng số liệu các nhóm đơn vị theo từng khu vực loại 1\n",
    "KV_TYPE_1=df[df['KV TYPE 1'].notnull()][['MDV','KV TYPE 1']].merge(\n",
    "    q1,how='outer',left_on='MDV',right_on='CN').groupby(['KV TYPE 1']).sum().reset_index().rename(columns={'KV TYPE 1':'CN'})\n",
    "\n",
    "# MÃ ĐƠN VỊ VÀ MÃ KHU VỰC LOẠI 2\n",
    "df[df['KV TYPE 2'].notnull()][['MDV','KV TYPE 2']]\n",
    "# gộp tổng số liệu các nhóm đơn vị theo từng khu vực loại 2\n",
    "KV_TYPE_2=df[df['KV TYPE 2'].notnull()][['MDV','KV TYPE 2']].merge(\n",
    "    q1,how='outer',left_on='MDV',right_on='CN').groupby(['KV TYPE 2']).sum().reset_index().rename(columns={'KV TYPE 2':'CN'})\n",
    "\n",
    "# MÃ ĐƠN VỊ VÀ MÃ KHU VỰC LOẠI 3\n",
    "df[df['KV TYPE 3'].notnull()][['MDV','KV TYPE 3']]\n",
    "# gộp tổng số liệu các nhóm đơn vị theo từng khu vực loại 3\n",
    "KV_TYPE_3=df[df['KV TYPE 3'].notnull()][['MDV','KV TYPE 3']].merge(\n",
    "    q1,how='outer',left_on='MDV',right_on='CN').groupby(['KV TYPE 3']).sum().reset_index().rename(columns={'KV TYPE 3':'CN'})\n",
    "\n",
    "# MÃ ĐƠN VỊ : MÃ TOÀN HÀNG\n",
    "df[df['TOÀN HÀNG'].notnull()][['MDV','TOÀN HÀNG']]\n",
    "# gộp tổng số liệu các nhóm đơn vị theo toàn hàng\n",
    "TOAN_HANG=df[df['TOÀN HÀNG'].notnull()][['MDV','TOÀN HÀNG']].merge(\n",
    "    q1,how='outer',left_on='MDV',right_on='CN').groupby(['TOÀN HÀNG']).sum().reset_index().rename(columns={'TOÀN HÀNG':'CN'})\n",
    "\n",
    "# gộp 4 bảng dữ liệu lại với nhau\n",
    "BC_df=pd.concat([TOAN_HANG,q1,CUM,KV_TYPE_1,KV_TYPE_2,KV_TYPE_3])"
   ]
  },
  {
   "cell_type": "code",
   "execution_count": 101,
   "id": "669ba244",
   "metadata": {},
   "outputs": [],
   "source": [
    "\n",
    "# CẬP NHẬP LẠI TỔNG TÀI SẢN CỦA TOÀN HÀNG THEO FILE B02\n",
    "# cập nhập lại số liệu tổng tài sản của toàn hàng\n",
    "BC_df.loc[BC_df.CN==\"'000\",'TS_CO']=TongTaiSanCapNhap"
   ]
  },
  {
   "cell_type": "markdown",
   "id": "1e715c5a",
   "metadata": {},
   "source": [
    "# MÃ VÀ SỐ THỨ TỰ HIỂN THỊ VÀ TÊN ĐƠN VỊ"
   ]
  },
  {
   "cell_type": "code",
   "execution_count": 102,
   "id": "b351c939",
   "metadata": {},
   "outputs": [],
   "source": [
    "df=pd.read_excel(info_filename,sheet_name='DS Cum Va Khu Vuc')\n",
    "\n",
    "# MÃ ĐƠN VỊ VÀ TÊN HIỂN THỊ \n",
    "df[['STT','MDV','Tên đơn vị']].rename(columns={'MDV':\"CN\"})\n",
    "\n",
    "# thêm cột tên đơn vị theo từng mã đơn vị tương ứng\n",
    "BC_df=df[['STT','MDV','Tên đơn vị']].rename(columns={'MDV':\"CN\"}).merge(BC_df).sort_values(by='STT')\n"
   ]
  },
  {
   "cell_type": "code",
   "execution_count": 103,
   "id": "4ae6cc99",
   "metadata": {},
   "outputs": [],
   "source": [
    "# xóa các dòng bị lặp lại và sắp xếp lại theo stt\n",
    "BaoCaoNgay_df=BC_df.drop_duplicates().sort_values(by='STT')"
   ]
  },
  {
   "cell_type": "markdown",
   "id": "611a08d9",
   "metadata": {},
   "source": [
    "# ĐIỀU CHỈNH TAY CHỈ TIÊU"
   ]
  },
  {
   "cell_type": "code",
   "execution_count": 104,
   "id": "b58c7b6a",
   "metadata": {},
   "outputs": [],
   "source": [
    "# ĐIỀU CHỈNH TAY LỢI NHUẬN\n",
    "\n",
    "# ĐIỀU CHỈNH LỢI NHUẬN NĂM 2022 (cột FY)\n",
    "A=+145.003*0.85+(70-15)*0.85+30*0.85+70*0.85+65*0.85+100*0.85-15*0.85\n",
    "B=+2*0.7\n",
    "BaoCaoNgay_df.loc[BaoCaoNgay_df.CN==\"'000\",\"LN_2022\"]+=(A+B)\n",
    "BaoCaoNgay_df.loc[BaoCaoNgay_df.CN==\"A\",\"LN_2022\"]+=(A)\n",
    "BaoCaoNgay_df.loc[BaoCaoNgay_df.CN==\"B\",\"LN_2022\"]+=(B)\n",
    "BaoCaoNgay_df.loc[BaoCaoNgay_df.CN==\"KV1\",\"LN_2022\"]+=(A)\n",
    "BaoCaoNgay_df.loc[BaoCaoNgay_df.CN==\"KV4\",\"LN_2022\"]+=(B)\n",
    "\n",
    "# ĐIỀU CHỈNH LỢI NHUẬN CỘT lN Phát sinh (cột GB)\n",
    "A=(-1.3375*0.7)\n",
    "BaoCaoNgay_df.loc[BaoCaoNgay_df.CN==\"A\",\"LN Phát sinh\"]+=(A+0.9)\n",
    "BaoCaoNgay_df.loc[BaoCaoNgay_df.CN==\"B\",\"LN Phát sinh\"]+=(-A-0.9)\n",
    "BaoCaoNgay_df.loc[BaoCaoNgay_df.CN==\"KV4\",\"LN Phát sinh\"]+=(-A-0.9)\n",
    "BaoCaoNgay_df.loc[BaoCaoNgay_df.CN==\"'001\",\"LN Phát sinh\"]+=(A+0.9)\n",
    "\n",
    "\n",
    "# ĐIỀU CHỈNH LỢI NHUẬN CỘT LN lũy kế (cột GC)\n",
    "A=101.2655*0.85\n",
    "B=1.3375*0.7\n",
    "BaoCaoNgay_df.loc[BaoCaoNgay_df.CN==\"A\",\"LN Lũy kế\"]-=(B+0.9+0.9-26.7-24.9)\n",
    "BaoCaoNgay_df.loc[BaoCaoNgay_df.CN==\"B\",\"LN Lũy kế\"]+=(B-0.9+0.9)\n",
    "BaoCaoNgay_df.loc[BaoCaoNgay_df.CN==\"KV1\",\"LN Lũy kế\"]+=(A)\n",
    "BaoCaoNgay_df.loc[BaoCaoNgay_df.CN==\"KV4\",\"LN Lũy kế\"]+=(B-0.9+0.9)\n",
    "BaoCaoNgay_df.loc[BaoCaoNgay_df.CN==\"'001\",\"LN Lũy kế\"]-=(A+B+0.9+0.9-26.7-24.9)\n",
    "\n",
    "# cập nhập lại lợi nhuận kế hoạch tháng của CN 001 (cột GD)\n",
    "A=194/12*4\n",
    "BaoCaoNgay_df.loc[BaoCaoNgay_df.CN==\"'000\",\"LN kế hoạch\"]+=(A-104.6+120.8-124.1)\n",
    "BaoCaoNgay_df.loc[BaoCaoNgay_df.CN==\"A\",\"LN kế hoạch\"]+=(A-104.6+120.8-124.1)\n",
    "BaoCaoNgay_df.loc[BaoCaoNgay_df.CN==\"KV1\",\"LN kế hoạch\"]+=(A+16.2+16.1)\n",
    "BaoCaoNgay_df.loc[BaoCaoNgay_df.CN==\"'001\",\"LN kế hoạch\"]+=(-124.1-16.1)\n",
    "\n",
    "# cập nhập lại lợi nhuận tạm tính kế hoạch (cột GH)\n",
    "BaoCaoNgay_df.loc[BaoCaoNgay_df.CN==\"'000\",\"LN Tạm tính kế hoạch\"]+=0.2\n",
    "BaoCaoNgay_df.loc[BaoCaoNgay_df.CN==\"A\",\"LN Tạm tính kế hoạch\"]+=0\n",
    "BaoCaoNgay_df.loc[BaoCaoNgay_df.CN==\"'689\",\"LN Tạm tính kế hoạch\"]+=0.2\n",
    "\n",
    "# cập nhập lợi nhuận LN tạm tính lũy kế từ đầu năm đến (cột GG)\n",
    "BaoCaoNgay_df.loc[BaoCaoNgay_df.CN==\"'000\",\"LN_LK_TT\"]+=(0)\n",
    "BaoCaoNgay_df.loc[BaoCaoNgay_df.CN==\"A\",\"LN_LK_TT\"]+=(0)\n",
    "BaoCaoNgay_df.loc[BaoCaoNgay_df.CN==\"'001\",\"LN_LK_TT\"]+=(0)\n",
    "\n",
    "# điều chỉnh tay\n",
    "# cập nhập lại tổng thu dịch vụ năm 2022 (cột GW) \n",
    "A=+145.003*0.85+(70-15)*0.85+30*0.85+70*0.85+65*0.85+100*0.85-15*0.85\n",
    "B=2*0.7\n",
    "BaoCaoNgay_df.loc[BaoCaoNgay_df.CN==\"'000\",'Tổng thu Dịch Vụ năm 2022']+=(A+B)\n",
    "BaoCaoNgay_df.loc[BaoCaoNgay_df.CN==\"A\",'Tổng thu Dịch Vụ năm 2022']+=(A)\n",
    "BaoCaoNgay_df.loc[BaoCaoNgay_df.CN==\"B\",'Tổng thu Dịch Vụ năm 2022']+=(B)\n",
    "BaoCaoNgay_df.loc[BaoCaoNgay_df.CN==\"KV1\",'Tổng thu Dịch Vụ năm 2022']+=(A)\n",
    "BaoCaoNgay_df.loc[BaoCaoNgay_df.CN==\"KV4\",'Tổng thu Dịch Vụ năm 2022']+=(B)\n",
    "\n",
    "# điều chỉnh tay\n",
    "# cập nhập lại tổng thu dịch vụ thực hiện (cột GX)\n",
    "A=101.2655*0.85-158.8\n",
    "B=1.3375*0.7\n",
    "C=-158.8\n",
    "BaoCaoNgay_df.loc[BaoCaoNgay_df.CN==\"'000\",'Thu DV - TH']+=(A+B-164.3-161.3)\n",
    "BaoCaoNgay_df.loc[BaoCaoNgay_df.CN==\"A\",'Thu DV - TH']+=(A-164.3)\n",
    "BaoCaoNgay_df.loc[BaoCaoNgay_df.CN==\"B\",'Thu DV - TH']+=(B)\n",
    "BaoCaoNgay_df.loc[BaoCaoNgay_df.CN==\"KV1\",'Thu DV - TH']+=(A-C)\n",
    "BaoCaoNgay_df.loc[BaoCaoNgay_df.CN==\"KV4\",'Thu DV - TH']+=(B)\n",
    "BaoCaoNgay_df.loc[BaoCaoNgay_df.CN==\"'001\",'Thu DV - TH']+=(C-164.3-161.3)\n",
    "\n",
    "# cập nhập lại tổng thu dịch vụ kế hoạch tháng (cột GY):\n",
    "A=194/12*4+16.2+16.1\n",
    "BaoCaoNgay_df.loc[BaoCaoNgay_df.CN==\"'000\",'Tổng thu dịch vụ kế hoạch tháng']+=(A)\n",
    "BaoCaoNgay_df.loc[BaoCaoNgay_df.CN==\"A\",'Tổng thu dịch vụ kế hoạch tháng']+=(A)\n",
    "BaoCaoNgay_df.loc[BaoCaoNgay_df.CN==\"KV1\",'Tổng thu dịch vụ kế hoạch tháng']+=(A)\n",
    "\n",
    "# cập nhập lại tổng thu dịch vụ SME năm 2022 (cột HA):\n",
    "A=+145.003*0.85+(70-15)*0.85+30*0.85+70*0.85+65*0.85+100*0.85-15*0.85\n",
    "B=+2*0.7\n",
    "BaoCaoNgay_df.loc[BaoCaoNgay_df.CN==\"'000\",'Thu Dịch Vụ CMB năm 2022']+=(A+B)\n",
    "BaoCaoNgay_df.loc[BaoCaoNgay_df.CN==\"A\",'Thu Dịch Vụ CMB năm 2022']+=(A)\n",
    "BaoCaoNgay_df.loc[BaoCaoNgay_df.CN==\"B\",'Thu Dịch Vụ CMB năm 2022']+=(B)\n",
    "BaoCaoNgay_df.loc[BaoCaoNgay_df.CN==\"KV1\",'Thu Dịch Vụ CMB năm 2022']+=(A)\n",
    "BaoCaoNgay_df.loc[BaoCaoNgay_df.CN==\"KV4\",'Thu Dịch Vụ CMB năm 2022']+=(B)\n",
    "\n",
    "# cập nhập lại thu dịch vụ SME (cột HB):\n",
    "A=+101.2656*0.85-136.5\n",
    "B=+1.3375*0.7\n",
    "BaoCaoNgay_df.loc[BaoCaoNgay_df.CN==\"'000\",'Thu DV - CMB']+=(A+B-143.6-135.9)\n",
    "BaoCaoNgay_df.loc[BaoCaoNgay_df.CN==\"A\",'Thu DV - CMB']+=(A-143.6)\n",
    "BaoCaoNgay_df.loc[BaoCaoNgay_df.CN==\"B\",'Thu DV - CMB']+=(B)\n",
    "BaoCaoNgay_df.loc[BaoCaoNgay_df.CN==\"KV1\",'Thu DV - CMB']+=(A+158.8-22.3)\n",
    "BaoCaoNgay_df.loc[BaoCaoNgay_df.CN==\"KV4\",'Thu DV - CMB']+=(B)\n",
    "BaoCaoNgay_df.loc[BaoCaoNgay_df.CN==\"'001\",'Thu DV - CMB']+=(-158.8+22.3-143.6-135.9)\n",
    "\n",
    "# cập nhập lại thu dịch vụ CIB (cột HF):\n",
    "A=-22.3-20.7-25.4\n",
    "list=[\"'000\",\"A\",\"'001\"]\n",
    "for i in list:\n",
    "    BaoCaoNgay_df.loc[BaoCaoNgay_df.CN==i,'Thu DV - CIB']+=(A)\n",
    "\n",
    "# cập nhập lại thu dịch vụ SME kế hoạch tháng (cột HC):\n",
    "A=+194/12*4+16.2+16.1\n",
    "BaoCaoNgay_df.loc[BaoCaoNgay_df.CN==\"'000\",'Thu DV - CMB kế hoạch']+=A\n",
    "BaoCaoNgay_df.loc[BaoCaoNgay_df.CN==\"A\",'Thu DV - CMB kế hoạch']+=(A)\n",
    "BaoCaoNgay_df.loc[BaoCaoNgay_df.CN==\"KV1\",'Thu DV - CMB kế hoạch']+=(A)\n",
    "\n",
    "# cập nhập lại thu dịch vụ SME kế hoạch tháng (cột HC):\n",
    "A=115.3+16.2\n",
    "list=[\"'000\",\"A\",\"KV6\",\"'166\"]\n",
    "for i in list:\n",
    "    BaoCaoNgay_df.loc[BaoCaoNgay_df.CN==i,'THU HỘ TP - CN']+=A\n",
    "A=16.1\n",
    "list=[\"'000\",\"A\",\"KV1\"]\n",
    "for i in list:\n",
    "    BaoCaoNgay_df.loc[BaoCaoNgay_df.CN==i,'THU HỘ TP - CN']+=A\n",
    "\n",
    "# cập nhập lại thu hộ TP thực hiện (cột KI):\n",
    "A=115.3-115.3\n",
    "list=[\"'000\",\"A\",\"KV6\"]\n",
    "for i in list:\n",
    "    BaoCaoNgay_df.loc[BaoCaoNgay_df.CN==i,'Tổng Thu Hộ TP - TH']+=A\n",
    "\n",
    "# comeback\n",
    "# cập nhập lại thu hộ TP - CN thực hiện (cột KQ):\n",
    "A=115.3-115.3\n",
    "list=[\"'000\",\"A\",\"KV6\"]\n",
    "for i in list:\n",
    "    BaoCaoNgay_df.loc[BaoCaoNgay_df.CN==i,'THU HỘ TP - CN']+=A\n",
    "A=-131.5\n",
    "list=[\"'166\",\"A\",\"KV6\",\"'000\"]\n",
    "for i in list:\n",
    "    BaoCaoNgay_df.loc[BaoCaoNgay_df.CN==i,'THU HỘ TP - CN']+=A\n",
    "A=-16.1\n",
    "list=[\"'000\",\"A\",\"KV1\"]\n",
    "for i in list:\n",
    "    BaoCaoNgay_df.loc[BaoCaoNgay_df.CN==i,'THU HỘ TP - CN']+=A\n"
   ]
  },
  {
   "cell_type": "markdown",
   "id": "893bd1fe",
   "metadata": {},
   "source": [
    "# THÊM CÁC CỘT SỐ LIỆU TỈ LỆ %"
   ]
  },
  {
   "cell_type": "code",
   "execution_count": 105,
   "id": "0198248b",
   "metadata": {},
   "outputs": [],
   "source": [
    "# tỉ lệ phần trăm thực hiện kế hoạch\n",
    "BaoCaoNgay_df['HNGAYBC_PR'] = ((BaoCaoNgay_df['HNGAYBC'] / BaoCaoNgay_df['H_KH']).fillna(0)).round(2)\n",
    "\n",
    "# tỉ lệ phần trăm thực hiện kế hoạch\n",
    "BaoCaoNgay_df['CVNGAYBC_KH_PR'] = ((BaoCaoNgay_df['CVNGAYBC_UPDATED'] / BaoCaoNgay_df['CV_KH']).fillna(0)).round(2)\n",
    "# % thực hiện kế hoạch thẻ\n",
    "BaoCaoNgay_df['THE_CV_PR'] = ((BaoCaoNgay_df['THE_CVNGAYBC'] / BaoCaoNgay_df['CV - THẺ kế hoạch']).fillna(0)).round(2)\n",
    "# thêm các cột % thực hiện kế hoạch cho từng khối của huy động (Plan Ratio/Progress Ratio)\n",
    "BaoCaoNgay_df['HSME_PR'] = ((BaoCaoNgay_df['HSME'] / BaoCaoNgay_df['HĐ - CMB kế hoạch']).fillna(0)).round(2)\n",
    "BaoCaoNgay_df['HCIB_PR'] = ((BaoCaoNgay_df['HCIB'] / BaoCaoNgay_df['HĐ - CIB kế hoạch']).fillna(0)).round(2)\n",
    "BaoCaoNgay_df['HCN_PR'] = ((BaoCaoNgay_df['HCN'] / BaoCaoNgay_df['HĐ - CN kế hoạch']).fillna(0)).round(2)\n",
    "# thêm các cột % thực hiện kế hoạch cho từng khối của cho vay (Plan Ratio/ProgressRatio)\n",
    "BaoCaoNgay_df['CVSME_PR'] = ((BaoCaoNgay_df['CVSME_UPDATED'] / BaoCaoNgay_df['CV - CMB kế hoạch']).fillna(0)).round(2)\n",
    "BaoCaoNgay_df['CVCIB_PR'] = ((BaoCaoNgay_df['CVCIB_UPDATED'] / BaoCaoNgay_df['CV - CIB kế hoạch']).fillna(0)).round(2)\n",
    "BaoCaoNgay_df['CVCN_PR'] = ((BaoCaoNgay_df['CVCN_UPDATED'] / BaoCaoNgay_df['CV - CN kế hoạch']).fillna(0)).round(2)\n",
    "\n",
    "# thêm cột HĐ CN  Tiền gửi thanh toán và cột HĐ CN % thực hiện kế hoạch\n",
    "BaoCaoNgay_df['HĐ CN (Tiền gửi thanh toán) % thực hiện so kế hoạch']=BaoCaoNgay_df[f'HĐ CN (Tiền gửi thanh toán) {date_str}']/BaoCaoNgay_df['HĐ KKH - CN kế hoạch']\n",
    "# Thẻ tỷ lệ N345/DN\n",
    "BaoCaoNgay_df['N345_CV_PR_THE'] = ((BaoCaoNgay_df['THE_N345_DL_UPDATED'] / BaoCaoNgay_df['THE_CVNGAYBC']).fillna(0)).round(2)\n",
    "# tỷ lệ nợ/ChoVay\n",
    "BaoCaoNgay_df['N345_CV_PR']=((BaoCaoNgay_df['N345_DL']+BaoCaoNgay_df['N_DieuChuyen']+BaoCaoNgay_df['BanNo'])/(BaoCaoNgay_df['CVNGAYBC_UPDATED']+BaoCaoNgay_df['N_DieuChuyen']+BaoCaoNgay_df['BanNo']).fillna(0)).round(2)\n",
    "\n",
    "\n",
    "# TỶ LỆ NỢ TRÊN CHO VAY THEO TỪNG KHỐI = NỢ 345 BAO GỒM BÁN NỢ / CHO VAY KHỐI BAO GỒM TRÁI PHIẾU\n",
    "BaoCaoNgay_df['N345_CV_PR_SME']=(BaoCaoNgay_df['SME_N345_DL_UPDATED']/BaoCaoNgay_df['CVSME_TP']).fillna(0).round(2)\n",
    "BaoCaoNgay_df['N345_CV_PR_CIB']=(BaoCaoNgay_df['CIB_N345_DL_UPDATED']/BaoCaoNgay_df['CVCIB_TP']).fillna(0).round(2)\n",
    "BaoCaoNgay_df['N345_CV_PR_CN']=(BaoCaoNgay_df['CN_N345_DL_UPDATED']/BaoCaoNgay_df['CVCN_TP']).fillna(0).round(2)\n",
    "\n"
   ]
  },
  {
   "cell_type": "code",
   "execution_count": 106,
   "id": "f6a14d12",
   "metadata": {},
   "outputs": [],
   "source": [
    "LN_PR=[]\n",
    "num=[]\n",
    "# CÁCH TÍNH CỘT PHẦN TRĂM THỰC HIỆN KẾ HOẠCH LỢI NHUẬN:\n",
    "for i,j in zip(BaoCaoNgay_df['LN Lũy kế'].values, BaoCaoNgay_df['LN kế hoạch'].values):\n",
    "    if i<0 and j<0 and i<j and (i/j-1)<1:\n",
    "        k=1+(-(i/j-1))\n",
    "        num.append(k)\n",
    "    if i<0 and j<0 and i<j and (i/j-1>=1):\n",
    "        k=-(i/j-1)\n",
    "        num.append(k)\n",
    "    if i<0 and j<0 and i>j:\n",
    "        k=-((i-j)/j-1)\n",
    "        num.append(k)\n",
    "    if  i>=0 and j<0:\n",
    "        k=(i-j)/abs(j)+1\n",
    "        num.append(k)\n",
    "    if i<0 and j>0:\n",
    "        k=(i-j)/j\n",
    "        num.append(k)\n",
    "    if i>=0 and j>0:\n",
    "        k=i/j\n",
    "        num.append(k)\n",
    "\n",
    "for l in num:\n",
    "    if l>-1:\n",
    "        LN_PR.append(l)\n",
    "    else:\n",
    "        LN_PR.append(-1)"
   ]
  },
  {
   "cell_type": "code",
   "execution_count": 107,
   "id": "075fe46e",
   "metadata": {},
   "outputs": [],
   "source": [
    "LN_PR=[]\n",
    "num=[]\n",
    "# CÁCH TÍNH CỘT PHẦN TRĂM THỰC HIỆN KẾ HOẠCH LỢI NHUẬN:\n",
    "for i,j in zip(BaoCaoNgay_df['LN Lũy kế'].values, BaoCaoNgay_df['LN kế hoạch'].values):\n",
    "    if i<0 and j<0 and i<j and (i/j-1)<1:\n",
    "        k=1+(-(i/j-1))\n",
    "        num.append(k)\n",
    "    if i<0 and j<0 and i<j and (i/j-1>=1):\n",
    "        k=-(i/j-1)\n",
    "        num.append(k)\n",
    "    if i<0 and j<0 and i>j:\n",
    "        k=-((i-j)/j-1)\n",
    "        num.append(k)\n",
    "    if  i>=0 and j<0:\n",
    "        k=(i-j)/abs(j)+1\n",
    "        num.append(k)\n",
    "    if i<0 and j>0:\n",
    "        k=(i-j)/j\n",
    "        num.append(k)\n",
    "    if i>=0 and j>0:\n",
    "        k=i/j\n",
    "        num.append(k)\n",
    "\n",
    "for l in num:\n",
    "    if l>-1:\n",
    "        LN_PR.append(l)\n",
    "    else:\n",
    "        LN_PR.append(-1)\n",
    "# thêm cột lợi nhuận kế hoạch\n",
    "BaoCaoNgay_df['LN_PR']=LN_PR\n",
    "BaoCaoNgay_df['LN_PR']=(BaoCaoNgay_df['LN_PR']).fillna(0).round(2)"
   ]
  },
  {
   "cell_type": "code",
   "execution_count": 108,
   "id": "e4d8e59b",
   "metadata": {},
   "outputs": [],
   "source": [
    "LN_LK_TT_PR=[]\n",
    "num=[]\n",
    "# CÁCH TÍNH CỘT PHẦN TRĂM THỰC HIỆN KẾ HOẠCH LỢI NHUẬN LŨY KẾ TẠM TÍNH:\n",
    "for i,j in zip(BaoCaoNgay_df['LN_LK_TT'].values, BaoCaoNgay_df['LN Tạm tính kế hoạch'].values):\n",
    "    if i<0 and j<0 and i<j and (i/j-1)<1:\n",
    "        k=1+(-(i/j-1))\n",
    "        num.append(k)\n",
    "    if i<0 and j<0 and i<j and (i/j-1>=1):\n",
    "        k=-(i/j-1)\n",
    "        num.append(k)\n",
    "    if i<0 and j<0 and i>j:\n",
    "        k=-((i-j)/j-1)\n",
    "        num.append(k)\n",
    "    if  i>=0 and j<0:\n",
    "        k=(i-j)/abs(j)+1\n",
    "        num.append(k)\n",
    "    if i<0 and j>0:\n",
    "        k=(i-j)/j\n",
    "        num.append(k)\n",
    "    if i>=0 and j>0:\n",
    "        k=i/j\n",
    "        num.append(k)\n",
    "\n",
    "for l in num:\n",
    "    if l>-1:\n",
    "        LN_LK_TT_PR.append(l)\n",
    "    else:\n",
    "        LN_LK_TT_PR.append(-1)\n",
    "        \n",
    "# thêm cột lợi nhuận kế hoạch\n",
    "BaoCaoNgay_df['LN_LK_TT_PR']=LN_LK_TT_PR\n",
    "BaoCaoNgay_df['LN_LK_TT_PR']=(BaoCaoNgay_df['LN_LK_TT_PR']).fillna(0).round(2)"
   ]
  },
  {
   "cell_type": "code",
   "execution_count": 109,
   "id": "db14bfe1",
   "metadata": {},
   "outputs": [],
   "source": [
    "# Get all columns of type 'object'\n",
    "object_columns = BaoCaoNgay_df.select_dtypes(include='object').columns.tolist()\n",
    "\n",
    "# Exclude 'CN' and 'Tên đơn vị'\n",
    "selected_columns = [col for col in object_columns if col not in object_columns]\n",
    "\n",
    "# chuyển các cột trừ 'CN' và 'Tên đơn vị' thành dạng số thập phân\n",
    "BaoCaoNgay_df[selected_columns]=BaoCaoNgay_df[selected_columns].astype(float)"
   ]
  },
  {
   "cell_type": "code",
   "execution_count": 110,
   "id": "62261bf0",
   "metadata": {},
   "outputs": [],
   "source": [
    "# THÊM CỘT TỶ LỆ IB_MB/TONG SLGD\n",
    "BaoCaoNgay_df['TỶ LỆ % IB_MB/TONG SLGD']=BaoCaoNgay_df['IB_MB năm 2022']/BaoCaoNgay_df['TONG GD năm 2022']\n",
    "BaoCaoNgay_df['TỶ LỆ % IB_MB/TONG SLGD - CN tháng báo cáo']=BaoCaoNgay_df['IB_MB - tháng báo cáo']/BaoCaoNgay_df['TONG GD - tháng báo cáo']\n",
    "# ĐIỀU CHỈNH CỘT TỶ LỆ GIAO DỊCH QUA KÊNH SỐ VÀ TỶ LỆ IB_MB TRONG TỔNG SLGD\n",
    "BaoCaoNgay_df['TỶ LỆ % GIAO DỊCH QUA KÊNH SỐ - CN Năm 2022']=BaoCaoNgay_df['IB_MB năm 2022']/BaoCaoNgay_df['TONG GD năm 2022']\n"
   ]
  },
  {
   "cell_type": "code",
   "execution_count": 111,
   "id": "b8caeb07",
   "metadata": {
    "scrolled": true
   },
   "outputs": [],
   "source": [
    "# THÊM CỘT % THU DỊCH VỤ\n",
    "BaoCaoNgay_df['Tổng thu dịch vụ - % TH so với KH']=(BaoCaoNgay_df['Thu DV - TH']/BaoCaoNgay_df['Tổng thu dịch vụ kế hoạch tháng']).fillna(0)\n",
    "BaoCaoNgay_df['Thu dịch vụ CMB - % TH so với KH']=(BaoCaoNgay_df['Thu DV - CMB']/BaoCaoNgay_df['Thu DV - CMB kế hoạch']).fillna(0)\n",
    "BaoCaoNgay_df['Thu dịch vụ CIB - % TH so với KH']=(BaoCaoNgay_df['Thu DV - CIB']/BaoCaoNgay_df['Thu DV - CIB kế hoạch']).fillna(0)\n",
    "BaoCaoNgay_df['Thu dịch vụ CN - % TH so với KH']=(BaoCaoNgay_df['Thu DV - CN']/BaoCaoNgay_df['Thu DV - CN kế hoạch']).fillna(0)\n",
    "BaoCaoNgay_df['Thu dịch vụ THẺ - % TH so với KH']=(BaoCaoNgay_df['Thu DV - Thẻ']/BaoCaoNgay_df['Thu DV - THẺ kế hoạch']).fillna(0)\n",
    "# THÊM CỘT % TỔNG THU KINH DOANH NGOẠI TỆ\n",
    "BaoCaoNgay_df['Tổng thu KDNT - % TH so với KH']=(BaoCaoNgay_df['Thu KDNT - TH']/BaoCaoNgay_df['Tổng thu KDNT kế hoạch tháng']).fillna(0)\n",
    "BaoCaoNgay_df['Thu KDNT CMB - % TH so với KH']=(BaoCaoNgay_df['Thu KDNT - CMB']/BaoCaoNgay_df['Thu KDNT - CMB kế hoạch']).fillna(0)\n",
    "BaoCaoNgay_df['Thu KDNT CIB - % TH so với KH']=(BaoCaoNgay_df['Thu KDNT - CIB']/BaoCaoNgay_df['Thu KDNT - CIB kế hoạch']).fillna(0)\n",
    "BaoCaoNgay_df['Thu KDNT CN - % TH so với KH']=(BaoCaoNgay_df['Thu KDNT - CN']/BaoCaoNgay_df['Thu KDNT - CN kế hoạch']).fillna(0)\n",
    "# THÊM CỘT % DOANH SỐ MUA BÁN NGOẠI TỆ\n",
    "BaoCaoNgay_df['Tổng DS MBNT - % TH so với KH']=(BaoCaoNgay_df['DS MBNT - TH']/BaoCaoNgay_df['Tổng DS MBNT kế hoạch tháng']).fillna(0)\n",
    "BaoCaoNgay_df['DS MBNT CMB - % TH so với KH']=(BaoCaoNgay_df['DS MBNT - CMB']/BaoCaoNgay_df['DS MBNT KHDN 2022 - CMB kế hoạch']).fillna(0)\n",
    "BaoCaoNgay_df['DS MBNT CIB - % TH so với KH']=(BaoCaoNgay_df['DS MBNT - CIB']/BaoCaoNgay_df['DS MBNT - CIB kế hoạch']).fillna(0)\n",
    "BaoCaoNgay_df['DS MBNT CN - % TH so với KH']=(BaoCaoNgay_df['DS MBNT - CN']/BaoCaoNgay_df['DS MBNT - CN kế hoạch']).fillna(0)\n",
    "# THÊM CỘT % BẢO HIỂM NHÂN THỌ\n",
    "BaoCaoNgay_df['Tổng BHNT - % TH so với KH']=(BaoCaoNgay_df['BHNT - TH']/BaoCaoNgay_df['Tổng BHNT kế hoạch']).fillna(0)\n",
    "BaoCaoNgay_df['BHNT CMB - % TH so với KH']=(BaoCaoNgay_df['BHNT - CMB']/BaoCaoNgay_df['BHNT - KHDN 2022 - CMB kế hoạch']).fillna(0)\n",
    "BaoCaoNgay_df['BHNT CIB - % TH so với KH']=(BaoCaoNgay_df['BHNT - CIB']/BaoCaoNgay_df['DS BHNT - CIB kế hoạch']).fillna(0)\n",
    "BaoCaoNgay_df['BHNT CN - % TH so với KH']=(BaoCaoNgay_df['BHNT - CN']/BaoCaoNgay_df['DS BHNT - CN kế hoạch']).fillna(0)\n",
    "BaoCaoNgay_df['BHNT Thẻ - % TH so với KH']=(BaoCaoNgay_df['BHNT - Thẻ']/BaoCaoNgay_df['DS BHNT - THẺ kế hoạch']).fillna(0)\n",
    "# THÊM CỘT % DOANH SỐ THANH TOÁN QUỐC TẾ\n",
    "BaoCaoNgay_df['Tổng DS TTQT - % TH so với KH']=(BaoCaoNgay_df['DS TTQT - TH']/BaoCaoNgay_df['Tổng DS TTQT - kế hoạch']).fillna(0)\n",
    "BaoCaoNgay_df['DS TTQT CMB - % TH so với KH']=(BaoCaoNgay_df['TTQT - CMB']/BaoCaoNgay_df['TTQT KHDN 2022 - CMB kế hoạch']).fillna(0)\n",
    "BaoCaoNgay_df['DS TTQT CIB - % TH so với KH']=(BaoCaoNgay_df['TTQT - CIB']/BaoCaoNgay_df['DS TTQT - CIB kế hoạch']).fillna(0)\n",
    "# THÊM CỘT % THU HỘ TRÁI PHIẾU\n",
    "BaoCaoNgay_df['Tổng Thu Hộ TP - % TH so với KH']=(BaoCaoNgay_df['Tổng Thu Hộ TP - TH']/BaoCaoNgay_df['Tổng Thu Hộ TP - kế hoạch']).fillna(0)\n",
    "BaoCaoNgay_df['Thu Hộ TP CMB - % TH so với KH']=(BaoCaoNgay_df['THU HỘ TP - CMB']/BaoCaoNgay_df['THU HỘ TRÁI PHIẾU - CMB kế hoạch']).fillna(0)\n",
    "BaoCaoNgay_df['Thu Hộ TP CIB - % TH so với KH']=(BaoCaoNgay_df['THU HỘ TP - CIB']/BaoCaoNgay_df['THU HỘ TRÁI PHIẾU - CIB kế hoạch']).fillna(0)\n",
    "BaoCaoNgay_df['Thu Hộ TP CN - % TH so với KH']=(BaoCaoNgay_df['THU HỘ TP - CN']/BaoCaoNgay_df['THU HỘ TRÁI PHIẾU - CN kế hoạch']).fillna(0)\n",
    "# THÊM CÁC CỘT KHDN\n",
    "BaoCaoNgay_df['SL KHDN LŨY KẾ CMB - % TH so với KH']=(BaoCaoNgay_df['SL KHDN LŨY KẾ - CMB']/BaoCaoNgay_df['SL KH - CMB kế hoạch']).fillna(0)\n",
    "\n",
    "BaoCaoNgay_df['QUẢN LÝ TIỀN MẶT_LŨY KẾ CMB - % TH so với KH']=(BaoCaoNgay_df['QUẢN LÝ TIỀN MẶT_LŨY KẾ - CMB']/BaoCaoNgay_df['SL KHDN sd QLTM 2022 - CMB kế hoạch']).fillna(0)\n",
    "BaoCaoNgay_df['SL KHDN CHUỖI CMB - % TH so với KH']=(BaoCaoNgay_df['SL KHDN CHUỖI - CMB']/BaoCaoNgay_df['SLKHDN Chuỗi 2022 - CMB kế hoạch']).fillna(0)\n",
    "BaoCaoNgay_df['IBK CMB - % TH so với KH']=(BaoCaoNgay_df['IBK - CMB']/BaoCaoNgay_df['IBK - CMB kế hoạch']).fillna(0)\n",
    "BaoCaoNgay_df['DƯ NỢ TÍN DỤNG CHUỖI CMB - % TH so với KH']=(BaoCaoNgay_df['DƯ NỢ TÍN DỤNG CHUỖI - CMB']/BaoCaoNgay_df['Dư nợ tín dụng chuỗi 2022 - CMB kế hoạch']).fillna(0)\n",
    "BaoCaoNgay_df['KHÁCH HÀNG TÍN DỤNG (KHDN) - CMB % TH so với KH']=(BaoCaoNgay_df['KHÁCH HÀNG TÍN DỤNG (KHDN) - CMB']/BaoCaoNgay_df['SL KHDN tín dụng 2022 - CMB kế hoạch']).fillna(0)\n",
    "BaoCaoNgay_df['SL KHDN PAYROLL CMB - % TH so với KH']=(BaoCaoNgay_df['SL KHDN PAYROLL - CMB']/BaoCaoNgay_df['SL KHDN Payroll - CMB kế hoạch']).fillna(0)\n",
    "BaoCaoNgay_df['SL TK NHẬN LƯƠNG PAYROLL - CMB % TH so với KH']=(BaoCaoNgay_df['SL TK NHẬN LƯƠNG PAYROLL - CMB']/BaoCaoNgay_df['SL TK nhận lương Payroll - CMB kế hoạch']).fillna(0)\n",
    "\n",
    "BaoCaoNgay_df['SL KHCN - % TH so với KH']=(BaoCaoNgay_df['SỐ LƯỢNG KH CN']/BaoCaoNgay_df['SLKH - CN kế hoạch']).fillna(0)\n",
    "BaoCaoNgay_df['KH CN BÁN CHÉO CHO KHDN - % TH so với KH']=(BaoCaoNgay_df['BÁN CHÉO KHDN - CN']/BaoCaoNgay_df['BÁN CHÉO - CN kế hoạch']).fillna(0)\n",
    "\n",
    "BaoCaoNgay_df['SL Điểm lẻ chuỗi - % TH so với KH']=(BaoCaoNgay_df['SỐ LƯỢNG ĐIỂM LẺ CHUỖI - CN']/BaoCaoNgay_df['SL điểm lẻ chuỗi - CN kế hoạch']).fillna(0)\n",
    "BaoCaoNgay_df['SL THẺ GHI NỢ - % TH so với KH']=(BaoCaoNgay_df['SL THẺ GHI NỢ_LŨY KẾ - THẺ']/BaoCaoNgay_df['SL THẺ DEBIT LK - THẺ kế hoạch']).fillna(0)\n",
    "BaoCaoNgay_df['SL KHDN CIB - % TH so với KH']=(BaoCaoNgay_df['SL KHDN CIB']/BaoCaoNgay_df['SL KHDNL - CIB kế hoạch']).fillna(0)\n",
    "BaoCaoNgay_df['SL người dùng kênh số CN - % TH so với KH']=(BaoCaoNgay_df['SỐ LƯỢNG NGƯỜI DÙNG KÊNH SỐ - CN']/BaoCaoNgay_df['SL người dùng kênh số - CN kế hoạch']).fillna(0)\n",
    "BaoCaoNgay_df['SL THẺ TÍN DỤNG - % TH so với KH']=(BaoCaoNgay_df['SL THẺ TÍN DỤNG_LŨY KẾ - THẺ']/BaoCaoNgay_df['SL THẺ CREDIT LŨY KẾ - THẺ kế hoạch']).fillna(0)\n",
    "\n"
   ]
  },
  {
   "cell_type": "markdown",
   "id": "3ed846f1",
   "metadata": {},
   "source": [
    "# CẬP NHẬP TỶ LỆ GIAO DỊCH QUA KÊNH SỐ - KẾ HOẠCH"
   ]
  },
  {
   "cell_type": "code",
   "execution_count": 112,
   "id": "b170b49e",
   "metadata": {},
   "outputs": [],
   "source": [
    "# lấy tỉ lệ giao dịch qua kênh số năm 2022\n",
    "df=pd.read_excel(info_filename,sheet_name='2022')[['MDV','TỶ LỆ % GIAO DỊCH QUA KÊNH SỐ - CN Năm 2022']]"
   ]
  },
  {
   "cell_type": "code",
   "execution_count": 113,
   "id": "fc4d7299",
   "metadata": {},
   "outputs": [],
   "source": [
    "# thay thế cột giá trị tỷ lệ giao dịch qua kênh số cũ\n",
    "BaoCaoNgay_df=BaoCaoNgay_df.drop(columns='TỶ LỆ % GIAO DỊCH QUA KÊNH SỐ - CN Năm 2022').merge(df,left_on='CN',right_on='MDV',how='left').fillna(0).drop(columns='MDV')\n"
   ]
  },
  {
   "cell_type": "code",
   "execution_count": 114,
   "id": "0c0f92b9",
   "metadata": {},
   "outputs": [],
   "source": [
    "# Kế hoạch tỷ lệ GD qua kênh số năm 2023 là tất cả các đơn vị, cụm, khu vực, toàn hàng đạt 60% vào tháng 12 năm 2023\n",
    "column_name = 'Tỷ lệ GD qua kênh số 2023 - 12'\n",
    "default_value = 0.6\n",
    "\n",
    "# Use the 'insert()' method to insert the column at position 1\n",
    "df.insert(1, column_name, default_value)\n",
    "\n",
    "# lấy 60% trừ cho tỷ lệ giao dịch kênh số hiện giờ chia cho 12:\n",
    "# mỗi tháng tỉ lệ này phải tăng trưởng bằng số trên để tới tới tháng 12 năm 2023 đạt 2023:\n",
    "for i in range(1,12):\n",
    "    df[f'Tỷ lệ GD qua kênh số 2023 - {i}']=(df['Tỷ lệ GD qua kênh số 2023 - 12']-df['TỶ LỆ % GIAO DỊCH QUA KÊNH SỐ - CN Năm 2022'])/12+df.iloc[:,1+i]"
   ]
  },
  {
   "cell_type": "code",
   "execution_count": 115,
   "id": "e212c2b2",
   "metadata": {},
   "outputs": [],
   "source": [
    "# chọn cột kế hoạch tỷ lệ  giao dịch qua kênh số tương ứng với ngày báo cáo\n",
    "if 1 <= NgayBaoCao_dt.month <= 11:\n",
    "    BaoCaoNgay_df['Tỷ lệ % GD qua kênh số - CN kế hoạch'] = df.iloc[:, NgayBaoCao_dt.month + 2]\n",
    "else:\n",
    "    BaoCaoNgay_df['Tỷ lệ % GD qua kênh số - CN kế hoạch'] = df['Tỷ lệ GD qua kênh số 2023 - 12']\n"
   ]
  },
  {
   "cell_type": "code",
   "execution_count": 116,
   "id": "20ae4b33",
   "metadata": {},
   "outputs": [],
   "source": [
    "# do tỷ lệ giao dịch qua kênh số của '999 đã đạt 100% nên kế hoạch của khu vực này ko là 60% nên 100%\n",
    "BaoCaoNgay_df.loc[BaoCaoNgay_df.CN==\"'999\",'Tỷ lệ % GD qua kênh số - CN kế hoạch']=1\n",
    "# tỷ lệ giao dịch qua kênh số của '324 có kê hoạch = 0\n",
    "BaoCaoNgay_df.loc[BaoCaoNgay_df.CN==\"'324\",'Tỷ lệ % GD qua kênh số - CN kế hoạch']=0\n",
    "BaoCaoNgay_df.loc[BaoCaoNgay_df.CN==\"'689\",'Tỷ lệ % GD qua kênh số - CN kế hoạch']=0\n",
    "BaoCaoNgay_df=BaoCaoNgay_df.drop_duplicates()"
   ]
  },
  {
   "cell_type": "code",
   "execution_count": 117,
   "id": "794f9f5c",
   "metadata": {},
   "outputs": [],
   "source": [
    "# tính lại tỷ lệ GD qua kênh số - % thực hiện so với KH\n",
    "BaoCaoNgay_df['Tỷ lệ GD qua kênh số CN - % TH so với KH']=(BaoCaoNgay_df['TỶ LỆ % IB_MB/TONG SLGD - CN tháng báo cáo']/BaoCaoNgay_df['Tỷ lệ % GD qua kênh số - CN kế hoạch']).fillna(0)"
   ]
  },
  {
   "cell_type": "code",
   "execution_count": 118,
   "id": "c9f7b3a6",
   "metadata": {},
   "outputs": [],
   "source": [
    "# replace any inf values with NaN\n",
    "BaoCaoNgay_df.replace([np.inf, -np.inf], np.nan, inplace=True)\n",
    "# fill NaN values with 0 (or any other value you prefer)\n",
    "BaoCaoNgay_df.fillna(0,inplace=True)"
   ]
  },
  {
   "cell_type": "markdown",
   "id": "418f1661",
   "metadata": {},
   "source": [
    "# CẬP NHẬP CÁC CỘT ngày thành lập và các cột dữ liệu trống khác"
   ]
  },
  {
   "cell_type": "code",
   "execution_count": 119,
   "id": "7f3e99cb",
   "metadata": {
    "scrolled": true
   },
   "outputs": [],
   "source": [
    "df=pd.read_excel(info_filename,sheet_name='DS Cum Va Khu Vuc')\n",
    "df=df.iloc[:,[0,-1,-2,-3,-4,-5,-6,-7,-8,-9,-10]]"
   ]
  },
  {
   "cell_type": "code",
   "execution_count": 120,
   "id": "4af87d98",
   "metadata": {},
   "outputs": [],
   "source": [
    "# Assuming your dataframe is named 'df' and the datetime column is named 'datetime_column'\n",
    "df['Ngày thành lập'] = pd.to_datetime(df['Ngày thành lập']).dt.date\n",
    "df['Ngày thành lập mới'] = pd.to_datetime(df['Ngày thành lập mới']).dt.date"
   ]
  },
  {
   "cell_type": "code",
   "execution_count": 121,
   "id": "8f6c7feb",
   "metadata": {},
   "outputs": [],
   "source": [
    "BaoCaoNgay_df=BaoCaoNgay_df.merge(df)"
   ]
  },
  {
   "cell_type": "markdown",
   "id": "e483edbc",
   "metadata": {},
   "source": [
    "# TẠO BÁO CÁO THÀNH NHIỀU SHEET KHÁC NHAU ĐẶT TÊN SHEET TƯƠNG ỨNG"
   ]
  },
  {
   "cell_type": "code",
   "execution_count": 122,
   "id": "816cc73f",
   "metadata": {},
   "outputs": [],
   "source": [
    "# sắp xếp thứ tự các cột\n",
    "ordered_col=['STT','CN','Tên đơn vị','HNGAYBC','H_2022','HNGAYBC','H_KH','HNGAYBC_PR',\n",
    "             'HSME_2022','HSME','HSMEVND','HSMEVNDKKH','HSMEVNDNH','HSMEVNDTDH','HSMESJC','HSMEUSD','HSMEEUR','HSMEKHAC','HSMEKKH','HSMENH','HSMETDH','HĐ - CMB kế hoạch','HSME_PR',\n",
    "             'HCIB_2022','HCIB','HCIBVND','HCIBVNDKKH','HCIBVNDNH','HCIBVNDTDH','HCIBSJC','HCIBUSD','HCIBEUR','HCIBKHAC','HCIBKKH','HCIBNH','HCIBTDH','HĐ - CIB kế hoạch','HCIB_PR',\n",
    "             'HCN','HCN_2022','HCN','HCNVND','HCNVNDKKH','HCNVNDNH','HCNVNDTDH','HCNSJC','HCNUSD','HCNEUR','HCNKHAC','HCNKKH','HCNNH','HCNTDH','Trái phiếu T12','HĐ - CN kế hoạch','HCN_PR',\n",
    "             'HĐ CN (Tiền gửi thanh toán) 31.12.2022',f'HĐ CN (Tiền gửi thanh toán) {date_str}','HĐ KKH - CN kế hoạch','HĐ CN (Tiền gửi thanh toán) % thực hiện so kế hoạch',\n",
    "             'Cho vay (không bao gồm chiết khấu)','CV_UPDATED_2022','CVNGAYBC_UPDATED','CVNGAYBC_TP','CV_KH','CVNGAYBC_KH_PR',\n",
    "             'CVSME_UPDATED_2022','CVSME_UPDATED','CVSME_TP','CVSMEVND','CVSMEVNDNH','CVSMEVNDTH','CVSMEVNDDH','CVSMESJC','CVSMEUSD','CVSMEEUR','CVSMEKHAC','CVSMENH','CVSMETH','CVSMEDH','SME_DTCK','UPAS_LC_SME_30','CV - CMB kế hoạch','CVSME_PR',\n",
    "             'CVCIB_UPDATED_2022','CVCIB_UPDATED','CVCIB_TP','CVCIBVND','CVCIBVNDNH','CVCIBVNDTH','CVCIBVNDDH','CVCIBSJC','CVCIBUSD','CVCIBEUR','CVCIBKHAC','CVCIBNH','CVCIBTH','CVCIBDH','CIB_DTCK','UPAS_LC_CIB_30','CV - CIB kế hoạch','CVCIB_PR',\n",
    "             'CVCN_UPDATED','CVCN_UPDATED_2022','CVCN_UPDATED','CVCN_TP','CVCNVND','CVCNVNDNH','CVCNVNDTH','CVCNVNDDH','CVCNSJC','CVCNUSD','CVCNEUR','CVCNKHAC','CVCNNH','CVCNTH','CVCNDH','UPAS_LC_CN_30','CV - CN kế hoạch','CVCN_PR',\n",
    "             'THE_CV_2022','THE_CV','THE_CVVND','THE_CVVNDNH','THE_CVVNDTH','THE_CVVNDDH','THE_CVSJC','THE_CVUSD','THE_CVEUR','THE_CVKHAC','THE_CVNH','THE_CVTH','THE_CVDH','CV - THẺ kế hoạch','THE_CV_PR',\n",
    "             'CK_DL','SME_CK_DL','CIB_CK_DL','CN_CK_DL','N1_DL','N2_DL','N3_DL','N4_DL','N5_DL','N345_DL','N_DieuChuyen','BanNo','N345_SauDieuChuyen','N345_CV_PR',\n",
    "             'SME_N1_DL','SME_N2_DL','SME_N3_DL','SME_N4_DL','SME_N5_DL','BanNo_SME','SME_N345_DL_UPDATED','N345_CV_PR_SME',\n",
    "             'CIB_N1_DL','CIB_N2_DL','CIB_N3_DL','CIB_N4_DL','CIB_N5_DL','BanNo_CIB','CIB_N345_DL','N345_CV_PR_CIB',\n",
    "             'CN_N1_DL','CN_N2_DL','CN_N3_DL','CN_N4_DL','CN_N5_DL','BanNo_CN','CN_N345_DL_UPDATED','N345_CV_PR_CN',\n",
    "             'THE_N1_DL','THE_N2_DL','THE_N3_DL','THE_N4_DL','THE_N5_DL','BanNo_The','THE_N345_DL_UPDATED','N345_CV_PR_THE',\n",
    "             'LN_2022','LNTRONGTHANG','LNLUYKE','LN Phát sinh','LN Lũy kế','LN kế hoạch','LN_PR',\n",
    "             'LNTRONGTHANG','LN_LK_TT','LN Tạm tính kế hoạch','LN_LK_TT_PR','TS_CO',\n",
    "             'Huy động ứng trước TK 023','Cho vay ứng trước TK 023','Bán nợ 31/3 còn lại sau đáo hạn','Đáo hạn','Bán nợ đến 31/3',\n",
    "             'Bán nợ trong tháng 4 chưa trừ huy động','Bán nợ từ 1/4 đến hiện nay','Ngày thành lập','Ngày thành lập mới','HPC108','Cho vay khác',\n",
    "             'Tổng thu Dịch Vụ năm 2022','Thu DV - TH','Tổng thu dịch vụ kế hoạch tháng','Tổng thu dịch vụ - % TH so với KH',\n",
    "             'Thu Dịch Vụ CMB năm 2022','Thu DV - CMB','Thu DV - CMB kế hoạch','Thu dịch vụ CMB - % TH so với KH',\n",
    "             'Thu Dịch Vụ CIB năm 2022','Thu DV - CIB','Thu DV - CIB kế hoạch','Thu dịch vụ CIB - % TH so với KH',\n",
    "             'Thu Dịch Vụ CN năm 2022','Thu DV - CN','Thu DV - CN kế hoạch','Thu dịch vụ CN - % TH so với KH',\n",
    "             'Thu Dịch Vụ THẺ năm 2022','Thu DV - Thẻ','Thu DV - THẺ kế hoạch','Thu dịch vụ THẺ - % TH so với KH',\n",
    "             'Tổng KDNT năm 2022','Thu KDNT - TH','Tổng thu KDNT kế hoạch tháng','Tổng thu KDNT - % TH so với KH',\n",
    "             'Thu KDNT CMB năm 2022','Thu KDNT - CMB','Thu KDNT - CMB kế hoạch','Thu KDNT CMB - % TH so với KH',\n",
    "             'Thu KDNT CIB năm 2022','Thu KDNT - CIB','Thu KDNT - CIB kế hoạch','Thu KDNT CIB - % TH so với KH',\n",
    "             'Thu KDNT CN năm 2022','Thu KDNT - CN','Thu KDNT - CN kế hoạch','Thu KDNT CN - % TH so với KH',\n",
    "             'Tổng DS MBNT năm 2022','DS MBNT - TH','Tổng DS MBNT kế hoạch tháng','Tổng DS MBNT - % TH so với KH',\n",
    "             'DS MBNT CMB năm 2022','DS MBNT - CMB','DS MBNT KHDN 2022 - CMB kế hoạch','DS MBNT CMB - % TH so với KH',\n",
    "             'DS MBNT CIB năm 2022','DS MBNT - CIB','DS MBNT - CIB kế hoạch','DS MBNT CIB - % TH so với KH',\n",
    "             'DS MBNT CN năm 2022','DS MBNT - CN','DS MBNT - CN kế hoạch','DS MBNT CN - % TH so với KH',\n",
    "             'Tổng BHNT năm 2022','BHNT - TH','Tổng BHNT kế hoạch','Tổng BHNT - % TH so với KH',\n",
    "             'BHNT CMB năm 2022','BHNT - CMB','BHNT - KHDN 2022 - CMB kế hoạch','BHNT CMB - % TH so với KH',\n",
    "             'BHNT CIB năm 2022','BHNT - CIB','DS BHNT - CIB kế hoạch','BHNT CIB - % TH so với KH',\n",
    "             'BHNT CN năm 2022','BHNT - CN','DS BHNT - CN kế hoạch','BHNT CN - % TH so với KH',\n",
    "             'BHNT Thẻ năm 2022','BHNT - Thẻ','DS BHNT - THẺ kế hoạch','BHNT Thẻ - % TH so với KH',\n",
    "             'Tổng DS TTQT năm 2022','DS TTQT - TH','Tổng DS TTQT - kế hoạch','Tổng DS TTQT - % TH so với KH',\n",
    "             'DS TTQT CMB năm 2022','TTQT - CMB','TTQT KHDN 2022 - CMB kế hoạch','DS TTQT CMB - % TH so với KH',\n",
    "             'DS TTQT CIB năm 2022','TTQT - CIB','DS TTQT - CIB kế hoạch','DS TTQT CIB - % TH so với KH',\n",
    "             'Tổng Thu Hộ TP - Năm 2022','Tổng Thu Hộ TP - TH','Tổng Thu Hộ TP - kế hoạch','Tổng Thu Hộ TP - % TH so với KH',\n",
    "             'Thu Hộ TP CMB - Năm 2022','THU HỘ TP - CMB','THU HỘ TRÁI PHIẾU - CMB kế hoạch','Thu Hộ TP CMB - % TH so với KH',\n",
    "             'Thu Hộ TP CN - Năm 2022','THU HỘ TP - CN','THU HỘ TRÁI PHIẾU - CN kế hoạch','Thu Hộ TP CN - % TH so với KH',\n",
    "             'Thu Hộ TP CIB - Năm 2022','THU HỘ TP - CIB','THU HỘ TRÁI PHIẾU - CIB kế hoạch','Thu Hộ TP CIB - % TH so với KH',\n",
    "             'SL KHDN LŨY KẾ - CMB Năm 2022','SL KHDN LŨY KẾ - CMB','SL KH - CMB kế hoạch','SL KHDN LŨY KẾ CMB - % TH so với KH',\n",
    "             'QUẢN LÝ TIỀN MẶT_LŨY KẾ - CMB Năm 2022','QUẢN LÝ TIỀN MẶT_LŨY KẾ - CMB','SL KHDN sd QLTM 2022 - CMB kế hoạch','QUẢN LÝ TIỀN MẶT_LŨY KẾ CMB - % TH so với KH',\n",
    "             'SL KHDN CHUỖI - CMB Năm 2022','SL KHDN CHUỖI - CMB','SLKHDN Chuỗi 2022 - CMB kế hoạch','SL KHDN CHUỖI CMB - % TH so với KH',\n",
    "             'IBK - CMB Năm 2022','IBK - CMB','IBK - CMB kế hoạch','IBK CMB - % TH so với KH',\n",
    "             'DƯ NỢ TÍN DỤNG CHUỖI - CMB Năm 2022','DƯ NỢ TÍN DỤNG CHUỖI - CMB','Dư nợ tín dụng chuỗi 2022 - CMB kế hoạch','DƯ NỢ TÍN DỤNG CHUỖI CMB - % TH so với KH',\n",
    "             'KHÁCH HÀNG TÍN DỤNG (KHDN) - CMB Năm 2022','KHÁCH HÀNG TÍN DỤNG (KHDN) - CMB','SL KHDN tín dụng 2022 - CMB kế hoạch','KHÁCH HÀNG TÍN DỤNG (KHDN) - CMB % TH so với KH',\n",
    "             'SL KHDN PAYROLL - CMB Năm 2022','SL KHDN PAYROLL - CMB','SL KHDN Payroll - CMB kế hoạch','SL KHDN PAYROLL CMB - % TH so với KH',\n",
    "             'SL TK NHẬN LƯƠNG PAYROLL - CMB Năm 2022','SL TK NHẬN LƯƠNG PAYROLL - CMB','SL TK nhận lương Payroll - CMB kế hoạch','SL TK NHẬN LƯƠNG PAYROLL - CMB % TH so với KH',\n",
    "             'SL KH CHO VAY CMB','SL KH D.NGHIỆP CIB - Năm 2022','SL KHDN CIB','SL KHDNL - CIB kế hoạch','SL KHDN CIB - % TH so với KH',\n",
    "             'SL KH CN - Năm 2022','SỐ LƯỢNG KH CN','SLKH - CN kế hoạch','SL KHCN - % TH so với KH',\n",
    "             'SL NGƯỜI DÙNG KÊNH SỐ - CN Năm 2022','SỐ LƯỢNG NGƯỜI DÙNG KÊNH SỐ - CN','SL người dùng kênh số - CN kế hoạch','SL người dùng kênh số CN - % TH so với KH',\n",
    "             'KH CN BÁN CHÉO CHO KH DOANH NGHIỆP - Năm 2022','BÁN CHÉO KHDN - CN','BÁN CHÉO - CN kế hoạch','KH CN BÁN CHÉO CHO KHDN - % TH so với KH',\n",
    "             'TỶ LỆ % GIAO DỊCH QUA KÊNH SỐ - CN Năm 2022','TỶ LỆ % IB_MB/TONG SLGD - CN tháng báo cáo','Tỷ lệ % GD qua kênh số - CN kế hoạch','Tỷ lệ GD qua kênh số CN - % TH so với KH',\n",
    "             'SL ĐIỂM LẺ CHUỖI - CN Năm 2022','SỐ LƯỢNG ĐIỂM LẺ CHUỖI - CN','SL điểm lẻ chuỗi - CN kế hoạch','SL Điểm lẻ chuỗi - % TH so với KH',\n",
    "             'SL THẺ GHI NỢ_LŨY KẾ - Năm 2022','SL THẺ GHI NỢ_LŨY KẾ - THẺ','SL THẺ DEBIT LK - THẺ kế hoạch','SL THẺ GHI NỢ - % TH so với KH',\n",
    "             'SL THẺ TÍN DỤNG_LŨY KẾ - Năm 2022','SL THẺ TÍN DỤNG_LŨY KẾ - THẺ','SL THẺ CREDIT LŨY KẾ - THẺ kế hoạch','SL THẺ TÍN DỤNG - % TH so với KH'\n",
    "\n",
    "]\n",
    "ChiTiet_df=BaoCaoNgay_df[ordered_col].sort_values(by='STT')"
   ]
  },
  {
   "cell_type": "code",
   "execution_count": 123,
   "id": "0d35102e",
   "metadata": {},
   "outputs": [],
   "source": [
    "# tạo ra danh sách các cột cần lấy cho từng khối\n",
    "my_list=ChiTiet_df.columns.tolist()\n",
    "# tìm các cột của khối SME\n",
    "target_strings = [\"CMB\", \"SME\"]\n",
    "CMB_list = [s for s in my_list if \"SME\" in s or \"CMB\" in s]\n",
    "# tìm các cột của khối CIB\n",
    "target_string = \"CIB\"\n",
    "CIB_list = [s for s in my_list if target_string in s]\n",
    "# tìm các cột của  khối CN\n",
    "target_string = \"CN\"\n",
    "CN_list = [s for s in my_list if target_string in s]\n",
    "CN_list.remove('CN')\n",
    "adding_columns=[ 'SL THẺ GHI NỢ_LŨY KẾ - Năm 2022', 'SL THẺ GHI NỢ_LŨY KẾ - THẺ', 'SL THẺ DEBIT LK - THẺ kế hoạch',\n",
    " 'SL THẺ GHI NỢ - % TH so với KH', 'SL THẺ TÍN DỤNG_LŨY KẾ - Năm 2022', 'SL THẺ TÍN DỤNG_LŨY KẾ - THẺ',\n",
    " 'SL THẺ CREDIT LŨY KẾ - THẺ kế hoạch', 'SL THẺ TÍN DỤNG - % TH so với KH']\n",
    "for i in adding_columns:\n",
    "    CN_list.append(i)\n",
    "# TÌM CÁC CỘT CỦA KHỐI THẺ:\n",
    "target_strings = [\"thẻ\", \"the\"]\n",
    "THE_list = [s for s in my_list if any(target in s.lower() for target in target_strings)]\n"
   ]
  },
  {
   "cell_type": "code",
   "execution_count": 124,
   "id": "dbb8e232",
   "metadata": {},
   "outputs": [],
   "source": [
    "# TẠO DATAFRAME CỦA CÁC SHEET SME, CIB, CN và THE\n",
    "CMB_df = pd.concat([BaoCaoNgay_df[['STT','CN','Tên đơn vị']], BaoCaoNgay_df[CMB_list]], axis=1) # SHEET SME\n",
    "CIB_df = pd.concat([BaoCaoNgay_df[['STT','CN','Tên đơn vị']], BaoCaoNgay_df[CIB_list]], axis=1) # SHEET  CIB\n",
    "CN_df = pd.concat([BaoCaoNgay_df[['STT','CN','Tên đơn vị']], BaoCaoNgay_df[CN_list]], axis=1) # SHEET CN\n",
    "THE_df = pd.concat([BaoCaoNgay_df[['STT','CN','Tên đơn vị']], BaoCaoNgay_df[THE_list]], axis=1) # SHEET THE"
   ]
  },
  {
   "cell_type": "code",
   "execution_count": 125,
   "id": "42359f07",
   "metadata": {},
   "outputs": [],
   "source": [
    "# ĐỔI TÊN CỘT THÀNH TÊN HIỂN THỊ TRONG BÁO CÁO\n",
    "rename_dict ={\n",
    "    'Tỷ lệ % GD qua kênh số - CN kế hoạch':f'Tỷ lệ % GD qua kênh số - CN kế hoạch tháng {NgayBaoCao_dt.month}',\n",
    "    'THU HỘ TP - CIB':f'THU HỘ TP - CIB thực hiện ngày {last_month_str}','THU HỘ TP - CN':f'THU HỘ TP - CN thực hiện ngày {last_month_str}',\n",
    "    'THU HỘ TP - SME':f'THU HỘ TP - CMB thực hiện ngày {last_month_str}','TTQT - CIB':f'TTQT - CIB thực hiện ngày {last_month_str}',\n",
    "    'TTQT - SME':f'TTQT - CMB thực hiện ngày {last_month_str}','BHNT - Thẻ':f'BHNT - Thẻ thực hiện ngày {last_month_str}',\n",
    "    'BHNT - CN':f'BHNT - CN thực hiện ngày {last_month_str}','BHNT - CIB':f'BHNT - CIB thực hiện ngày {last_month_str}',\n",
    "    'BHNT - SME':f'BHNT - CMB thực hiện ngày {last_month_str}','DS MBNT - CN':f'DS MBNT - CN thực hiện ngày {last_month_str}',\n",
    "    'DS MBNT - CIB':f'DS MBNT - CIB thực hiện ngày {last_month_str}','DS MBNT - SME':f'DS MBNT - CMB thực hiện ngày {last_month_str}',\n",
    "    'Thu KDNT - CN':f'Thu KDNT - CN thực hiện ngày {last_month_str}','Thu KDNT - CIB':f'Thu KDNT - CIB thực hiện ngày {last_month_str}',\n",
    "    'Thu KDNT - SME':f'Thu KDNT - CMB thực hiện ngày {last_month_str}','SL THẺ GHI NỢ_LŨY KẾ - THẺ':f'SL THẺ GHI NỢ_LŨY KẾ - THẺ thực hiện ngày {last_month_str}',\n",
    "    'SL THẺ TÍN DỤNG_LŨY KẾ - THẺ':f'SL THẺ TÍN DỤNG_LŨY KẾ - THẺ thực hiện ngày {last_month_str}',\n",
    "    'TỶ LỆ % IB_MB/TONG SLGD - CN tháng báo cáo':f'TỶ LỆ % IB_MB/TONG SLGD - CN thực hiện ngày {last_month_str}','SỐ LƯỢNG ĐIỂM LẺ CHUỖI - CN':f'SỐ LƯỢNG ĐIỂM LẺ CHUỖI - CN thực hiện ngày {last_month_str}',\n",
    "    'SỐ LƯỢNG KH CN':f'SỐ LƯỢNG KH CN thực hiện ngày {last_month_str}','SỐ LƯỢNG NGƯỜI DÙNG KÊNH SỐ - CN':f'SỐ LƯỢNG NGƯỜI DÙNG KÊNH SỐ - CN thực hiện ngày {last_month_str}','BÁN CHÉO KHDN - CN':f'BÁN CHÉO KHDN - CN thực hiện ngày {last_month_str}',\n",
    "    'SL KHDN PAYROLL - SME':f'SL KHDN PAYROLL - CMB thực hiện ngày {last_month_str}','SL TK NHẬN LƯƠNG PAYROLL - SME':f'SL TK NHẬN LƯƠNG PAYROLL - CMB thực hiện ngày {last_month_str}','SL KH CHO VAY SME':f'SL KH CHO VAY CMB thực hiện ngày {last_month_str}','SL KHDN CIB':f'SL KHDN CIB thực hiện ngày {last_month_str}',\n",
    "    'SL KHDN CHUỖI - SME':f'SL KHDN CHUỖI - CMB thực hiện ngày {last_month_str}','IBK - SME':f'IBK - CMB thực hiện ngày {last_month_str}','DƯ NỢ TÍN DỤNG CHUỖI - SME':f'DƯ NỢ TÍN DỤNG CHUỖI - CMB thực hiện ngày {last_month_str}',\n",
    "    'SL KHDN LŨY KẾ - SME':f'SL KHDN LŨY KẾ - CMB thực hiện ngày {last_month_str}','QUẢN LÝ TIỀN MẶT_LŨY KẾ - SME':f'QUẢN LÝ TIỀN MẶT_LŨY KẾ - CMB thực hiện ngày {last_month_str}','KHÁCH HÀNG TÍN DỤNG (KHDN) - SME':f'KHÁCH HÀNG TÍN DỤNG (KHDN) - CMB thực hiện ngày {last_month_str}',\n",
    "    'BHNT - TH':f'Tổng BHNT thực hiện ngày {last_month_str}','DS TTQT - TH':f'Tổng DS TTQT thực hiện ngày {last_month_str}','Tổng Thu Hộ TP - TH':f'Tổng Thu hộ TP thực hiện ngày {last_month_str}',\n",
    "    'Thu KDNT - TH':f'Tổng thu KDNT thực hiện ngày {last_month_str}','DS MBNT - TH':f'Tổng DS MBNT thực hiện ngày {last_month_str}',\n",
    "    'Thu DV - CN':f'Thu DV - CN thực hiện ngày {last_month_str}','Thu DV - Thẻ':f'Thu DV - Thẻ thực hiện ngày {last_month_str}','Thu DV - CIB':f'Thu DV - CIB thực hiện ngày {last_month_str}','Thu DV - CMB':f'Thu DV - CMB thực hiện ngày {last_month_str}','Thu DV - TH':f'Tổng thu Dịch vụ thực hiện ngày {last_month_str}',\n",
    "    'HPC108':f'Huy động cá nhân chuyển sang doanh nghiệp {date_str}','TS_CO':'Tổng tài sản','LN_PR':'% thực hiện kế hoạch lợi nhuận','LN_KH':'Lợi nhuận kế hoạch tháng','HĐ KKH - CN kế hoạch':'HĐ CN (Tiền gửi thanh toán) kế hoạch tháng',\n",
    "    'LN_LK_TT_PR':'% thực hiện kế hoạch lợi nhuận lũy kế tạm tính','LN_LK_TT':f'LN tạm tính lũy kế từ đầu năm đến {date_str}','LNTRONGTHANG':f'LN tạm tính từ 01.02-{date_str}','LN_KH':'Lợi nhuận kế hoạch tháng','LN Lũy kế':f'LN thực lũy kế từ đầu năm đến {last_month_str}',\n",
    "    'LN Phát sinh':f'Lợi nhuận thực phát sinh {month_of_last_month}','LN_TH':f'Lợi nhuận thực tháng {last_month_str}','LNLUYKE':'LN KM lũy kế từ đầu năm 2022','LNTRONGTHANG':'LN KM phát sinh trong tháng 01/2022','LN_2022':'Lợi nhuận năm 2022','N345_CV_PR_THE':'Thẻ % tỷ lệ N345/DN','THE_N345_DL_UPDATED':'Thẻ tổng N345','BanNo_The':'Thẻ bán nợ','THE_N5_DL':'Thẻ N5','THE_N4_DL':'Thẻ N4','THE_N3_DL':'Thẻ N3','THE_N2_DL':'Thẻ N2','THE_N1_DL':'Thẻ N1','N345_CV_PR_CN':'CN % tỷ lệ N345/DN',\n",
    "    'CIB_N345_DL_UPDATED':'CIB tổng N345 (bao gồm bán nợ)','BanNo_CN':'CN bán nợ','CN_N5_DL':'CN N5','CN_N4_DL':'CN N4','CN_N3_DL':'CN N3','CN_N2_DL':'CN N2','CN_N1_DL':'CN N1',\n",
    "    'N345_CV_PR_CIB':'CIB % tỷ lệ N345/DN','CIB_N345_DL':'CIB tổng N345','BanNo_CIB':'CIB bán nợ','CIB_N5_DL':'CIB N5','CIB_N4_DL':'CIB N4','CIB_N3_DL':'CIB N3','CIB_N2_DL':'CIB N2','CIB_N1_DL':'CIB N1',\n",
    "    'N345_CV_PR_SME':'CMB % tỷ lệ N345/DN','SME_N345_DL_UPDATED':'CMB tổng N345 (bao gồm bán nợ)','BanNo_SME':'CMB bán nợ','SME_N5_DL':'CMB N5','SME_N4_DL':'CMB N4','SME_N3_DL':'CMB N3','SME_N2_DL':'CMB N2','SME_N1_DL':'CMB N1',\n",
    "    'CN_N345_DL_UPDATED':'CN tổng N345 (bao gồm bán nợ)','N345_CV_PR':'% Tỷ lệ Nợ 345/cho vay','N345_SauDieuChuyen':'Tổng nợ 345 sau khi chỉnh các món điều chuyển','BanNo':'Tổng bán nợ','N_DieuChuyen':'Các món nợ điều chuyển','N345_DL':'Tổng nợ nhóm 345','N5_DL':'Nợ N5','N4_DL':'Nợ N4','N3_DL':'Nợ N3','N2_DL':'Nợ N2','N1_DL':'Nợ N1',\n",
    "    'CN_CK_DL':'Chiết khấu CN','CIB_CK_DL':'Chiết khấu CIB','SME_CK_DL':'Chiết khấu CMB','CK_DL':'Chiết khấu',\n",
    "    'THE_CV_PR':'% thực hiện kế hoạch dư nợ thẻ','CV - THẺ kế hoạch':'Kế  hoạch tháng dư nợ thẻ','THE_CVDH':'Dư nợ thẻ DH','THE_CVTH':'Dư nợ thẻ TH','THE_CVNH':'Dư nợ thẻ NH','THE_CVKHAC':'Dư nợ thẻ Ngtệ khác','THE_CVEUR':'Dư nợ thẻ EUR','THE_CVUSD':'Dư nợ thẻ USD','THE_CVSJC':'Dư nợ thẻ SJC','THE_CVVNDDH':'Dư nợ thẻ VND DH','THE_CVVNDTH':'Dư nợ thẻ VND TH','THE_CVVNDNH':'Dư nợ thẻ VND NH','THE_CVVND':'Dư nợ thẻ VND','THE_CV':f'Dư nợ Thẻ {date_str}',\n",
    "    'THE_CV_2022':'Dư nợ thẻ 31.12.2022','CVCN_PR':'% CN thực hiện kế hoạch CV','CVCN_KH':'Cho Vay CN kế hoạch tháng','UPAS_LC_CN_30':'30% UPAS LC - CN','CVCNDH':'Cho Vay CN DH','CVCNTH':'Cho Vay CN TH','CVCNNH':'Cho Vay CN NH','CVCNKHAC':'Cho Vay CN Ngtệ Khác','CVCNEUR':'Cho Vay CN EUR','CVCNUSD':'Cho Vay CN USD','CVCNSJC':'Cho Vay CN SJC','CVCNVNDDH':'Cho Vay CN VND DH','CVCNVNDTH':'Cho Vay CN VND TH','CVCNVNDNH':'Cho Vay CN VND NH','CVCNVND':'Cho Vay CN VND','CVCN_TP':f'Cho Vay CN (bao gồm TP) ngày {date_str}',\n",
    "    'CVCN_UPDATED':f'Cho Vay CN (bao gồm TP) + 30%UPAS_LC ngày {date_str}','CVCN_UPDATED_2022':'Cho Vay CN (bao gồm TP) + 30%UPAS_LC ngày 31.12.2022','CVCIB_PR':'% CIB thực hiện kế hoạch CV','CVCIB_KH':'Cho Vay CIB kế hoạch tháng','UPAS_LC_CIB_30':'30% UPAS LC - CIB','CIB_DTCK':'Trái phiếu (ghi nhận CIB)','CVCIBDH':'Cho Vay CIB DH','CVCIBTH':'Cho Vay CIB TH','CVCIBNH':'Cho Vay CIB NH','CVCIBKHAC':'Cho Vay CIB Ngtệ Khác','CVCIBEUR':'Cho Vay CIB EUR','CVCIBUSD':'Cho Vay CIB USD','CVCIBSJC':'Cho Vay CIB SJC','CVCIBVNDDH':'Cho Vay CIB VND DH','CVCIBVNDTH':'Cho Vay CIB VND TH','CVCIBVNDNH':'Cho Vay CIB VND NH','CVCIBVND':'Cho Vay CIB VND','CVCIB_TP':f'Cho Vay CIB ngày (bao gồm TP) {date_str}','CVCIB_UPDATED':f'Cho Vay CIB (bao gồm TP) + 30%UPAS_LC ngày {date_str}','CVCIB_UPDATED_2022':'Cho Vay CIB (bao gồm TP) + 30%UPAS_LC ngày 31.12.2022',\n",
    "    'CVSME_PR':'% CMB thực hiện kế hoạch CV','CVSME_KH':'Cho Vay CMB kế hoạch tháng','UPAS_LC_SME_30':'30% UPAS LC - CMB','SME_DTCK':'Trái phiếu (ghi nhận CMB)','CVSMEDH':'Cho Vay CMB DH','CVSMETH':'Cho Vay CMB TH','CVSMENH':'Cho Vay CMB NH','CVSMEKHAC':'Cho Vay CMB Ngtệ Khác','CVSMEEUR':'Cho Vay CMB EUR','CVSMEUSD':'Cho Vay CMB USD','CVSMESJC':'Cho Vay CMB SJC','CVSMEVNDDH':'Cho Vay CMB VND DH','CVSMEVNDTH':'Cho Vay CMB VND TH','CVSMEVNDNH':'Cho Vay CMB VND NH','CVSMEVND':'Cho Vay CMB VND','CVSME_TP':f'Cho Vay CMB (bao gồm TP) ngày {date_str}','CVSME_UPDATED':f'Cho Vay CMB (bao gồm TP) + 30%UPAS_LC ngày {date_str}','CVSME_UPDATED_2022':'Cho Vay CMB (bao gồm TP) + 30%UPAS_LC ngày 31.12.2022',\n",
    "    'CV_UPDATED_2022':'Cho vay bao gồm CC STK (gồm TPDN)+30%UPAS_LC 31/12/2022','CVNGAYBC_KH_PR':'% thực hiện kế hoạch Cho Vay','CV_KH':'Cho vay kế hoạch tháng','CVNGAYBC_TP':f'Cho Vay bao gồm CC STK (gồm TPDN) ngày {date_str}','CVNGAYBC_UPDATED':f'Cho Vay bao gồm CC STK (gồm TPDN) + 30%UPAS_LC ngày {date_str}',\n",
    "    'HCN_PR':'% CN thực hiện kế hoạch HĐ','HCN_KH':'Huy động CN kế hoạch','HCNTDH':'Huy Động CN TDH','HCNNH':'Huy Động CN NH','HCNKKH':'Huy Động CN KKH','HCNKHAC':'Huy Động CN Ngtệ Khác','HCNEUR':'Huy Động CN EUR','HCNUSD':'Huy Động CN USD','HCNSJC':'Huy Động CN SJC','HCNVNDTDH':'Huy Động CN VND TDH','HCNVNDNH':'Huy Động CN VND NH','HCNVNDKKH':'Huy Động CN VND KKH','HCNVND':'Huy Động CN VND','HCN':f'Huy Động CN ngày {date_str}','HCN_2022':'Huy Động CN 31.12.2022',\n",
    "    'HCIB_PR':'% CIB thực hiện kế hoạch HĐ','HCIB_KH':'Huy động CIB kế hoạch','HCIBTDH':'Huy Động CIB TDH','HCIBNH':'Huy Động CIB NH','HCIBKKH':'Huy Động CIB KKH','HCIBKHAC':'Huy Động CIB Ngtệ Khác','HCIBEUR':'Huy Động CIB EUR','HCIBUSD':'Huy Động CIB USD','HCIBSJC':'Huy Động CIB SJC','HCIBVNDTDH':'Huy Động CIB VND TDH','HCIBVNDNH':'Huy Động CIB VND NH','HCIBVNDKKH':'Huy Động CIB VND KKH','HCIBVND':'Huy Động CIB VND','HCIB':f'Huy động CIB ngày {date_str}','HCIB_2022':'Huy Động CIB 31.12.2022',\n",
    "    'HSME_PR':'% CMB thực hiện kế hoạch HĐ','HSME_KH':'Huy động CMB kế hoạch','HSMETDH':'Huy Động CMB TDH','HSMENH':'Huy Động CMB NH','HSMEKKH':'Huy Động CMB KKH','HSMEKHAC':'Huy Động CMB Ngtệ Khác','HSMEEUR':'Huy Động CMB EUR','HSMEUSD':'Huy Động CMB USD','HSMESJC':'Huy Động CMB SJC','HSMEVNDTDH':'Huy Động CMB VND TDH','HSMEVNDNH':'Huy Động CMB VND NH','HSMEVNDKKH':'Huy Động CMB VND KKH','HSMEVND':'Huy Động CMB VND','HSME':f'Huy động CMB ngày {date_str}','HSME_2022':'Huy Động CMB 31.12.2022',\n",
    "    'HNGAYBC_PR':'% thực hiện kế hoạch Huy Động','H_KH':'Huy động TT1 kế hoạch tháng','HNGAYBC':f'Huy Động TT1 ngày {date_str}','H_2022':'Huy động TT1 tại ngày 31.12.2022','HNGAYBC':f'Huy Động TT1 ngày {date_str}',\n",
    "    'Tên đơn vị':'Tên đơn vị','CN':'Mã','STT':'STT',\n",
    "}\n",
    "# Đổi tên cột, loại bỏ các dòng giống nhau và sắp xếp lại theo STT\n",
    "ChiTiet_df = ChiTiet_df.rename(columns=rename_dict).drop_duplicates().sort_values(by='STT')\n",
    "CMB_df = CMB_df.rename(columns=rename_dict).drop_duplicates().sort_values(by='STT')\n",
    "CIB_df = CIB_df.rename(columns=rename_dict).drop_duplicates().sort_values(by='STT')\n",
    "CN_df = CN_df.rename(columns=rename_dict).drop_duplicates().sort_values(by='STT')\n",
    "THE_df = THE_df.rename(columns=rename_dict).drop_duplicates().sort_values(by='STT')"
   ]
  },
  {
   "cell_type": "code",
   "execution_count": 126,
   "id": "7e13bace",
   "metadata": {},
   "outputs": [
    {
     "name": "stderr",
     "output_type": "stream",
     "text": [
      "C:\\Users\\phatdd3\\AppData\\Local\\Temp\\ipykernel_18656\\1265481437.py:25: FutureWarning: save is not part of the public API, usage can give unexpected results and will be removed in a future version\n",
      "  writer.save()\n",
      "C:\\Users\\phatdd3\\AppData\\Local\\anaconda3\\lib\\site-packages\\xlsxwriter\\workbook.py:339: UserWarning: Calling close() on already closed file.\n",
      "  warn(\"Calling close() on already closed file.\")\n"
     ]
    }
   ],
   "source": [
    "# Create an ExcelWriter object\n",
    "writer = pd.ExcelWriter(new_filename, engine='xlsxwriter')\n",
    "\n",
    "# Write each dataframe to a separate sheet in the same Excel file\n",
    "ChiTiet_df.to_excel(writer, sheet_name='Chi Tiet', index=False,startrow=2)\n",
    "CMB_df.to_excel(writer, sheet_name='CMB', index=False,startrow=2)\n",
    "CIB_df.to_excel(writer, sheet_name='CIB', index=False,startrow=2)\n",
    "CN_df.to_excel(writer, sheet_name='CN', index=False,startrow=2)\n",
    "THE_df.to_excel(writer, sheet_name='THE', index=False,startrow=2)\n",
    "\n",
    "# tạo các dataframe cho các sheet khu vực\n",
    "df=pd.read_excel(info_filename)\n",
    "df=df[df.sheet_name.notnull()]\n",
    "df=df[['MDV','sheet_name']]\n",
    "\n",
    "dfs={}\n",
    "BaoCaoNgay_dfS ={}\n",
    "for i in df['sheet_name'].unique():\n",
    "    dfs[i]=df[df['sheet_name']==i] # lọc ra dataframe chứa danh sách đơn vị\n",
    "    BaoCaoNgay_dfS[i]=dfs[i].merge(ChiTiet_df,how='left',left_on='MDV',right_on='Mã').sort_values(by='STT') # Lấy dataframe chi tiết tương ứng từng dataframe trên\n",
    "    BaoCaoNgay_dfS[i]=BaoCaoNgay_dfS[i].drop(columns=dfs[i].columns).drop_duplicates() # bỏ các cột nối vào và bỏ các giá trị trùng lặp\n",
    "    BaoCaoNgay_dfS[i].to_excel(writer,sheet_name=i,index=False,startrow=2) # lưu các báo cáo theo từng khu vực vào từng sheet vs tên sheet tương ứng cột sheet_name trong dataframe trên\n",
    "\n",
    "# Save the Excel file\n",
    "writer.save()\n",
    "\n",
    "# Release the Excel file\n",
    "writer.close()"
   ]
  },
  {
   "cell_type": "markdown",
   "id": "972ba2d1",
   "metadata": {},
   "source": [
    "# THIẾT KẾ GIAO DIỆN BÁO CÁO"
   ]
  },
  {
   "cell_type": "code",
   "execution_count": 127,
   "id": "1236db4c",
   "metadata": {},
   "outputs": [],
   "source": [
    "from openpyxl import load_workbook\n",
    "from openpyxl import Workbook\n",
    "from openpyxl.styles import Font\n",
    "\n",
    "# mở file excel Báo Cáo ngày\n",
    "wb=load_workbook(new_filename)"
   ]
  },
  {
   "cell_type": "markdown",
   "id": "b51d5db7",
   "metadata": {},
   "source": [
    "# CHỈNH FONT VÀ FONT SIZE CHO CÁC SHEET CỦA FILE"
   ]
  },
  {
   "cell_type": "code",
   "execution_count": 128,
   "id": "0746d045",
   "metadata": {},
   "outputs": [],
   "source": [
    "# get all sheet names\n",
    "sheet_names = wb.sheetnames\n",
    "\n",
    "# loop through each sheet\n",
    "for sheet_name in sheet_names:\n",
    "    sheet = wb[sheet_name]\n",
    "\n",
    "    # loop through each cell in the sheet\n",
    "    for row in sheet.iter_rows():\n",
    "        for cell in row:\n",
    "            # set the font to Myriad Pro and size 10\n",
    "            cell.font = Font(name='Myriad Pro', size=10)\n",
    "# save the modified workbook\n",
    "wb.save(new_filename)"
   ]
  },
  {
   "cell_type": "markdown",
   "id": "85300bd2",
   "metadata": {},
   "source": [
    "# THÊM CÁC CỘT ĐỂ ĐIỀU CHỈNH CỘT VÀO ĐÚNG SỐ NHƯ FILE BÁO CÁO CŨ"
   ]
  },
  {
   "cell_type": "code",
   "execution_count": 129,
   "id": "56c8032f",
   "metadata": {},
   "outputs": [],
   "source": [
    "from openpyxl.utils import column_index_from_string\n",
    "# thêm các cột trống MỚI tại các vị trí bên dưới\n",
    "\n",
    "# Define the sheet names to modify\n",
    "sheet_names = []\n",
    "for sheet in wb.sheetnames:\n",
    "    if sheet not in [\"CMB\", \"CIB\", \"CN\", \"THE\"]:\n",
    "        sheet_names.append(sheet)\n",
    "\n",
    "# Define the column positions to insert a blank column\n",
    "positions_to_insert = ['GV','HQ','IH','IY','JT','KG','KX','ME','MG','ML','NG']\n",
    "\n",
    "# Loop through each sheet and insert a blank column at the specified positions\n",
    "for sheet_name in sheet_names:\n",
    "    ws = wb[sheet_name]\n",
    "    for position in positions_to_insert:\n",
    "        col_idx = openpyxl.utils.column_index_from_string(position)\n",
    "        ws.insert_cols(col_idx)\n",
    "\n",
    "# save the modified workbook\n",
    "wb.save(new_filename)"
   ]
  },
  {
   "cell_type": "markdown",
   "id": "f28d98ed",
   "metadata": {},
   "source": [
    "# ẨN MỘT SỐ CỘT"
   ]
  },
  {
   "cell_type": "code",
   "execution_count": 130,
   "id": "6fc3da38",
   "metadata": {},
   "outputs": [],
   "source": [
    "# ẨN MỘT SỐ CỘT \n",
    "\n",
    "# Define a list of sheet names to apply changes to\n",
    "for sheet in wb.sheetnames:\n",
    "    if sheet not in [\"CMB\", \"CIB\", \"CN\", \"THE\"]:\n",
    "        sheet_names.append(sheet)\n",
    "\n",
    "# loop through the sheets\n",
    "for sheet_name in sheet_names:\n",
    "    # select the sheet\n",
    "    ws = wb[sheet_name]\n",
    "    for col in ['GK','GL','GM','GN','GO','GP','GQ']:\n",
    "        ws.column_dimensions[col].hidden = True        \n",
    "\n",
    "# loop through the sheets\n",
    "for sheet_name in sheet_names:\n",
    "    # select the sheet\n",
    "    ws = wb[sheet_name]\n",
    "    for col in ['GF', 'GG', 'GH', 'GI']:\n",
    "        ws.column_dimensions[col].hidden = True\n",
    "\n",
    "# loop through the sheets\n",
    "for sheet_name in sheet_names:\n",
    "    # select the sheet\n",
    "    ws = wb[sheet_name]\n",
    "    for col in ['FZ', 'GA']:\n",
    "        ws.column_dimensions[col].hidden = True\n",
    "        \n",
    "# save the modified workbook\n",
    "wb.save(new_filename)"
   ]
  },
  {
   "cell_type": "markdown",
   "id": "79556722",
   "metadata": {},
   "source": [
    "# CÀI ĐẶT ĐỘ CAO, ĐỘ RỘNG, CANH GIỮA VÀ XUỐNG HÀNG CHO TẤT CẢ CÁC CỘT CỦA DÒNG "
   ]
  },
  {
   "cell_type": "code",
   "execution_count": 131,
   "id": "d3e3d63d",
   "metadata": {},
   "outputs": [],
   "source": [
    "from openpyxl.utils import get_column_letter\n",
    "from openpyxl.styles import Alignment\n",
    "\n",
    "# Iterate through all sheets\n",
    "for sheet in wb.sheetnames:\n",
    "    ws = wb[sheet]\n",
    "    ws.sheet_view.zoomScale = 90 # set zoomSale 90% for all sheets\n",
    "    max_column = ws.max_column    \n",
    "    \n",
    "    # Set the alignment for each cell in row 3\n",
    "    for column in range(1, max_column + 1):\n",
    "        cell = ws.cell(row=3, column=column)\n",
    "        alignment = Alignment(horizontal='center', vertical='center', wrap_text=True)\n",
    "        cell.alignment = alignment\n",
    "\n",
    "        # Set the column height and width\n",
    "        ws.row_dimensions[3].height = 95\n",
    "        ws.column_dimensions[get_column_letter(column)].width = 11\n",
    "    \n",
    "    column_widths = {'A': 5,'B': 6,'C': 40}\n",
    "    for column, width in column_widths.items():\n",
    "        ws.column_dimensions[column].width = width\n",
    "\n",
    "    sheet_to_modify = ['Chi Tiet','KV ĐNB+Tây Nguyên','KV Miền Trung','KV Phía Bắc','KV Hồ Chí Minh','KV Tây Nam Bộ']\n",
    "    columns_to_modify = ['F','BJ','BK','BN','BO','CF','CG','CZ','MM','MN','MO','MQ','MR','MS','NI']\n",
    "    \n",
    "    for sheet_name in sheet_to_modify:\n",
    "        ws = wb[sheet_name]\n",
    "        for column in columns_to_modify:\n",
    "            ws.column_dimensions[column].width = 13\n",
    "\n",
    "# Save the modified workbook\n",
    "wb.save(new_filename)\n"
   ]
  },
  {
   "cell_type": "markdown",
   "id": "4be47a85",
   "metadata": {},
   "source": [
    "# THÊM CÁC CHỮ CHÚ THÍCH PHÍA TRÊN TÊN CỘT"
   ]
  },
  {
   "cell_type": "code",
   "execution_count": 132,
   "id": "0166c6ff",
   "metadata": {},
   "outputs": [],
   "source": [
    "# Xác định font Myriad Pro, in đậm và size 12\n",
    "font= Font(name='Myriad Pro', bold=True, size=11, color=\"FF0000\")\n",
    "# Xác định các nội dung tương ứng từng Ô:\n",
    "cell_data = [\n",
    "    ('GW2', 'THU THUẦN TỪ DỊCH VỤ'), ('HR2', 'THU KINH DOANH NGOẠI TỆ'), ('II2', 'DOANH SỐ MUA BÁN NGOẠI TỆ(TRIỆU USD)'),\n",
    "    ('IZ2', 'DOANH SỐ BẢO HIỂM NHÂN THỌ(TỶ ĐỒNG)'), ('JU2', 'DOANH SỐ TTQT'), ('KH2', 'THU HỘ TRÁI PHIẾU'),\n",
    "    ('KY2', 'SỐ LƯỢNG KHDN LŨY KẾ'), ('LC2', 'QUẢN LÝ TIỀN MẶT LŨY KẾ'), ('LG2', 'SL KHDN CHUỖI'), ('LK2', 'IBK'),\n",
    "    ('LO2', 'DƯ NỢ TÍN DỤNG CHUỖI'), ('LS2', 'KHÁCH HÀNG TÍN DỤNG (KHDN)'), ('LW2', 'SỐ LƯỢNG KHDN PAYROLL'),\n",
    "    ('MA2', 'SL TK KHCN NHẬN LƯƠNG PAYROLL'), ('MF2', 'SỐ LƯỢNG KH CHO VAY SME'), ('MH2', 'SỐ LƯỢNG KH D NGHIỆP CIB'),\n",
    "    ('MM2', 'SỐ LƯỢNG KH CÁ NHÂN'), ('MQ2', 'SỐ LƯỢNG NGƯỜI DÙNG KÊNH SỐ'), ('MU2', 'KH CN BÁN CHÉO CHO KH DOANH NGHIỆP'),\n",
    "    ('MY2', 'TỶ LỆ GIAO DỊCH QUA KÊNH SỐ'), ('NC2', 'SỐ LƯỢNG ĐIỂM LẺ CHUỖI'), ('NH2', 'SL THẺ GHI NỢ_LŨY KẾ'), \n",
    "    ('NL2', 'SL THẺ TÍN DỤNG_LŨY KẾ')\n",
    "]\n",
    "\n",
    "# xác định các shet cần thay đổi\n",
    "sheets_to_modify=['Chi Tiet', 'KV ĐNB+Tây Nguyên', 'KV Miền Trung', 'KV Phía Bắc', 'KV Hồ Chí Minh', 'KV Tây Nam Bộ']\n",
    "\n",
    "for sheet in sheets_to_modify:\n",
    "    ws=wb[sheet]\n",
    "    # xóa các giá trị font cũ trong các ô\n",
    "    for row in ws.iter_rows(min_row=2, max_row=2):\n",
    "        for cell in row:\n",
    "            cell.font = Font()\n",
    "\n",
    "for sheet in sheets_to_modify:\n",
    "    ws=wb[sheet]\n",
    "    # Iterate over the cell data and set the values and font formatting\n",
    "    for cell, value in cell_data:\n",
    "        ws[cell].value = value\n",
    "        ws[cell].font = font\n",
    "\n",
    "# Save the changes to the Excel file\n",
    "wb.save(new_filename)"
   ]
  },
  {
   "cell_type": "code",
   "execution_count": 133,
   "id": "5d730731",
   "metadata": {},
   "outputs": [],
   "source": [
    "# Xác định font Myriad Pro, in đậm và size 11\n",
    "font= Font(name='Myriad Pro', bold=True, size=11, color=\"FF0000\")\n",
    "\n",
    "# select sheet:\n",
    "ws=wb['CMB']\n",
    "selected_cols=['S','T']\n",
    "for col in selected_cols:\n",
    "    ws.column_dimensions[col].width=13.6\n",
    "\n",
    "# xóa các giá trị font cũ trong các ô\n",
    "for row in ws.iter_rows(min_row=2, max_row=2):\n",
    "    for cell in row:\n",
    "        cell.font = Font()\n",
    "cell_values = [\n",
    "    ('AT2', 'THU THUẦN TỪ DỊCH VỤ CMB'), ('AX2', 'THU KINH DOANH NGOẠI TỆ CMB'), ('BB2', 'DOANH SỐ MUA/BÁN NGOẠI TỆ_TRIỆU USD CMB'),\n",
    "    ('BF2', 'DOANH SỐ BẢO HIỂM NHÂN THỌ_TỶ ĐỒNG CMB'), ('BJ2', 'DOANH SỐ TTQT CMB'), ('BN2', 'THU HỘ TRÁI PHIẾU CMB'),\n",
    "    ('BR2', 'SỐ LƯỢNG KH D.NGHIỆP CMB'), ('BV2', 'QUẢN LÝ TIỀN MẶT LŨY KẾ'), ('BZ2', 'SL KHDN CHUỖI'), ('CD2', 'IBK'),\n",
    "    ('CH2', 'DỰ NỢ TÍN DỤNG CHUỖI'), ('CL2', 'KHÁCH HÀNG TÍN DỤNG (KHDN)'), ('CP2', 'SỐ LƯỢNG KHDN PAYROLL'),\n",
    "    ('CT2', 'SL TK KHCN NHẬN LƯƠNG PAYROLL'), ('CX2', 'SỐ LƯỢNG KH')\n",
    "]\n",
    "\n",
    "for cell, value in cell_values:\n",
    "    ws[cell].value = value\n",
    "    ws[cell].font = font\n",
    "\n",
    "# select sheet:\n",
    "ws=wb['CIB']\n",
    "selected_cols=['S','T']\n",
    "for col in selected_cols:\n",
    "    ws.column_dimensions[col].width=13.6\n",
    "\n",
    "# xóa các giá trị font cũ trong các ô\n",
    "for row in ws.iter_rows(min_row=2, max_row=2):\n",
    "    for cell in row:\n",
    "        cell.font = Font()\n",
    "cell_values = [('AT2', 'THU THUẦN TỪ DỊCH VỤ CIB'), ('AX2', 'THU KINH DOANH NGOẠI TỆ CIB'), \n",
    "               ('BB2', 'DOANH SỐ MUA/BÁN NGOẠI TỆ_TRIỆU USD CIB'), ('BF2', 'DOANH SỐ BẢO HIỂM NHÂN THỌ_TỶ ĐỒNG CIB'),\n",
    "               ('BJ2', 'DOANH SỐ TTQT CIB'), ('BN2', 'THU HỘ TRÁI PHIẾU CIB'), ('BR2', 'SỐ LƯỢNG KH D.NGHIỆP CIB')]\n",
    "\n",
    "for cell, value in cell_values:\n",
    "    ws[cell].value = value\n",
    "    ws[cell].font = font\n",
    "\n",
    "# select sheet:\n",
    "ws=wb['THE']\n",
    "# xóa các giá trị font cũ trong các ô\n",
    "for row in ws.iter_rows(min_row=2, max_row=2):\n",
    "    for cell in row:\n",
    "        cell.font = Font()\n",
    "\n",
    "cell_values = [('AA2', 'THU THUẦN TỪ DỊCH VỤ THẺ'), ('AE2', 'DOANH SỐ BẢO HIỂM NHÂN THỌ_TỶ ĐỒNG'),\n",
    "    ('AI2', 'SL THẺ GHI NỢ_LŨY KẾ'), ('AM2', 'SL THẺ TÍN DỤNG_LŨY KẾ')]\n",
    "\n",
    "for cell, value in cell_values:\n",
    "    ws[cell].value = value\n",
    "    ws[cell].font = font\n",
    "\n",
    "# select sheet:\n",
    "ws=wb['CN']\n",
    "selected_cols=['X','Y','Z']\n",
    "for col in selected_cols:\n",
    "    ws.column_dimensions[col].width=13.6\n",
    "\n",
    "# xóa các giá trị font cũ trong các ô\n",
    "for row in ws.iter_rows(min_row=2, max_row=2):\n",
    "    for cell in row:\n",
    "        cell.font = Font()\n",
    "cell_values = {\n",
    "    'AY2': 'THU THUẦN TỪ DỊCH VỤ CN', 'BC2': 'THU KINH DOANH NGOẠI TỆ CIB',\n",
    "    'BG2': 'DOANH SỐ MUA/BÁN NGOẠI TỆ_TRIỆU USD CIB', 'BK2': 'DOANH SỐ BẢO HIỂM NHÂN THỌ_TỶ ĐỒNG CN',\n",
    "    'BO2': 'THU HỘ TRÁI PHIẾU CIB', 'BS2': 'SỐ LƯỢNG KH CÁ NHÂN', 'BW2': 'SỐ LƯỢNG NGƯỜI DÙNG KÊNH SỐ',\n",
    "    'CA2': 'KH CN BÁN CHÉO CHO KH DOANH NGHIỆP', 'CE2': 'TỶ LỆ GIAO DỊCH QUA KÊNH SỐ', 'CI2': 'SỐ LƯỢNG ĐIỂM LẺ CHUỖI', \n",
    "    'CL1': 'CÁC CHỈ TIÊU KHÁC TTT', 'CL2': 'SL THẺ GHI NỢ_LŨY KẾ', 'CP2': 'SL THẺ TÍN DỤNG_LŨY KẾ'\n",
    "}\n",
    "\n",
    "for cell, value in cell_values.items():\n",
    "    ws[cell].value = value\n",
    "    ws[cell].font = font\n",
    "\n",
    "\n",
    "# Save the changes to the Excel file\n",
    "wb.save(new_filename)"
   ]
  },
  {
   "cell_type": "markdown",
   "id": "fe6c4f8d",
   "metadata": {},
   "source": [
    "## CẬP NHẬP CHỨNG TỪ CÓ GIÁ CỦA ALM VÀO Ô BK1 VÀ Ô E1"
   ]
  },
  {
   "cell_type": "code",
   "execution_count": 134,
   "id": "66d8f9db",
   "metadata": {},
   "outputs": [],
   "source": [
    "# tìm các cột có SBV Code chứa số 43 ở đầu trong dữ liệu\n",
    "df=gl101[gl101['SBV_CODE'].astype(str).str.startswith('43')]\n",
    "# Tổng cột CR_CLOS trừ cho tổng cột DR_CLOS và quy đổi thành đơn vị tỷ đồng\n",
    "a=(df.CR_CLOS.sum()-df.DR_CLOS.sum())/billion\n",
    "\n",
    "# lưu file vào biến alm\n",
    "# đọc dữ liệu file \"43 44\"\n",
    "df=pd.read_excel(info_filename,sheet_name='TK 43 44')\n",
    "# tìm các cột có SBV Code chứa số 243 ở đầu trong dữ liệu\n",
    "df=df[df['GL_CODE'].astype(str).str.startswith('243')]\n",
    "# cột CN bỏ \"001\"\n",
    "df=df[df.CN!=1]\n",
    "# Tính tổng cột SODU_QD\n",
    "df.SODU_QD.sum()\n",
    "# Quy đổi thành tỷ đồng\n",
    "b=df.SODU_QD.sum()/billion\n",
    "\n",
    "# Số liệu vốn Ủy thác tổng 3 cột Ủy thác của 3 khối trong file Ủy thác\n",
    "c=UT.UTSME.sum()+UT.UTCN.sum()+UT.UTCIB.sum()\n",
    "# Tổng số Chứng từ có giá:\n",
    "CTCG=a-b-c\n",
    "\n",
    "# Xác định font in đậm\n",
    "bold_font= Font(bold=True)\n",
    "# Set the font size of cell A1 to 18\n",
    "font = Font(name='Myriad Pro', size=18, bold=True)\n",
    "\n",
    "# Loop through all sheets in the workbook\n",
    "for sheet_name in wb.sheetnames:\n",
    "    sheet = wb[sheet_name]\n",
    "    sheet['A1'] = f'BÁO CÁO NGÀY {date_str}'\n",
    "    sheet['A1'].font=bold_font\n",
    "    sheet['A1'].font = font\n",
    "\n",
    "# chọn sheet chi tiet để thêm các dữ liệu\n",
    "ws=wb['Chi Tiet']\n",
    "ws['G1'].value = 'GTCG của ALM'\n",
    "ws['F1'].value = CTCG\n",
    "ws['F1'].number_format='#,##0.0'\n",
    "\n",
    "ws['E1'].value = CTCG\n",
    "ws['E1'].number_format='#,##0.0'\n",
    "\n",
    "ws['BL1'].value = 'TPDN phòng đầu tư'\n",
    "ws['BK1'].value = BK1\n",
    "ws['BK1'].number_format='#,##0.0'\n",
    "\n",
    "# ô BK2 (dư nợ cho vay của Muadee)\n",
    "ws['BL2'].value = 'Dư nợ cho vay của Muadee'\n",
    "ws['BL2'].font=Font(name='Myriad Pro', size=10)\n",
    "ws['BK2'].value = BK2\n",
    "ws['BK2'].font=Font(name='Myriad Pro', size=10)\n",
    "ws['BK2'].number_format='#,##0.0'\n",
    "# In đậm ô A1 này trong file excel\n",
    "ws['A1'].font=bold_font\n",
    "# Set size 18 trong ô A1\n",
    "ws['A1'].font = font\n",
    "\n",
    "# Save the workbook\n",
    "wb.save(new_filename)"
   ]
  },
  {
   "cell_type": "markdown",
   "id": "92cbf30a",
   "metadata": {},
   "source": [
    "# IN ĐẬM CỤM CN VÀ PGD ĐẶC THÙ CHO TẤT CẢ CÁC SHEET"
   ]
  },
  {
   "cell_type": "code",
   "execution_count": 135,
   "id": "e840903c",
   "metadata": {},
   "outputs": [],
   "source": [
    "# danh sách các đơn vị và cụm đơn vị: \n",
    "df=pd.read_excel(info_filename)\n",
    "df[df.CUM.notnull()].CUM\n",
    "# các string cần tìm trong list \n",
    "search_strings=df[df.CUM.notnull()].CUM.drop_duplicates().tolist()"
   ]
  },
  {
   "cell_type": "code",
   "execution_count": 136,
   "id": "35802dbc",
   "metadata": {
    "scrolled": true
   },
   "outputs": [],
   "source": [
    "# Define a list of search strings\n",
    "search_strings = df[df.CUM.notnull()].CUM.drop_duplicates().tolist()\n",
    "\n",
    "# Open the Excel file\n",
    "wb = openpyxl.load_workbook(new_filename)\n",
    "\n",
    "# Loop through each sheet in the workbook\n",
    "for sheet in wb.sheetnames:\n",
    "    # Select the current sheet\n",
    "    ws = wb[sheet]\n",
    "\n",
    "    # Create a Font object with bold=True\n",
    "    bold_font = Font(bold=True)\n",
    "\n",
    "    # Create an empty list to store the row numbers\n",
    "    matching_rows = []\n",
    "\n",
    "    # Iterate through the rows in the worksheet\n",
    "    for row_number, row in enumerate(ws.iter_rows(min_row=2, min_col=2, values_only=True), start=2):\n",
    "        # Check if any of the search strings appear in the current row\n",
    "        if any(string in str(cell) for string in search_strings for cell in row):\n",
    "            # If a match is found, append the row number to the list of matching rows\n",
    "            matching_rows.append(row_number)\n",
    "\n",
    "    # Apply the bold font to the matching rows\n",
    "    for row_number in matching_rows:\n",
    "        for cell in ws[row_number]:\n",
    "            cell.font = bold_font\n",
    "\n",
    "# Save the changes to the Excel file\n",
    "wb.save(new_filename)\n"
   ]
  },
  {
   "cell_type": "markdown",
   "id": "f26ab7a5",
   "metadata": {},
   "source": [
    "# TÔ MÀU CHO BÁO CÁO"
   ]
  },
  {
   "cell_type": "code",
   "execution_count": 137,
   "id": "fd7c9185",
   "metadata": {},
   "outputs": [],
   "source": [
    "# TÔ MÀU CHO CÁC Ô DÒNG THỨ 3 PHÂN LOẠI SME, CIB, CN, THE\n",
    "from openpyxl.utils import get_column_letter\n",
    "from openpyxl.styles import PatternFill\n",
    "# mở file excel Báo Cáo ngày\n",
    "wb=load_workbook(new_filename)\n",
    "\n",
    "# Define colors\n",
    "CMB_color = 'f9be8b'\n",
    "CIB_color = '92cddc'\n",
    "CN_color = 'b1a0c7'\n",
    "Th_color = 'bfbfbf'\n",
    "\n",
    "# Iterate over all sheets\n",
    "for sheet in wb:\n",
    "    # Define partial strings to search for\n",
    "    partial_strings = {'CMB': CMB_color, 'CIB': CIB_color, 'CN': CN_color, 'Thẻ': Th_color}\n",
    "    \n",
    "    # Search for the partial strings in the 5th row of the sheet\n",
    "    for cell in sheet[3]:\n",
    "        if cell.value is not None:\n",
    "            cell_value_lower = str(cell.value).lower()\n",
    "            for partial_string, color in partial_strings.items():\n",
    "                if partial_string.lower() in cell_value_lower:\n",
    "                    col_letter = get_column_letter(cell.column)\n",
    "                    cell_range = f'{col_letter}3'\n",
    "                    sheet[cell_range].fill = PatternFill(start_color=color, end_color=color, fill_type='solid')\n",
    "\n",
    "# Save the modified workbook\n",
    "wb.save(new_filename)"
   ]
  },
  {
   "cell_type": "code",
   "execution_count": 138,
   "id": "4181fbbb",
   "metadata": {},
   "outputs": [],
   "source": [
    "# TÔ MÀU CHO CÁC Ô TỪ DÒNG 4 TỚI MAX ROW\n",
    "import openpyxl\n",
    "from openpyxl.styles import PatternFill\n",
    "from openpyxl.utils import get_column_letter\n",
    "\n",
    "# Load the Excel file\n",
    "wb=load_workbook(new_filename)\n",
    "\n",
    "# Define colors\n",
    "CMB_color = 'FDE9D9'\n",
    "CIB_color = 'DAEEF3'\n",
    "CN_color = 'E4DFEC'\n",
    "Th_color = 'F2F2F2'\n",
    "\n",
    "# Iterate over all sheets\n",
    "for sheet in wb:# Save the modified workbook\n",
    "    # Define partial strings to search for in row 3\n",
    "    partial_strings = {'CMB': CMB_color, 'CIB': CIB_color, 'CN': CN_color, 'Thẻ': Th_color}\n",
    "    \n",
    "    # Search for the partial strings in row 3 of the sheet\n",
    "    for cell in sheet[3]:\n",
    "        if cell.value is not None:\n",
    "            cell_value_lower = str(cell.value).lower()\n",
    "            for partial_string, color in partial_strings.items():\n",
    "                if partial_string.lower() in cell_value_lower:\n",
    "                    col_letter = get_column_letter(cell.column)\n",
    "                    for row in sheet.iter_rows(min_row=4, max_col=sheet.max_column, max_row=sheet.max_row):\n",
    "                        cell_range = f'{col_letter}{row[0].row}'\n",
    "                        sheet[cell_range].fill = PatternFill(start_color=color, end_color=color, fill_type='solid')\n",
    "\n",
    "# Save the modified workbook\n",
    "wb.save(new_filename)"
   ]
  },
  {
   "cell_type": "code",
   "execution_count": 139,
   "id": "3d11c015",
   "metadata": {},
   "outputs": [],
   "source": [
    "# TÔ MÀU CHO CÁC Ô TIÊU ĐỀ\n",
    "from openpyxl import load_workbook\n",
    "from openpyxl.styles import PatternFill\n",
    "\n",
    "# Define the fill colors and columns to fill\n",
    "fill_color_dict = {\n",
    "    'ffff99': ['F','H','BJ','BK','BM'],\n",
    "    'ffffdd': ['FY','FZ','GA','GB','GC','GD','GE'],\n",
    "    'e6b8b7': ['EN','EO','EP','EQ','ER'],\n",
    "    'b8cce4': ['GW','GX','GY','GZ'],\n",
    "    'd8e4bc': ['HR','HS','HT','HU','IZ','JA','JB','JC'],\n",
    "    'd9d9d9': ['II','IJ','IK','IL','MM','MN', 'MO','MP'],\n",
    "    'fcd5b4': ['JU','JV','JW','JX'],\n",
    "    'b7dee8': ['KH','KI','KJ','KK'],\n",
    "    'fde9d9': ['KY','KZ','LA','LB','LW','LX','LY','LZ'],\n",
    "    'f2f2f2': ['LC','LD','LE','LF'],\n",
    "    'dce6f1': ['LG','LH','LI','LJ','MH','MI','MJ','MK'],\n",
    "    'daeef3': ['LK','LL','LM','LN','MU','MV','MW','MX'],\n",
    "    'f2dcdb': ['LO','LP','LQ','LR'],\n",
    "    'ddd9c4': ['LS','LT','LU','LV','NC','ND','NE','NF'],\n",
    "    'e4dfec': ['MF','NH','NI','NJ','NK','MY','MZ','NA','NB'],\n",
    "    'c5d9f1': ['MQ','MR','MS','MT']\n",
    "}\n",
    "\n",
    "sheets_to_modify=[]\n",
    "for sheet in wb.sheetnames:\n",
    "    if sheet not in ['CMB','CIB','THE','CN']:\n",
    "        sheets_to_modify.append(sheet)\n",
    "\n",
    "# Loop through each sheet in the workbook\n",
    "for sheet in sheets_to_modify:\n",
    "    ws=wb[sheet]\n",
    "    # Loop through each fill color and column combination\n",
    "    for fill_color, columns in fill_color_dict.items():\n",
    "        # Create a PatternFill object with the current fill color\n",
    "        fill = PatternFill(start_color=fill_color, end_color=fill_color, fill_type='solid')\n",
    "        # Loop through each column in the current combination\n",
    "        for column in columns:\n",
    "            # Get the cell in row 3 of the current column\n",
    "            cell = ws[column + '3']\n",
    "            # Set the fill color of the cell\n",
    "            cell.fill = fill\n",
    "\n",
    "# Save the modified workbook\n",
    "wb.save(new_filename)"
   ]
  },
  {
   "cell_type": "code",
   "execution_count": 140,
   "id": "ccb3aa5c",
   "metadata": {},
   "outputs": [],
   "source": [
    "# # TÔ MÀU CHO CÁC ĐƠN VỊ LỚN TRONG KHU VỰC\n",
    "from openpyxl.utils import get_column_letter\n",
    "from openpyxl.styles import PatternFill\n",
    "\n",
    "# Read the dataframe\n",
    "df=pd.read_excel(info_filename)\n",
    "df=df[df['KV TYPE 2'].notnull()][['KV TYPE 2','CUM']]\n",
    "\n",
    "# Define the fill colors\n",
    "KV1_fill = PatternFill(start_color='e6b8b7', end_color='e6b8b7', fill_type='solid')\n",
    "KV2_fill = PatternFill(start_color='c4d79b', end_color='c4d79b', fill_type='solid')\n",
    "KV3_fill = PatternFill(start_color='ffff99', end_color='ffff99', fill_type='solid')\n",
    "KV4_fill = PatternFill(start_color='ccc0da', end_color='ccc0da', fill_type='solid')\n",
    "KV5_fill = PatternFill(start_color='b7dee8', end_color='b7dee8', fill_type='solid')\n",
    "\n",
    "# Create a dictionary to store the list of strings to find for each KV TYPE 2 value\n",
    "dfs={}\n",
    "for i in df['KV TYPE 2'].unique():\n",
    "    dfs[i]=df[df['KV TYPE 2']==i]['CUM'].tolist()\n",
    "\n",
    "# Iterate through all sheets of the Excel file\n",
    "for sheet in wb.worksheets:\n",
    "    # Iterate through all rows of column C\n",
    "    for row in range(1, sheet.max_row + 1):\n",
    "        # Iterate through all KV TYPE 2 values\n",
    "        for kv_type, strings_to_find in dfs.items():\n",
    "            # Check if the cell value in column C is in the list of strings to find for this KV TYPE 2 value\n",
    "            if sheet.cell(row=row, column=2).value in strings_to_find:\n",
    "                # Set the fill color based on the KV TYPE 2 value\n",
    "                if kv_type == 'KV1':\n",
    "                    fill_color = KV1_fill\n",
    "                elif kv_type == 'KV2':\n",
    "                    fill_color = KV2_fill\n",
    "                elif kv_type == 'KV3':\n",
    "                    fill_color = KV3_fill\n",
    "                elif kv_type == 'KV4':\n",
    "                    fill_color = KV4_fill\n",
    "                elif kv_type == 'KV5':\n",
    "                    fill_color = KV5_fill\n",
    "                # Set the fill color for the cell\n",
    "                col_letter = get_column_letter(3)\n",
    "                cell_range = f'{col_letter}{row}'\n",
    "                sheet[cell_range].fill = fill_color\n",
    "\n",
    "# Save the changes to the Excel file\n",
    "wb.save(new_filename)"
   ]
  },
  {
   "cell_type": "code",
   "execution_count": 141,
   "id": "0589eb28",
   "metadata": {},
   "outputs": [],
   "source": [
    "# TÔ MÀU VÀNG CHO DÒNG \"TOÀN HÀNG\" CHO TẤT CẢ CÁC SHEET\n",
    "from openpyxl.styles import PatternFill\n",
    "\n",
    "# Define the color\n",
    "color = 'FFFFCC'\n",
    "# Define the row number\n",
    "row_num = 4\n",
    "# Define the Bold font\n",
    "font = Font(bold=True)\n",
    "\n",
    "# Loop through each sheet name\n",
    "for sheet_name in [\"Chi Tiet\",\"CMB\",\"CIB\",\"CN\",\"THE\"]:\n",
    "\n",
    "    # Select the sheet\n",
    "    sheet = wb[sheet_name]\n",
    "\n",
    "    # Get the maximum column in the sheet\n",
    "    max_col = sheet.max_column\n",
    "\n",
    "    # Create a PatternFill object with the specified color\n",
    "    fill = PatternFill(start_color=color, end_color=color, fill_type='solid')\n",
    "\n",
    "    # Loop through each column in the row and set the fill color and font style\n",
    "    for col in range(1, max_col+1):\n",
    "        cell = sheet.cell(row=row_num, column=col)\n",
    "        cell.fill = fill\n",
    "        cell.font = font\n",
    "\n",
    "# Save the changes to the Excel file\n",
    "wb.save(new_filename)"
   ]
  },
  {
   "cell_type": "code",
   "execution_count": 142,
   "id": "996a74bf",
   "metadata": {},
   "outputs": [],
   "source": [
    "# TÔ MÀU VÀNG CHO DÒNG KHU VỰC CHO TỪNG SHEET\n",
    "# Select the sheet\n",
    "sheet = wb['KV Hồ Chí Minh']\n",
    "# Define the row number\n",
    "row_num = 4\n",
    "# Get the maximum column in the sheet\n",
    "max_col = sheet.max_column\n",
    "\n",
    "# Create a PatternFill object with the specified color\n",
    "fill = PatternFill(start_color=color, end_color=color, fill_type='solid')\n",
    "\n",
    "# Loop through each column in the row and set the fill color and font style\n",
    "for col in range(1, max_col+1):\n",
    "    cell = sheet.cell(row=row_num, column=col)\n",
    "    cell.fill = fill\n",
    "    cell.font = font\n",
    "\n",
    "# Select the sheet\n",
    "sheet = wb['KV Tây Nam Bộ']\n",
    "# Define the row number\n",
    "row_num = 4\n",
    "# Get the maximum column in the sheet\n",
    "max_col = sheet.max_column\n",
    "\n",
    "# Create a PatternFill object with the specified color\n",
    "fill = PatternFill(start_color=color, end_color=color, fill_type='solid')\n",
    "\n",
    "# Loop through each column in the row and set the fill color and font style\n",
    "for col in range(1, max_col+1):\n",
    "    cell = sheet.cell(row=row_num, column=col)\n",
    "    cell.fill = fill\n",
    "    cell.font = font\n",
    "\n",
    "# Select the sheet\n",
    "sheet = wb['KV ĐNB+Tây Nguyên']\n",
    "# Define the row number\n",
    "row_nums = [4,5,6]\n",
    "# Get the maximum column in the sheet\n",
    "max_col = sheet.max_column\n",
    "\n",
    "# Create a PatternFill object with the specified color\n",
    "fill = PatternFill(start_color=color, end_color=color, fill_type='solid')\n",
    "\n",
    "# Loop through each column in the row and set the fill color and font style\n",
    "for row_num in row_nums:\n",
    "    for col in range(1, max_col+1):\n",
    "        cell = sheet.cell(row=row_num, column=col)\n",
    "        cell.fill = fill\n",
    "        cell.font = font\n",
    "\n",
    "# Select the sheet\n",
    "sheet = wb['KV Miền Trung']\n",
    "# Define the row number\n",
    "row_nums = [4,5]\n",
    "# Get the maximum column in the sheet\n",
    "max_col = sheet.max_column\n",
    "\n",
    "# Create a PatternFill object with the specified color\n",
    "fill = PatternFill(start_color=color, end_color=color, fill_type='solid')\n",
    "\n",
    "# Loop through each column in the row and set the fill color and font style\n",
    "for row_num in row_nums:\n",
    "    for col in range(1, max_col+1):\n",
    "        cell = sheet.cell(row=row_num, column=col)\n",
    "        cell.fill = fill\n",
    "        cell.font = font\n",
    "        \n",
    "# Select the sheet\n",
    "sheet = wb['KV Phía Bắc']\n",
    "# Define the row number\n",
    "row_nums = [4,5,6]\n",
    "# Get the maximum column in the sheet\n",
    "max_col = sheet.max_column\n",
    "\n",
    "# Create a PatternFill object with the specified color\n",
    "fill = PatternFill(start_color=color, end_color=color, fill_type='solid')\n",
    "\n",
    "# Loop through each column in the row and set the fill color and font style\n",
    "for row_num in row_nums:\n",
    "    for col in range(1, max_col+1):\n",
    "        cell = sheet.cell(row=row_num, column=col)\n",
    "        cell.fill = fill\n",
    "        cell.font = font\n",
    "\n",
    "# Save the changes to the Excel file\n",
    "wb.save(new_filename)"
   ]
  },
  {
   "cell_type": "code",
   "execution_count": 143,
   "id": "e6b82886",
   "metadata": {},
   "outputs": [],
   "source": [
    " # tô màu trắng cho các ô B4, B18, B19, and B20\n",
    "sheets=['Chi Tiet','CMB','CIB','CN','THE']\n",
    "for sheet_name in sheets:\n",
    "    ws=wb[sheet_name]\n",
    "    for cell in ['B4','B18', 'B19', 'B20']:\n",
    "        ws[cell].font = Font(color=\"FFFFFF\")\n",
    "\n",
    "# Save the workbook\n",
    "wb.save(new_filename)"
   ]
  },
  {
   "cell_type": "markdown",
   "id": "11b3c63d",
   "metadata": {},
   "source": [
    "# TẠO CÁC NÚT GROUPING CHO FILE EXCEL"
   ]
  },
  {
   "cell_type": "code",
   "execution_count": 144,
   "id": "2c4b0330",
   "metadata": {},
   "outputs": [],
   "source": [
    "from openpyxl.utils import get_column_letter, column_index_from_string\n",
    "\n",
    "sheets_to_modify=['Chi Tiet', 'KV ĐNB+Tây Nguyên', 'KV Miền Trung', 'KV Phía Bắc', 'KV Hồ Chí Minh', 'KV Tây Nam Bộ']\n",
    "# Define the column ranges to group\n",
    "column_ranges = [(\"D\", \"E\"),(\"K\", \"U\"),(\"Z\", \"AJ\"),(\"AM\", \"AN\"),(\"AP\", \"BA\"),(\"BH\", \"BI\"),(\"BQ\", \"CC\"),(\"CI\", \"CU\"),\n",
    "          (\"CX\", \"CY\"),(\"DB\", \"DM\"),(\"DR\", \"EB\"),(\"EE\", \"EM\"),(\"ES\", \"FX\"),(\"GR\", \"GU\"),(\"HA\", \"HP\"),(\"HV\", \"IG\"),\n",
    "          (\"IM\", \"IX\"),(\"JD\", \"JS\"),(\"JY\", \"KF\"),(\"KL\", \"KW\")]\n",
    "# Loop through all sheets in the workbook\n",
    "for sheet_name in sheets_to_modify:\n",
    "    sheet = wb[sheet_name]\n",
    "    \n",
    "    # Loop through the column ranges to group\n",
    "    for start_column, end_column in column_ranges:\n",
    "        start_column_index = column_index_from_string(start_column)\n",
    "        end_column_index = column_index_from_string(end_column)\n",
    "                \n",
    "        # Group the columns\n",
    "        sheet.column_dimensions.group(get_column_letter(start_column_index), get_column_letter(end_column_index), hidden=True)\n",
    "\n",
    "# Save the changes to the Excel file\n",
    "wb.save(new_filename)\n"
   ]
  },
  {
   "cell_type": "code",
   "execution_count": 145,
   "id": "a66b0754",
   "metadata": {},
   "outputs": [],
   "source": [
    "# CHỌN SHEET CN\n",
    "ws=wb['CN']\n",
    "ws.column_dimensions.group(start='D', end='E', hidden=True)\n",
    "ws.column_dimensions.group(start='G', end='Q', hidden=True)\n",
    "ws.column_dimensions.group(start='AB', end='AM', hidden=True)\n",
    "ws.column_dimensions.group(start='AP', end='AV', hidden=True)\n",
    "ws.column_dimensions['F'].width = 11\n",
    "# CHỌN SHEET CIB\n",
    "ws=wb['CIB']\n",
    "ws.column_dimensions.group(start='F', end='P', hidden=True)\n",
    "ws.column_dimensions.group(start='V', end='AH', hidden=True)\n",
    "ws.column_dimensions.group(start='AK', end='AQ', hidden=True)\n",
    "# CHỌN SHEET CMB\n",
    "ws=wb['CMB']\n",
    "ws.column_dimensions.group(start='F', end='P', hidden=True)\n",
    "ws.column_dimensions.group(start='V', end='AH', hidden=True)\n",
    "ws.column_dimensions.group(start='AK', end='AQ', hidden=True)\n",
    "ws=wb['THE']\n",
    "ws.column_dimensions.group(start='F', end='P', hidden=True)\n",
    "ws.column_dimensions.group(start='S', end='X', hidden=True)\n",
    "# Save the changes to the Excel file\n",
    "wb.save(new_filename)"
   ]
  },
  {
   "cell_type": "code",
   "execution_count": 146,
   "id": "f5bf1a45",
   "metadata": {},
   "outputs": [],
   "source": [
    "# TẠO CÁC NÚT GROUPING CHO CÁC DÒNG 5-11 và 21-23\n",
    "sheets_to_modify=['Chi Tiet', 'CMB', 'CIB', 'CN', 'THE']\n",
    "\n",
    "# Loop through all sheets\n",
    "for sheet_name in sheets_to_modify:\n",
    "    # Select the sheet\n",
    "    ws = wb[sheet_name]\n",
    "\n",
    "    # Add grouping buttons to rows 5-11 and 21-23\n",
    "    ws.row_dimensions.group(5, 11, hidden=True)\n",
    "    ws.row_dimensions.group(21, 25, hidden=True)\n",
    "\n",
    "ws=wb['KV Phía Bắc']\n",
    "ws.row_dimensions.group(4, 5, hidden=True)\n",
    "\n",
    "ws=wb['KV ĐNB+Tây Nguyên']\n",
    "ws.row_dimensions.group(4, 5, hidden=True)\n",
    "ws.row_dimensions.group(7, 9, hidden=True)\n",
    "\n",
    "ws=wb['KV Miền Trung']\n",
    "ws.row_dimensions.group(4, 4, hidden=True)\n",
    "\n",
    "ws=wb['KV Hồ Chí Minh']\n",
    "ws.row_dimensions.group(5, 6, hidden=True)\n",
    "# Save the changes to the Excel file\n",
    "wb.save(new_filename)"
   ]
  },
  {
   "cell_type": "markdown",
   "id": "0f01d82a",
   "metadata": {},
   "source": [
    "# TẠO DẤU PHÂN CÁCH HÀNG NGÀN CHO CÁC SHEET DỮ LIỆU"
   ]
  },
  {
   "cell_type": "code",
   "execution_count": 147,
   "id": "1886b0d2",
   "metadata": {},
   "outputs": [],
   "source": [
    "# Loop through each sheet in the workbook\n",
    "for sheet in wb.sheetnames:\n",
    "    # Select the current sheet\n",
    "    ws = wb[sheet]\n",
    "\n",
    "    # Find the max column number\n",
    "    max_col = ws.max_column\n",
    "\n",
    "    # Set the decimal comma for columns 4 to max_col\n",
    "    for col in range(4, max_col + 1):\n",
    "        col_letter = openpyxl.utils.get_column_letter(col)\n",
    "        for row in range(1, ws.max_row + 1):\n",
    "            cell = ws[f\"{col_letter}{row}\"]\n",
    "            if cell.data_type == \"n\":\n",
    "                cell.number_format = \"#,##0.0\"\n",
    "\n",
    "# TẠO FREEZE CHO DÒNG VÀ CỘT\n",
    "# Iterate through each worksheet in the workbook\n",
    "for sheet in wb.worksheets:\n",
    "    # Set the freeze panes to freeze the first three columns (A, B, and C) and the fifth row\n",
    "    sheet.freeze_panes = 'D4'\n",
    "\n",
    "# Save the changes to the Excel file\n",
    "wb.save(new_filename)"
   ]
  },
  {
   "cell_type": "markdown",
   "id": "02075cf3",
   "metadata": {},
   "source": [
    "# TẠO FORMAT PHẦN TRĂM CHO CÁC CỘT "
   ]
  },
  {
   "cell_type": "code",
   "execution_count": 148,
   "id": "ef2b5b8d",
   "metadata": {
    "scrolled": true
   },
   "outputs": [],
   "source": [
    "from openpyxl.styles import numbers\n",
    "\n",
    "# LẬP DANH SÁCH CÁC CỘT TRONG FILE\n",
    "column_names = ChiTiet_df.columns.tolist()\n",
    "# lọc ra các cột có dấu phần trăm ngoại trừ cột 30% UPAS LC\n",
    "columns_with_percent = [col_name for col_name in column_names if \"%\" in col_name and \"UPAS\" not in col_name]\n",
    "\n",
    "# lập danh sách tên các cột muốn set format phần trăm\n",
    "columns_to_format = columns_with_percent\n",
    "\n",
    "# lặp tương tự cho các sheet trong file excel\n",
    "for ws in wb:\n",
    "    # lặp tương tự cho các ô ở dòng thứ 3 của 1 sheet\n",
    "    for cell in ws[3]:\n",
    "        # kiểm tra xem ô này có chứa tên cột cần set %\n",
    "        for column_name in columns_to_format:\n",
    "            if cell.value is not None and column_name in cell.value:\n",
    "                # set format % cho toàn bộ cột\n",
    "                column_letter = cell.column_letter\n",
    "                for col_cell in ws[column_letter]:\n",
    "                    col_cell.number_format = numbers.FORMAT_PERCENTAGE\n",
    "                break   # no need to check other column names once a match is found\n",
    "\n",
    "# TẮT CÁC Ô KẺ TRONG FILE BÁO CÁO\n",
    "# Loop through all sheets in the workbook\n",
    "for sheet in wb.worksheets:\n",
    "    # Set the show_gridlines attribute to False\n",
    "    sheet.sheet_view.showGridLines = False\n",
    "\n",
    "# Save the changes to the Excel file\n",
    "wb.save(new_filename)"
   ]
  },
  {
   "cell_type": "markdown",
   "id": "045e3927",
   "metadata": {},
   "source": [
    "# TẠO BORDER CHO CÁC Ô VÀ CÁC CỘT"
   ]
  },
  {
   "cell_type": "code",
   "execution_count": 149,
   "id": "ca2a3224",
   "metadata": {},
   "outputs": [],
   "source": [
    "# TẠO CÁC ĐƯỜNG KẺ TRÁI PHẢI CHO BÁO CÁO\n",
    "from openpyxl.styles import Border, Side\n",
    "\n",
    "for sheet in wb.sheetnames:\n",
    "    # select the current sheet\n",
    "    ws = wb[sheet]\n",
    "    \n",
    "    # get the last row number\n",
    "    last_row = ws.max_row\n",
    "    \n",
    "    # create the border style\n",
    "    border = Border(\n",
    "        left=Side(border_style='thin', color='000000'),\n",
    "        right=Side(border_style='thin', color='000000'),\n",
    "        top=Side(border_style=None),\n",
    "        bottom=Side(border_style=None)\n",
    "    )\n",
    "    \n",
    "    # apply the border to each cell in the range\n",
    "    for row in range(3, last_row + 1):\n",
    "        for col in range(1, ws.max_column + 1):\n",
    "            ws.cell(row=row, column=col).border = border\n",
    "\n",
    "# TẠO ĐƯỜNG KẺ BÁO CÁO CHO DÒNG THỨ 3\n",
    "# set the border style\n",
    "border_style = Border(\n",
    "    left=Side(border_style='thin', color='000000'),\n",
    "    right=Side(border_style='thin', color='000000'),\n",
    "    top=Side(border_style='thin', color='000000'),\n",
    "    bottom=Side(border_style='thin', color='000000')\n",
    ")\n",
    "\n",
    "# loop through all sheets\n",
    "for sheet_name in wb.sheetnames:\n",
    "    # select the sheet\n",
    "    worksheet = wb[sheet_name]\n",
    "    # loop through all active cells in row 3\n",
    "    for cell in worksheet[3]:\n",
    "        # set the border style for each cell\n",
    "        cell.border = border_style\n",
    "\n",
    "# TẠO ĐƯỜNG KẺ BÁO CÁO CHO DÒNG THỨ 3\n",
    "for sheet in wb.sheetnames:\n",
    "    # select the current sheet\n",
    "    ws = wb[sheet]\n",
    "    \n",
    "    # get the last row number\n",
    "    last_row = ws.max_row\n",
    "    \n",
    "    # create the border style\n",
    "    border = Border(\n",
    "        left=Side(border_style='thin', color='000000'),\n",
    "        right=Side(border_style='thin', color='000000'),\n",
    "        top=Side(border_style=None),\n",
    "        bottom=Side(border_style=None)\n",
    "    )\n",
    "    \n",
    "    # select the sheet\n",
    "    ws = wb[sheet_name]\n",
    "    # loop through all active cells in row 3\n",
    "    for cell in ws[3]:\n",
    "        # set the border style for each cell\n",
    "        cell.border = border_style\n",
    "\n",
    "# Save the changes to the Excel file\n",
    "wb.save(new_filename)"
   ]
  },
  {
   "cell_type": "markdown",
   "id": "ced5965e",
   "metadata": {},
   "source": [
    "# LƯU FILE RA THÀNH NHIỀU FILE TƯƠNG ỨNG TỪNG SHEET:\n",
    "\n",
    "from openpyxl import load_workbook\n",
    "\n",
    "  ## Load the Excel file\n",
    "excel_file = load_workbook(new_filename)\n",
    "\n",
    "sheets_to_save=['CMB','CIB','CN','THE','KV ĐNB+Tây Nguyên','KV Miền Trung','KV Phía Bắc','KV Hồ Chí Minh','KV Tây Nam Bộ']\n",
    " ## Loop through each sheet in the file\n",
    "for sheet_name in sheets_to_save:\n",
    "    # Load the sheet into a new workbook:\n",
    "    new_workbook = load_workbook(new_filename)\n",
    "    new_sheet = new_workbook[sheet_name]\n",
    "    \n",
    "    # Remove all other sheets from the new workbook:\n",
    "    for sheet in new_workbook.sheetnames:\n",
    "        if sheet != sheet_name:\n",
    "            new_workbook.remove(new_workbook[sheet])\n",
    "    # Define the sheet and file name:\n",
    "    sheet_mapping = {\n",
    "    'CMB': 'Khối KHDN',\n",
    "    'CIB': 'Khối KHDNL',\n",
    "    'CN': 'Khối KHCN',\n",
    "    'THE': 'Khối TTT',\n",
    "    'KV ĐNB+Tây Nguyên': 'KV DNB+TN',\n",
    "    'KV Miền Trung': 'KV MT',\n",
    "    'KV Phía Bắc': 'KV HN+PB',\n",
    "    'KV Hồ Chí Minh': 'KV HCM',\n",
    "    'KV Tây Nam Bộ': 'KV TNB'\n",
    "}\n",
    "    # Define the new file name for each files\n",
    "    new_new_filename = f'Báo cáo ngày {sheet_mapping[sheet_name]} {date_str}.xlsx'\n",
    "\n",
    "    # Save the sheet to a new Excel file:\n",
    "    new_workbook.save(new_new_filename)\n",
    "\n"
   ]
  },
  {
   "cell_type": "code",
   "execution_count": 150,
   "id": "f18f1bd2",
   "metadata": {},
   "outputs": [
    {
     "name": "stdout",
     "output_type": "stream",
     "text": [
      "------\n",
      "Đến: thanh.pq@hdbank.com.vn\n",
      "Cc: daupv@hdbank.com.vn; ngocdh@hdbank.com.vn; minhdnt@hdbank.com.vn; BCQT@hdbank.com.vn\n",
      "Tiêu đề: Báo cáo ngày 09.06.2023 - \n",
      "\n",
      "Nội dung: Kính gửi Anh/Chị,​\n",
      "    \n",
      "    Phòng Kế hoạch, Báo cáo và Phân tích Tài chính kính gửi Anh/Chị: Báo cáo ngày 09.06.2023 như tài liệu đính kèm.\n",
      "    \n",
      "    Trân trọng!\n",
      "------------------------------------------------------------------------------------------\n",
      "\n"
     ]
    }
   ],
   "source": [
    "def send_email(to_email_list, cc_email_list, department_name):\n",
    "    print(f'---{department_name}---')\n",
    "    print(f'Đến: {to_email_list}')\n",
    "    print(f'Cc: {cc_email_list}')\n",
    "    print(f'Tiêu đề: Báo cáo ngày {date_str} - {department_name}')\n",
    "    print('')\n",
    "    print(f\"\"\"Nội dung: Kính gửi Anh/Chị,​\n",
    "    \n",
    "    Phòng Kế hoạch, Báo cáo và Phân tích Tài chính kính gửi Anh/Chị: Báo cáo ngày {date_str} như tài liệu đính kèm.\n",
    "    \n",
    "    Trân trọng!\"\"\")\n",
    "    print('------------------------------------------------------------------------------------------')\n",
    "    print('')\n",
    "\n",
    "# BAN TGD\n",
    "to_email_list = 'thanh.pq@hdbank.com.vn'\n",
    "cc_email_list = 'daupv@hdbank.com.vn; ngocdh@hdbank.com.vn; minhdnt@hdbank.com.vn; BCQT@hdbank.com.vn'\n",
    "send_email(to_email_list, cc_email_list, '')\n"
   ]
  },
  {
   "cell_type": "code",
   "execution_count": 151,
   "id": "4a247c90",
   "metadata": {},
   "outputs": [
    {
     "name": "stdout",
     "output_type": "stream",
     "text": [
      "---KV HN+PB---\n",
      "Đến: hieunm2@hdbank.com.vn;nhungntt@hdbank.com.vn\n",
      "Cc: phuongptn@hdbank.com.vn;danhnd@hdbank.com.vn;trangntx@hdbank.com.vn;duyenntt5@hdbank.com.vn;namnh25@hdbank.com.vn\n",
      "Tiêu đề: Báo cáo ngày 09.06.2023 - KV HN+PB\n",
      "\n",
      "Nội dung: Kính gửi Anh/Chị,​\n",
      "    \n",
      "    Phòng Kế hoạch, Báo cáo và Phân tích Tài chính kính gửi Anh/Chị: Báo cáo ngày 09.06.2023 như tài liệu đính kèm.\n",
      "    \n",
      "    Trân trọng!\n",
      "------------------------------------------------------------------------------------------\n",
      "\n",
      "---KV MT---\n",
      "Đến: hoatt@hdbank.com.vn\n",
      "Cc: nhity@hdbank.com.vn; danhnd@hdbank.com.vn; phuongptn@hdbank.com.vn; trangntx@hdbank.com.vn; duyenntt5@hdbank.com.vn\n",
      "Tiêu đề: Báo cáo ngày 09.06.2023 - KV MT\n",
      "\n",
      "Nội dung: Kính gửi Anh/Chị,​\n",
      "    \n",
      "    Phòng Kế hoạch, Báo cáo và Phân tích Tài chính kính gửi Anh/Chị: Báo cáo ngày 09.06.2023 như tài liệu đính kèm.\n",
      "    \n",
      "    Trân trọng!\n",
      "------------------------------------------------------------------------------------------\n",
      "\n",
      "---KV DNB+TN---\n",
      "Đến: thoa_ltk@hdbank.com.vn\n",
      "Cc: danhnd@hdbank.com.vn; phuongptn@hdbank.com.vn; trangntx@hdbank.com.vn; duyenntt5@hdbank.com.vn\n",
      "Tiêu đề: Báo cáo ngày 09.06.2023 - KV DNB+TN\n",
      "\n",
      "Nội dung: Kính gửi Anh/Chị,​\n",
      "    \n",
      "    Phòng Kế hoạch, Báo cáo và Phân tích Tài chính kính gửi Anh/Chị: Báo cáo ngày 09.06.2023 như tài liệu đính kèm.\n",
      "    \n",
      "    Trân trọng!\n",
      "------------------------------------------------------------------------------------------\n",
      "\n",
      "---KV TNB---\n",
      "Đến: ninhtd@hdbank.com.vn\n",
      "Cc: danhnd@hdbank.com.vn; phuongptn@hdbank.com.vn; trangntx@hdbank.com.vn; duyenntt5@hdbank.com.vn\n",
      "Tiêu đề: Báo cáo ngày 09.06.2023 - KV TNB\n",
      "\n",
      "Nội dung: Kính gửi Anh/Chị,​\n",
      "    \n",
      "    Phòng Kế hoạch, Báo cáo và Phân tích Tài chính kính gửi Anh/Chị: Báo cáo ngày 09.06.2023 như tài liệu đính kèm.\n",
      "    \n",
      "    Trân trọng!\n",
      "------------------------------------------------------------------------------------------\n",
      "\n",
      "---KV HCM---\n",
      "Đến: thudn@hdbank.com.vn; huongtv@hdbank.com.vn\n",
      "Cc: huy.vt@hdbank.com.vn; quanghien@hdbank.com.vn; danhnd@hdbank.com.vn; phuongptn@hdbank.com.vn; trangntx@hdbank.com.vn; duyenntt5@hdbank.com.vn\n",
      "Tiêu đề: Báo cáo ngày 09.06.2023 - KV HCM\n",
      "\n",
      "Nội dung: Kính gửi Anh/Chị,​\n",
      "    \n",
      "    Phòng Kế hoạch, Báo cáo và Phân tích Tài chính kính gửi Anh/Chị: Báo cáo ngày 09.06.2023 như tài liệu đính kèm.\n",
      "    \n",
      "    Trân trọng!\n",
      "------------------------------------------------------------------------------------------\n",
      "\n"
     ]
    }
   ],
   "source": [
    "# KV HN+PB\n",
    "to_email_list = 'hieunm2@hdbank.com.vn;nhungntt@hdbank.com.vn'\n",
    "cc_email_list = 'phuongptn@hdbank.com.vn;danhnd@hdbank.com.vn;trangntx@hdbank.com.vn;duyenntt5@hdbank.com.vn;namnh25@hdbank.com.vn'\n",
    "send_email(to_email_list, cc_email_list, 'KV HN+PB')\n",
    "\n",
    "# KV MT\n",
    "to_email_list = 'hoatt@hdbank.com.vn'\n",
    "cc_email_list = 'nhity@hdbank.com.vn; danhnd@hdbank.com.vn; phuongptn@hdbank.com.vn; trangntx@hdbank.com.vn; duyenntt5@hdbank.com.vn'\n",
    "send_email(to_email_list, cc_email_list, 'KV MT')\n",
    "\n",
    "# KV DNB+TN\n",
    "to_email_list = 'thoa_ltk@hdbank.com.vn'\n",
    "cc_email_list = 'danhnd@hdbank.com.vn; phuongptn@hdbank.com.vn; trangntx@hdbank.com.vn; duyenntt5@hdbank.com.vn'\n",
    "send_email(to_email_list, cc_email_list, 'KV DNB+TN')\n",
    "\n",
    "# KV TNB\n",
    "to_email_list = 'ninhtd@hdbank.com.vn'\n",
    "cc_email_list = 'danhnd@hdbank.com.vn; phuongptn@hdbank.com.vn; trangntx@hdbank.com.vn; duyenntt5@hdbank.com.vn'\n",
    "send_email(to_email_list, cc_email_list, 'KV TNB')\n",
    "\n",
    "# KV HCM\n",
    "to_email_list='thudn@hdbank.com.vn; huongtv@hdbank.com.vn'\n",
    "cc_email_list='huy.vt@hdbank.com.vn; quanghien@hdbank.com.vn; danhnd@hdbank.com.vn; phuongptn@hdbank.com.vn; trangntx@hdbank.com.vn; duyenntt5@hdbank.com.vn'\n",
    "send_email(to_email_list, cc_email_list, 'KV HCM')\n"
   ]
  },
  {
   "cell_type": "code",
   "execution_count": 152,
   "id": "b0f7ba7f",
   "metadata": {},
   "outputs": [
    {
     "name": "stdout",
     "output_type": "stream",
     "text": [
      "---Khối KHDNL---\n",
      "Đến: anhnh@hdbank.com.vn; linh_tt@hdbank.com.vn\n",
      "Cc: phuongntt6@hdbank.com.vn; cibptkd&ht@hdbank.com.vn; danhnd@hdbank.com.vn; phuongptn@hdbank.com.vn; trangntx@hdbank.com.vn; duyenntt5@hdbank.com.vn\n",
      "Tiêu đề: Báo cáo ngày 09.06.2023 - Khối KHDNL\n",
      "\n",
      "Nội dung: Kính gửi Anh/Chị,​\n",
      "    \n",
      "    Phòng Kế hoạch, Báo cáo và Phân tích Tài chính kính gửi Anh/Chị: Báo cáo ngày 09.06.2023 như tài liệu đính kèm.\n",
      "    \n",
      "    Trân trọng!\n",
      "------------------------------------------------------------------------------------------\n",
      "\n",
      "---Khối KHDN---\n",
      "Đến: dat_pt@hdbank.com.vn;trinh.ntt@hdbank.com.vn;toanvd@hdbank.com.vn;myld@hdbank.com.vn;lanttt1@hdbank.com.vn;anhlth9@hdbank.com.vn;thientdn1@hdbank.com.vn;dieppt1@hdbank.com.vn;giangth7@hdbank.com.vn;vypt5@hdbank.com.vn;ngohaiha@hdbank.com.vn;tanph5@hdbank.com.vn;thaohtt1@hdbank.com.vn;huanpc@hdbank.com.vn;hunglt7@hdbank.com.vn;khanhhq3@hdbank.com.vn;hoangnl6@hdbank.com.vn;oanhttn@hdbank.com.vn;thyntp2@hdbank.com.vn;tuttc2@hdbank.com.vn;maivs3@hdbank.com.vn;vinhnh1@hdbank.com.vn;anhtn4@hdbank.com.vn;oanhnn@hdbank.com.vn;phuonggt1@hdbank.com.vn;huypx3@hdbank.com.vn;hangntt28@hdbank.com.vn;trongnb1@hdbank.com.vn;duongttt3@hdbank.com.vn;thoaltk3@hdbank.com.vn;toanvd@hdbank.com.vn;bichvtn1@hdbank.com.vn;nhatnv@hdbank.com.vn;huongptt4@hdbank.com.vn;chidt2@hdbank.com.vn;hungnc@hdbank.com.vn;tutm@hdbank.com.vn;baolc1@hdbank.com.vn;haitn1@hdbank.com.vn;lynth1@hdbank.com.vn;trangnh3@hdbank.com.vn;mungnt@hdbank.com.vn;\n",
      "Cc: danhnd@hdbank.com.vn; phuongptn@hdbank.com.vn; trangntx@hdbank.com.vn; duyenntt5@hdbank.com.vn\n",
      "Tiêu đề: Báo cáo ngày 09.06.2023 - Khối KHDN\n",
      "\n",
      "Nội dung: Kính gửi Anh/Chị,​\n",
      "    \n",
      "    Phòng Kế hoạch, Báo cáo và Phân tích Tài chính kính gửi Anh/Chị: Báo cáo ngày 09.06.2023 như tài liệu đính kèm.\n",
      "    \n",
      "    Trân trọng!\n",
      "------------------------------------------------------------------------------------------\n",
      "\n",
      "---Khối KHCN---\n",
      "Đến: huongntt4@hdbank.com.vn\n",
      "Cc: ssp@hdbank.com.vn; danhnd@hdbank.com.vn; phuongptn@hdbank.com.vn; trangntx@hdbank.com.vn; duyenntt5@hdbank.com.vn\n",
      "Tiêu đề: Báo cáo ngày 09.06.2023 - Khối KHCN\n",
      "\n",
      "Nội dung: Kính gửi Anh/Chị,​\n",
      "    \n",
      "    Phòng Kế hoạch, Báo cáo và Phân tích Tài chính kính gửi Anh/Chị: Báo cáo ngày 09.06.2023 như tài liệu đính kèm.\n",
      "    \n",
      "    Trân trọng!\n",
      "------------------------------------------------------------------------------------------\n",
      "\n",
      "---TTT---\n",
      "Đến: thanhpm@hdbank.com.vn; ketoanthe@hdbank.com.vn; tienutt1@hdbank.com.vn; nhuntq5@hdbank.com.vn; thaidt@hdbank.com.vn\n",
      "Cc: tung_nt@hdbank.com.vn; vudv1@hdbank.com.vn; lyltt3@hdbank.com.vn; danhnd@hdbank.com.vn; phuongptn@hdbank.com.vn; trangntx@hdbank.com.vn; duyenntt5@hdbank.com.vn\n",
      "Tiêu đề: Báo cáo ngày 09.06.2023 - TTT\n",
      "\n",
      "Nội dung: Kính gửi Anh/Chị,​\n",
      "    \n",
      "    Phòng Kế hoạch, Báo cáo và Phân tích Tài chính kính gửi Anh/Chị: Báo cáo ngày 09.06.2023 như tài liệu đính kèm.\n",
      "    \n",
      "    Trân trọng!\n",
      "------------------------------------------------------------------------------------------\n",
      "\n"
     ]
    }
   ],
   "source": [
    "# Khối KHDNL\n",
    "to_email_list='anhnh@hdbank.com.vn; linh_tt@hdbank.com.vn'\n",
    "cc_email_list='phuongntt6@hdbank.com.vn; cibptkd&ht@hdbank.com.vn; danhnd@hdbank.com.vn; phuongptn@hdbank.com.vn; trangntx@hdbank.com.vn; duyenntt5@hdbank.com.vn'\n",
    "send_email(to_email_list, cc_email_list, 'Khối KHDNL')\n",
    "\n",
    "# Khối KHDN\n",
    "to_email_list='dat_pt@hdbank.com.vn;trinh.ntt@hdbank.com.vn;toanvd@hdbank.com.vn;myld@hdbank.com.vn;lanttt1@hdbank.com.vn;anhlth9@hdbank.com.vn;thientdn1@hdbank.com.vn;dieppt1@hdbank.com.vn;giangth7@hdbank.com.vn;vypt5@hdbank.com.vn;ngohaiha@hdbank.com.vn;tanph5@hdbank.com.vn;thaohtt1@hdbank.com.vn;huanpc@hdbank.com.vn;hunglt7@hdbank.com.vn;khanhhq3@hdbank.com.vn;hoangnl6@hdbank.com.vn;oanhttn@hdbank.com.vn;thyntp2@hdbank.com.vn;tuttc2@hdbank.com.vn;maivs3@hdbank.com.vn;vinhnh1@hdbank.com.vn;anhtn4@hdbank.com.vn;oanhnn@hdbank.com.vn;phuonggt1@hdbank.com.vn;huypx3@hdbank.com.vn;hangntt28@hdbank.com.vn;trongnb1@hdbank.com.vn;duongttt3@hdbank.com.vn;thoaltk3@hdbank.com.vn;toanvd@hdbank.com.vn;bichvtn1@hdbank.com.vn;nhatnv@hdbank.com.vn;huongptt4@hdbank.com.vn;chidt2@hdbank.com.vn;hungnc@hdbank.com.vn;tutm@hdbank.com.vn;baolc1@hdbank.com.vn;haitn1@hdbank.com.vn;lynth1@hdbank.com.vn;trangnh3@hdbank.com.vn;mungnt@hdbank.com.vn;'\n",
    "cc_email_list='danhnd@hdbank.com.vn; phuongptn@hdbank.com.vn; trangntx@hdbank.com.vn; duyenntt5@hdbank.com.vn'\n",
    "send_email(to_email_list, cc_email_list, 'Khối KHDN')\n",
    "\n",
    "# Khối KHCN\n",
    "to_email_list='huongntt4@hdbank.com.vn'\n",
    "cc_email_list='ssp@hdbank.com.vn; danhnd@hdbank.com.vn; phuongptn@hdbank.com.vn; trangntx@hdbank.com.vn; duyenntt5@hdbank.com.vn'\n",
    "send_email(to_email_list, cc_email_list, 'Khối KHCN')\n",
    "\n",
    "# TTT\n",
    "to_email_list='thanhpm@hdbank.com.vn; ketoanthe@hdbank.com.vn; tienutt1@hdbank.com.vn; nhuntq5@hdbank.com.vn; thaidt@hdbank.com.vn'\n",
    "cc_email_list='tung_nt@hdbank.com.vn; vudv1@hdbank.com.vn; lyltt3@hdbank.com.vn; danhnd@hdbank.com.vn; phuongptn@hdbank.com.vn; trangntx@hdbank.com.vn; duyenntt5@hdbank.com.vn'\n",
    "send_email(to_email_list, cc_email_list, 'TTT')\n"
   ]
  },
  {
   "cell_type": "code",
   "execution_count": 153,
   "id": "72418070",
   "metadata": {},
   "outputs": [
    {
     "name": "stdout",
     "output_type": "stream",
     "text": [
      "Your report is ready now\n"
     ]
    }
   ],
   "source": [
    "print('Your report is ready now')"
   ]
  }
 ],
 "metadata": {
  "kernelspec": {
   "display_name": "Python 3 (ipykernel)",
   "language": "python",
   "name": "python3"
  },
  "language_info": {
   "codemirror_mode": {
    "name": "ipython",
    "version": 3
   },
   "file_extension": ".py",
   "mimetype": "text/x-python",
   "name": "python",
   "nbconvert_exporter": "python",
   "pygments_lexer": "ipython3",
   "version": "3.10.9"
  }
 },
 "nbformat": 4,
 "nbformat_minor": 5
}

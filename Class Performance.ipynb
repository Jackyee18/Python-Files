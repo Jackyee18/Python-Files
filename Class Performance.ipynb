{
 "cells": [
  {
   "cell_type": "code",
   "execution_count": 1,
   "id": "881ad58e",
   "metadata": {},
   "outputs": [],
   "source": [
    "import pandas as pd"
   ]
  },
  {
   "cell_type": "code",
   "execution_count": 2,
   "id": "f6b089eb",
   "metadata": {},
   "outputs": [
    {
     "data": {
      "text/html": [
       "<div>\n",
       "<style scoped>\n",
       "    .dataframe tbody tr th:only-of-type {\n",
       "        vertical-align: middle;\n",
       "    }\n",
       "\n",
       "    .dataframe tbody tr th {\n",
       "        vertical-align: top;\n",
       "    }\n",
       "\n",
       "    .dataframe thead th {\n",
       "        text-align: right;\n",
       "    }\n",
       "</style>\n",
       "<table border=\"1\" class=\"dataframe\">\n",
       "  <thead>\n",
       "    <tr style=\"text-align: right;\">\n",
       "      <th></th>\n",
       "      <th>id</th>\n",
       "      <th>student</th>\n",
       "      <th>assignment1</th>\n",
       "      <th>assignment2</th>\n",
       "      <th>assignment3</th>\n",
       "    </tr>\n",
       "  </thead>\n",
       "  <tbody>\n",
       "    <tr>\n",
       "      <th>0</th>\n",
       "      <td>1</td>\n",
       "      <td>Karen Austin</td>\n",
       "      <td>90</td>\n",
       "      <td>98</td>\n",
       "      <td>80</td>\n",
       "    </tr>\n",
       "    <tr>\n",
       "      <th>1</th>\n",
       "      <td>2</td>\n",
       "      <td>Matthew Ward</td>\n",
       "      <td>85</td>\n",
       "      <td>90</td>\n",
       "      <td>70</td>\n",
       "    </tr>\n",
       "    <tr>\n",
       "      <th>2</th>\n",
       "      <td>3</td>\n",
       "      <td>John Miranda</td>\n",
       "      <td>87</td>\n",
       "      <td>75</td>\n",
       "      <td>90</td>\n",
       "    </tr>\n",
       "    <tr>\n",
       "      <th>3</th>\n",
       "      <td>4</td>\n",
       "      <td>Scott Taylor</td>\n",
       "      <td>60</td>\n",
       "      <td>55</td>\n",
       "      <td>70</td>\n",
       "    </tr>\n",
       "    <tr>\n",
       "      <th>4</th>\n",
       "      <td>5</td>\n",
       "      <td>Tom Saunders</td>\n",
       "      <td>80</td>\n",
       "      <td>88</td>\n",
       "      <td>90</td>\n",
       "    </tr>\n",
       "    <tr>\n",
       "      <th>5</th>\n",
       "      <td>6</td>\n",
       "      <td>Natalie Palmer</td>\n",
       "      <td>55</td>\n",
       "      <td>70</td>\n",
       "      <td>65</td>\n",
       "    </tr>\n",
       "    <tr>\n",
       "      <th>6</th>\n",
       "      <td>7</td>\n",
       "      <td>James Burgess</td>\n",
       "      <td>72</td>\n",
       "      <td>70</td>\n",
       "      <td>75</td>\n",
       "    </tr>\n",
       "    <tr>\n",
       "      <th>7</th>\n",
       "      <td>8</td>\n",
       "      <td>Tracie Lopez</td>\n",
       "      <td>89</td>\n",
       "      <td>85</td>\n",
       "      <td>70</td>\n",
       "    </tr>\n",
       "    <tr>\n",
       "      <th>8</th>\n",
       "      <td>9</td>\n",
       "      <td>Donna Jimenez</td>\n",
       "      <td>91</td>\n",
       "      <td>90</td>\n",
       "      <td>98</td>\n",
       "    </tr>\n",
       "    <tr>\n",
       "      <th>9</th>\n",
       "      <td>10</td>\n",
       "      <td>Rachael Smith</td>\n",
       "      <td>76</td>\n",
       "      <td>66</td>\n",
       "      <td>80</td>\n",
       "    </tr>\n",
       "  </tbody>\n",
       "</table>\n",
       "</div>"
      ],
      "text/plain": [
       "   id         student  assignment1  assignment2  assignment3\n",
       "0   1    Karen Austin           90           98           80\n",
       "1   2    Matthew Ward           85           90           70\n",
       "2   3    John Miranda           87           75           90\n",
       "3   4    Scott Taylor           60           55           70\n",
       "4   5    Tom Saunders           80           88           90\n",
       "5   6  Natalie Palmer           55           70           65\n",
       "6   7   James Burgess           72           70           75\n",
       "7   8    Tracie Lopez           89           85           70\n",
       "8   9   Donna Jimenez           91           90           98\n",
       "9  10   Rachael Smith           76           66           80"
      ]
     },
     "execution_count": 2,
     "metadata": {},
     "output_type": "execute_result"
    }
   ],
   "source": [
    "pd.read_excel('box_scores.xlsx')"
   ]
  },
  {
   "cell_type": "markdown",
   "id": "7076382f",
   "metadata": {},
   "source": [
    "### You are given a table containing assignment scores of students in a class. Write a query that identifies the largest difference in total score  of all assignments.\n",
    "### Output just the difference in total score (sum of all 3 assignments) between a student with the highest score and a student with the lowest score."
   ]
  },
  {
   "cell_type": "code",
   "execution_count": 3,
   "id": "bb9075ce",
   "metadata": {},
   "outputs": [],
   "source": [
    "df = pd.read_excel('box_scores.xlsx')"
   ]
  },
  {
   "cell_type": "code",
   "execution_count": 15,
   "id": "8a654928",
   "metadata": {},
   "outputs": [],
   "source": [
    "# change types of 3 assignment columns from int into str.\n",
    "df['assignment1'] = df['assignment1'].astype(str)\n",
    "df['assignment2'] = df['assignment2'].astype(str)\n",
    "df['assignment3'] = df['assignment3'].astype(str)"
   ]
  },
  {
   "cell_type": "code",
   "execution_count": 17,
   "id": "9233fb9c",
   "metadata": {},
   "outputs": [
    {
     "data": {
      "text/plain": [
       "0    90\n",
       "1    85\n",
       "2    87\n",
       "3    60\n",
       "4    80\n",
       "5    55\n",
       "6    72\n",
       "7    89\n",
       "8    91\n",
       "9    76\n",
       "Name: assignment1, dtype: object"
      ]
     },
     "execution_count": 17,
     "metadata": {},
     "output_type": "execute_result"
    }
   ],
   "source": [
    "# check the change\n",
    "df['assignment1']"
   ]
  },
  {
   "cell_type": "code",
   "execution_count": 26,
   "id": "5172e5ab",
   "metadata": {},
   "outputs": [
    {
     "data": {
      "text/plain": [
       "['90',\n",
       " '85',\n",
       " '87',\n",
       " '60',\n",
       " '80',\n",
       " '55',\n",
       " '72',\n",
       " '89',\n",
       " '91',\n",
       " '76',\n",
       " '98',\n",
       " '90',\n",
       " '75',\n",
       " '55',\n",
       " '88',\n",
       " '70',\n",
       " '70',\n",
       " '85',\n",
       " '90',\n",
       " '66',\n",
       " '80',\n",
       " '70',\n",
       " '90',\n",
       " '70',\n",
       " '90',\n",
       " '65',\n",
       " '75',\n",
       " '70',\n",
       " '98',\n",
       " '80']"
      ]
     },
     "execution_count": 26,
     "metadata": {},
     "output_type": "execute_result"
    }
   ],
   "source": [
    "# create a list of all assignment scores:\n",
    "total_list = []\n",
    "for i in df['assignment1']:\n",
    "    total_list.append(i)\n",
    "for j in df['assignment2']:\n",
    "    total_list.append(j)\n",
    "for z in df['assignment3']:\n",
    "    total_list.append(z)\n",
    "    \n",
    "total_list"
   ]
  },
  {
   "cell_type": "code",
   "execution_count": 36,
   "id": "a3848142",
   "metadata": {},
   "outputs": [],
   "source": [
    "# create a new data frame from list\n",
    "total_score_df = pd.DataFrame(total_list)"
   ]
  },
  {
   "cell_type": "code",
   "execution_count": 32,
   "id": "b5ce10cd",
   "metadata": {},
   "outputs": [],
   "source": [
    "# change type from object into int\n",
    "total_score_df = total_score_df.astype(int)"
   ]
  },
  {
   "cell_type": "code",
   "execution_count": 34,
   "id": "9eee037c",
   "metadata": {},
   "outputs": [
    {
     "data": {
      "text/plain": [
       "0    98\n",
       "dtype: int32"
      ]
     },
     "execution_count": 34,
     "metadata": {},
     "output_type": "execute_result"
    }
   ],
   "source": [
    "# find the max score of all assignments\n",
    "total_score_df.max()"
   ]
  },
  {
   "cell_type": "code",
   "execution_count": 35,
   "id": "fcd42674",
   "metadata": {},
   "outputs": [
    {
     "data": {
      "text/plain": [
       "0    55\n",
       "dtype: int32"
      ]
     },
     "execution_count": 35,
     "metadata": {},
     "output_type": "execute_result"
    }
   ],
   "source": [
    "# find the min score of all assignments\n",
    "total_score_df.min()"
   ]
  },
  {
   "cell_type": "code",
   "execution_count": 33,
   "id": "1d22a862",
   "metadata": {},
   "outputs": [
    {
     "data": {
      "text/plain": [
       "0    43\n",
       "dtype: int32"
      ]
     },
     "execution_count": 33,
     "metadata": {},
     "output_type": "execute_result"
    }
   ],
   "source": [
    "# final result:\n",
    "total_score_df.max()-total_score_df.min()"
   ]
  },
  {
   "cell_type": "code",
   "execution_count": null,
   "id": "b7ab2fff",
   "metadata": {},
   "outputs": [],
   "source": []
  },
  {
   "cell_type": "code",
   "execution_count": null,
   "id": "14054df3",
   "metadata": {},
   "outputs": [],
   "source": []
  }
 ],
 "metadata": {
  "kernelspec": {
   "display_name": "Python 3 (ipykernel)",
   "language": "python",
   "name": "python3"
  },
  "language_info": {
   "codemirror_mode": {
    "name": "ipython",
    "version": 3
   },
   "file_extension": ".py",
   "mimetype": "text/x-python",
   "name": "python",
   "nbconvert_exporter": "python",
   "pygments_lexer": "ipython3",
   "version": "3.9.13"
  }
 },
 "nbformat": 4,
 "nbformat_minor": 5
}

{
 "cells": [
  {
   "cell_type": "markdown",
   "id": "4dc0ab97",
   "metadata": {},
   "source": [
    "# ABOUT DATASET"
   ]
  },
  {
   "cell_type": "markdown",
   "id": "80e773e6",
   "metadata": {},
   "source": [
    "Attribute information\n",
    "1. business_id: business identification number of the companies in San Francisco\n",
    "2. business_name: business name according of each business id.\n",
    "3. business_address: Location of business\n",
    "4. business_city: San Francisco.\n",
    "5. business_state: California as 'CA'.\n",
    "6. business_postal_code: \n",
    "7. business_latitude: \n",
    "8. business_longitude: \n",
    "9. business_location: \n",
    "10. business_phone_number: \n",
    "11. inspection_id: inspection identification number\n",
    "12. inspection_score: the score of inspection (0-100)\n",
    "13. inspection_type: \n",
    "14. violation_id: Computer generated id if there is violation after inspecting\n",
    "15. violation_description: \n",
    "16. risk_category income: High, Low, Moderate, none\n"
   ]
  },
  {
   "cell_type": "markdown",
   "id": "d449d16f",
   "metadata": {},
   "source": [
    "# DATA EXPLORATION"
   ]
  },
  {
   "cell_type": "markdown",
   "id": "52406c8f",
   "metadata": {},
   "source": [
    "# Import libraries and load data"
   ]
  },
  {
   "cell_type": "code",
   "execution_count": 23,
   "id": "5ea0c474",
   "metadata": {},
   "outputs": [],
   "source": [
    "import pandas as pd\n",
    "import numpy as np\n",
    "q=pd.read_csv('sf_restaurant_health_violations.csv',encoding='latin-1')\n",
    "pd.set_option('display.max_rows',500)"
   ]
  },
  {
   "cell_type": "markdown",
   "id": "c5ab06fc",
   "metadata": {},
   "source": [
    "# Find all businesses which have low-risk safety violations\n",
    "\n",
    "Find all businesses which have low-risk safety violations."
   ]
  },
  {
   "cell_type": "code",
   "execution_count": 2,
   "id": "9e253c79",
   "metadata": {},
   "outputs": [
    {
     "data": {
      "text/plain": [
       "109"
      ]
     },
     "execution_count": 2,
     "metadata": {},
     "output_type": "execute_result"
    }
   ],
   "source": [
    "q[q.risk_category=='Low Risk']['violation_id'].count()"
   ]
  },
  {
   "cell_type": "markdown",
   "id": "3802b7ce",
   "metadata": {},
   "source": [
    "# Inspection Scores For Businesses\n",
    "Find the median inspection score of each business and output the result along with the business name. Order records based on the inspection score in descending order."
   ]
  },
  {
   "cell_type": "code",
   "execution_count": 3,
   "id": "780c97a2",
   "metadata": {},
   "outputs": [
    {
     "data": {
      "text/html": [
       "<div>\n",
       "<style scoped>\n",
       "    .dataframe tbody tr th:only-of-type {\n",
       "        vertical-align: middle;\n",
       "    }\n",
       "\n",
       "    .dataframe tbody tr th {\n",
       "        vertical-align: top;\n",
       "    }\n",
       "\n",
       "    .dataframe thead th {\n",
       "        text-align: right;\n",
       "    }\n",
       "</style>\n",
       "<table border=\"1\" class=\"dataframe\">\n",
       "  <thead>\n",
       "    <tr style=\"text-align: right;\">\n",
       "      <th></th>\n",
       "      <th>business_name</th>\n",
       "      <th>avg_inspection_score</th>\n",
       "    </tr>\n",
       "  </thead>\n",
       "  <tbody>\n",
       "    <tr>\n",
       "      <th>61</th>\n",
       "      <td>Crepe and Brioche, Inc.</td>\n",
       "      <td>100.0</td>\n",
       "    </tr>\n",
       "    <tr>\n",
       "      <th>21</th>\n",
       "      <td>Bebebar Juice &amp; Sandwich</td>\n",
       "      <td>100.0</td>\n",
       "    </tr>\n",
       "    <tr>\n",
       "      <th>144</th>\n",
       "      <td>MV Taurus</td>\n",
       "      <td>100.0</td>\n",
       "    </tr>\n",
       "    <tr>\n",
       "      <th>264</th>\n",
       "      <td>Yerba Buena Tea Co (formerly Tea Smiths of SF)</td>\n",
       "      <td>100.0</td>\n",
       "    </tr>\n",
       "    <tr>\n",
       "      <th>141</th>\n",
       "      <td>MARTIN L. KING MIDDLE SCHOOL</td>\n",
       "      <td>100.0</td>\n",
       "    </tr>\n",
       "  </tbody>\n",
       "</table>\n",
       "</div>"
      ],
      "text/plain": [
       "                                      business_name  avg_inspection_score\n",
       "61                          Crepe and Brioche, Inc.                 100.0\n",
       "21                         Bebebar Juice & Sandwich                 100.0\n",
       "144                                       MV Taurus                 100.0\n",
       "264  Yerba Buena Tea Co (formerly Tea Smiths of SF)                 100.0\n",
       "141                    MARTIN L. KING MIDDLE SCHOOL                 100.0"
      ]
     },
     "execution_count": 3,
     "metadata": {},
     "output_type": "execute_result"
    }
   ],
   "source": [
    "q=q.groupby('business_name')['inspection_score'].mean().reset_index().sort_values(by='inspection_score',ascending=False).rename(columns={'inspection_score':'avg_inspection_score'})\n",
    "q.head()"
   ]
  },
  {
   "cell_type": "markdown",
   "id": "a14dcea2",
   "metadata": {},
   "source": [
    "# Find all business postal codes of restaurants with issues related to the water\n",
    "Find all business postal codes of restaurants with issues related to the water (violation description contains substring \"water\").\n",
    "\n"
   ]
  },
  {
   "cell_type": "code",
   "execution_count": 4,
   "id": "66a417a7",
   "metadata": {},
   "outputs": [
    {
     "data": {
      "text/html": [
       "<div>\n",
       "<style scoped>\n",
       "    .dataframe tbody tr th:only-of-type {\n",
       "        vertical-align: middle;\n",
       "    }\n",
       "\n",
       "    .dataframe tbody tr th {\n",
       "        vertical-align: top;\n",
       "    }\n",
       "\n",
       "    .dataframe thead th {\n",
       "        text-align: right;\n",
       "    }\n",
       "</style>\n",
       "<table border=\"1\" class=\"dataframe\">\n",
       "  <thead>\n",
       "    <tr style=\"text-align: right;\">\n",
       "      <th></th>\n",
       "      <th>business_name</th>\n",
       "      <th>business_postal_code</th>\n",
       "      <th>violation_description</th>\n",
       "    </tr>\n",
       "  </thead>\n",
       "  <tbody>\n",
       "    <tr>\n",
       "      <th>165</th>\n",
       "      <td>S. F. Gourmet Hot Dog Cart</td>\n",
       "      <td>94133.0</td>\n",
       "      <td>Inadequate sewage or wastewater disposal</td>\n",
       "    </tr>\n",
       "    <tr>\n",
       "      <th>179</th>\n",
       "      <td>Gateway High/Kip Schools</td>\n",
       "      <td>94115.0</td>\n",
       "      <td>No hot water or running water</td>\n",
       "    </tr>\n",
       "    <tr>\n",
       "      <th>185</th>\n",
       "      <td>Iza Ramen</td>\n",
       "      <td>94103.0</td>\n",
       "      <td>Insufficient hot water or running water</td>\n",
       "    </tr>\n",
       "    <tr>\n",
       "      <th>210</th>\n",
       "      <td>PANCHO'S</td>\n",
       "      <td>94118.0</td>\n",
       "      <td>Insufficient hot water or running water</td>\n",
       "    </tr>\n",
       "    <tr>\n",
       "      <th>279</th>\n",
       "      <td>Da Cafe</td>\n",
       "      <td>94118.0</td>\n",
       "      <td>No hot water or running water</td>\n",
       "    </tr>\n",
       "  </tbody>\n",
       "</table>\n",
       "</div>"
      ],
      "text/plain": [
       "                  business_name  business_postal_code  \\\n",
       "165  S. F. Gourmet Hot Dog Cart               94133.0   \n",
       "179    Gateway High/Kip Schools               94115.0   \n",
       "185                   Iza Ramen               94103.0   \n",
       "210                    PANCHO'S               94118.0   \n",
       "279                     Da Cafe               94118.0   \n",
       "\n",
       "                        violation_description  \n",
       "165  Inadequate sewage or wastewater disposal  \n",
       "179             No hot water or running water  \n",
       "185   Insufficient hot water or running water  \n",
       "210   Insufficient hot water or running water  \n",
       "279             No hot water or running water  "
      ]
     },
     "execution_count": 4,
     "metadata": {},
     "output_type": "execute_result"
    }
   ],
   "source": [
    "# import the RegEx library for Regular Expressions\n",
    "import re\n",
    "q=pd.read_csv('sf_restaurant_health_violations.csv',encoding='latin-1')\n",
    "# find the values cotain 'water' in the 'violation_description'\n",
    "q.violation_description.str.contains('water',flags=re.I,regex=True,na=False)\n",
    "# Find all business \n",
    "q[(q.violation_description.str.contains('water',flags=re.I,regex=True,na=False))].iloc[:,[1,5,-2]]"
   ]
  },
  {
   "cell_type": "markdown",
   "id": "625c66c1",
   "metadata": {},
   "source": [
    "# Daily Violation Counts\n",
    "Determine the change in the number of daily violations by calculating the difference between the count of current and previous violations by inspection date.\n",
    "Output the inspection date and the change in the number of daily violations. Order your results by the earliest inspection date first."
   ]
  },
  {
   "cell_type": "code",
   "execution_count": 5,
   "id": "bc7b7d7b",
   "metadata": {
    "scrolled": true
   },
   "outputs": [
    {
     "data": {
      "text/html": [
       "<div>\n",
       "<style scoped>\n",
       "    .dataframe tbody tr th:only-of-type {\n",
       "        vertical-align: middle;\n",
       "    }\n",
       "\n",
       "    .dataframe tbody tr th {\n",
       "        vertical-align: top;\n",
       "    }\n",
       "\n",
       "    .dataframe thead th {\n",
       "        text-align: right;\n",
       "    }\n",
       "</style>\n",
       "<table border=\"1\" class=\"dataframe\">\n",
       "  <thead>\n",
       "    <tr style=\"text-align: right;\">\n",
       "      <th></th>\n",
       "      <th>inspection_date</th>\n",
       "      <th>total_violations</th>\n",
       "      <th>previous_violations</th>\n",
       "      <th>violation_diff</th>\n",
       "    </tr>\n",
       "  </thead>\n",
       "  <tbody>\n",
       "    <tr>\n",
       "      <th>226</th>\n",
       "      <td>2018-08-28</td>\n",
       "      <td>1</td>\n",
       "      <td>0.0</td>\n",
       "      <td>1.0</td>\n",
       "    </tr>\n",
       "    <tr>\n",
       "      <th>225</th>\n",
       "      <td>2018-08-02</td>\n",
       "      <td>1</td>\n",
       "      <td>1.0</td>\n",
       "      <td>0.0</td>\n",
       "    </tr>\n",
       "    <tr>\n",
       "      <th>224</th>\n",
       "      <td>2018-07-25</td>\n",
       "      <td>0</td>\n",
       "      <td>1.0</td>\n",
       "      <td>-1.0</td>\n",
       "    </tr>\n",
       "    <tr>\n",
       "      <th>223</th>\n",
       "      <td>2018-07-24</td>\n",
       "      <td>1</td>\n",
       "      <td>0.0</td>\n",
       "      <td>1.0</td>\n",
       "    </tr>\n",
       "    <tr>\n",
       "      <th>222</th>\n",
       "      <td>2018-07-20</td>\n",
       "      <td>0</td>\n",
       "      <td>1.0</td>\n",
       "      <td>-1.0</td>\n",
       "    </tr>\n",
       "  </tbody>\n",
       "</table>\n",
       "</div>"
      ],
      "text/plain": [
       "    inspection_date  total_violations  previous_violations  violation_diff\n",
       "226      2018-08-28                 1                  0.0             1.0\n",
       "225      2018-08-02                 1                  1.0             0.0\n",
       "224      2018-07-25                 0                  1.0            -1.0\n",
       "223      2018-07-24                 1                  0.0             1.0\n",
       "222      2018-07-20                 0                  1.0            -1.0"
      ]
     },
     "execution_count": 5,
     "metadata": {},
     "output_type": "execute_result"
    }
   ],
   "source": [
    "q=pd.read_csv('sf_restaurant_health_violations.csv',encoding='latin-1')\n",
    "# change the type of inspection_date column into datetime\n",
    "q.inspection_date=q.inspection_date.apply(pd.to_datetime)\n",
    "# Find the total violations of each inspection date, rename column & sort by the earliest inspection date\n",
    "q=q.groupby('inspection_date')['violation_id'].count().reset_index().rename(columns={'violation_id':'total_violations'}).sort_values('inspection_date',ascending=False)\n",
    "# find the previous violations of each inspection date, fill na with 0\n",
    "q['previous_violations']=q.total_violations.shift(1).fillna(0)\n",
    "# add the violation diff\n",
    "q['violation_diff']=q.total_violations-q.previous_violations\n",
    "q.head()"
   ]
  },
  {
   "cell_type": "markdown",
   "id": "934fd98b",
   "metadata": {},
   "source": [
    "# Verify that the first 4 digits are equal to 1415 for all phone numbers\n",
    "Verify that the first 4 digits are equal to 1415 for all phone numbers."
   ]
  },
  {
   "cell_type": "code",
   "execution_count": 24,
   "id": "b7d88a2b",
   "metadata": {},
   "outputs": [
    {
     "data": {
      "text/html": [
       "<div>\n",
       "<style scoped>\n",
       "    .dataframe tbody tr th:only-of-type {\n",
       "        vertical-align: middle;\n",
       "    }\n",
       "\n",
       "    .dataframe tbody tr th {\n",
       "        vertical-align: top;\n",
       "    }\n",
       "\n",
       "    .dataframe thead th {\n",
       "        text-align: right;\n",
       "    }\n",
       "</style>\n",
       "<table border=\"1\" class=\"dataframe\">\n",
       "  <thead>\n",
       "    <tr style=\"text-align: right;\">\n",
       "      <th></th>\n",
       "      <th>business_id</th>\n",
       "      <th>business_name</th>\n",
       "      <th>business_address</th>\n",
       "      <th>business_phone_number</th>\n",
       "    </tr>\n",
       "  </thead>\n",
       "  <tbody>\n",
       "    <tr>\n",
       "      <th>6</th>\n",
       "      <td>79974</td>\n",
       "      <td>Antonelli Brothers Meat, Fish, and Poultry Inc.</td>\n",
       "      <td>3585 California St</td>\n",
       "      <td>14155757413.0</td>\n",
       "    </tr>\n",
       "    <tr>\n",
       "      <th>13</th>\n",
       "      <td>87447</td>\n",
       "      <td>The Castro Republic</td>\n",
       "      <td>2295 Market St</td>\n",
       "      <td>14155930525.0</td>\n",
       "    </tr>\n",
       "    <tr>\n",
       "      <th>14</th>\n",
       "      <td>7747</td>\n",
       "      <td>SAFEWAY STORE #964</td>\n",
       "      <td>4950 Mission St</td>\n",
       "      <td>14155587200.0</td>\n",
       "    </tr>\n",
       "    <tr>\n",
       "      <th>20</th>\n",
       "      <td>87620</td>\n",
       "      <td>Dolores Park Outpost</td>\n",
       "      <td>698 Guerrero St</td>\n",
       "      <td>14155378648.0</td>\n",
       "    </tr>\n",
       "    <tr>\n",
       "      <th>23</th>\n",
       "      <td>80591</td>\n",
       "      <td>L &amp; G Vietnamese Sandwich</td>\n",
       "      <td>602 Eddy St</td>\n",
       "      <td>14155886402.0</td>\n",
       "    </tr>\n",
       "  </tbody>\n",
       "</table>\n",
       "</div>"
      ],
      "text/plain": [
       "    business_id                                    business_name  \\\n",
       "6         79974  Antonelli Brothers Meat, Fish, and Poultry Inc.   \n",
       "13        87447                              The Castro Republic   \n",
       "14         7747                               SAFEWAY STORE #964   \n",
       "20        87620                             Dolores Park Outpost   \n",
       "23        80591                        L & G Vietnamese Sandwich   \n",
       "\n",
       "      business_address business_phone_number  \n",
       "6   3585 California St         14155757413.0  \n",
       "13      2295 Market St         14155930525.0  \n",
       "14     4950 Mission St         14155587200.0  \n",
       "20     698 Guerrero St         14155378648.0  \n",
       "23         602 Eddy St         14155886402.0  "
      ]
     },
     "execution_count": 24,
     "metadata": {},
     "output_type": "execute_result"
    }
   ],
   "source": [
    "# re-setup the dataframe\n",
    "q=pd.read_csv('sf_restaurant_health_violations.csv',encoding='latin-1')\n",
    "# change type of business_phone_number into string\n",
    "q.business_phone_number=q.business_phone_number.astype(str)\n",
    "# find the string with fist character equal 1415\n",
    "q[q.business_phone_number.str.contains('^1415')].head().iloc[:,[0,1,2,9]]"
   ]
  },
  {
   "cell_type": "markdown",
   "id": "153576f4",
   "metadata": {},
   "source": [
    "# Highest Number Of High-risk Violations\n",
    "Find details of the business with the highest number of high-risk violations. Output all columns from the dataset considering business_id which consist 'high risk' phrase in risk_category column."
   ]
  },
  {
   "cell_type": "code",
   "execution_count": 7,
   "id": "9a889a4f",
   "metadata": {},
   "outputs": [
    {
     "data": {
      "text/html": [
       "<div>\n",
       "<style scoped>\n",
       "    .dataframe tbody tr th:only-of-type {\n",
       "        vertical-align: middle;\n",
       "    }\n",
       "\n",
       "    .dataframe tbody tr th {\n",
       "        vertical-align: top;\n",
       "    }\n",
       "\n",
       "    .dataframe thead th {\n",
       "        text-align: right;\n",
       "    }\n",
       "</style>\n",
       "<table border=\"1\" class=\"dataframe\">\n",
       "  <thead>\n",
       "    <tr style=\"text-align: right;\">\n",
       "      <th></th>\n",
       "      <th>business_id</th>\n",
       "      <th>business_name</th>\n",
       "      <th>business_address</th>\n",
       "      <th>total_violations</th>\n",
       "    </tr>\n",
       "  </thead>\n",
       "  <tbody>\n",
       "    <tr>\n",
       "      <th>30</th>\n",
       "      <td>86647</td>\n",
       "      <td>Da Cafe</td>\n",
       "      <td>407 Clement St</td>\n",
       "      <td>4</td>\n",
       "    </tr>\n",
       "    <tr>\n",
       "      <th>31</th>\n",
       "      <td>86718</td>\n",
       "      <td>Lollipot</td>\n",
       "      <td>890 Taraval St</td>\n",
       "      <td>2</td>\n",
       "    </tr>\n",
       "  </tbody>\n",
       "</table>\n",
       "</div>"
      ],
      "text/plain": [
       "    business_id business_name business_address  total_violations\n",
       "30        86647       Da Cafe   407 Clement St                 4\n",
       "31        86718      Lollipot   890 Taraval St                 2"
      ]
     },
     "execution_count": 7,
     "metadata": {},
     "output_type": "execute_result"
    }
   ],
   "source": [
    "# re-setup the dataframe\n",
    "q=pd.read_csv('sf_restaurant_health_violations.csv',encoding='latin-1')\n",
    "# filter with high risk, find the total violations according to 'business_id', 'business_name', 'business_address', rename and sort\n",
    "q[q.risk_category=='High Risk'].groupby(['business_id','business_name','business_address'])['violation_id'].count().reset_index().rename(columns={'violation_id':'total_violations'}).sort_values(by='total_violations',ascending=False).iloc[0:2,:]"
   ]
  },
  {
   "cell_type": "markdown",
   "id": "a8cce0ef",
   "metadata": {},
   "source": [
    "# Number Of Inspections By Zip\n",
    "Find the number of inspections that happened in the municipality with postal code 94102 during January, May or November in each year.\n",
    "Output the count of each month separately."
   ]
  },
  {
   "cell_type": "code",
   "execution_count": 8,
   "id": "0d7a5a7e",
   "metadata": {},
   "outputs": [
    {
     "data": {
      "text/plain": [
       "5"
      ]
     },
     "execution_count": 8,
     "metadata": {},
     "output_type": "execute_result"
    }
   ],
   "source": [
    "# re-setup the dataframe\n",
    "q=pd.read_csv('sf_restaurant_health_violations.csv',encoding='latin-1')\n",
    "# change business postal code into string\n",
    "q.business_postal_code=q.business_postal_code.astype(str)\n",
    "# find the business whose postal code is 94102\n",
    "q[q.business_postal_code.str.contains('94102')]\n",
    "# change the data type of inspection date\n",
    "q.inspection_date=q.inspection_date.apply(pd.to_datetime)\n",
    "# find the inspections which happened during January, May or November\n",
    "q[(q.inspection_date.dt.month == 1)|(q.inspection_date.dt.month == 5)|(q.inspection_date.dt.month == 11)]\n",
    "# filter the dataset with 2 condition:\n",
    "q=q[(q.business_postal_code.str.contains('94102'))&((q.inspection_date.dt.month == 1)|(q.inspection_date.dt.month == 5)|(q.inspection_date.dt.month == 11))]\n",
    "# find the total violation of the aboved dataset\n",
    "q.count()['violation_id']"
   ]
  },
  {
   "cell_type": "markdown",
   "id": "d50cb1bf",
   "metadata": {},
   "source": [
    "# Inspections Per Risk Category\n",
    "Count the number of inspections per each risk category.\n",
    "Categorize records with null values under the 'No Risk' category.\n",
    "\n",
    "Sort the result based on the number of inspections in descending order."
   ]
  },
  {
   "cell_type": "code",
   "execution_count": 9,
   "id": "1f1a70c6",
   "metadata": {},
   "outputs": [
    {
     "data": {
      "text/html": [
       "<div>\n",
       "<style scoped>\n",
       "    .dataframe tbody tr th:only-of-type {\n",
       "        vertical-align: middle;\n",
       "    }\n",
       "\n",
       "    .dataframe tbody tr th {\n",
       "        vertical-align: top;\n",
       "    }\n",
       "\n",
       "    .dataframe thead th {\n",
       "        text-align: right;\n",
       "    }\n",
       "</style>\n",
       "<table border=\"1\" class=\"dataframe\">\n",
       "  <thead>\n",
       "    <tr style=\"text-align: right;\">\n",
       "      <th></th>\n",
       "      <th>risk_category</th>\n",
       "      <th>total_violations</th>\n",
       "    </tr>\n",
       "  </thead>\n",
       "  <tbody>\n",
       "    <tr>\n",
       "      <th>0</th>\n",
       "      <td>High Risk</td>\n",
       "      <td>38</td>\n",
       "    </tr>\n",
       "    <tr>\n",
       "      <th>1</th>\n",
       "      <td>Low Risk</td>\n",
       "      <td>109</td>\n",
       "    </tr>\n",
       "    <tr>\n",
       "      <th>2</th>\n",
       "      <td>Moderate Risk</td>\n",
       "      <td>78</td>\n",
       "    </tr>\n",
       "    <tr>\n",
       "      <th>3</th>\n",
       "      <td>No Risk</td>\n",
       "      <td>0</td>\n",
       "    </tr>\n",
       "  </tbody>\n",
       "</table>\n",
       "</div>"
      ],
      "text/plain": [
       "   risk_category  total_violations\n",
       "0      High Risk                38\n",
       "1       Low Risk               109\n",
       "2  Moderate Risk                78\n",
       "3        No Risk                 0"
      ]
     },
     "execution_count": 9,
     "metadata": {},
     "output_type": "execute_result"
    }
   ],
   "source": [
    "q=pd.read_csv('sf_restaurant_health_violations.csv',encoding='latin-1')\n",
    "# fill the null values with the 'No Risk'\n",
    "q.risk_category=q.risk_category.fillna('No Risk')\n",
    "# groupby the total violations of each risk categories\n",
    "q.groupby('risk_category')['violation_id'].count().reset_index().rename(columns={'violation_id':'total_violations'})"
   ]
  },
  {
   "cell_type": "markdown",
   "id": "e030b729",
   "metadata": {},
   "source": [
    "# Find All Inspections Made On Restaurants\n",
    "Find all inspections made on restaurants and output the business name and the inspection score. For this question business is considered as a restaurant if it contains string \"restaurant\" inside its name."
   ]
  },
  {
   "cell_type": "code",
   "execution_count": 10,
   "id": "397b5b76",
   "metadata": {},
   "outputs": [
    {
     "data": {
      "text/plain": [
       "34"
      ]
     },
     "execution_count": 10,
     "metadata": {},
     "output_type": "execute_result"
    }
   ],
   "source": [
    "# import the RegEx library for Regular Expressions\n",
    "import re\n",
    "# reset the dataframe for new solution\n",
    "q=pd.read_csv('sf_restaurant_health_violations.csv',encoding='latin-1')\n",
    "# find all restaurants in dataset\n",
    "q[q.business_name.str.contains('restaurant',flags=re.I,regex=True)]\n",
    "# find all inspections made on restaurants\n",
    "q[q.business_name.str.contains('restaurant',flags=re.I,regex=True)].violation_id.count()"
   ]
  },
  {
   "cell_type": "markdown",
   "id": "71cabbd8",
   "metadata": {},
   "source": [
    "# Number of violations\n",
    "You're given a dataset of health inspections. Count the number of violation in an inspection in 'Roxanne Cafe' for each year. If an inspection resulted in a violation, there will be a value in the 'violation_id' column. Output the number of violations by year in ascending order."
   ]
  },
  {
   "cell_type": "code",
   "execution_count": 11,
   "id": "70d267a1",
   "metadata": {},
   "outputs": [
    {
     "data": {
      "text/html": [
       "<div>\n",
       "<style scoped>\n",
       "    .dataframe tbody tr th:only-of-type {\n",
       "        vertical-align: middle;\n",
       "    }\n",
       "\n",
       "    .dataframe tbody tr th {\n",
       "        vertical-align: top;\n",
       "    }\n",
       "\n",
       "    .dataframe thead th {\n",
       "        text-align: right;\n",
       "    }\n",
       "</style>\n",
       "<table border=\"1\" class=\"dataframe\">\n",
       "  <thead>\n",
       "    <tr style=\"text-align: right;\">\n",
       "      <th></th>\n",
       "      <th>year</th>\n",
       "      <th>total_violations</th>\n",
       "    </tr>\n",
       "  </thead>\n",
       "  <tbody>\n",
       "    <tr>\n",
       "      <th>0</th>\n",
       "      <td>2015</td>\n",
       "      <td>5</td>\n",
       "    </tr>\n",
       "    <tr>\n",
       "      <th>1</th>\n",
       "      <td>2016</td>\n",
       "      <td>2</td>\n",
       "    </tr>\n",
       "    <tr>\n",
       "      <th>2</th>\n",
       "      <td>2018</td>\n",
       "      <td>3</td>\n",
       "    </tr>\n",
       "  </tbody>\n",
       "</table>\n",
       "</div>"
      ],
      "text/plain": [
       "   year  total_violations\n",
       "0  2015                 5\n",
       "1  2016                 2\n",
       "2  2018                 3"
      ]
     },
     "execution_count": 11,
     "metadata": {},
     "output_type": "execute_result"
    }
   ],
   "source": [
    "# reset the dataframe for new solution\n",
    "q=pd.read_csv('sf_restaurant_health_violations.csv',encoding='latin-1')\n",
    "# change type of inspection date and get the year from it\n",
    "q.inspection_date=q.inspection_date.apply(pd.to_datetime)\n",
    "q['year']=q.inspection_date.dt.year\n",
    "# filter out the 'Roxanne Cafe', find the total violations of each years, rename columns\n",
    "q[q.business_name.str.contains('Roxanne Cafe')].groupby('year')['violation_id'].count().reset_index().rename(columns={'violation_id':'total_violations'})"
   ]
  },
  {
   "cell_type": "markdown",
   "id": "4fa12382",
   "metadata": {},
   "source": [
    "# Find the number of violations that each school had\n",
    "Find the number of violations that each school had. Any inspection is considered a violation if its risk category is not null.\n",
    "Output the corresponding business name along with the result.\n",
    "Order the result based on the number of violations in descending order."
   ]
  },
  {
   "cell_type": "code",
   "execution_count": 12,
   "id": "418c0b37",
   "metadata": {},
   "outputs": [
    {
     "data": {
      "text/plain": [
       "business_name                risk_category\n",
       "BALBOA HIGH SCHOOL           Low Risk         1\n",
       "DENMAN MIDDLE SCHOOL         Low Risk         1\n",
       "Francisco Middle School      Low Risk         1\n",
       "Gateway High/Kip Schools     High Risk        1\n",
       "John Chin Elementary School  Low Risk         1\n",
       "Name: risk_category, dtype: int64"
      ]
     },
     "execution_count": 12,
     "metadata": {},
     "output_type": "execute_result"
    }
   ],
   "source": [
    "# reset the dataframe for new solution\n",
    "q=pd.read_csv('sf_restaurant_health_violations.csv',encoding='latin-1')\n",
    "# find the total violation of each school and risk category\n",
    "q[q.business_name.str.contains('School|SCHOOL|school')].groupby('business_name')['risk_category'].value_counts()"
   ]
  },
  {
   "cell_type": "markdown",
   "id": "2b1d4649",
   "metadata": {},
   "source": [
    "# Find the postal code which has the highest average inspection score\n",
    "Find the postal code which has the highest average inspection score.\n",
    "Output the corresponding postal code along with the result."
   ]
  },
  {
   "cell_type": "code",
   "execution_count": 13,
   "id": "ef311a45",
   "metadata": {
    "scrolled": true
   },
   "outputs": [
    {
     "data": {
      "text/html": [
       "<div>\n",
       "<style scoped>\n",
       "    .dataframe tbody tr th:only-of-type {\n",
       "        vertical-align: middle;\n",
       "    }\n",
       "\n",
       "    .dataframe tbody tr th {\n",
       "        vertical-align: top;\n",
       "    }\n",
       "\n",
       "    .dataframe thead th {\n",
       "        text-align: right;\n",
       "    }\n",
       "</style>\n",
       "<table border=\"1\" class=\"dataframe\">\n",
       "  <thead>\n",
       "    <tr style=\"text-align: right;\">\n",
       "      <th></th>\n",
       "      <th>business_postal_code</th>\n",
       "      <th>avg_inspection_score</th>\n",
       "    </tr>\n",
       "  </thead>\n",
       "  <tbody>\n",
       "    <tr>\n",
       "      <th>4</th>\n",
       "      <td>94107</td>\n",
       "      <td>92.0</td>\n",
       "    </tr>\n",
       "    <tr>\n",
       "      <th>21</th>\n",
       "      <td>94132</td>\n",
       "      <td>92.0</td>\n",
       "    </tr>\n",
       "    <tr>\n",
       "      <th>19</th>\n",
       "      <td>94127</td>\n",
       "      <td>92.0</td>\n",
       "    </tr>\n",
       "    <tr>\n",
       "      <th>13</th>\n",
       "      <td>94117</td>\n",
       "      <td>91.0</td>\n",
       "    </tr>\n",
       "    <tr>\n",
       "      <th>24</th>\n",
       "      <td>nan</td>\n",
       "      <td>90.0</td>\n",
       "    </tr>\n",
       "  </tbody>\n",
       "</table>\n",
       "</div>"
      ],
      "text/plain": [
       "   business_postal_code  avg_inspection_score\n",
       "4                 94107                  92.0\n",
       "21                94132                  92.0\n",
       "19                94127                  92.0\n",
       "13                94117                  91.0\n",
       "24                  nan                  90.0"
      ]
     },
     "execution_count": 13,
     "metadata": {},
     "output_type": "execute_result"
    }
   ],
   "source": [
    "# reset data\n",
    "q=pd.read_csv('sf_restaurant_health_violations.csv',encoding='latin-1')\n",
    "# Substring of an entire 'business_postal_code' column\n",
    "q.business_postal_code=q.business_postal_code.astype(str).str[:5]\n",
    "# final result\n",
    "q.groupby('business_postal_code')['inspection_score'].mean().round(0).reset_index().rename(columns={'inspection_score':'avg_inspection_score'}).sort_values(by='avg_inspection_score',ascending=False).head()"
   ]
  },
  {
   "cell_type": "markdown",
   "id": "89b9ddd6",
   "metadata": {},
   "source": [
    "# Find the business names that have inspection scores of less than 50\n",
    "Find the business names that scored less than 50 in inspections.\n",
    "Output the result along with the corresponding inspection date and the score."
   ]
  },
  {
   "cell_type": "code",
   "execution_count": 14,
   "id": "bd3079eb",
   "metadata": {},
   "outputs": [
    {
     "data": {
      "text/html": [
       "<div>\n",
       "<style scoped>\n",
       "    .dataframe tbody tr th:only-of-type {\n",
       "        vertical-align: middle;\n",
       "    }\n",
       "\n",
       "    .dataframe tbody tr th {\n",
       "        vertical-align: top;\n",
       "    }\n",
       "\n",
       "    .dataframe thead th {\n",
       "        text-align: right;\n",
       "    }\n",
       "</style>\n",
       "<table border=\"1\" class=\"dataframe\">\n",
       "  <thead>\n",
       "    <tr style=\"text-align: right;\">\n",
       "      <th></th>\n",
       "      <th>business_id</th>\n",
       "      <th>business_name</th>\n",
       "      <th>inspection_score</th>\n",
       "      <th>inspection_date</th>\n",
       "    </tr>\n",
       "  </thead>\n",
       "  <tbody>\n",
       "    <tr>\n",
       "      <th>277</th>\n",
       "      <td>86718</td>\n",
       "      <td>Lollipot</td>\n",
       "      <td>45.0</td>\n",
       "      <td>5/22/2018</td>\n",
       "    </tr>\n",
       "    <tr>\n",
       "      <th>278</th>\n",
       "      <td>86718</td>\n",
       "      <td>Lollipot</td>\n",
       "      <td>45.0</td>\n",
       "      <td>5/22/2018</td>\n",
       "    </tr>\n",
       "    <tr>\n",
       "      <th>279</th>\n",
       "      <td>86647</td>\n",
       "      <td>Da Cafe</td>\n",
       "      <td>48.0</td>\n",
       "      <td>9/7/2016</td>\n",
       "    </tr>\n",
       "    <tr>\n",
       "      <th>280</th>\n",
       "      <td>86718</td>\n",
       "      <td>Lollipot</td>\n",
       "      <td>45.0</td>\n",
       "      <td>5/22/2018</td>\n",
       "    </tr>\n",
       "    <tr>\n",
       "      <th>281</th>\n",
       "      <td>86718</td>\n",
       "      <td>Lollipot</td>\n",
       "      <td>45.0</td>\n",
       "      <td>5/22/2018</td>\n",
       "    </tr>\n",
       "    <tr>\n",
       "      <th>282</th>\n",
       "      <td>86718</td>\n",
       "      <td>Lollipot</td>\n",
       "      <td>45.0</td>\n",
       "      <td>5/22/2018</td>\n",
       "    </tr>\n",
       "    <tr>\n",
       "      <th>283</th>\n",
       "      <td>86718</td>\n",
       "      <td>Lollipot</td>\n",
       "      <td>45.0</td>\n",
       "      <td>5/22/2018</td>\n",
       "    </tr>\n",
       "    <tr>\n",
       "      <th>284</th>\n",
       "      <td>86647</td>\n",
       "      <td>Da Cafe</td>\n",
       "      <td>48.0</td>\n",
       "      <td>9/7/2016</td>\n",
       "    </tr>\n",
       "    <tr>\n",
       "      <th>285</th>\n",
       "      <td>86647</td>\n",
       "      <td>Da Cafe</td>\n",
       "      <td>48.0</td>\n",
       "      <td>9/7/2016</td>\n",
       "    </tr>\n",
       "    <tr>\n",
       "      <th>286</th>\n",
       "      <td>86647</td>\n",
       "      <td>Da Cafe</td>\n",
       "      <td>48.0</td>\n",
       "      <td>9/7/2016</td>\n",
       "    </tr>\n",
       "  </tbody>\n",
       "</table>\n",
       "</div>"
      ],
      "text/plain": [
       "     business_id business_name  inspection_score inspection_date\n",
       "277        86718      Lollipot              45.0       5/22/2018\n",
       "278        86718      Lollipot              45.0       5/22/2018\n",
       "279        86647       Da Cafe              48.0        9/7/2016\n",
       "280        86718      Lollipot              45.0       5/22/2018\n",
       "281        86718      Lollipot              45.0       5/22/2018\n",
       "282        86718      Lollipot              45.0       5/22/2018\n",
       "283        86718      Lollipot              45.0       5/22/2018\n",
       "284        86647       Da Cafe              48.0        9/7/2016\n",
       "285        86647       Da Cafe              48.0        9/7/2016\n",
       "286        86647       Da Cafe              48.0        9/7/2016"
      ]
     },
     "execution_count": 14,
     "metadata": {},
     "output_type": "execute_result"
    }
   ],
   "source": [
    "# reset the dataframe for new solution\n",
    "q=pd.read_csv('sf_restaurant_health_violations.csv',encoding='latin-1')\n",
    "q[q['inspection_score']<50].iloc[:,[0,1,-5,-6]]"
   ]
  },
  {
   "cell_type": "markdown",
   "id": "63aa4e8a",
   "metadata": {},
   "source": [
    "# Find the first and last times the maximum score was awarded\n",
    "Find the first and last times the maximum score was awarded\n",
    "\n"
   ]
  },
  {
   "cell_type": "code",
   "execution_count": 25,
   "id": "3fafc682",
   "metadata": {},
   "outputs": [
    {
     "data": {
      "text/html": [
       "<div>\n",
       "<style scoped>\n",
       "    .dataframe tbody tr th:only-of-type {\n",
       "        vertical-align: middle;\n",
       "    }\n",
       "\n",
       "    .dataframe tbody tr th {\n",
       "        vertical-align: top;\n",
       "    }\n",
       "\n",
       "    .dataframe thead th {\n",
       "        text-align: right;\n",
       "    }\n",
       "</style>\n",
       "<table border=\"1\" class=\"dataframe\">\n",
       "  <thead>\n",
       "    <tr style=\"text-align: right;\">\n",
       "      <th></th>\n",
       "      <th>business_id</th>\n",
       "      <th>business_name</th>\n",
       "      <th>business_address</th>\n",
       "      <th>business_city</th>\n",
       "      <th>inspection_score</th>\n",
       "      <th>inspection_date</th>\n",
       "    </tr>\n",
       "  </thead>\n",
       "  <tbody>\n",
       "    <tr>\n",
       "      <th>131</th>\n",
       "      <td>70755</td>\n",
       "      <td>North Point Market</td>\n",
       "      <td>3098 Polk St</td>\n",
       "      <td>San Francisco</td>\n",
       "      <td>100.0</td>\n",
       "      <td>2018-06-15</td>\n",
       "    </tr>\n",
       "    <tr>\n",
       "      <th>17</th>\n",
       "      <td>5862</td>\n",
       "      <td>MARTIN L. KING MIDDLE SCHOOL</td>\n",
       "      <td>350 GIRARD St</td>\n",
       "      <td>San Francisco</td>\n",
       "      <td>100.0</td>\n",
       "      <td>2015-09-23</td>\n",
       "    </tr>\n",
       "  </tbody>\n",
       "</table>\n",
       "</div>"
      ],
      "text/plain": [
       "     business_id                 business_name business_address  \\\n",
       "131        70755            North Point Market     3098 Polk St   \n",
       "17          5862  MARTIN L. KING MIDDLE SCHOOL    350 GIRARD St   \n",
       "\n",
       "     business_city  inspection_score inspection_date  \n",
       "131  San Francisco             100.0      2018-06-15  \n",
       "17   San Francisco             100.0      2015-09-23  "
      ]
     },
     "execution_count": 25,
     "metadata": {},
     "output_type": "execute_result"
    }
   ],
   "source": [
    "# reset the dataframe for new solution\n",
    "q=pd.read_csv('sf_restaurant_health_violations.csv',encoding='latin-1')\n",
    "# change the datatype of 'inspection date' column\n",
    "q.inspection_date=q.inspection_date.apply(pd.to_datetime)\n",
    "# find the data which equal the maximum inspection score, sort value by date, find the first and the last of them\n",
    "q[q.inspection_score==q.inspection_score.max()].sort_values(by='inspection_date',ascending=False).iloc[[0,-1],[0,1,2,3,-5,-6]]"
   ]
  },
  {
   "cell_type": "markdown",
   "id": "a3958803",
   "metadata": {},
   "source": [
    "# Find the business names that have inspection scores of less than 50\n",
    "Find the business names that scored less than 50 in inspections.\n",
    "Output the result along with the corresponding inspection date and the score."
   ]
  },
  {
   "cell_type": "code",
   "execution_count": 16,
   "id": "b36ef837",
   "metadata": {},
   "outputs": [
    {
     "data": {
      "text/html": [
       "<div>\n",
       "<style scoped>\n",
       "    .dataframe tbody tr th:only-of-type {\n",
       "        vertical-align: middle;\n",
       "    }\n",
       "\n",
       "    .dataframe tbody tr th {\n",
       "        vertical-align: top;\n",
       "    }\n",
       "\n",
       "    .dataframe thead th {\n",
       "        text-align: right;\n",
       "    }\n",
       "</style>\n",
       "<table border=\"1\" class=\"dataframe\">\n",
       "  <thead>\n",
       "    <tr style=\"text-align: right;\">\n",
       "      <th></th>\n",
       "      <th>business_id</th>\n",
       "      <th>business_name</th>\n",
       "      <th>inspection_date</th>\n",
       "      <th>inspection_score</th>\n",
       "    </tr>\n",
       "  </thead>\n",
       "  <tbody>\n",
       "    <tr>\n",
       "      <th>277</th>\n",
       "      <td>86718</td>\n",
       "      <td>Lollipot</td>\n",
       "      <td>5/22/2018</td>\n",
       "      <td>45.0</td>\n",
       "    </tr>\n",
       "    <tr>\n",
       "      <th>278</th>\n",
       "      <td>86718</td>\n",
       "      <td>Lollipot</td>\n",
       "      <td>5/22/2018</td>\n",
       "      <td>45.0</td>\n",
       "    </tr>\n",
       "    <tr>\n",
       "      <th>279</th>\n",
       "      <td>86647</td>\n",
       "      <td>Da Cafe</td>\n",
       "      <td>9/7/2016</td>\n",
       "      <td>48.0</td>\n",
       "    </tr>\n",
       "    <tr>\n",
       "      <th>280</th>\n",
       "      <td>86718</td>\n",
       "      <td>Lollipot</td>\n",
       "      <td>5/22/2018</td>\n",
       "      <td>45.0</td>\n",
       "    </tr>\n",
       "    <tr>\n",
       "      <th>281</th>\n",
       "      <td>86718</td>\n",
       "      <td>Lollipot</td>\n",
       "      <td>5/22/2018</td>\n",
       "      <td>45.0</td>\n",
       "    </tr>\n",
       "    <tr>\n",
       "      <th>282</th>\n",
       "      <td>86718</td>\n",
       "      <td>Lollipot</td>\n",
       "      <td>5/22/2018</td>\n",
       "      <td>45.0</td>\n",
       "    </tr>\n",
       "    <tr>\n",
       "      <th>283</th>\n",
       "      <td>86718</td>\n",
       "      <td>Lollipot</td>\n",
       "      <td>5/22/2018</td>\n",
       "      <td>45.0</td>\n",
       "    </tr>\n",
       "    <tr>\n",
       "      <th>284</th>\n",
       "      <td>86647</td>\n",
       "      <td>Da Cafe</td>\n",
       "      <td>9/7/2016</td>\n",
       "      <td>48.0</td>\n",
       "    </tr>\n",
       "    <tr>\n",
       "      <th>285</th>\n",
       "      <td>86647</td>\n",
       "      <td>Da Cafe</td>\n",
       "      <td>9/7/2016</td>\n",
       "      <td>48.0</td>\n",
       "    </tr>\n",
       "    <tr>\n",
       "      <th>286</th>\n",
       "      <td>86647</td>\n",
       "      <td>Da Cafe</td>\n",
       "      <td>9/7/2016</td>\n",
       "      <td>48.0</td>\n",
       "    </tr>\n",
       "  </tbody>\n",
       "</table>\n",
       "</div>"
      ],
      "text/plain": [
       "     business_id business_name inspection_date  inspection_score\n",
       "277        86718      Lollipot       5/22/2018              45.0\n",
       "278        86718      Lollipot       5/22/2018              45.0\n",
       "279        86647       Da Cafe        9/7/2016              48.0\n",
       "280        86718      Lollipot       5/22/2018              45.0\n",
       "281        86718      Lollipot       5/22/2018              45.0\n",
       "282        86718      Lollipot       5/22/2018              45.0\n",
       "283        86718      Lollipot       5/22/2018              45.0\n",
       "284        86647       Da Cafe        9/7/2016              48.0\n",
       "285        86647       Da Cafe        9/7/2016              48.0\n",
       "286        86647       Da Cafe        9/7/2016              48.0"
      ]
     },
     "execution_count": 16,
     "metadata": {},
     "output_type": "execute_result"
    }
   ],
   "source": [
    "# reset the dataframe for new solution\n",
    "q=pd.read_csv('sf_restaurant_health_violations.csv',encoding='latin-1')\n",
    "q[q.inspection_score<50].iloc[:,[0,1,-6,-5]]"
   ]
  },
  {
   "cell_type": "markdown",
   "id": "2aa23ed5",
   "metadata": {},
   "source": [
    "# Find the average of inspections scores between 91 and 100\n",
    "Find the mean of inspections scores between 91 and 100.\n",
    "Assuming that the scores are normally distributed."
   ]
  },
  {
   "cell_type": "code",
   "execution_count": 17,
   "id": "5d914fd5",
   "metadata": {
    "scrolled": true
   },
   "outputs": [
    {
     "data": {
      "text/html": [
       "<div>\n",
       "<style scoped>\n",
       "    .dataframe tbody tr th:only-of-type {\n",
       "        vertical-align: middle;\n",
       "    }\n",
       "\n",
       "    .dataframe tbody tr th {\n",
       "        vertical-align: top;\n",
       "    }\n",
       "\n",
       "    .dataframe thead th {\n",
       "        text-align: right;\n",
       "    }\n",
       "</style>\n",
       "<table border=\"1\" class=\"dataframe\">\n",
       "  <thead>\n",
       "    <tr style=\"text-align: right;\">\n",
       "      <th></th>\n",
       "      <th>business_id</th>\n",
       "      <th>business_name</th>\n",
       "      <th>inspection_score</th>\n",
       "    </tr>\n",
       "  </thead>\n",
       "  <tbody>\n",
       "    <tr>\n",
       "      <th>0</th>\n",
       "      <td>5800</td>\n",
       "      <td>John Chin Elementary School</td>\n",
       "      <td>98.0</td>\n",
       "    </tr>\n",
       "    <tr>\n",
       "      <th>6</th>\n",
       "      <td>79974</td>\n",
       "      <td>Antonelli Brothers Meat, Fish, and Poultry Inc.</td>\n",
       "      <td>94.0</td>\n",
       "    </tr>\n",
       "    <tr>\n",
       "      <th>7</th>\n",
       "      <td>1939</td>\n",
       "      <td>STARBUCKS COFFEE CO. #603</td>\n",
       "      <td>98.0</td>\n",
       "    </tr>\n",
       "    <tr>\n",
       "      <th>17</th>\n",
       "      <td>5862</td>\n",
       "      <td>MARTIN L. KING MIDDLE SCHOOL</td>\n",
       "      <td>100.0</td>\n",
       "    </tr>\n",
       "    <tr>\n",
       "      <th>26</th>\n",
       "      <td>86780</td>\n",
       "      <td>Peet's Coffee &amp; Tea</td>\n",
       "      <td>96.0</td>\n",
       "    </tr>\n",
       "  </tbody>\n",
       "</table>\n",
       "</div>"
      ],
      "text/plain": [
       "    business_id                                    business_name  \\\n",
       "0          5800                      John Chin Elementary School   \n",
       "6         79974  Antonelli Brothers Meat, Fish, and Poultry Inc.   \n",
       "7          1939                        STARBUCKS COFFEE CO. #603   \n",
       "17         5862                     MARTIN L. KING MIDDLE SCHOOL   \n",
       "26        86780                              Peet's Coffee & Tea   \n",
       "\n",
       "    inspection_score  \n",
       "0               98.0  \n",
       "6               94.0  \n",
       "7               98.0  \n",
       "17             100.0  \n",
       "26              96.0  "
      ]
     },
     "execution_count": 17,
     "metadata": {},
     "output_type": "execute_result"
    }
   ],
   "source": [
    "# reset the dataframe for new solution\n",
    "q=pd.read_csv('sf_restaurant_health_violations.csv',encoding='latin-1')\n",
    "# final results:\n",
    "q[(q.inspection_score<=100)&(q.inspection_score>=91)].iloc[:,[0,1,-5]].head()"
   ]
  },
  {
   "cell_type": "markdown",
   "id": "d955fc34",
   "metadata": {},
   "source": [
    "# Classify Business Type\n",
    "Classify each business as either a restaurant, cafe, school, or other.\n",
    "\n",
    "\n",
    "•\tA restaurant should have the word 'restaurant' in the business name.\n",
    "•\tA cafe should have either 'cafe', 'café', or 'coffee' in the business name.\n",
    "•\tA school should have the word 'school' in the business name.\n",
    "•\tAll other businesses should be classified as 'other'.\n",
    "\n",
    "\n",
    "Output the business name and their classification."
   ]
  },
  {
   "cell_type": "code",
   "execution_count": 18,
   "id": "3509d6c1",
   "metadata": {},
   "outputs": [],
   "source": [
    "# import the RegEx library for Regular Expressions\n",
    "import re\n",
    "# reset the dataframe for new solution\n",
    "q=pd.read_csv('sf_restaurant_health_violations.csv',encoding='latin-1')"
   ]
  },
  {
   "cell_type": "code",
   "execution_count": 19,
   "id": "a39d4447",
   "metadata": {},
   "outputs": [],
   "source": [
    "# Condition 1: All restaurants in dataset: q.business_name.str.contains('restaurant',flags=re.I,regex=True)\n",
    "# Condition 2: All cafe in dataset: q.business_name.str.contains('cafe|coffee|café',flags=re.I,regex=True)\n",
    "# Condition 3: All schools in dataset: q.business_name.str.contains('school',flags=re.I,regex=True)"
   ]
  },
  {
   "cell_type": "code",
   "execution_count": 20,
   "id": "f7738cc1",
   "metadata": {},
   "outputs": [
    {
     "data": {
      "text/plain": [
       "classification\n",
       "cafe           50\n",
       "other         202\n",
       "restaurant     38\n",
       "school          7\n",
       "Name: business_id, dtype: int64"
      ]
     },
     "execution_count": 20,
     "metadata": {},
     "output_type": "execute_result"
    }
   ],
   "source": [
    "# find the other and fill 'other' into the 'classification'\n",
    "q['classification']='other'\n",
    "# fill 'restaurant' with the condition 1\n",
    "q.loc[q.business_name.str.contains('restaurant',flags=re.I,regex=True),'classification']= 'restaurant'\n",
    "# fill 'cafe' with the condition 2\n",
    "q.loc[q.business_name.str.contains('cafe|coffee|café',flags=re.I,regex=True),'classification']= 'cafe'\n",
    "# fill 'school' with the condition 3\n",
    "q.loc[q.business_name.str.contains('school',flags=re.I,regex=True),'classification']= 'school'\n",
    "#  final resul\n",
    "q.iloc[:,[1,-1]]\n",
    "# the total businesses of each classifications\n",
    "q.groupby('classification')['business_id'].count()"
   ]
  },
  {
   "cell_type": "markdown",
   "id": "1b2b9ddc",
   "metadata": {},
   "source": [
    "# Find all businesses whose lowest and highest inspection scores are different\n",
    "Find all businesses whose lowest and highest inspection scores are different.\n",
    "Output the corresponding business name and the lowest and highest scores of each business.\n",
    "Order the result based on the business name in ascending order."
   ]
  },
  {
   "cell_type": "code",
   "execution_count": 21,
   "id": "81d6a005",
   "metadata": {},
   "outputs": [
    {
     "data": {
      "text/html": [
       "<div>\n",
       "<style scoped>\n",
       "    .dataframe tbody tr th:only-of-type {\n",
       "        vertical-align: middle;\n",
       "    }\n",
       "\n",
       "    .dataframe tbody tr th {\n",
       "        vertical-align: top;\n",
       "    }\n",
       "\n",
       "    .dataframe thead th {\n",
       "        text-align: right;\n",
       "    }\n",
       "</style>\n",
       "<table border=\"1\" class=\"dataframe\">\n",
       "  <thead>\n",
       "    <tr style=\"text-align: right;\">\n",
       "      <th></th>\n",
       "      <th>business_id</th>\n",
       "      <th>business_name</th>\n",
       "      <th>lowest_inspection_score</th>\n",
       "      <th>highest_inspection_score</th>\n",
       "    </tr>\n",
       "  </thead>\n",
       "  <tbody>\n",
       "    <tr>\n",
       "      <th>74</th>\n",
       "      <td>83351</td>\n",
       "      <td>City Super</td>\n",
       "      <td>77.0</td>\n",
       "      <td>78.0</td>\n",
       "    </tr>\n",
       "    <tr>\n",
       "      <th>264</th>\n",
       "      <td>89276</td>\n",
       "      <td>Fresca Gardens, Inc</td>\n",
       "      <td>82.0</td>\n",
       "      <td>88.0</td>\n",
       "    </tr>\n",
       "    <tr>\n",
       "      <th>8</th>\n",
       "      <td>68872</td>\n",
       "      <td>Jiang Ling Cuisine Restaurant</td>\n",
       "      <td>72.0</td>\n",
       "      <td>74.0</td>\n",
       "    </tr>\n",
       "    <tr>\n",
       "      <th>254</th>\n",
       "      <td>86780</td>\n",
       "      <td>Peet's Coffee &amp; Tea</td>\n",
       "      <td>0.0</td>\n",
       "      <td>96.0</td>\n",
       "    </tr>\n",
       "    <tr>\n",
       "      <th>177</th>\n",
       "      <td>83046</td>\n",
       "      <td>Project Juice</td>\n",
       "      <td>96.0</td>\n",
       "      <td>100.0</td>\n",
       "    </tr>\n",
       "    <tr>\n",
       "      <th>212</th>\n",
       "      <td>80302</td>\n",
       "      <td>Project Juice</td>\n",
       "      <td>96.0</td>\n",
       "      <td>100.0</td>\n",
       "    </tr>\n",
       "    <tr>\n",
       "      <th>288</th>\n",
       "      <td>500</td>\n",
       "      <td>Roxanne Cafe</td>\n",
       "      <td>86.0</td>\n",
       "      <td>92.0</td>\n",
       "    </tr>\n",
       "    <tr>\n",
       "      <th>58</th>\n",
       "      <td>7747</td>\n",
       "      <td>SAFEWAY STORE #964</td>\n",
       "      <td>0.0</td>\n",
       "      <td>81.0</td>\n",
       "    </tr>\n",
       "    <tr>\n",
       "      <th>271</th>\n",
       "      <td>64236</td>\n",
       "      <td>Sutter Pub and Restaurant</td>\n",
       "      <td>88.0</td>\n",
       "      <td>90.0</td>\n",
       "    </tr>\n",
       "    <tr>\n",
       "      <th>128</th>\n",
       "      <td>90839</td>\n",
       "      <td>The Grove - Design District</td>\n",
       "      <td>0.0</td>\n",
       "      <td>96.0</td>\n",
       "    </tr>\n",
       "    <tr>\n",
       "      <th>115</th>\n",
       "      <td>38231</td>\n",
       "      <td>Wines of California Wine Bar</td>\n",
       "      <td>88.0</td>\n",
       "      <td>92.0</td>\n",
       "    </tr>\n",
       "  </tbody>\n",
       "</table>\n",
       "</div>"
      ],
      "text/plain": [
       "     business_id                  business_name  lowest_inspection_score  \\\n",
       "74         83351                     City Super                     77.0   \n",
       "264        89276            Fresca Gardens, Inc                     82.0   \n",
       "8          68872  Jiang Ling Cuisine Restaurant                     72.0   \n",
       "254        86780            Peet's Coffee & Tea                      0.0   \n",
       "177        83046                  Project Juice                     96.0   \n",
       "212        80302                  Project Juice                     96.0   \n",
       "288          500                   Roxanne Cafe                     86.0   \n",
       "58          7747             SAFEWAY STORE #964                      0.0   \n",
       "271        64236      Sutter Pub and Restaurant                     88.0   \n",
       "128        90839    The Grove - Design District                      0.0   \n",
       "115        38231   Wines of California Wine Bar                     88.0   \n",
       "\n",
       "     highest_inspection_score  \n",
       "74                       78.0  \n",
       "264                      88.0  \n",
       "8                        74.0  \n",
       "254                      96.0  \n",
       "177                     100.0  \n",
       "212                     100.0  \n",
       "288                      92.0  \n",
       "58                       81.0  \n",
       "271                      90.0  \n",
       "128                      96.0  \n",
       "115                      92.0  "
      ]
     },
     "execution_count": 21,
     "metadata": {},
     "output_type": "execute_result"
    }
   ],
   "source": [
    "q=pd.read_csv('sf_restaurant_health_violations.csv',encoding='latin-1')\n",
    "# Fill the missing values of inspection score with zero\n",
    "q.inspection_score=q.inspection_score.fillna(0)\n",
    "# Create a highest inspection score of each bussinesses\n",
    "q['highest_inspection_score']=q.groupby('business_name')['inspection_score'].transform(max)\n",
    "# Create a lowest inspection score of each bussinesses\n",
    "q['lowest_inspection_score']=q.groupby('business_name')['inspection_score'].transform(min)\n",
    "# Find all businesses whose lowest and highest inspection scores are different.\n",
    "q[q['highest_inspection_score']!=q['lowest_inspection_score']].iloc[:,[0,1,-1,-2]].sort_values(by='business_name',ascending=True)\n",
    "q=q[q['highest_inspection_score']!=q['lowest_inspection_score']].iloc[:,[0,1,-1,-2]].sort_values(by='business_name',ascending=True)\n",
    "# Find the unique values of table\n",
    "q[~q.duplicated()]"
   ]
  },
  {
   "cell_type": "markdown",
   "id": "41a2e2f0",
   "metadata": {},
   "source": [
    "# Worst Businesses\n",
    "\n",
    "\n",
    "For every year, find the worst business in the dataset. The worst business has the most violations during the year. You should output the year, business name, and number of violations.\n",
    "\n"
   ]
  },
  {
   "cell_type": "code",
   "execution_count": 22,
   "id": "6bed7e6d",
   "metadata": {},
   "outputs": [
    {
     "data": {
      "text/html": [
       "<div>\n",
       "<style scoped>\n",
       "    .dataframe tbody tr th:only-of-type {\n",
       "        vertical-align: middle;\n",
       "    }\n",
       "\n",
       "    .dataframe tbody tr th {\n",
       "        vertical-align: top;\n",
       "    }\n",
       "\n",
       "    .dataframe thead th {\n",
       "        text-align: right;\n",
       "    }\n",
       "</style>\n",
       "<table border=\"1\" class=\"dataframe\">\n",
       "  <thead>\n",
       "    <tr style=\"text-align: right;\">\n",
       "      <th></th>\n",
       "      <th>year</th>\n",
       "      <th>total_violations</th>\n",
       "      <th>business_id</th>\n",
       "      <th>business_name</th>\n",
       "    </tr>\n",
       "  </thead>\n",
       "  <tbody>\n",
       "    <tr>\n",
       "      <th>3</th>\n",
       "      <td>2018</td>\n",
       "      <td>6</td>\n",
       "      <td>86718</td>\n",
       "      <td>Lollipot</td>\n",
       "    </tr>\n",
       "    <tr>\n",
       "      <th>0</th>\n",
       "      <td>2017</td>\n",
       "      <td>2</td>\n",
       "      <td>86780</td>\n",
       "      <td>Peet's Coffee &amp; Tea</td>\n",
       "    </tr>\n",
       "    <tr>\n",
       "      <th>9</th>\n",
       "      <td>2016</td>\n",
       "      <td>4</td>\n",
       "      <td>86647</td>\n",
       "      <td>Da Cafe</td>\n",
       "    </tr>\n",
       "    <tr>\n",
       "      <th>13</th>\n",
       "      <td>2015</td>\n",
       "      <td>5</td>\n",
       "      <td>500</td>\n",
       "      <td>Roxanne Cafe</td>\n",
       "    </tr>\n",
       "  </tbody>\n",
       "</table>\n",
       "</div>"
      ],
      "text/plain": [
       "    year  total_violations  business_id        business_name\n",
       "3   2018                 6        86718             Lollipot\n",
       "0   2017                 2        86780  Peet's Coffee & Tea\n",
       "9   2016                 4        86647              Da Cafe\n",
       "13  2015                 5          500         Roxanne Cafe"
      ]
     },
     "execution_count": 22,
     "metadata": {},
     "output_type": "execute_result"
    }
   ],
   "source": [
    "q=pd.read_csv('sf_restaurant_health_violations.csv',encoding='latin-1')\n",
    "# change data type of inspection date into datetime\n",
    "q.inspection_date=q.inspection_date.apply(pd.to_datetime)\n",
    "q['year']=q.inspection_date.dt.year\n",
    "# find the total viloation per business_name of each years\n",
    "q['total_violations']=q.groupby(['year','business_name'])['violation_id'].transform('count')\n",
    "# add the column of max violations of each year\n",
    "qq=q.groupby(['year'])['total_violations'].max().reset_index()\n",
    "# merge the table which contains the total violations with the table which contains the max violations of each year\n",
    "q=pd.merge(q,qq,left_on=['year','total_violations'],right_on=['year','total_violations'],how='inner')\n",
    "# remove duplicated\n",
    "q[~q.duplicated(subset=['business_id','year'])]\n",
    "q=q[~q.duplicated(subset=['business_id','year'])]\n",
    "# sort out the nessary columns and sort values by year in descending\n",
    "q.iloc[:,[-2,-1,0,1]].sort_values(by='year',ascending=False)"
   ]
  },
  {
   "cell_type": "code",
   "execution_count": null,
   "id": "7c5d9936",
   "metadata": {},
   "outputs": [],
   "source": []
  },
  {
   "cell_type": "code",
   "execution_count": null,
   "id": "4a90e6e7",
   "metadata": {},
   "outputs": [],
   "source": []
  }
 ],
 "metadata": {
  "kernelspec": {
   "display_name": "Python 3 (ipykernel)",
   "language": "python",
   "name": "python3"
  },
  "language_info": {
   "codemirror_mode": {
    "name": "ipython",
    "version": 3
   },
   "file_extension": ".py",
   "mimetype": "text/x-python",
   "name": "python",
   "nbconvert_exporter": "python",
   "pygments_lexer": "ipython3",
   "version": "3.9.13"
  }
 },
 "nbformat": 4,
 "nbformat_minor": 5
}

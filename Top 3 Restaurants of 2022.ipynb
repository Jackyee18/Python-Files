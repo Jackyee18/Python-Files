{
 "cells": [
  {
   "cell_type": "code",
   "execution_count": 3,
   "id": "eb291233",
   "metadata": {},
   "outputs": [],
   "source": [
    "import pandas as pd\n",
    "import numpy as np\n",
    "order_value_dd = pd.read_csv('order_value_dd.csv')\n",
    "delivery_orders = pd.read_csv('delivery_orders.csv')"
   ]
  },
  {
   "cell_type": "markdown",
   "id": "8acdfefc",
   "metadata": {},
   "source": [
    "Christmas is quickly approaching, and the DoorDash team anticipates an increase in sales. In order to predict the busiest restaurants, they want to identify the top three restaurants by ID in terms of sales in 2022.\n",
    "\n",
    "The output should include the restaurant IDs as well as their corresponding sales."
   ]
  },
  {
   "cell_type": "code",
   "execution_count": 5,
   "id": "edb928c2",
   "metadata": {},
   "outputs": [
    {
     "data": {
      "text/plain": [
       "50"
      ]
     },
     "execution_count": 5,
     "metadata": {},
     "output_type": "execute_result"
    }
   ],
   "source": [
    "# check how many orders of 'order_value_dd' table\n",
    "len(order_value_dd)"
   ]
  },
  {
   "cell_type": "code",
   "execution_count": 14,
   "id": "ed590481",
   "metadata": {},
   "outputs": [
    {
     "data": {
      "text/plain": [
       "R633    10\n",
       "R636     8\n",
       "R631     8\n",
       "R635     7\n",
       "R632     7\n",
       "R637     5\n",
       "R634     4\n",
       "Name: restaurant_id, dtype: int64"
      ]
     },
     "execution_count": 14,
     "metadata": {},
     "output_type": "execute_result"
    }
   ],
   "source": [
    "# check how many restaurants of 'delivery_orders' table\n",
    "delivery_orders.restaurant_id.value_counts()"
   ]
  },
  {
   "cell_type": "code",
   "execution_count": 20,
   "id": "407048d6",
   "metadata": {},
   "outputs": [
    {
     "data": {
      "text/html": [
       "<div>\n",
       "<style scoped>\n",
       "    .dataframe tbody tr th:only-of-type {\n",
       "        vertical-align: middle;\n",
       "    }\n",
       "\n",
       "    .dataframe tbody tr th {\n",
       "        vertical-align: top;\n",
       "    }\n",
       "\n",
       "    .dataframe thead th {\n",
       "        text-align: right;\n",
       "    }\n",
       "</style>\n",
       "<table border=\"1\" class=\"dataframe\">\n",
       "  <thead>\n",
       "    <tr style=\"text-align: right;\">\n",
       "      <th></th>\n",
       "      <th>restaurant_id</th>\n",
       "      <th>sales_amount</th>\n",
       "    </tr>\n",
       "  </thead>\n",
       "  <tbody>\n",
       "    <tr>\n",
       "      <th>2</th>\n",
       "      <td>R633</td>\n",
       "      <td>635.87</td>\n",
       "    </tr>\n",
       "    <tr>\n",
       "      <th>5</th>\n",
       "      <td>R636</td>\n",
       "      <td>507.08</td>\n",
       "    </tr>\n",
       "    <tr>\n",
       "      <th>0</th>\n",
       "      <td>R631</td>\n",
       "      <td>458.44</td>\n",
       "    </tr>\n",
       "    <tr>\n",
       "      <th>1</th>\n",
       "      <td>R632</td>\n",
       "      <td>453.64</td>\n",
       "    </tr>\n",
       "    <tr>\n",
       "      <th>4</th>\n",
       "      <td>R635</td>\n",
       "      <td>401.30</td>\n",
       "    </tr>\n",
       "    <tr>\n",
       "      <th>3</th>\n",
       "      <td>R634</td>\n",
       "      <td>318.45</td>\n",
       "    </tr>\n",
       "    <tr>\n",
       "      <th>6</th>\n",
       "      <td>R637</td>\n",
       "      <td>292.26</td>\n",
       "    </tr>\n",
       "  </tbody>\n",
       "</table>\n",
       "</div>"
      ],
      "text/plain": [
       "  restaurant_id  sales_amount\n",
       "2          R633        635.87\n",
       "5          R636        507.08\n",
       "0          R631        458.44\n",
       "1          R632        453.64\n",
       "4          R635        401.30\n",
       "3          R634        318.45\n",
       "6          R637        292.26"
      ]
     },
     "execution_count": 20,
     "metadata": {},
     "output_type": "execute_result"
    }
   ],
   "source": [
    "# the total sales amount of each restaurants\n",
    "pd.merge(delivery_orders,order_value_dd).groupby(['restaurant_id'])['sales_amount'].sum().reset_index().sort_values(by='sales_amount',ascending=False)"
   ]
  },
  {
   "cell_type": "markdown",
   "id": "36d29fb1",
   "metadata": {},
   "source": []
  },
  {
   "cell_type": "code",
   "execution_count": null,
   "id": "5ebfb64b",
   "metadata": {},
   "outputs": [],
   "source": []
  }
 ],
 "metadata": {
  "kernelspec": {
   "display_name": "Python 3 (ipykernel)",
   "language": "python",
   "name": "python3"
  },
  "language_info": {
   "codemirror_mode": {
    "name": "ipython",
    "version": 3
   },
   "file_extension": ".py",
   "mimetype": "text/x-python",
   "name": "python",
   "nbconvert_exporter": "python",
   "pygments_lexer": "ipython3",
   "version": "3.9.13"
  }
 },
 "nbformat": 4,
 "nbformat_minor": 5
}
